{
 "cells": [
  {
   "cell_type": "code",
   "execution_count": 194,
   "id": "b6a0b679",
   "metadata": {},
   "outputs": [],
   "source": [
    "import warnings\n",
    "warnings.filterwarnings('ignore')\n",
    "\n",
    "import pandas as pd\n",
    "import matplotlib.pyplot as plt\n",
    "import seaborn as sb\n",
    "import numpy as np\n",
    "from sklearn import preprocessing\n",
    "import plotly.express as px\n",
    "from sklearn.model_selection import train_test_split\n",
    "import tensorflow as tf\n",
    "from tensorflow import keras\n",
    "from sklearn.preprocessing import MinMaxScaler\n",
    "from sklearn.linear_model import LinearRegression\n",
    "from sklearn.metrics import mean_absolute_error, mean_squared_error, r2_score"
   ]
  },
  {
   "cell_type": "code",
   "execution_count": 127,
   "id": "a6242339",
   "metadata": {},
   "outputs": [
    {
     "data": {
      "text/html": [
       "<div>\n",
       "<style scoped>\n",
       "    .dataframe tbody tr th:only-of-type {\n",
       "        vertical-align: middle;\n",
       "    }\n",
       "\n",
       "    .dataframe tbody tr th {\n",
       "        vertical-align: top;\n",
       "    }\n",
       "\n",
       "    .dataframe thead th {\n",
       "        text-align: right;\n",
       "    }\n",
       "</style>\n",
       "<table border=\"1\" class=\"dataframe\">\n",
       "  <thead>\n",
       "    <tr style=\"text-align: right;\">\n",
       "      <th></th>\n",
       "      <th>customer name</th>\n",
       "      <th>customer e-mail</th>\n",
       "      <th>country</th>\n",
       "      <th>gender</th>\n",
       "      <th>age</th>\n",
       "      <th>annual Salary</th>\n",
       "      <th>credit card debt</th>\n",
       "      <th>net worth</th>\n",
       "      <th>car purchase amount</th>\n",
       "    </tr>\n",
       "  </thead>\n",
       "  <tbody>\n",
       "    <tr>\n",
       "      <th>0</th>\n",
       "      <td>Martina Avila</td>\n",
       "      <td>cubilia.Curae.Phasellus@quisaccumsanconvallis.edu</td>\n",
       "      <td>Bulgaria</td>\n",
       "      <td>0</td>\n",
       "      <td>41.851720</td>\n",
       "      <td>62812.09301</td>\n",
       "      <td>11609.380910</td>\n",
       "      <td>238961.2505</td>\n",
       "      <td>35321.45877</td>\n",
       "    </tr>\n",
       "    <tr>\n",
       "      <th>1</th>\n",
       "      <td>Harlan Barnes</td>\n",
       "      <td>eu.dolor@diam.co.uk</td>\n",
       "      <td>Belize</td>\n",
       "      <td>0</td>\n",
       "      <td>40.870623</td>\n",
       "      <td>66646.89292</td>\n",
       "      <td>9572.957136</td>\n",
       "      <td>530973.9078</td>\n",
       "      <td>45115.52566</td>\n",
       "    </tr>\n",
       "    <tr>\n",
       "      <th>2</th>\n",
       "      <td>Naomi Rodriquez</td>\n",
       "      <td>vulputate.mauris.sagittis@ametconsectetueradip...</td>\n",
       "      <td>Algeria</td>\n",
       "      <td>1</td>\n",
       "      <td>43.152897</td>\n",
       "      <td>53798.55112</td>\n",
       "      <td>11160.355060</td>\n",
       "      <td>638467.1773</td>\n",
       "      <td>42925.70921</td>\n",
       "    </tr>\n",
       "    <tr>\n",
       "      <th>3</th>\n",
       "      <td>Jade Cunningham</td>\n",
       "      <td>malesuada@dignissim.com</td>\n",
       "      <td>Cook Islands</td>\n",
       "      <td>1</td>\n",
       "      <td>58.271369</td>\n",
       "      <td>79370.03798</td>\n",
       "      <td>14426.164850</td>\n",
       "      <td>548599.0524</td>\n",
       "      <td>67422.36313</td>\n",
       "    </tr>\n",
       "    <tr>\n",
       "      <th>4</th>\n",
       "      <td>Cedric Leach</td>\n",
       "      <td>felis.ullamcorper.viverra@egetmollislectus.net</td>\n",
       "      <td>Brazil</td>\n",
       "      <td>1</td>\n",
       "      <td>57.313749</td>\n",
       "      <td>59729.15130</td>\n",
       "      <td>5358.712177</td>\n",
       "      <td>560304.0671</td>\n",
       "      <td>55915.46248</td>\n",
       "    </tr>\n",
       "  </tbody>\n",
       "</table>\n",
       "</div>"
      ],
      "text/plain": [
       "     customer name                                    customer e-mail  \\\n",
       "0    Martina Avila  cubilia.Curae.Phasellus@quisaccumsanconvallis.edu   \n",
       "1    Harlan Barnes                                eu.dolor@diam.co.uk   \n",
       "2  Naomi Rodriquez  vulputate.mauris.sagittis@ametconsectetueradip...   \n",
       "3  Jade Cunningham                            malesuada@dignissim.com   \n",
       "4     Cedric Leach     felis.ullamcorper.viverra@egetmollislectus.net   \n",
       "\n",
       "        country  gender        age  annual Salary  credit card debt  \\\n",
       "0      Bulgaria       0  41.851720    62812.09301      11609.380910   \n",
       "1        Belize       0  40.870623    66646.89292       9572.957136   \n",
       "2       Algeria       1  43.152897    53798.55112      11160.355060   \n",
       "3  Cook Islands       1  58.271369    79370.03798      14426.164850   \n",
       "4        Brazil       1  57.313749    59729.15130       5358.712177   \n",
       "\n",
       "     net worth  car purchase amount  \n",
       "0  238961.2505          35321.45877  \n",
       "1  530973.9078          45115.52566  \n",
       "2  638467.1773          42925.70921  \n",
       "3  548599.0524          67422.36313  \n",
       "4  560304.0671          55915.46248  "
      ]
     },
     "execution_count": 127,
     "metadata": {},
     "output_type": "execute_result"
    }
   ],
   "source": [
    "car_purchasing_df = pd.read_csv(\"C:\\\\Users\\\\DELL\\\\Desktop\\\\Tasks\\\\Task 4-1\\\\car_purchasing.csv\",\n",
    "                   encoding='ISO-8859-1')\n",
    "car_purchasing_df.head()"
   ]
  },
  {
   "cell_type": "code",
   "execution_count": 128,
   "id": "18830e18",
   "metadata": {},
   "outputs": [
    {
     "data": {
      "text/plain": [
       "(500, 9)"
      ]
     },
     "execution_count": 128,
     "metadata": {},
     "output_type": "execute_result"
    }
   ],
   "source": [
    "car_purchasing_df.shape"
   ]
  },
  {
   "cell_type": "markdown",
   "id": "bf822506",
   "metadata": {},
   "source": [
    "#### Understanding the Data"
   ]
  },
  {
   "cell_type": "code",
   "execution_count": 129,
   "id": "9affa605",
   "metadata": {},
   "outputs": [
    {
     "data": {
      "text/plain": [
       "customer name          0\n",
       "customer e-mail        0\n",
       "country                0\n",
       "gender                 0\n",
       "age                    0\n",
       "annual Salary          0\n",
       "credit card debt       0\n",
       "net worth              0\n",
       "car purchase amount    0\n",
       "dtype: int64"
      ]
     },
     "execution_count": 129,
     "metadata": {},
     "output_type": "execute_result"
    }
   ],
   "source": [
    "car_purchasing_df.isnull().sum()"
   ]
  },
  {
   "cell_type": "code",
   "execution_count": 130,
   "id": "2de6660e",
   "metadata": {},
   "outputs": [
    {
     "data": {
      "text/html": [
       "<div>\n",
       "<style scoped>\n",
       "    .dataframe tbody tr th:only-of-type {\n",
       "        vertical-align: middle;\n",
       "    }\n",
       "\n",
       "    .dataframe tbody tr th {\n",
       "        vertical-align: top;\n",
       "    }\n",
       "\n",
       "    .dataframe thead th {\n",
       "        text-align: right;\n",
       "    }\n",
       "</style>\n",
       "<table border=\"1\" class=\"dataframe\">\n",
       "  <thead>\n",
       "    <tr style=\"text-align: right;\">\n",
       "      <th></th>\n",
       "      <th>customer name</th>\n",
       "      <th>customer e-mail</th>\n",
       "      <th>country</th>\n",
       "      <th>gender</th>\n",
       "      <th>age</th>\n",
       "      <th>annual Salary</th>\n",
       "      <th>credit card debt</th>\n",
       "      <th>net worth</th>\n",
       "      <th>car purchase amount</th>\n",
       "    </tr>\n",
       "  </thead>\n",
       "  <tbody>\n",
       "  </tbody>\n",
       "</table>\n",
       "</div>"
      ],
      "text/plain": [
       "Empty DataFrame\n",
       "Columns: [customer name, customer e-mail, country, gender, age, annual Salary, credit card debt, net worth, car purchase amount]\n",
       "Index: []"
      ]
     },
     "execution_count": 130,
     "metadata": {},
     "output_type": "execute_result"
    }
   ],
   "source": [
    "car_purchasing_df[car_purchasing_df.duplicated()]"
   ]
  },
  {
   "cell_type": "code",
   "execution_count": 131,
   "id": "c5d26473",
   "metadata": {},
   "outputs": [
    {
     "name": "stdout",
     "output_type": "stream",
     "text": [
      "<class 'pandas.core.frame.DataFrame'>\n",
      "RangeIndex: 500 entries, 0 to 499\n",
      "Data columns (total 9 columns):\n",
      " #   Column               Non-Null Count  Dtype  \n",
      "---  ------               --------------  -----  \n",
      " 0   customer name        500 non-null    object \n",
      " 1   customer e-mail      500 non-null    object \n",
      " 2   country              500 non-null    object \n",
      " 3   gender               500 non-null    int64  \n",
      " 4   age                  500 non-null    float64\n",
      " 5   annual Salary        500 non-null    float64\n",
      " 6   credit card debt     500 non-null    float64\n",
      " 7   net worth            500 non-null    float64\n",
      " 8   car purchase amount  500 non-null    float64\n",
      "dtypes: float64(5), int64(1), object(3)\n",
      "memory usage: 35.3+ KB\n"
     ]
    }
   ],
   "source": [
    "car_purchasing_df.info()"
   ]
  },
  {
   "cell_type": "code",
   "execution_count": 132,
   "id": "c7bd1520",
   "metadata": {},
   "outputs": [
    {
     "data": {
      "text/plain": [
       "Index(['customer name', 'customer e-mail', 'country', 'gender', 'age',\n",
       "       'annual Salary', 'credit card debt', 'net worth',\n",
       "       'car purchase amount'],\n",
       "      dtype='object')"
      ]
     },
     "execution_count": 132,
     "metadata": {},
     "output_type": "execute_result"
    }
   ],
   "source": [
    "car_purchasing_df.columns"
   ]
  },
  {
   "cell_type": "code",
   "execution_count": 133,
   "id": "2d8311aa",
   "metadata": {},
   "outputs": [
    {
     "name": "stdout",
     "output_type": "stream",
     "text": [
      "Column: customer name\n",
      "['Martina Avila' 'Harlan Barnes' 'Naomi Rodriquez' 'Jade Cunningham'\n",
      " 'Cedric Leach' 'Carla Hester' 'Griffin Rivera' 'Orli Casey'\n",
      " 'Marny Obrien' 'Rhonda Chavez' 'Jerome Rowe' 'Akeem Gibson' 'Quin Smith'\n",
      " 'Tatum Moon' 'Sharon Sharpe' 'Thomas Williams' 'Blaine Bender'\n",
      " 'Stephen Lindsey' 'Sloane Mann' 'Athena Wolf' 'Blythe Romero'\n",
      " 'Zelenia Byers' 'Nola Wiggins' 'Micah Wheeler' 'Caryn Hendrix'\n",
      " 'Hedda Miranda' 'Ulric Lynn' 'Alma Pope' 'Gemma Hendrix' 'Castor Wood'\n",
      " 'Herman Stevenson' 'Adrienne Bolton' 'Dahlia Cleveland' 'Keane Browning'\n",
      " 'Quon Hull' 'Coby Charles' 'Amery Cortez' 'Uriel Bradshaw'\n",
      " 'Fredericka Sanders' 'Christopher Stevens' 'Rachel Ashley' 'Lael Wright'\n",
      " 'Ryder Shaffer' 'Eric Noel' 'Tamara Guy' 'Quincy Bell' 'Lee Taylor'\n",
      " 'Kenneth Pope' 'Reese Vance' 'Quon Carroll' 'Magee Davidson'\n",
      " 'Leilani Gross' 'Morgan William' 'Francesca Cervantes' 'Rafael Peterson'\n",
      " 'Roanna Knox' 'Marny Vargas' 'Charlotte Waller' 'Dorian Hernandez'\n",
      " 'Armando Hensley' 'Rowan Kidd' 'Gwendolyn Rice' 'Gareth Morris'\n",
      " 'Sawyer Carney' 'Raya Shields' 'Olga Serrano' 'Yuli Craig' 'Lev Kramer'\n",
      " 'Nissim Acosta' 'Miranda Berry' 'Owen Jacobson' 'Marvin Becker'\n",
      " 'Davis Scott' 'Matthew Colon' 'Quinlan Harris' 'Hedley Greene'\n",
      " 'Orson Kirby' 'Adria Mathis' 'Peter Stout' 'Cleo Moore' 'Cally Montoya'\n",
      " 'Ila Farrell' 'Abel Stanton' 'Reed Roman' 'September Puckett'\n",
      " 'Teegan Barr' 'Alexander York' 'Jared Green' 'Eagan Woodward'\n",
      " 'Ferdinand Weber' 'Kitra Kerr' 'Desirae Stone' 'Len Phillips'\n",
      " 'Yen Santana' 'Martina Fuentes' 'Ariana Nash' 'Glenna Graham'\n",
      " 'Holmes Lane' 'Emerald Hamilton' 'Gage Marquez' 'Travis Burks'\n",
      " 'Otto Oneill' 'Brian Mathews' 'Ralph Rich' 'Yasir Tyler'\n",
      " 'Dominic Mcintosh' 'Tanner Ward' 'Wing Gray' 'Lionel Mcclure'\n",
      " 'Wing Parks' 'Oleg Gordon' 'Jamal Stephenson' 'Kadeem Larsen'\n",
      " 'Todd Maldonado' 'Victor Yang' 'Quamar Cummings' 'Dominic Hughes'\n",
      " 'Lamar Hensley' 'Solomon Atkinson' 'Dean Snider' 'Vernon Kidd'\n",
      " 'Dolan Clayton' 'Marvin Deleon' 'Merrill Bailey' 'Adrian Brock'\n",
      " 'Rigel Craft' 'Chaim Lewis' 'Kyle Evans' 'Ulysses Craig' 'Nolan Nixon'\n",
      " 'Oren Rosario' 'Hector Bowers' 'Tate Molina' 'Julian Alexander'\n",
      " 'Lucian Medina' 'Todd Bass' 'Mannix Snow' 'Benedict Serrano'\n",
      " 'Yoshio Potter' 'Stone Koch' 'Elliott Horne' 'Tanner Johnson'\n",
      " 'Gabriel Carson' 'Cain Love' 'Barry Larsen' 'Lawrence Ryan' 'Allen Burke'\n",
      " 'Nero Morgan' 'Reuben Holden' 'Orson Hyde' 'Nolan Conner' 'Stuart Reed'\n",
      " 'Rashad Harper' 'Dieter Delaney' 'Hop Farley' 'Darius Herring'\n",
      " 'Baker Saunders' 'Kermit Fuentes' 'Marvin Garner' 'Sebastian Marks'\n",
      " 'Hector Price' 'Holmes Irwin' 'Trevor Faulkner' 'Gannon Nguyen'\n",
      " 'Quentin Randall' 'Baker Norton' 'Hakeem Mendoza' 'Peter Maynard'\n",
      " 'Devin Humphrey' 'Isaiah Harding' 'Graiden Powell' 'Chancellor Padilla'\n",
      " 'Philip Barnes' 'Cameron Cash' 'Eric Green' 'Tanek Koch' 'Alan Browning'\n",
      " 'Phelan Montoya' 'Chancellor Patel' 'Palmer Cohen' 'Ahmed Wright'\n",
      " 'Burton Carroll' 'Nero Miranda' 'Ali Strong' 'Nasim Ryan' 'August Duncan'\n",
      " 'Kieran Gilliam' 'Stone Hunt' 'Malachi Henson' 'Seth Massey'\n",
      " 'Ulric Robles' 'Gannon Marquez' 'Marshall Armstrong' 'Christian Huffman'\n",
      " 'Gil Sanders' 'Otto Thomas' 'Moses Blackburn' 'Drake Chen'\n",
      " 'Christian Hernandez' 'Jelani F. Pace' 'Tiger I. Melton' 'Quail D. Horne'\n",
      " 'Hammett A. Manning' 'Lamar V. Guthrie' 'Abra D. Golden'\n",
      " 'Vaughan L. Mathis' 'Alfreda V. Harrell' 'Nora X. Decker'\n",
      " 'Jeanette Q. Leach' 'Keiko O. Whitaker' 'Hector F. Leblanc'\n",
      " 'Emerald R. Cohen' 'Cathleen E. Ortega' 'Velma K. Moses'\n",
      " 'Lael W. Sheppard' 'Indigo P. Dejesus' 'Quinlan S. Cantu'\n",
      " 'Mariam I. Montgomery' 'Pamela M. Cantu' 'Hanna C. Martinez'\n",
      " 'Lynn S. Avery' 'Laurel H. Snow' 'Keegan Q. Ramirez' 'Shad K. Hancock'\n",
      " 'Harding E. York' 'Indira A. Aguilar' 'Bell K. Romero'\n",
      " 'Cassady L. Foreman' 'Samson N. Wagner' 'Wade O. Diaz' 'Len B. Finley'\n",
      " 'Emerald U. Hanson' 'Cody G. Gill' 'Kyle R. Kaufman' 'Drake D. Gray'\n",
      " 'Honorato M. Butler' 'Tate C. Foster' 'Zelenia L. Lowe' 'Callum U. Sweet'\n",
      " 'Zane I. Boone' 'Timothy J. Terrell' 'Zahir A. Estes' 'Michelle W. Ryan'\n",
      " 'Serena B. Moody' 'Mark V. Vaughn' 'Anjolie A. Galloway'\n",
      " 'Kylee O. Warner' 'MacKenzie O. Fowler' 'Lana S. Pace'\n",
      " 'Wilma L. Stevenson' 'Sandra J. Huber' 'Octavius C. Spencer'\n",
      " 'Brendan G. Kelley' 'Shaeleigh M. Mckenzie' 'Rooney R. Padilla'\n",
      " 'Damon K. Boone' 'Taylor A. Patel' 'Lillith H. Larsen'\n",
      " 'Tobias L. Sullivan' 'Quincy Q. Ayers' 'Ulysses X. Burch'\n",
      " 'Jorden I. Whitley' 'Heather G. Goodwin' 'Yardley W. Jacobson'\n",
      " 'Gray F. Walker' 'Piper S. Houston' 'Chester X. Carrillo'\n",
      " 'Nathaniel P. Stephens' 'Jennifer C. Williamson' 'Rae C. Hodge'\n",
      " 'Urielle M. Contreras' 'Mechelle W. Stanton' 'Leila F. Hubbard'\n",
      " 'Tanisha H. Foster' 'Hammett F. Marsh' 'Calvin A. Lancaster'\n",
      " 'Rachel H. Ballard' 'Solomon P. Randolph' 'Kasimir Q. Cherry'\n",
      " 'Dominic I. Faulkner' 'Pascale I. Key' 'Nola L. Sweeney'\n",
      " 'Clementine X. Powell' 'Quinlan U. Sears' 'Odette Q. Sherman'\n",
      " 'Kirestin F. Yang' 'Colleen S. Mcguire' 'Dennis N. Thompson'\n",
      " 'Lester J. Burch' 'Madeson R. Salinas' 'Abigail X. Lindsey'\n",
      " 'Rachel E. Suarez' 'Derek X. Richards' 'Evangeline G. Cooper'\n",
      " 'Kieran G. Justice' 'Zenia H. Patel' 'Michelle R. Burke'\n",
      " 'Florence U. Hunter' 'Jelani A. Wall' 'England, Abel D.'\n",
      " 'Oconnor, Linus Q.' 'Herman, Griffith P.' 'Knapp, Quamar P.'\n",
      " 'Chambers, Avram C.' 'Cervantes, Rylee Q.' 'Ashley, Macon Z.'\n",
      " 'Jimenez, Joel G.' 'Bond, Caryn Y.' 'Gross, Cedric D.' 'Dyer, Aline L.'\n",
      " 'Rivers, Sonya A.' 'Frazier, Kai O.' 'Bond, Nyssa S.' 'Rush, Jarrod T.'\n",
      " 'Stephens, Tanner E.' 'Cameron, Kimberley P.' 'Mcdowell, Victoria J.'\n",
      " 'Dalton, Grant D.' 'Gregory, Reuben Z.' 'Schultz, Lee I.'\n",
      " 'Wise, Mechelle E.' 'Mcclure, Avye L.' 'Livingston, Blaze Y.'\n",
      " 'Fuentes, Dora E.' 'Thompson, Alvin R.' 'Armstrong, Hedda N.'\n",
      " 'Casey, Sylvia E.' 'Shaw, Rooney Q.' 'Sexton, Shaeleigh H.'\n",
      " 'Langley, Skyler J.' 'Caldwell, Yolanda F.' 'Olson, Riley O.'\n",
      " 'Irwin, Dillon J.' 'Terry, Mollie K.' 'Hudson, Maxwell F.'\n",
      " 'Levy, Irma P.' 'Brady, Oscar Y.' 'Dudley, Ryder M.' 'Morales, Halla M.'\n",
      " 'Holloway, Brennan Q.' 'Powers, Naomi B.' 'Armstrong, Naomi D.'\n",
      " 'Flores, Caldwell U.' 'Russo, Fleur N.' 'Reese, Sylvia H.'\n",
      " 'Burke, Simon H.' 'Mayer, Paki D.' 'Bush, Jessica C.' 'West, April J.'\n",
      " 'Levy, Wesley S.' 'Nieves, Bertha O.' 'Patrick, Merritt L.'\n",
      " 'Mcdaniel, Marcia Z.' 'Ortiz, Drew P.' 'Oneill, Tiger A.'\n",
      " 'Sims, Tashya J.' 'Lawrence, Hope Z.' 'Jenkins, Hasad P.'\n",
      " 'Rodriguez, Basia D.' 'Blair, Abra U.' 'Rosario, Elijah N.'\n",
      " 'Beach, Victor S.' 'Ruiz, Rafael L.' 'Macdonald, Rahim B.'\n",
      " 'Valdez, Joy U.' 'Watson, Moana M.' 'Cote, Evangeline F.'\n",
      " 'Delgado, Jasper U.' 'Hardy, Hilary R.' 'Stafford, Berk Y.'\n",
      " 'Daugherty, Veda M.' 'Harmon, David N.' 'Houston, Grant O.'\n",
      " 'Collier, Xerxes Q.' 'Lewis, Jackson U.' 'Smith, Nola H.'\n",
      " 'Jensen, Ebony Y.' 'Kim, Claudia W.' 'Livingston, Lucas K.'\n",
      " 'Bradford, Daquan F.' 'Park, Quincy A.' 'Dillon, Lynn W.'\n",
      " 'Blackburn, Joel Y.' 'Sanders, Selma F.' 'Solis, Melissa T.'\n",
      " 'Holmes, Ross Y.' 'Sutton, Michelle D.' 'Munoz, Kennedy K.'\n",
      " 'Little, Hayley R.' 'Church, Lareina E.' 'Wolf, Tashya X.'\n",
      " 'Barr, Hyatt D.' 'Hopper, Orson W.' 'Decker, Jolie T.'\n",
      " 'Chaney, Reuben I.' 'Ross, Kermit D.' 'Hampton, Venus Q.'\n",
      " 'Chavez, Ralph U.' 'Whitaker, Adena B.' 'Nola' 'Melodie' 'Seth' 'Kyra'\n",
      " 'Caldwell' 'Benjamin' 'Florence' 'Oleg' 'Donovan' 'Blaze' 'Illana'\n",
      " 'Yvette' 'Walter' 'Dexter' 'Cameran' 'Penelope' 'Hyatt' 'Stone' 'Irma'\n",
      " 'Josiah' 'Nathan' 'Stacy' 'Kane' 'Reed' 'Lani' 'Curran' 'Rhonda' 'Leroy'\n",
      " 'Adrienne' 'Aileen' 'Rafael' 'Olivia' 'Hiram' 'Jelani' 'Madeson' 'Uriah'\n",
      " 'Brady' 'Denise' 'Lyle' 'Victor' 'Demetria' 'Ora' 'Trevor' 'Kristen'\n",
      " 'Aristotle' 'Camden' 'Urielle' 'Jolene' 'Holly' 'Wayne' 'Judith' 'Dennis'\n",
      " 'Kaitlin' 'Harriet' 'Tatyana' 'Paula' 'Tamekah' 'Brandon' 'Veda' 'Kai'\n",
      " 'Piper' 'Hillary' 'Francis' 'Rogan' 'Kyle' 'Vaughan' 'India' 'Edward'\n",
      " 'Laurel' 'Igor' 'Diana' 'Todd' 'Zephania' 'Brock' 'Avye' 'Serena'\n",
      " 'Barclay' 'Isabella' 'Mia' 'Chester' 'Isaac' 'Heather' 'Justine' 'Bert'\n",
      " 'Gil' 'Dolan' 'Cheryl' 'Courtney' 'Neville' 'Gloria' 'Jonah' 'Merrill'\n",
      " 'Nolan' 'Winter' 'Rigel' 'Vanna' 'Pearl' 'Nell' 'Marla']\n",
      "------------------------------\n",
      "Column: customer e-mail\n",
      "['cubilia.Curae.Phasellus@quisaccumsanconvallis.edu' 'eu.dolor@diam.co.uk'\n",
      " 'vulputate.mauris.sagittis@ametconsectetueradipiscing.co.uk'\n",
      " 'malesuada@dignissim.com'\n",
      " 'felis.ullamcorper.viverra@egetmollislectus.net' 'mi@Aliquamerat.edu'\n",
      " 'vehicula@at.co.uk' 'nunc.est.mollis@Suspendissetristiqueneque.co.uk'\n",
      " 'Phasellus@sedsemegestas.org' 'nec@nuncest.com' 'ipsum.cursus@dui.org'\n",
      " 'turpis.egestas.Fusce@purus.edu' 'nulla@ipsum.edu'\n",
      " 'Cras.sed.leo@Seddiamlorem.ca' 'eget.metus@aaliquetvel.co.uk'\n",
      " 'aliquet.molestie@ut.org' 'ultrices.posuere.cubilia@pedenonummyut.net'\n",
      " 'erat.eget.ipsum@tinciduntpede.org' 'at.augue@augue.net'\n",
      " 'volutpat.Nulla.facilisis@primis.ca' 'Sed.eu@risusNuncac.co.uk'\n",
      " 'auctor.non@sapien.co.uk' 'Aliquam@augue.edu' 'arcu.eu@tincidunt.org'\n",
      " 'condimentum.Donec@duiCum.com' 'scelerisque@magnased.com'\n",
      " 'sociis@vulputateveliteu.com' 'Nunc.mauris.Morbi@turpis.org'\n",
      " 'lobortis@non.co.uk' 'velit.Pellentesque@Nulla.net'\n",
      " 'sociosqu.ad.litora@erat.com' 'dictum@magnaPraesent.ca'\n",
      " 'tincidunt.tempus@idsapien.co.uk' 'Curabitur@acipsumPhasellus.co.uk'\n",
      " 'nascetur.ridiculus.mus@dignissim.co.uk' 'nec@dolornonummyac.com'\n",
      " 'semper.et.lacinia@Morbiquisurna.ca' 'ultrices@Integersemelit.com'\n",
      " 'Curabitur@Infaucibus.ca' 'blandit.enim@lacusvariuset.org'\n",
      " 'tincidunt.tempus.risus@posuerecubiliaCurae.co.uk'\n",
      " 'a@consequatpurusMaecenas.com' 'Phasellus.dapibus.quam@inhendrerit.ca'\n",
      " 'lacinia.at.iaculis@Fuscefermentumfermentum.edu' 'nec.eleifend@orci.org'\n",
      " 'in@Duisgravida.co.uk' 'Vivamus.nisi.Mauris@miAliquam.co.uk'\n",
      " 'vitae.sodales.at@molestiearcuSed.org'\n",
      " 'egestas@malesuadavelvenenatis.com' 'sodales@pharetra.com'\n",
      " 'Quisque@tempor.net' 'dignissim@mollisDuissit.org'\n",
      " 'sociis.natoque.penatibus@uterat.ca' 'leo@sitametdapibus.edu'\n",
      " 'lectus.a.sollicitudin@tortorat.net'\n",
      " 'dolor.nonummy@metusurnaconvallis.net'\n",
      " 'nonummy.Fusce.fermentum@ligula.org' 'odio@Nuncac.org'\n",
      " 'conubia.nostra.per@diam.co.uk' 'Class.aptent@torquentper.com'\n",
      " 'sapien.Aenean.massa@adipiscing.ca' 'Duis@metusIn.com'\n",
      " 'est.Nunc.laoreet@nullavulputatedui.edu' 'erat.Sed@Phasellus.ca'\n",
      " 'tincidunt.aliquam@orciluctuset.com' 'risus@urnasuscipitnonummy.edu'\n",
      " 'lobortis.quis.pede@Seddiam.com' 'eu.odio@tristique.org' 'enim@at.net'\n",
      " 'lorem@necmauris.ca' 'ac.orci@Etiamimperdietdictum.edu'\n",
      " 'congue.elit@vestibulumneceuismod.ca' 'neque@variusultricesmauris.edu'\n",
      " 'facilisis@Nullainterdum.edu' 'libero.nec@adipiscing.org'\n",
      " 'eleifend@felis.org' 'cursus@nectellus.co.uk'\n",
      " 'Aliquam.rutrum.lorem@Donec.net' 'dictum.mi.ac@semperrutrumFusce.com'\n",
      " 'pede.et@Sedeu.com' 'sit@pedeCum.ca' 'lacus@velit.edu'\n",
      " 'eu.lacus.Quisque@congue.edu' 'laoreet.libero@laoreetlectus.com'\n",
      " 'tincidunt@consequatpurusMaecenas.net' 'non.lorem.vitae@eratVivamus.org'\n",
      " 'eu.odio.Phasellus@ipsumporta.edu' 'laoreet@sagittis.edu'\n",
      " 'varius.et@Maecenas.edu' 'metus.Vivamus@vitaeposuere.org'\n",
      " 'scelerisque@Vivamusnon.co.uk' 'Morbi.sit@Aliquamfringilla.ca'\n",
      " 'libero.lacus@Suspendisseseddolor.net' 'ornare.facilisis@ornarelibero.ca'\n",
      " 'elit@nequeIn.com' 'vel.turpis.Aliquam@consequatpurus.edu'\n",
      " 'sodales@maurisSuspendisse.com' 'ac.orci@accumsaninterdum.co.uk'\n",
      " 'sit.amet.orci@facilisis.edu' 'malesuada.vel@dictum.co.uk'\n",
      " 'dictum@liberolacusvarius.ca' 'arcu.Morbi.sit@elementum.ca'\n",
      " 'vulputate.mauris.sagittis@orciluctus.com' 'et@tellus.edu'\n",
      " 'pharetra.sed.hendrerit@adipiscinglobortisrisus.edu'\n",
      " 'Cras.vehicula@nibhPhasellusnulla.net' 'diam@orciUt.ca'\n",
      " 'urna.nec@tempusscelerisquelorem.org'\n",
      " 'odio.auctor.vitae@placeratorcilacus.edu' 'sagittis@magnased.ca'\n",
      " 'Nunc.sollicitudin.commodo@blanditat.co.uk' 'lorem.lorem@in.edu'\n",
      " 'ornare.lectus.ante@lectusNullam.net' 'dui.semper.et@aultricies.net'\n",
      " 'arcu.Vivamus.sit@egestasSed.com' 'mauris@convallisconvallisdolor.co.uk'\n",
      " 'cursus.vestibulum.Mauris@pedenonummy.com' 'erat@pedeac.co.uk'\n",
      " 'Aliquam@laoreet.net' 'tempus@sit.ca'\n",
      " 'sapien.imperdiet.ornare@vitaeerat.edu' 'justo@est.ca'\n",
      " 'lectus.Nullam@congueelitsed.ca' 'natoque.penatibus@nislsem.net'\n",
      " 'Cras.lorem@nonvestibulumnec.net' 'diam.eu.dolor@Proin.com'\n",
      " 'luctus@ut.org' 'magnis@vitaenibh.org' 'sit.amet@orci.ca'\n",
      " 'arcu@etultricesposuere.co.uk' 'ultrices.Vivamus.rhoncus@lacusMauris.net'\n",
      " 'eget@Morbiquisurna.co.uk' 'erat@sitamet.ca'\n",
      " 'Integer.id.magna@consequatenimdiam.co.uk' 'rutrum@temporbibendum.com'\n",
      " 'Lorem.ipsum.dolor@et.edu' 'elit@euismodenim.net'\n",
      " 'blandit.viverra@mollisDuis.co.uk' 'fringilla.cursus.purus@dolorvitae.ca'\n",
      " 'facilisis.Suspendisse@Duissit.ca'\n",
      " 'sollicitudin.adipiscing.ligula@Sedeu.co.uk'\n",
      " 'blandit.at@vulputateullamcorpermagna.org' 'et@venenatis.co.uk'\n",
      " 'est.mollis.non@placerat.com' 'Praesent.eu.dui@bibendumsed.com'\n",
      " 'condimentum@duilectus.co.uk' 'eu.ultrices@In.edu'\n",
      " 'non.sapien@seddictumeleifend.edu' 'pede.nonummy@Vivamusnonlorem.co.uk'\n",
      " 'gravida.sit@eget.net' 'feugiat@felisNulla.org'\n",
      " 'elementum@SeddictumProin.net' 'auctor@arcuimperdiet.ca'\n",
      " 'sit.amet.risus@ipsum.ca' 'in@et.co.uk' 'imperdiet@sem.edu'\n",
      " 'Aliquam.nisl@hendreritidante.org' 'ac@sedpedeCum.org' 'in@sed.org'\n",
      " 'et.eros@feugiatmetussit.net' 'Aliquam.nisl@semegetmassa.co.uk'\n",
      " 'Nunc.sed.orci@Namligulaelit.net' 'ut@vitaesodales.net'\n",
      " 'et.rutrum.eu@congue.net' 'Fusce.aliquet@egetmassa.co.uk'\n",
      " 'convallis@purus.net' 'Maecenas@scelerisquelorem.ca'\n",
      " 'vel.est.tempor@egetvenenatisa.com' 'sodales.Mauris@ametornare.ca'\n",
      " 'pede.blandit@disparturient.net'\n",
      " 'pellentesque.tellus@faucibusidlibero.com' 'pharetra@nuncsedlibero.edu'\n",
      " 'senectus.et.netus@nibhDonecest.net' 'auctor@ipsum.org'\n",
      " 'arcu.vel.quam@magnaPraesentinterdum.co.uk' 'blandit@nunc.org'\n",
      " 'purus@Sed.ca' 'magna.tellus.faucibus@etmalesuadafames.co.uk'\n",
      " 'metus.eu.erat@suscipitnonummy.com' 'non.leo@mollis.net'\n",
      " 'consectetuer@auctorodio.com' 'rhoncus.id.mollis@Maurisvel.org'\n",
      " 'semper@vulputateposuere.net' 'dis.parturient.montes@eratvel.com'\n",
      " 'est.congue.a@convalliserat.net' 'tempor.bibendum@Nuncpulvinar.co.uk'\n",
      " 'ac.nulla@consectetueripsumnunc.co.uk' 'convallis.erat@eratvel.org'\n",
      " 'adipiscing.elit@Nunc.com' 'in.aliquet@fermentumvel.com'\n",
      " 'fringilla@ornare.edu' 'Aliquam@porttitor.net'\n",
      " 'ipsum.cursus.vestibulum@a.com'\n",
      " 'dignissim.Maecenas@tinciduntnuncac.co.uk' 'eu.ultrices@cursuset.net'\n",
      " 'orci.tincidunt.adipiscing@erat.edu' 'et.malesuada.fames@musProin.edu'\n",
      " 'enim.commodo@consequatenimdiam.com' 'dolor@vehiculaPellentesque.co.uk'\n",
      " 'Morbi@atarcuVestibulum.co.uk' 'rhoncus@nisl.net'\n",
      " 'sit.amet@FuscemollisDuis.org' 'sapien.cursus.in@netus.edu'\n",
      " 'vel@arcuVestibulumante.com' 'odio@Duis.com' 'eu@iaculis.org'\n",
      " 'molestie@mi.net' 'non.enim@diam.org' 'vitae@nisl.net'\n",
      " 'est@porttitortellus.com' 'Curabitur@maurisaliquameu.net'\n",
      " 'in.consequat.enim@consectetuer.edu' 'lectus@aliquamenim.org'\n",
      " 'augue.scelerisque@luctuslobortis.com' 'eu.metus@sodalespurusin.net'\n",
      " 'quam.Pellentesque.habitant@felis.com' 'pede.Praesent.eu@Aliquam.net'\n",
      " 'vel.mauris@accumsanneque.co.uk' 'posuere.enim.nisl@lectusNullam.ca'\n",
      " 'Maecenas.mi.felis@amet.co.uk' 'dui.Suspendisse.ac@Sedegetlacus.net'\n",
      " 'dui.Suspendisse.ac@tacitisociosqu.org' 'aliquet@volutpatNulla.edu'\n",
      " 'sit.amet@Proin.org' 'quis.lectus.Nullam@egestas.org'\n",
      " 'erat.Sed.nunc@aneque.ca' 'non.sapien.molestie@rhoncus.edu'\n",
      " 'magna.Suspendisse@tincidunt.edu' 'magna@sagittisaugueeu.org'\n",
      " 'vel.sapien.imperdiet@dolorsit.co.uk' 'dis@dis.edu'\n",
      " 'dui.quis.accumsan@pedeCrasvulputate.co.uk' 'sagittis.Nullam@acrisus.com'\n",
      " 'Morbi.vehicula@mattis.org' 'orci.consectetuer@porttitor.com'\n",
      " 'Cum.sociis.natoque@purus.ca' 'dignissim.magna@Maurisvel.edu'\n",
      " 'Nunc.mauris.elit@Curabiturvel.edu' 'sem.ut@odio.edu' 'blandit@Cum.edu'\n",
      " 'orci@lobortis.com' 'eleifend.vitae@Pellentesquehabitantmorbi.ca'\n",
      " 'ante.lectus@duiCum.net' 'vitae.risus.Duis@hymenaeos.edu'\n",
      " 'Morbi.vehicula@ac.net' 'consequat.nec.mollis@nec.ca'\n",
      " 'cursus.in@neque.co.uk' 'Aliquam.nec.enim@nec.co.uk' 'augue@orci.com'\n",
      " 'non.vestibulum@consectetuer.ca' 'enim@famesac.org'\n",
      " 'Curabitur.consequat@miDuisrisus.com' 'vel@lorem.org'\n",
      " 'diam.lorem.auctor@estmollisnon.net' 'eu.turpis@accumsansed.co.uk'\n",
      " 'nec@ad.net' 'erat.vitae.risus@temporarcu.edu'\n",
      " 'dignissim.lacus.Aliquam@maurissapien.com'\n",
      " 'tempus.non@nasceturridiculus.ca' 'nisl.Nulla@Donecelementumlorem.net'\n",
      " 'Sed.nunc.est@arcuMorbi.edu' 'turpis@orci.com'\n",
      " 'semper.egestas@maurissapien.co.uk' 'enim.non.nisi@Ut.net'\n",
      " 'lobortis.Class.aptent@iaculis.com' 'risus@enimconsequat.org'\n",
      " 'tempor.erat.neque@ac.com' 'Cras.dictum.ultricies@conubia.ca'\n",
      " 'rutrum@fermentumconvallisligula.ca' 'lacus@massaSuspendisse.ca'\n",
      " 'elit.Aliquam.auctor@dolor.org'\n",
      " 'Pellentesque.habitant@auctorquistristique.org'\n",
      " 'ultrices.posuere.cubilia@magnisdis.com'\n",
      " 'sem.vitae@malesuadafringillaest.net'\n",
      " 'tempus.scelerisque@maurisaliquam.ca'\n",
      " 'ante.bibendum.ullamcorper@fringilla.net' 'ipsum.leo.elementum@amet.org'\n",
      " 'orci.luctus.et@lacus.com' 'risus@in.net'\n",
      " 'pharetra.Nam@sociisnatoque.org' 'urna.suscipit@enim.ca'\n",
      " 'eu@necmaurisblandit.co.uk' 'quis.pede@Aliquamfringilla.ca'\n",
      " 'magna@velarcueu.ca' 'Mauris.molestie@Intincidunt.co.uk'\n",
      " 'eleifend.egestas.Sed@tempus.net' 'tincidunt@Proinsedturpis.edu'\n",
      " 'vitae.erat@urnaNullamlobortis.ca' 'Nunc.mauris@commodo.com'\n",
      " 'Cum.sociis.natoque@acnullaIn.edu' 'dui@nondui.ca'\n",
      " 'non.vestibulum.nec@euturpis.co.uk' 'tincidunt@porttitor.com'\n",
      " 'Integer.id.magna@Sedidrisus.org' 'in@Sed.co.uk' 'dis@tortor.com'\n",
      " 'dui@justo.ca' 'diam@tellus.org' 'aliquet@Duisa.co.uk'\n",
      " 'enim.commodo@parturientmontesnascetur.org'\n",
      " 'Donec.elementum@Fuscemilorem.co.uk' 'ligula.Nullam.enim@nibhlacinia.edu'\n",
      " 'Maecenas.libero.est@miacmattis.com'\n",
      " 'Nunc.pulvinar.arcu@ultricesaauctor.ca'\n",
      " 'luctus.lobortis.Class@sitametdapibus.co.uk'\n",
      " 'metus.Vivamus.euismod@arcuVivamus.co.uk' 'faucibus.lectus.a@ut.net'\n",
      " 'libero.Proin@acnulla.net' 'aliquam.adipiscing@maurissapien.edu'\n",
      " 'convallis@scelerisque.net' 'vel.lectus@Praesent.net'\n",
      " 'Cras@quamelementum.com' 'fringilla.euismod.enim@aauctornon.net'\n",
      " 'vestibulum.nec.euismod@netusetmalesuada.ca'\n",
      " 'egestas@turpisnecmauris.com' 'nec.tellus@lacinia.co.uk'\n",
      " 'risus.Duis@ornareFuscemollis.net' 'velit@doloregestas.net'\n",
      " 'fermentum@blanditviverra.ca' 'velit.eget.laoreet@quis.ca'\n",
      " 'est.mollis@dui.ca' 'dictum@lorem.org' 'montes.nascetur@liberoet.co.uk'\n",
      " 'nonummy@ornareelitelit.org' 'interdum.ligula@Phasellus.edu'\n",
      " 'magnis.dis@aliquam.org' 'Integer.vitae.nibh@a.org'\n",
      " 'Curabitur.vel@Nullam.net' 'Cras.convallis.convallis@Fuscealiquam.net'\n",
      " 'mi.eleifend.egestas@cursuset.net'\n",
      " 'ac.facilisis.facilisis@necmalesuada.com' 'ornare.sagittis@hendrerit.ca'\n",
      " 'arcu@dictummiac.edu' 'quam.dignissim.pharetra@aauctornon.ca'\n",
      " 'metus.eu.erat@non.org' 'lacus.varius@sitamet.ca'\n",
      " 'erat@urnaUttincidunt.com' 'sed@sedtortor.co.uk'\n",
      " 'elit.elit.fermentum@erosturpisnon.org'\n",
      " 'fringilla.purus.mauris@risusatfringilla.ca'\n",
      " 'Cras.eu@vitaevelitegestas.net' 'nunc.sed.pede@Quisqueporttitor.net'\n",
      " 'ut@Etiamvestibulum.ca' 'erat@at.edu'\n",
      " 'Proin.nisl.sem@Maecenasmalesuada.co.uk' 'lacinia@Nullam.com'\n",
      " 'Nunc.lectus.pede@egestasrhoncus.com'\n",
      " 'dolor.sit.amet@iaculisneceleifend.ca' 'ante@nisi.org'\n",
      " 'facilisis.vitae.orci@sociosquad.co.uk' 'dolor@velitegestas.org'\n",
      " 'ut@nonummyut.net' 'non.nisi.Aenean@etmagnis.co.uk' 'tincidunt@vel.edu'\n",
      " 'orci.Phasellus@ut.org' 'aliquam@anteNuncmauris.ca'\n",
      " 'metus.vitae@Morbisitamet.ca'\n",
      " 'adipiscing.elit.Aliquam@Utsagittislobortis.co.uk'\n",
      " 'Vestibulum@lobortis.org' 'montes@Loremipsum.edu' 'In@non.com'\n",
      " 'consequat.auctor@lacuspede.co.uk' 'sed.pede@volutpatNulladignissim.net'\n",
      " 'augue.eu@nisi.edu' 'lobortis.quam@velarcueu.org'\n",
      " 'ipsum.Suspendisse@diamDuismi.org'\n",
      " 'lorem.tristique.aliquet@estNunclaoreet.net' 'lacinia@posuere.ca'\n",
      " 'egestas.Fusce@orciDonecnibh.com' 'Quisque@ultriciessem.net'\n",
      " 'venenatis.vel.faucibus@iaculisnec.net' 'aliquet.diam.Sed@posuere.org'\n",
      " 'ut.aliquam@egetlacusMauris.ca' 'eu@magnaLorem.org'\n",
      " 'pellentesque.a.facilisis@nonlacinia.co.uk'\n",
      " 'orci.lacus.vestibulum@gravidasit.co.uk' 'ac@sagittisNullam.net'\n",
      " 'sit.amet@dignissimmagnaa.edu' 'porttitor.scelerisque@Aliquam.ca'\n",
      " 'Nunc@euarcuMorbi.ca' 'amet.consectetuer@orciinconsequat.ca'\n",
      " 'ornare.egestas.ligula@urnaVivamusmolestie.com' 'semper@tristique.co.uk'\n",
      " 'velit.Pellentesque@Nullam.org' 'placerat.eget@placeratorcilacus.com'\n",
      " 'velit@Pellentesquetincidunttempus.net' 'enim.Mauris@Namac.net'\n",
      " 'dolor@nislelementumpurus.edu' 'nunc.est@purusmaurisa.co.uk'\n",
      " 'lectus.rutrum.urna@nisinibh.co.uk'\n",
      " 'nulla.Integer.vulputate@eutelluseu.edu' 'sem@odiovel.edu'\n",
      " 'luctus@magnaseddui.net' 'pellentesque.massa.lobortis@facilisis.net'\n",
      " 'Integer@vulputate.net' 'Donec@lacusQuisquepurus.net'\n",
      " 'elit@faucibusMorbivehicula.net' 'Aenean@interdum.edu'\n",
      " 'pharetra.sed.hendrerit@accumsanneque.com' 'elit@Fuscealiquamenim.ca'\n",
      " 'facilisi.Sed@tortordictum.com' 'dignissim@nibhPhasellus.com'\n",
      " 'Etiam@diamluctus.org' 'amet@congue.edu'\n",
      " 'nisi.Mauris.nulla@vitaeodiosagittis.ca' 'eros@faucibus.com'\n",
      " 'Aenean.gravida@mifelis.com' 'iaculis.odio.Nam@sedfacilisis.org'\n",
      " 'vitae.semper.egestas@montesnascetur.co.uk'\n",
      " 'mi.pede.nonummy@euismodetcommodo.org' 'justo@pedeCras.ca'\n",
      " 'metus.vitae.velit@CuraePhasellus.co.uk' 'est.arcu@in.org'\n",
      " 'tristique@ligulaAliquam.net' 'vestibulum@metus.org'\n",
      " 'erat.Vivamus@ligula.co.uk' 'neque.non@iaculisaliquet.edu'\n",
      " 'placerat.eget.venenatis@elitpharetraut.edu'\n",
      " 'Phasellus@Aliquamadipiscing.co.uk' 'Nam.interdum.enim@et.com'\n",
      " 'aliquet.odio@fermentumvel.edu' 'iaculis.quis.pede@adipiscingenim.net'\n",
      " 'diam.nunc@lectusconvallisest.org' 'odio.Phasellus@fringilla.co.uk'\n",
      " 'risus@Sedmalesuada.net' 'Sed.congue.elit@faucibusleo.ca'\n",
      " 'arcu.et.pede@Morbinequetellus.org' 'mauris.Morbi@ligulatortordictum.net'\n",
      " 'venenatis.lacus@nuncQuisque.edu' 'nonummy.Fusce@sem.net'\n",
      " 'lacus.vestibulum.lorem@gravidaAliquamtincidunt.ca'\n",
      " 'ipsum.non.arcu@placeratorci.com'\n",
      " 'consectetuer.adipiscing.elit@vestibulumneceuismod.net'\n",
      " 'libero.et@Crasdictum.ca' 'molestie@commodoauctorvelit.co.uk'\n",
      " 'massa@nec.co.uk' 'montes@inconsectetuer.edu' 'nascetur@amet.org'\n",
      " 'lectus.a@nonhendreritid.org' 'Donec.at@sedlibero.net'\n",
      " 'bibendum.Donec.felis@liberoestcongue.org'\n",
      " 'Sed@Pellentesquetincidunttempus.edu' 'urna@vitaeodiosagittis.ca'\n",
      " 'ac@non.com' 'Aliquam.adipiscing.lobortis@loremut.net'\n",
      " 'est.congue@Nunc.edu' 'erat.neque.non@elit.com'\n",
      " 'accumsan@parturientmontes.net' 'molestie.orci@condimentum.com'\n",
      " 'vel.nisl.Quisque@mollisPhasellus.co.uk'\n",
      " 'nunc.nulla.vulputate@dignissimmagnaa.edu'\n",
      " 'parturient@Nuncsollicitudincommodo.co.uk' 'amet.orci@tellus.net'\n",
      " 'sem@parturientmontesnascetur.net' 'Nam@enimmitempor.com'\n",
      " 'ut.pharetra@ametultricies.net' 'non@purusaccumsaninterdum.com'\n",
      " 'et.euismod@Duis.co.uk' 'Nulla.aliquet@sedturpisnec.co.uk'\n",
      " 'velit@molestie.com' 'erat.neque@mattisvelitjusto.org'\n",
      " 'ut.mi.Duis@quisarcu.com' 'Phasellus@estcongue.ca'\n",
      " 'pulvinar@porttitortellus.ca' 'a.feugiat@enimnisl.com'\n",
      " 'Aliquam@aaliquet.com' 'risus.at.fringilla@feugiat.ca'\n",
      " 'rutrum.urna@faucibusidlibero.co.uk' 'felis@orciconsectetuereuismod.ca'\n",
      " 'Proin.eget@aliquetnecimperdiet.org'\n",
      " 'purus.ac.tellus@parturientmontesnascetur.org' 'egestas.a@vel.ca'\n",
      " 'montes@sedsem.ca' 'Vivamus.nisi@elitpharetraut.ca' 'Cras@eros.net'\n",
      " 'odio.Nam@estac.ca' 'diam.Proin@ut.edu' 'et.magnis@necmetus.ca'\n",
      " 'sed.est@afelisullamcorper.edu' 'Integer@odioauctor.co.uk'\n",
      " 'pretium.aliquet.metus@pretiumneque.com' 'erat.Etiam@elementum.org'\n",
      " 'orci.adipiscing@penatibuset.com' 'sem.Pellentesque@quis.net'\n",
      " 'Phasellus.fermentum@dictumplacerataugue.net'\n",
      " 'ipsum.Phasellus@egestasblanditNam.edu' 'iaculis.enim@nislelementum.edu'\n",
      " 'porttitor.tellus@elitelit.org' 'felis.Nulla@mi.ca'\n",
      " 'Curabitur.egestas.nunc@fermentumfermentum.ca' 'augue@risusNuncac.co.uk'\n",
      " 'dolor.sit@turpisIn.com' 'Donec.at@neccursus.co.uk'\n",
      " 'egestas.urna.justo@maurissagittis.edu'\n",
      " 'egestas.blandit.Nam@semvitaealiquam.com' 'ligula@Cumsociis.ca'\n",
      " 'Cum.sociis.natoque@Sedmolestie.edu' 'penatibus.et@massanonante.com'\n",
      " 'Quisque.varius@arcuVivamussit.net' 'Camaron.marla@hotmail.com']\n",
      "------------------------------\n",
      "Column: country\n",
      "['Bulgaria' 'Belize' 'Algeria' 'Cook Islands' 'Brazil' 'Liberia' 'Syria'\n",
      " 'Czech Republic' 'Armenia' 'Somalia' 'Sint Maarten' 'Greenland'\n",
      " 'Nicaragua' 'Palestine, State of' 'United Arab Emirates' 'Gabon'\n",
      " 'Tokelau' 'Portugal' 'Chad' 'Iraq' 'Sudan' 'Angola' 'Nigeria'\n",
      " 'Madagascar' 'Macedonia' 'Oman' 'Colombia' 'Namibia' 'Denmark'\n",
      " 'Dominican Republic' 'Costa Rica' 'Botswana' 'Saint Pierre and Miquelon'\n",
      " 'France' 'Senegal' 'Cambodia' 'Suriname' 'Turkey' 'Ethiopia'\n",
      " 'French Guiana' 'Bhutan' 'Georgia' 'Mozambique' 'Nauru' 'Timor-Leste'\n",
      " 'Djibouti' 'Argentina' 'Taiwan' 'Åland Islands'\n",
      " 'Turks and Caicos Islands' 'Samoa' 'Vanuatu' 'Mongolia' 'Sri Lanka'\n",
      " 'Guinea-Bissau' 'Egypt' 'Slovenia' 'Benin' 'Cape Verde' 'Paraguay' 'Laos'\n",
      " 'Iceland' 'Viet Nam' 'Marshall Islands' 'Germany' 'Kyrgyzstan'\n",
      " 'Mauritius' 'Gambia' 'Reunion' 'Jordan' 'Slovakia' 'Kiribati'\n",
      " 'United States Minor Outlying Islands' 'Puerto Rico' 'Guinea' 'Guam'\n",
      " 'China' 'Sierra Leone' 'Ecuador' 'Anguilla' 'Kazakhstan' 'Jersey' 'Macao'\n",
      " 'Indonesia' 'Palau' 'Ghana' 'Cameroon' 'Myanmar'\n",
      " 'Central African Republic' 'Bolivia' 'Tuvalu' 'Qatar' 'Venezuela' 'Togo'\n",
      " 'Nepal' 'Saudi Arabia' 'San Marino' 'Saint Lucia' 'Solomon Islands'\n",
      " 'Andorra' 'Falkland Islands' 'Japan' 'Israel' 'Christmas Island'\n",
      " 'Liechtenstein' 'Mayotte' 'Saint Kitts and Nevis' 'Maldives' 'Aruba'\n",
      " 'Lebanon' 'Monaco' 'Martinique' 'Guadeloupe' 'Equatorial Guinea'\n",
      " 'South Africa' 'Wallis and Futuna' 'Tunisia' 'Pakistan' 'Bahrain'\n",
      " 'Serbia' 'Peru' 'Austria' 'Lithuania' 'Curaçao' 'Zimbabwe' 'Uganda'\n",
      " 'Kenya' 'Kuwait' 'Greece' 'Bouvet Island' 'Thailand' 'Bahamas' 'Latvia'\n",
      " 'Hong Kong' 'French Polynesia' 'Yemen'\n",
      " 'Heard Island and Mcdonald Islands' 'Virgin Islands, British' 'Singapore'\n",
      " 'Cocos (Keeling) Islands' 'Saint Martin' 'Northern Mariana Islands'\n",
      " 'Croatia' 'Malta' 'Mauritania' 'Guyana' 'Haiti' 'Faroe Islands'\n",
      " 'Saint Barthélemy' 'Poland' 'Congo (Brazzaville)' 'Guernsey'\n",
      " 'Sao Tome and Principe' 'Grenada' 'United States'\n",
      " 'Virgin Islands, United States' 'Bermuda' 'Norfolk Island' 'Italy'\n",
      " 'Bangladesh' 'Philippines' 'French Southern Territories' 'Jamaica'\n",
      " 'Belarus' 'Turkmenistan' 'Guatemala' 'Saint Vincent and The Grenadines'\n",
      " 'Tonga' 'Papua New Guinea' 'Canada' 'Bonaire, Sint Eustatius and Saba'\n",
      " 'El Salvador' 'Isle of Man' 'Bosnia and Herzegovina' 'India'\n",
      " 'Trinidad and Tobago' 'Moldova' 'Tanzania' 'Niue' 'Rwanda' 'Morocco'\n",
      " 'Western Sahara' 'Micronesia' 'American Samoa'\n",
      " 'United Kingdom (Great Britain)' 'Seychelles' 'Switzerland' 'Chile'\n",
      " 'Uruguay' 'South Georgia and The South Sandwich Islands' 'Afghanistan'\n",
      " 'Belgium' 'Antarctica' 'Korea, South' 'Cayman Islands' 'Honduras'\n",
      " 'Mexico' 'Australia' 'Montenegro' 'Luxembourg' 'Hungary' 'Niger'\n",
      " 'New Caledonia' 'Mali' 'Malawi' 'South Sudan' 'Ukraine' 'New Zealand'\n",
      " 'Saint Helena, Ascension and Tristan da Cunha' 'Malaysia' 'marlal']\n",
      "------------------------------\n",
      "Column: gender\n",
      "[0 1]\n",
      "------------------------------\n",
      "Column: age\n",
      "[41.8517198  40.87062335 43.15289747 58.27136945 57.31374945 56.82489312\n",
      " 46.60731485 50.19301623 46.58474463 43.32378156 50.12992275 53.18015845\n",
      " 44.3964937  48.49651504 55.24486604 53.28976788 44.74219952 48.12708462\n",
      " 51.85347374 58.74184223 51.90047138 48.08111958 45.53184183 47.02228427\n",
      " 39.94299532 52.57744084 28.0096755  55.63031699 46.12403587 40.24532734\n",
      " 33.48313022 40.38546326 51.31671367 51.4805088  46.31841716 50.50341115\n",
      " 49.85387098 22.00038672 50.51602163 48.04729589 42.44978638 46.26908486\n",
      " 37.58459582 38.7730024  61.22413159 55.27514264 42.22589031 51.16813904\n",
      " 41.44430677 40.08331711 41.1638484  55.78242299 46.23366001 36.67318264\n",
      " 52.46564908 57.12191756 33.81629802 43.03088068 50.16597776 42.24181684\n",
      " 42.05808927 42.09853578 54.55868922 53.15575545 53.05769018 43.29935025\n",
      " 55.27030631 42.69528911 57.34721558 52.07227701 45.18543793 56.2157522\n",
      " 40.91485207 47.78972925 56.04151533 46.96078061 53.3541878  56.51952929\n",
      " 39.1476732  45.22565147 33.02638894 44.30297784 39.71715527 39.90467755\n",
      " 36.72080894 40.17883971 44.48691527 43.42751716 58.42573253 32.09408141\n",
      " 49.95601436 58.61073311 42.37110355 49.53216133 53.22984863 46.69611835\n",
      " 46.24573524 43.38998458 48.92140102 43.14281871 52.65668022 35.62487152\n",
      " 30.49235339 37.37157248 48.47639595 43.77824898 41.7960136  49.59716524\n",
      " 30.34945876 41.85495363 46.07172662 55.15697275 43.62606334 58.46660793\n",
      " 42.10214563 56.85236475 43.03106903 34.68196128 42.91579507 35.04323865\n",
      " 34.49805732 47.74046488 52.86426773 47.14546675 54.19945546 50.75725473\n",
      " 59.46215292 48.98804889 51.03125632 39.84482154 53.38095524 45.01374936\n",
      " 45.40244083 37.40628431 42.60482241 47.69031054 48.7314504  47.96813163\n",
      " 44.50599147 43.05947066 61.6304836  46.02807589 51.22247207 43.89487464\n",
      " 57.45859813 59.77886094 38.60885156 61.10319817 49.61576865 37.49764004\n",
      " 45.49732494 49.83912893 31.74162964 33.77526933 45.05203632 50.21957282\n",
      " 51.3001589  52.51683609 34.16409192 55.98961549 57.28482392 47.65948559\n",
      " 40.41469076 50.41432737 46.54726629 38.7080482  36.195148   44.10061144\n",
      " 46.86775698 33.20331461 42.43201208 47.44707409 40.14234782 54.11381978\n",
      " 38.41372649 40.42154558 45.34128933 51.03137709 38.40326499 33.97602872\n",
      " 50.24618129 42.144445   32.92895606 56.07496279 56.68908614 37.36322599\n",
      " 50.75886005 62.667962   52.68904044 51.27542204 48.24884664 41.17366372\n",
      " 38.55101952 45.44389242 70.         51.22046152 50.96113207 41.94840202\n",
      " 49.93151869 39.84583613 44.31436254 52.13426592 40.60178125 57.00689841\n",
      " 53.76273185 50.49435621 37.26933248 51.84166929 43.04031367 52.39396613\n",
      " 64.05419444 50.98384935 55.04901266 47.44390371 36.3286175  38.83483235\n",
      " 45.42714869 46.56694116 47.05691571 60.17319938 59.39902491 36.40803286\n",
      " 47.4509492  37.8936486  41.56343675 32.78689927 39.01360284 39.43529081\n",
      " 54.73045672 45.09515473 50.69496793 49.46168599 45.85016782 53.14119207\n",
      " 38.93027639 42.62791487 69.56930586 50.71732637 51.77261249 45.13851753\n",
      " 47.68088058 48.04509497 47.79216388 57.27478648 46.27084405 44.35361663\n",
      " 65.22488117 57.24274098 46.60008704 36.11724689 56.77294754 32.87492543\n",
      " 43.25105758 46.20524085 45.26036406 42.80386517 37.94194499 39.69651573\n",
      " 42.69544169 41.87168381 51.29771627 37.72282353 41.22493528 54.49187591\n",
      " 45.21937869 40.76074066 40.36205839 31.8336316  54.12700263 55.34658335\n",
      " 35.37515645 46.30647788 45.19479436 49.89768983 54.22262982 28.74024358\n",
      " 55.54961038 54.16455309 33.19434796 47.79777532 48.93654638 54.61385876\n",
      " 41.86361457 40.8753749  53.05501309 52.77569606 43.50671123 41.80848339\n",
      " 40.60183491 48.25655639 63.41453115 58.9815941  45.27895873 47.45421163\n",
      " 49.4022674  39.98349575 41.37223373 46.75803824 27.44024624 46.34274109\n",
      " 50.50648739 43.09147264 31.97176907 62.86886081 35.39291819 49.62207396\n",
      " 50.69628655 54.40906192 37.07521505 44.2639884  57.10507937 47.48853379\n",
      " 52.00403731 52.47484301 47.78541236 55.01756589 46.52064185 44.74440761\n",
      " 39.6048097  47.42452905 45.01562039 49.10443956 60.18011891 33.81125185\n",
      " 36.3750977  51.3613807  42.2652013  48.09742994 35.37227549 44.23255578\n",
      " 48.07331843 47.47086936 31.24483833 45.34659851 48.70123214 61.31742411\n",
      " 50.67226399 35.48520024 52.51971144 42.12055603 39.12031813 38.10594756\n",
      " 40.75219483 43.70539661 43.07820399 38.63314682 33.24696771 46.91189053\n",
      " 45.30594136 50.72631901 42.1200795  55.25607797 62.46308509 51.56054437\n",
      " 51.10053283 62.62575416 45.56856449 46.55637266 57.70495365 36.71815503\n",
      " 51.42349784 36.12691774 31.61348869 31.89622257 43.05089188 51.08481106\n",
      " 43.12954854 57.80193013 48.83752201 42.99229711 48.30867264 39.71130983\n",
      " 34.72822141 43.00071798 57.13457591 47.21795133 31.75957954 44.34525343\n",
      " 50.27457289 43.57649526 56.72544675 35.07555289 52.90793462 41.02339176\n",
      " 44.00603343 62.62213572 49.7733395  42.06422454 40.961674   40.2012564\n",
      " 40.39729481 55.57696873 47.55430896 41.27000968 61.03424503 35.33787621\n",
      " 54.77232025 36.57271347 47.71401166 31.98877902 61.70429878 48.59322101\n",
      " 42.88453632 36.2452565  61.22472501 45.75422949 56.67256191 36.42694852\n",
      " 48.94126712 62.75948863 49.28968587 44.09922748 43.17653402 48.14257112\n",
      " 36.96953352 48.98030739 40.20456044 41.67121696 29.59907959 43.13272875\n",
      " 55.30394679 40.20042717 37.71663125 42.65479064 37.36362599 41.35450195\n",
      " 41.93116782 38.03912192 42.64066561 43.57614914 40.99660693 45.84421027\n",
      " 45.76882266 39.814817   44.95472657 57.97429301 61.70872559 51.52532667\n",
      " 44.27741911 44.02366242 39.66565685 32.59143047 44.13391466 42.22095552\n",
      " 20.         52.61004535 55.9330891  44.17501053 52.49932303 42.5273855\n",
      " 48.51272138 55.52192516 47.46701603 25.17989327 44.70222518 46.47392714\n",
      " 32.79649861 42.78726724 47.5469052  48.14631737 40.47710314 38.54583374\n",
      " 39.14103529 53.9049485  53.37171727 51.44198125 54.52160505 35.05685897\n",
      " 43.30468502 36.51447117 59.61961534 43.54252824 39.2812453  41.6796235\n",
      " 32.30887578 52.28979935 56.28750886 40.75405169 50.76936195 57.61545628\n",
      " 50.80193441 29.03452095 52.96776171 43.3868909  62.07084214 60.41643332\n",
      " 36.65996988 43.3654703  41.7050595  54.87954467 45.75269752 50.19720522\n",
      " 55.08772031 42.90018665 51.76741827 41.46251483 37.64199977 53.94349722\n",
      " 59.16050864 46.73115245]\n",
      "------------------------------\n",
      "Column: annual Salary\n",
      "[ 62812.09301  66646.89292  53798.55112  79370.03798  59729.1513\n",
      "  68499.85162  39814.522    51752.23445  58139.2591   53457.10132\n",
      "  73348.70745  55421.65733  37336.3383   68304.47298  72776.00382\n",
      "  64662.30061  63259.87837  52682.06401  54503.14423  55368.23716\n",
      "  63435.86304  64347.34531  65176.69055  52027.63837  69612.0123\n",
      "  53065.57175  82842.53385  61388.62709 100000.       62891.86556\n",
      "  39627.1248   68859.56489  82358.22683  67904.39895  65311.68225\n",
      "  59593.2624   47460.54809  43131.78411  52263.69806  80959.5331\n",
      "  66417.66597  58457.41492  50571.45969  50943.16256  79792.13096\n",
      "  70787.27764  56098.50773  57478.37922  60181.40633  74445.08168\n",
      "  38406.7789   64616.6881   68107.93144  72471.81532  35069.41886\n",
      "  52422.94691  84467.78988  51419.50777  46609.51626  55207.45679\n",
      "  46689.4159   71847.2544   69236.68608  54006.77851  47228.35999\n",
      "  70187.50328  62262.94845  59195.82899  48716.67271  66478.00967\n",
      "  50280.0045   57393.82872  63429.93141  59139.2108   67015.19372\n",
      "  69157.4521   50867.94007  53450.90036  70463.99084  52697.15192\n",
      "  71055.41924  55406.46215  48567.07462  69506.62127  69453.71659\n",
      "  36929.35124  63087.95261  50889.34054  58065.25694  20000.\n",
      "  60536.20406  50667.69759  44376.62221  75958.28349  70896.72853\n",
      "  56009.73073  90556.62686  71716.45662  68502.10943  46261.42666\n",
      "  61858.19077  49483.83262  68289.18229  47399.22827  63975.0609\n",
      "  75460.52362  51075.46118  42433.54619  61922.8971   69946.93924\n",
      "  73476.42249  75571.20188  82573.01132  50649.64492  53427.46192\n",
      "  75247.18061  69175.19403  84171.16719  45721.66835  54355.7595\n",
      "  77206.48386  57005.18595  65809.10782  65468.1442   60991.82443\n",
      "  61809.07451  66905.47644  65131.25015  83626.30783  64328.27892\n",
      "  69255.98753  60575.12604  63729.12568  64315.73671  51419.01644\n",
      "  53870.48483  56895.23153  52534.20778  52632.97124  42375.21424\n",
      "  65617.29175  49398.74439  63869.64928  60871.18248  68090.5087\n",
      "  54122.87827  59316.93704  38779.18396  88292.73205  68688.40199\n",
      "  51906.85022  52373.79446  73768.12453  55576.84068  59689.81438\n",
      "  55381.53225  34154.77654  54382.7481   65919.59731  39488.45582\n",
      "  72637.84482  67247.07698  71271.84407  71693.44742  57860.53103\n",
      "  69142.08412  52477.66494  47592.04749  48123.36983  76916.41515\n",
      "  65714.46469  40346.06491  71148.20248  81757.66856  64867.14911\n",
      "  70051.94033  62043.16623  85186.48921  47127.41632  61177.08698\n",
      "  57770.36488  60432.40367  58999.88858  62645.95516  68782.15718\n",
      "  67545.96382  42415.48867  44617.98314  72226.5603   48958.90535\n",
      "  86067.83527  65554.4018   69248.4953   59331.23555  52323.2448\n",
      "  63552.85175  75116.10613  38284.02013  55293.50777  63210.76235\n",
      "  54918.38749  57262.79581  72299.9501   50241.48985  65834.56889\n",
      "  60382.17885  68691.17086  65446.65687  42978.34284  58143.06285\n",
      "  61666.2852   64854.33966  45757.15568  73096.50927  67249.05932\n",
      "  77165.81297  72316.18286  68431.27055  62311.11641  53229.14547\n",
      "  77662.1109   69494.69783  61063.35631  79368.91741  61693.44352\n",
      "  47211.66812  69897.75291  63675.93263  72302.03223  63687.4988\n",
      "  63678.15468  77435.46545  62721.40514  70842.83518  55285.98625\n",
      "  72002.0552   41434.51258  60404.38394  65239.06468  62939.12851\n",
      "  60608.40313  56118.39601  86706.33333  41236.36497  77146.27598\n",
      "  56437.30404  70703.85013  69810.46265  54279.39597  70334.42787\n",
      "  59168.00751  61889.61618  66013.95174  55434.04046  68499.69447\n",
      "  54749.88645  74590.25495  67772.66646  62563.57825  70361.01504\n",
      "  74810.89471  49346.405    73426.08521  47684.46306  72939.83195\n",
      "  72277.82609  53921.33351  65312.96755  55619.34152  70914.59993\n",
      "  33422.99683  53382.42693  74173.39239  53587.12801  58011.6339\n",
      "  69171.95281  66779.91374  79173.0767   63065.12164  65530.36401\n",
      "  63732.3931   62689.53964  51539.93045  59060.08664  62713.78149\n",
      "  44747.66132  65529.70333  62426.52379  73498.30715  86565.15641\n",
      "  46549.16329  70111.5398   66747.66857  72025.6768   70737.29383\n",
      "  57455.7609   60657.59355  50694.42707  55369.72784  82425.64679\n",
      "  82094.10712  74090.51299  73935.74201  75719.22986  47054.14246\n",
      "  42003.01617  74418.55717  52786.1971   78804.99824  66932.47176\n",
      "  56066.07685  48591.57177  38213.88844  56444.76848  67080.6142\n",
      "  83333.81054  73502.12458  88816.02695  70381.37499  67647.74764\n",
      "  79781.90126  64665.39122  58837.97088  49607.23466  67032.16445\n",
      "  65245.57379  56174.3433   47227.01542  40300.49467  45504.74866\n",
      "  50017.38154  66226.72902  41361.95045  56687.41273  68114.60169\n",
      "  51086.88482  71921.45038  56807.01728  43019.8475   63875.20999\n",
      "  41587.39238  49661.96712  92471.17612  70136.82862  52664.71719\n",
      "  55618.06942  54912.44043  56692.78044  63561.04525  62788.93529\n",
      "  38453.86033  59486.27073  68149.63056  49393.46784  72262.20245\n",
      "  64494.39535  54362.70307  55657.65681  73512.41269  70621.52393\n",
      "  70275.68706  74420.10254  54395.05356  60384.34541  66813.664\n",
      "  84120.95497  54236.62092  64426.59613  71150.19894  60325.20676\n",
      "  91083.73918  60380.22868  72948.11812  74834.57117  67752.38329\n",
      "  59205.89035  64874.03368  63305.84963  74176.2079   47230.92278\n",
      "  65980.95617  51428.66337  75381.07571  54742.3946   76245.2434\n",
      "  60409.75787  57600.59673  71371.92544  79444.01301  47569.44212\n",
      "  71193.72803  46412.82136  57368.05622  65826.12291  61824.8798\n",
      "  61723.00613  72310.39623  67548.77415  62175.68945  60584.85458\n",
      "  66655.4142   63718.8812   60862.97749  67508.12293  61639.76386\n",
      "  63172.95729  58653.6591   40558.75456  76870.00765  71948.80529\n",
      "  67629.84819  67121.32166  57376.4803   56944.87077  60174.05765\n",
      "  81997.33071  36960.76994  64412.43101  70076.22764  72016.92459\n",
      "  63186.12783  76086.84122  74445.72702  85475.64202  51111.76605\n",
      "  79064.9559   55514.9934   75901.81829  56687.93949  59801.06311\n",
      "  57303.83325  43412.86301  58948.93261  56086.45033  80015.83115\n",
      "  41409.2939   40387.9207   48746.71666  70230.15498  64961.39305\n",
      "  57777.15558  54447.15275  59712.31101  65605.41798  70467.29492\n",
      "  76318.87883  77657.56243  60487.90116  67729.9725   49463.0635\n",
      "  65850.47688  66505.38124  58260.57232  45092.74073  63845.77186\n",
      "  55293.575    87598.01501  71753.30877  45368.15561  45362.66982\n",
      "  40727.39196  58632.58875  66680.2741   75892.3053   59297.41631\n",
      "  92455.72807  32697.98161  55418.75606  68921.40213  43739.97829\n",
      "  81565.95967  65364.06334  65019.15701  58243.17992  73558.87334\n",
      "  66088.02369  54441.72437  60101.79725  50153.43545  61430.93415\n",
      "  65846.5096   55433.61187  62979.60196  76523.33258  63956.1618\n",
      "  39460.00348  66923.43536  50051.14039  61575.9502   64430.07398\n",
      "  63722.00164  78518.21527  72424.80112  77665.17195  77345.61633\n",
      "  71942.40291  56039.49793  68888.77805  49811.99062  61370.67766]\n",
      "------------------------------\n",
      "Column: credit card debt\n",
      "[11609.38091    9572.957136  11160.35506   14426.16485    5358.712177\n",
      " 14179.47244    5958.460188  10985.69656    3440.823799  12884.07868\n",
      "  8270.707359  10014.96929   10218.32092    9466.995128  10597.63814\n",
      " 11326.03434   11495.54999   12514.52029    7377.820914  13272.94647\n",
      " 11878.03779   10905.36628    7698.552234  11960.85377    8125.598993\n",
      " 17805.57607   13102.15805   14270.00731   17452.92179   12522.94052\n",
      "  9371.511071  13417.02027    8092.475103  11417.30952    7988.753685\n",
      " 12252.73058    7405.534271  10917.14094    8838.759509   4499.921096\n",
      "  9183.327621  12491.01273   13338.32852   10816.8855    14245.53319\n",
      " 10155.34095   11675.28496    2230.096344   7094.896557   7915.758178\n",
      " 11023.00268   12378.54089    7813.602657  11216.88676    1851.979839\n",
      "  6998.46562    7772.444847  11331.20447    7592.019748   9976.434857\n",
      "  7829.565502   4225.328117   9842.842611  15189.08845    9046.182396\n",
      "  6841.540577  11785.87919    8634.376791  10886.91711   13685.88702\n",
      " 11350.49408    5627.803654  10676.21884    4630.544424  13000.41369\n",
      " 15791.61176   16732.30638    8740.723093  10059.55406     861.8166529\n",
      "  6147.918843   9522.576495   9724.031647   5449.471997   9565.830875\n",
      "  9719.192898  11024.02643   11041.17891    4204.920492  14261.80773\n",
      "  8244.470226   9871.403591  13865.09055   10562.90377   11794.73914\n",
      " 11030.2654    13872.5667     8870.714301   5831.118245  16767.2636\n",
      "  5189.083564  11811.25253    7357.787011  14562.64194   10614.85449\n",
      "  6280.929547  12416.84845    7335.524826  10366.50326    9010.648633\n",
      "  9656.806156  12887.54899    1696.989764  11211.72016    7903.103591\n",
      " 13258.46631    6039.594519  12719.64415   14250.52398   10008.76797\n",
      "  8493.098575  12416.79083    4820.839445   7248.54142    7329.22851\n",
      "  2620.079459  10077.49592    6206.922109   8458.749819  13860.43821\n",
      " 18361.24915    8088.344365  12507.19736   14871.36126    9026.061543\n",
      " 14720.53399    9851.578109   7583.753853  12348.67783    6062.60136\n",
      " 14392.28833    6994.617316  12860.65824    4397.947571   6181.970908\n",
      " 15164.87506   12296.34158   12758.89583   10799.1381    15796.31838\n",
      " 13686.96935   11347.62967    8132.073716   9396.008371  14862.84011\n",
      "  5088.239017   5316.010491   6940.056371   7594.363993  10992.33383\n",
      " 14938.50613    9851.689538  13122.45694   14421.48298    7146.192574\n",
      "  8707.511532  12071.41684   13167.65763     921.5340234 13923.96207\n",
      " 12557.08133   11505.89906    7917.65097    7500.778414  13962.95284\n",
      "  4701.316175   4980.668295  12413.0319    10221.15388    9837.222432\n",
      "  8628.434025  11417.46257    6904.420412  11431.22966    9810.75269\n",
      "  7171.466112   5205.008323   9683.735879   5817.153854   2418.86434\n",
      "  9181.06743   12026.57975    6445.784981  10027.53449   12438.85648\n",
      "  9347.50353    5969.666602  15467.78745    9465.090098   3657.863218\n",
      "  8920.385015   7793.073201  11544.93385   14817.70896   15353.25774\n",
      " 11302.88277   16305.78907    8491.586154   8884.11069    9686.119304\n",
      " 11672.72382    3247.887523  11207.01556   10743.793     12998.47232\n",
      "  8737.20319    8728.916803  14088.90642    9832.05731   10756.60888\n",
      " 13444.89631   20000.        12066.26571   13501.92659   10835.25736\n",
      "  4295.225339   9624.908869   9631.974905  10813.75655   13421.36821\n",
      "  5011.615145   6922.152838  16127.56619    9536.899689  17462.07506\n",
      " 14709.65824    6810.555606   4198.839128   7437.211028    632.0528524\n",
      "  8233.280719   9242.775995   9653.26498    9399.342975   7903.33495\n",
      " 10461.98276    5025.365518   4684.556433   5699.184814   9823.218967\n",
      " 10474.44187   12024.48457    7039.540023  18693.14652   15436.79968\n",
      "  7631.687821   5614.004976   6887.248301   6130.305181  12024.72511\n",
      " 13658.34201    5827.820346  14822.79645   10128.76114    7787.204492\n",
      " 13580.87747    9046.18109   11398.82486   11212.43791    9644.41026\n",
      "  8570.611562   5055.43571   11315.59626    8501.49728    9822.426192\n",
      "  6354.833826  14300.12614    6913.05683    8907.661779   8774.069514\n",
      " 12848.20061    8732.143355   6932.950306   5841.612044  11498.03993\n",
      "  4975.144559   3932.838165   6619.929677   3066.939924  13701.79986\n",
      "   640.045378   7949.463649   9691.23462    6988.652757  13851.11162\n",
      " 12186.02793    3331.304747  10881.90102   10888.93494    7525.252104\n",
      "  1065.607589  10877.69223    8253.583457  10515.28135    7234.672092\n",
      "  6052.844775   8632.699007   9246.813159  12710.00309   11033.16277\n",
      "  5235.7599    14309.21115   11492.74174   11932.73881    7880.423663\n",
      "  9874.075327  11132.39299    9317.22195    6718.857016   8767.783547\n",
      " 11148.10325    7404.080751  12788.81573    9344.32377    7666.5303\n",
      " 11554.2723    10394.57246   11312.51035    8828.164449   9245.466786\n",
      "  7514.393035   8511.814921  10755.50842    9050.284083  11633.95265\n",
      " 12254.53943    6354.372629   8851.564939   8527.034281  11397.68601\n",
      "  5397.031602   4679.441732   5404.397644   7765.975483  14435.74305\n",
      "  7557.657205   8203.56263    7946.435929   3730.11972   13224.45167\n",
      " 15283.41752    6515.336778   9560.448204  11521.6189    12124.82386\n",
      "  8765.624109  15647.35449    9625.399586  11054.27478    9384.067625\n",
      " 10359.17579   10274.13558   10693.88704   11518.29175   15458.68867\n",
      "  9596.513091   7275.314728   9514.645028   9848.997857  10128.1151\n",
      " 13148.85597    2799.719601  12664.32052    9366.027561  13851.92122\n",
      "  2689.317953   8511.835275  16146.77016   11894.4244     4421.153379\n",
      "  7009.186038   9221.265417   7925.059589  10342.60917    6139.387823\n",
      "  9611.317626  10340.30041    7094.827     11620.1079     7840.293189\n",
      "  3854.733177  11652.2729    10175.74457   11715.3714    11211.99502\n",
      "  9913.194941   3093.707686  10462.35581   12967.284      8133.45931\n",
      "  8001.644302  11863.06428    8033.550461  10188.68685   17870.63765\n",
      "  6332.2019    17142.41332    4981.269146   5575.323416   8061.968487\n",
      " 10916.85532   12087.38116   12878.54582   16449.0665    15666.43155\n",
      " 12616.45622    1768.874438  10449.61818    1726.809885  11602.74297\n",
      "  7122.163863   9258.181529   7515.152476  13786.14942    9057.600508\n",
      "  7221.667169   8009.719809   6512.71102   10827.1614     8042.386734\n",
      " 10836.41709    7843.402994   8282.075073   6588.606462   9064.618618\n",
      "  8211.34092    5761.401538   3923.407178   8542.019129   6885.723977\n",
      " 19692.91262   13141.31969    7135.98755   13629.1104      100.\n",
      "  6392.211408  14438.24233    9911.037592  10279.91264    6478.156506\n",
      "  3912.385616   3942.76762    4658.41454   11380.09288    7761.848528\n",
      "  8276.644566  10814.57915    9119.791422  12203.48778    2524.992105\n",
      "  9725.549901  12035.37079   10263.14899    8110.946984   9592.433147\n",
      "  9877.169366  10858.02526    8837.654857   8120.204455   5933.177726\n",
      "  9072.063059   7839.414396   4931.56016   15149.03426   11164.52652\n",
      "  6769.181833   4362.720324  12989.36784    6596.01369   11561.07365\n",
      "  9141.668545  10769.75059   14297.25366   10373.00856   16978.52745\n",
      "  8769.290288   8611.468093    893.2353408   594.8049491  6924.106833\n",
      " 10711.44472   10072.48298    9831.184792  13308.87932    6736.75168\n",
      "  6995.902524  12301.45679   10611.60686   14013.03451    9391.341628 ]\n",
      "------------------------------\n",
      "Column: net worth\n",
      "[ 238961.2505   530973.9078   638467.1773   548599.0524   560304.0671\n",
      "  428485.3604   326373.1812   629312.4041   630059.0274   476643.3544\n",
      "  612738.6171   293862.5123   430907.1673   420322.0702   146344.8965\n",
      "  481433.4324   370356.2223   549443.5886   431098.9998   566022.1306\n",
      "  480588.2345   307226.0977   497526.4566   688466.0503   499086.3442\n",
      "  429440.3297   315775.3207   341691.9337   188032.0778   583230.976\n",
      "  319837.6593   486069.073    655934.4666   487435.964    215673.5384\n",
      "  612242.7755   430624.8142   326742.7352   213040.9606   379749.9152\n",
      "  513340.0097   410655.9947   348833.8403   299734.1278   497950.2933\n",
      "  853913.8532   320228.6451   158979.7102   390312.1715   527420.7269\n",
      "  451846.1995   779925.7892   455609.1429   583523.0762   353757.5057\n",
      "  438067.7506   468238.7915   636407.1148   409419.5797   286062.5162\n",
      "  615765.9289   476088.3996   242495.9886   246321.8916   456634.2073\n",
      "  662176.4851   301026.2206   573054.3808   662382.6623   356553.3996\n",
      "  230728.3008   411831.0371   481335.3582   473845.8546   355157.6417\n",
      "  506986.9824   344916.1768   309113.0627   278799.6958   540805.494\n",
      "  441527.0144   523251.2663   407401.3776   409293.2658   386128.1333\n",
      "  245664.3652   496856.4912   448601.9484   388498.5102   579181.6552\n",
      "  173079.1798   536665.0464   259049.2824   635512.3606   398746.8458\n",
      "  391848.6041   479586.9387   165866.2      515084.1891   759479.4596\n",
      "  706977.053    242292.92     404457.3099   537744.1324   891439.8761\n",
      "  296972.4085   450402.2932   386057.421    323453.2022   778537.2095\n",
      "  386287.0208   416540.299    562605.0655   565932.1861   238529.6336\n",
      "  659279.2011   325701.4083   244310.5736   790526.5507   573052.0119\n",
      "  411070.4828   408147.0405   692401.4668   588570.8903   586368.9293\n",
      "  407733.5229   651215.6435    53366.13861  167031.5554   567357.0264\n",
      "  339207.2774   291360.0291   271430.0543   502946.8819   362564.346\n",
      "  701782.528    580950.3967   401955.501    293999.9427   510039.1484\n",
      "  560593.416    174525.8426   260269.0963   262959.2506   316064.0338\n",
      "  254617.2609   510811.3695   581497.8874   378357.9385   375889.6381\n",
      "   85520.85055  633383.4925   562663.8116   475126.1252   449895.3046\n",
      "   20000.       216355.3406   191168.4476   543789.7212   363561.1972\n",
      "  352507.9012   368344.0637   411045.8332   517480.0937   445745.5544\n",
      "  399124.4489    97706.89181  473101.0273   405550.1689   315183.5688\n",
      "  362707.0273   255922.473    416817.4673   278181.8354   498441.5687\n",
      "  613706.5421   357639.0334   546630.5284   427011.4954   340663.3261\n",
      "  211765.2494   415005.3584   478422.7973   613242.1668   350157.8394\n",
      "  322905.4592   520997.2385   251702.1158   623033.482    615672.4681\n",
      "  335652.6234   462613.8587   298246.0609   543313.3454   346555.1716\n",
      "  474763.4696   232607.3907   587010.5521   629764.2743   664431.3966\n",
      "  347017.8331   322150.3542   275389.0701   607395.0183   152012.353\n",
      "  490444.4111   619707.4203   571564.7901   491193.3773   261152.8211\n",
      "  299854.2186   371240.2413   465709.8937   196421.7402   396793.4734\n",
      "  478853.3217   279393.491    383693.2041   830430.3692   112127.2567\n",
      "  331460.4727   335809.6171   509543.0859   761935.5177   620522.3842\n",
      "  539365.9366   565814.725     74257.82785  234159.0793   358615.9327\n",
      "  563498.6636    48620.32123  494985.5363   545946.9996   734443.6969\n",
      "  568947.7487   252220.2937   513974.6812   168703.3385   455589.7973\n",
      "  492113.0067   586717.4715   333543.693    466988.2602   418764.5061\n",
      "  249182.7848   284991.7415   720423.8157   124979.0501   632600.4718\n",
      "  623487.5952   133226.0617   610942.1408   316906.6441   308445.8598\n",
      "  152883.3519   573441.9724   134188.4492   426488.7459   575500.7687\n",
      "  286849.7875   479685.9824   336867.7147   613372.8917   589669.6573\n",
      "  202710.1294   515305.4841   572037.8859   229070.5491   779143.6005\n",
      "  211168.6293   438491.876    521404.2386   811594.0392   552454.0263\n",
      "  613104.784    202576.6196   397700.1404   505897.3041   210573.7042\n",
      "  581620.4824   481513.5074   371355.6935   136346.3069   679435.1745\n",
      "  793986.6155   353929.5495   630411.2698   491904.1899   819002.1748\n",
      "  626163.832    239217.6732   221290.9818   222341.0342   266765.477\n",
      "  159727.8753   392177.789    587858.6295   606851.1696   684273.5913\n",
      "  577272.6805   225670.1288   625484.0917   474485.6659   275762.4836\n",
      "  579220.0393   472761.6208   556014.9704   315058.7167   149761.1281\n",
      "  497876.2478   364858.7148   579059.3132    69821.6376   244188.0008\n",
      " 1000000.       765711.6025   493592.1764   305253.2658   787984.2882\n",
      "  427287.6277   521815.7353   622324.7499   290711.867    516738.1724\n",
      "  542777.4892   398011.5804   642335.1021   719846.9824   374777.6929\n",
      "  160487.0006   356213.0776   615720.0425   414034.6096   521061.1115\n",
      "   59630.07789  169714.2655   385250.7163   454791.7251   188327.5831\n",
      "  322891.7787   375654.1472   515717.7476   555993.1081   411932.8191\n",
      "  854283.5574   537572.1338   685541.6501   608019.6308   192514.6431\n",
      "  320834.0102   228434.0508   401916.0981   475263.2759   187821.0958\n",
      "  408679.8596   388898.069    377424.6157   236420.9695   366327.7432\n",
      "  253181.9789   551344.3365   549212.4268   589180.4485   600685.1915\n",
      "   27888.74525  432447.5324   137601.844    480468.247     62149.94034\n",
      "  387538.2487   508962.4874   360457.0496   712233.8241   657178.4135\n",
      "  856287.1522   528087.5277   749016.565    290608.3977   558001.0241\n",
      "  173272.8954   457116.1945   545125.9592   447393.4883   674190.6949\n",
      "  255285.4063   128387.9293   321431.279    627086.6563   281690.8431\n",
      "  762832.2606   595028.8431   466128.9118   416748.7309   660897.0146\n",
      "  291897.4057   724025.4097   388284.2974   343290.677    129635.6343\n",
      "  805075.5197   298920.0067   344060.1754   141587.6498   684209.551\n",
      "  456524.7944   201228.0206   283241.2769   266531.2969   365862.7818\n",
      "  151946.3089   472403.1231   376886.359    116407.5289   271414.7592\n",
      "  237185.1714   630120.001    355175.3677   552267.6361   205006.2161\n",
      "  762601.0836   482866.5457   297964.2638   267555.1178   461366.7829\n",
      "  365871.4992   394229.8972   357468.1866   790116.4252   601744.9607\n",
      "  258194.8443   392003.2864   205439.3663   228388.5491   508555.1592\n",
      "  421318.9764   622569.5959   217188.4056   320525.7282   265717.2542\n",
      "  601210.2803   284155.4155   487564.5541   297540.8814   494606.6334\n",
      "  245216.1691   622831.922    478428.7174   314885.1345   201636.866\n",
      "  419556.6198   621309.5863   507572.635    158758.3577   505048.7599\n",
      "  169475.9968   485563.7363   400703.2655   577058.1773   399437.5235\n",
      "  508528.9957   516817.3173   556945.8742   177878.1758   567842.1267\n",
      "  285326.3544   218808.7553   312927.9187   515012.2804   517110.9454\n",
      "  544291.9504   579640.7982   341330.7344   649323.7878   301245.7708\n",
      "  557098.9636   432850.4157   340720.5185   266939.1746   421891.846\n",
      "  531840.3342   276466.6203   247421.9185   620355.2658   360787.6401\n",
      "  571245.3714   522814.817    347177.8367   497197.264    664862.0102\n",
      "  316128.4002   294506.0844   523680.7699   349588.5608   665099.139\n",
      "  541670.1016   360419.0988   764531.3203   337826.6382   462946.4924 ]\n",
      "------------------------------\n",
      "Column: car purchase amount\n",
      "[35321.45877 45115.52566 42925.70921 67422.36313 55915.46248 56611.99784\n",
      " 28925.70549 47434.98265 48013.6141  38189.50601 59045.51309 42288.81046\n",
      " 28700.0334  49258.87571 49510.03356 53017.26723 41814.72067 43901.71244\n",
      " 44633.99241 54827.52403 51130.95379 43402.31525 47240.86004 46635.49432\n",
      " 45078.40193 44387.58412 37161.55393 49091.97185 58350.31809 43994.35972\n",
      " 17584.56963 44650.36073 66363.89316 53489.46214 39810.34817 51612.14311\n",
      " 38978.67458 10092.22509 35928.52404 54823.19221 45805.67186 41567.47033\n",
      " 28031.20985 27815.73813 68678.4352  68925.09447 34215.7615  37843.46619\n",
      " 37883.24231 48734.35708 27187.23914 63738.39065 48266.75516 46381.13111\n",
      " 31978.9799  48100.29052 47380.91224 41425.00116 38147.81018 32737.80177\n",
      " 37348.13737 47483.85316 49730.53339 40093.61981 42297.5062  52954.93121\n",
      " 48104.11184 43680.91327 52707.96816 49392.8897  30841.00154 49373.37555\n",
      " 41903.65171 45058.8969  52991.52667 50958.08115 41357.17897 44434.71917\n",
      " 38502.42392 41221.24918 38399.46139 41456.68097 30394.82494 42384.05128\n",
      " 39002.0771  19553.2739  45167.32542 36019.9556  50937.93844 12895.71468\n",
      " 38955.21919 51221.04249 25971.95673 60670.33672 54075.12064 40004.87142\n",
      " 61593.52058 39503.38829 52474.71839 42187.6828  57441.44414 22681.71667\n",
      " 33640.73697 31540.77868 60461.24268 45738.3343  34803.82395 34642.6024\n",
      " 27586.71854 54973.02495 49142.51174 58840.53964 57306.32866 51941.6756\n",
      " 30240.60975 67120.89878 42408.02625 41451.71843 42592.88647 34521.17618\n",
      " 42213.69644 41913.53713 59416.18101 51402.61506 54755.42038 47143.44008\n",
      " 64391.68906 37252.55194 52665.36511 44001.20706 51551.67997 38243.66481\n",
      " 39766.64804 40077.57289 33131.52734 48622.66097 47693.23482 39410.4616\n",
      " 33428.40183 32700.27871 62864.43011 29425.83001 44418.60955 36645.5609\n",
      " 53655.53859 45977.12502 38504.39444 47935.9394  60222.22672 38930.55234\n",
      " 27810.21814 47604.34591 42356.6895  31300.54347 42369.64247 31837.22537\n",
      " 26499.31418 38172.83602 39433.40631 37714.31659 57125.41541 46453.34819\n",
      " 43855.06077 55592.70383 42484.02283 40879.19107 20653.21409 35438.80549\n",
      " 36112.79346 38182.30465 41026.02421 27889.95197 43724.4896  57430.76903\n",
      " 41104.07108 49050.85378 41265.52929 64545.16339 29052.09521 30719.8156\n",
      " 38763.11306 39331.20127 32608.45468 58045.56257 54387.27727 36638.20688\n",
      " 39522.13129 42978.34626 60865.76396 46380.44732 56579.90338 42774.35579\n",
      " 37879.65385 45208.42539 56229.4127  50455.11935 49721.31082 31696.99679\n",
      " 49220.0218  46188.83514 36086.93161 43264.04965 40660.38317 51683.60859\n",
      " 44525.02085 48518.90163 45805.30588 54850.38742 32478.44758 42209.28948\n",
      " 55125.93237 47984.42062 43405.89086 44577.44829 37744.54285 47805.25605\n",
      " 44846.68557 46643.26581 56563.98675 41673.44617 61118.46947 37303.56701\n",
      " 46892.26617 56457.74038 45509.69732 27625.44144 46389.50237 29002.05665\n",
      " 51355.7106  42011.19965 52654.40455 44432.71747 46054.60253 58235.41454\n",
      " 42990.29255 50702.18103 47009.57741 49399.97041 42997.16761 44434.98419\n",
      " 46325.50959 46846.7305  56499.10202 42773.75905 52313.98392 34139.6373\n",
      " 60763.24731 66158.69494 31215.6421  46135.27233 56973.18105 24184.07443\n",
      " 49079.61942 37093.92033 43401.56612 29092.1311  48349.16457 33261.00057\n",
      " 41327.16554 49336.11628 51405.55229 31249.98803 43598.96993 48300.02057\n",
      " 54013.47595 38674.66038 37076.82508 37947.85125 41320.07256 66888.93694\n",
      " 12536.93842 39549.13039 52709.08196 53502.97742 52116.90791 38705.65839\n",
      " 48025.02542 59483.91183 35911.64559 41034.28343 51730.17434 53021.86074\n",
      " 32828.03477 29417.64694 57461.51158 50441.62427 41575.34739 46412.47781\n",
      " 47610.11718 70878.29664 55543.38497 53848.7555  39904.81613 44736.41097\n",
      " 46937.17422 28440.81268 38148.00163 42747.53925 29670.83337 63038.20422\n",
      " 63248.76188 42321.56548 44463.30502 67092.23276 22091.11839 40022.17406\n",
      " 56071.61377 49442.12107 42497.72862 37084.77621 51866.48719 35716.31133\n",
      " 39892.93343 35781.16156 42866.21274 80000.      60526.97788 59758.73247\n",
      " 39606.24598 58641.71051 52983.89411 50666.88173 59625.02618 22630.25982\n",
      " 41137.89459 53496.48183 36543.93642 43503.97349 31146.71078 31526.04931\n",
      " 31083.70271 45366.35963 25252.93221 39888.59789 52240.72866 39911.6116\n",
      " 45857.75365 30826.10903 39422.79389 34678.83226 23517.91983 28733.68779\n",
      " 59096.26978 50188.86612 35659.12237 46398.35204 32291.18978 49079.29461\n",
      " 49348.88394 41427.59797 24221.99937 44424.07681 60390.06616 42793.9932\n",
      " 46935.72774 58667.06865 38042.80065 39270.57909 54606.18769 39083.94268\n",
      " 47984.12043 46082.80993 30964.07804 35726.95299 49065.1634  48955.85816\n",
      " 37183.10293 46710.52519 52889.56257 29754.66271 60960.83428 39975.43302\n",
      " 38545.80328 56764.44728 63079.84329 55700.83389 36367.18452 52477.83479\n",
      " 50296.67496 37259.84386 47715.96049 29540.87013 60567.18837 36125.48846\n",
      " 57303.87131 51922.07691 35848.82935 42704.3221  55174.98946 26599.90843\n",
      " 53993.44322 47970.76767 43641.65727 41679.7929  63140.05082 30757.65726\n",
      " 65592.22012 37871.7082  42919.5196  22599.45863 70598.96768 43242.58224\n",
      " 38138.57511 30419.8     63868.94051 45112.94547 44361.87507 19525.29827\n",
      " 49991.60697 61731.71426 41769.38288 46402.53583 37376.63439 33766.6413\n",
      " 30667.60927 52056.41478 30736.5798  39439.45349 38174.87433 40589.8625\n",
      " 62028.71192 48465.27211 40095.0498  49568.47685 31408.62631 47719.47741\n",
      " 35784.42411 42905.53815 48516.84335 45593.6849  32061.6467  32208.37522\n",
      " 35475.00344 29519.56184 55420.56668 42139.64528 50539.90169 34922.42846\n",
      " 43898.2733  39135.03023 41147.46679 24134.59205 42705.11311 38901.60925\n",
      " 28645.39425 52150.41786 66648.25077 42909.27129 49248.10595 27303.17104\n",
      " 47869.82593 59984.16361 45271.46081  9000.      46012.10616 32967.20191\n",
      " 48785.15839 45824.5656  40102.11417 35457.1486  29556.7932  38243.06228\n",
      " 44430.63323 51046.42226 52570.36517 61404.22578 28463.64326 27586.20078\n",
      " 47979.48549 28164.86039 69669.47402 48052.65091 37364.23474 44500.81936\n",
      " 35139.24793 55167.37361 48383.69071 35823.55471 36517.70996 53110.88052\n",
      " 53049.44567 21471.11367 45015.67953 55377.87697 56510.13294 47443.74443\n",
      " 41489.64123 32553.53423 41984.62412 59538.40327 41352.47071 52785.16947\n",
      " 60117.67886 47760.66427 64188.26862 48901.44342 31491.41457 64147.28888\n",
      " 45442.15353 45107.22566]\n",
      "------------------------------\n"
     ]
    }
   ],
   "source": [
    "# unique values in each column\n",
    "for columns in car_purchasing_df.columns:\n",
    "    print(f'Column: {columns}')\n",
    "    print(car_purchasing_df[columns].unique())\n",
    "    print(\"------------------------------\")"
   ]
  },
  {
   "cell_type": "code",
   "execution_count": 134,
   "id": "3468864d",
   "metadata": {},
   "outputs": [
    {
     "name": "stdout",
     "output_type": "stream",
     "text": [
      "Column: customer name\n",
      "2\n",
      "---------------------------------\n",
      "Column: customer e-mail\n",
      "0\n",
      "---------------------------------\n",
      "Column: country\n",
      "289\n",
      "---------------------------------\n"
     ]
    }
   ],
   "source": [
    "# duplicate values in each columns\n",
    "for columns in car_purchasing_df.select_dtypes('O'):\n",
    "    print(f'Column: {columns}')\n",
    "    print(car_purchasing_df[columns].duplicated().sum())\n",
    "    print(\"---------------------------------\")"
   ]
  },
  {
   "cell_type": "markdown",
   "id": "8188d11a",
   "metadata": {},
   "source": [
    "#### Data Cleaning"
   ]
  },
  {
   "cell_type": "code",
   "execution_count": 135,
   "id": "b774973f",
   "metadata": {},
   "outputs": [],
   "source": [
    "# Drop non-essentail columns \n",
    "car_purchasing_df.drop(columns = ['customer name', 'customer e-mail', 'country'], inplace = True)"
   ]
  },
  {
   "cell_type": "markdown",
   "id": "348f87d7",
   "metadata": {},
   "source": [
    "#### Data Exploration"
   ]
  },
  {
   "cell_type": "code",
   "execution_count": 136,
   "id": "49610419",
   "metadata": {},
   "outputs": [
    {
     "data": {
      "text/html": [
       "<div>\n",
       "<style scoped>\n",
       "    .dataframe tbody tr th:only-of-type {\n",
       "        vertical-align: middle;\n",
       "    }\n",
       "\n",
       "    .dataframe tbody tr th {\n",
       "        vertical-align: top;\n",
       "    }\n",
       "\n",
       "    .dataframe thead th {\n",
       "        text-align: right;\n",
       "    }\n",
       "</style>\n",
       "<table border=\"1\" class=\"dataframe\">\n",
       "  <thead>\n",
       "    <tr style=\"text-align: right;\">\n",
       "      <th></th>\n",
       "      <th>gender</th>\n",
       "      <th>age</th>\n",
       "      <th>annual Salary</th>\n",
       "      <th>credit card debt</th>\n",
       "      <th>net worth</th>\n",
       "      <th>car purchase amount</th>\n",
       "    </tr>\n",
       "  </thead>\n",
       "  <tbody>\n",
       "    <tr>\n",
       "      <th>count</th>\n",
       "      <td>500.000000</td>\n",
       "      <td>500.000000</td>\n",
       "      <td>500.000000</td>\n",
       "      <td>500.000000</td>\n",
       "      <td>500.000000</td>\n",
       "      <td>500.000000</td>\n",
       "    </tr>\n",
       "    <tr>\n",
       "      <th>mean</th>\n",
       "      <td>0.506000</td>\n",
       "      <td>46.241674</td>\n",
       "      <td>62127.239608</td>\n",
       "      <td>9607.645049</td>\n",
       "      <td>431475.713625</td>\n",
       "      <td>44209.799218</td>\n",
       "    </tr>\n",
       "    <tr>\n",
       "      <th>std</th>\n",
       "      <td>0.500465</td>\n",
       "      <td>7.978862</td>\n",
       "      <td>11703.378228</td>\n",
       "      <td>3489.187973</td>\n",
       "      <td>173536.756340</td>\n",
       "      <td>10773.178744</td>\n",
       "    </tr>\n",
       "    <tr>\n",
       "      <th>min</th>\n",
       "      <td>0.000000</td>\n",
       "      <td>20.000000</td>\n",
       "      <td>20000.000000</td>\n",
       "      <td>100.000000</td>\n",
       "      <td>20000.000000</td>\n",
       "      <td>9000.000000</td>\n",
       "    </tr>\n",
       "    <tr>\n",
       "      <th>25%</th>\n",
       "      <td>0.000000</td>\n",
       "      <td>40.949969</td>\n",
       "      <td>54391.977195</td>\n",
       "      <td>7397.515792</td>\n",
       "      <td>299824.195900</td>\n",
       "      <td>37629.896040</td>\n",
       "    </tr>\n",
       "    <tr>\n",
       "      <th>50%</th>\n",
       "      <td>1.000000</td>\n",
       "      <td>46.049901</td>\n",
       "      <td>62915.497035</td>\n",
       "      <td>9655.035568</td>\n",
       "      <td>426750.120650</td>\n",
       "      <td>43997.783390</td>\n",
       "    </tr>\n",
       "    <tr>\n",
       "      <th>75%</th>\n",
       "      <td>1.000000</td>\n",
       "      <td>51.612263</td>\n",
       "      <td>70117.862005</td>\n",
       "      <td>11798.867487</td>\n",
       "      <td>557324.478725</td>\n",
       "      <td>51254.709517</td>\n",
       "    </tr>\n",
       "    <tr>\n",
       "      <th>max</th>\n",
       "      <td>1.000000</td>\n",
       "      <td>70.000000</td>\n",
       "      <td>100000.000000</td>\n",
       "      <td>20000.000000</td>\n",
       "      <td>1000000.000000</td>\n",
       "      <td>80000.000000</td>\n",
       "    </tr>\n",
       "  </tbody>\n",
       "</table>\n",
       "</div>"
      ],
      "text/plain": [
       "           gender         age  annual Salary  credit card debt  \\\n",
       "count  500.000000  500.000000     500.000000        500.000000   \n",
       "mean     0.506000   46.241674   62127.239608       9607.645049   \n",
       "std      0.500465    7.978862   11703.378228       3489.187973   \n",
       "min      0.000000   20.000000   20000.000000        100.000000   \n",
       "25%      0.000000   40.949969   54391.977195       7397.515792   \n",
       "50%      1.000000   46.049901   62915.497035       9655.035568   \n",
       "75%      1.000000   51.612263   70117.862005      11798.867487   \n",
       "max      1.000000   70.000000  100000.000000      20000.000000   \n",
       "\n",
       "            net worth  car purchase amount  \n",
       "count      500.000000           500.000000  \n",
       "mean    431475.713625         44209.799218  \n",
       "std     173536.756340         10773.178744  \n",
       "min      20000.000000          9000.000000  \n",
       "25%     299824.195900         37629.896040  \n",
       "50%     426750.120650         43997.783390  \n",
       "75%     557324.478725         51254.709517  \n",
       "max    1000000.000000         80000.000000  "
      ]
     },
     "execution_count": 136,
     "metadata": {},
     "output_type": "execute_result"
    }
   ],
   "source": [
    "car_purchasing_df.describe()"
   ]
  },
  {
   "cell_type": "markdown",
   "id": "6fcbc1eb",
   "metadata": {},
   "source": [
    "#### Exploratory Data Analysis"
   ]
  },
  {
   "cell_type": "markdown",
   "id": "b3f7da6a",
   "metadata": {},
   "source": [
    "#### Univariate Anaysis"
   ]
  },
  {
   "cell_type": "code",
   "execution_count": 137,
   "id": "338b2683",
   "metadata": {},
   "outputs": [
    {
     "data": {
      "image/png": "[encoded data removed]",
      "text/plain": [
       "<Figure size 600x400 with 1 Axes>"
      ]
     },
     "metadata": {},
     "output_type": "display_data"
    }
   ],
   "source": [
    "# Gender\n",
    "plt.figure(figsize = (6, 4))\n",
    "sb.countplot(data = car_purchasing_df, x = 'gender')\n",
    "\n",
    "plt.title('Distribution of Gender', fontsize = 14)\n",
    "plt.xlabel('Gender', fontsize = 12)\n",
    "plt.ylabel('Count', fontsize = 12)\n",
    "plt.xticks([0, 1],['Male', 'Female'])\n",
    "\n",
    "plt.show()"
   ]
  },
  {
   "cell_type": "code",
   "execution_count": 138,
   "id": "67957f22",
   "metadata": {},
   "outputs": [
    {
     "data": {
      "application/vnd.plotly.v1+json": {
       "config": {
        "plotlyServerURL": "https://plot.ly"
       },
       "data": [
        {
         "alignmentgroup": "True",
         "bingroup": "x",
         "hovertemplate": "age=%{x}<br>count=%{y}<extra></extra>",
         "legendgroup": "",
         "marker": {
          "color": "#636efa",
          "pattern": {
           "shape": ""
          }
         },
         "name": "",
         "offsetgroup": "",
         "orientation": "v",
         "showlegend": false,
         "type": "histogram",
         "x": [
          41.8517198,
          40.87062335,
          43.15289747,
          58.27136945,
          57.31374945,
          56.82489312,
          46.60731485,
          50.19301623,
          46.58474463,
          43.32378156,
          50.12992275,
          53.18015845,
          44.3964937,
          48.49651504,
          55.24486604,
          53.28976788,
          44.74219952,
          48.12708462,
          51.85347374,
          58.74184223,
          51.90047138,
          48.08111958,
          45.53184183,
          47.02228427,
          39.94299532,
          52.57744084,
          28.0096755,
          55.63031699,
          46.12403587,
          40.24532734,
          33.48313022,
          40.38546326,
          51.31671367,
          51.4805088,
          46.31841716,
          50.50341115,
          49.85387098,
          22.00038672,
          50.51602163,
          48.04729589,
          42.44978638,
          46.26908486,
          37.58459582,
          38.7730024,
          61.22413159,
          55.27514264,
          42.22589031,
          51.16813904,
          41.44430677,
          40.08331711,
          41.1638484,
          55.78242299,
          46.23366001,
          36.67318264,
          52.46564908,
          57.12191756,
          33.81629802,
          43.03088068,
          50.16597776,
          42.24181684,
          42.05808927,
          42.09853578,
          54.55868922,
          53.15575545,
          53.05769018,
          43.29935025,
          55.27030631,
          42.69528911,
          57.34721558,
          52.07227701,
          45.18543793,
          56.2157522,
          40.91485207,
          47.78972925,
          56.04151533,
          46.96078061,
          53.3541878,
          56.51952929,
          39.1476732,
          45.22565147,
          33.02638894,
          44.30297784,
          39.71715527,
          39.90467755,
          36.72080894,
          40.17883971,
          44.48691527,
          43.42751716,
          58.42573253,
          32.09408141,
          49.95601436,
          58.61073311,
          42.37110355,
          49.53216133,
          53.22984863,
          46.69611835,
          46.24573524,
          43.38998458,
          48.92140102,
          43.14281871,
          52.65668022,
          35.62487152,
          30.49235339,
          37.37157248,
          48.47639595,
          43.77824898,
          41.7960136,
          49.59716524,
          30.34945876,
          41.85495363,
          46.07172662,
          55.15697275,
          43.62606334,
          58.46660793,
          42.10214563,
          56.85236475,
          43.03106903,
          34.68196128,
          42.91579507,
          35.04323865,
          34.49805732,
          47.74046488,
          52.86426773,
          47.14546675,
          54.19945546,
          50.75725473,
          59.46215292,
          48.98804889,
          51.03125632,
          39.84482154,
          53.38095524,
          45.01374936,
          45.40244083,
          37.40628431,
          42.60482241,
          47.69031054,
          48.7314504,
          47.96813163,
          44.50599147,
          43.05947066,
          61.6304836,
          46.02807589,
          51.22247207,
          43.89487464,
          57.45859813,
          59.77886094,
          38.60885156,
          61.10319817,
          49.61576865,
          37.49764004,
          45.49732494,
          49.83912893,
          31.74162964,
          33.77526933,
          45.05203632,
          50.21957282,
          51.3001589,
          52.51683609,
          34.16409192,
          55.98961549,
          57.28482392,
          47.65948559,
          40.41469076,
          50.41432737,
          46.54726629,
          38.7080482,
          36.195148,
          44.10061144,
          46.86775698,
          33.20331461,
          42.43201208,
          47.44707409,
          40.14234782,
          54.11381978,
          38.41372649,
          40.42154558,
          45.34128933,
          51.03137709,
          38.40326499,
          33.97602872,
          50.24618129,
          42.144445,
          32.92895606,
          56.07496279,
          56.68908614,
          37.36322599,
          50.75886005,
          62.667962,
          52.68904044,
          51.27542204,
          48.24884664,
          41.17366372,
          38.55101952,
          45.44389242,
          70,
          51.22046152,
          50.96113207,
          41.94840202,
          49.93151869,
          39.84583613,
          44.31436254,
          52.13426592,
          40.60178125,
          57.00689841,
          53.76273185,
          50.49435621,
          37.26933248,
          51.84166929,
          43.04031367,
          52.39396613,
          64.05419444,
          50.98384935,
          55.04901266,
          47.44390371,
          36.3286175,
          38.83483235,
          45.42714869,
          46.56694116,
          47.05691571,
          60.17319938,
          59.39902491,
          36.40803286,
          47.4509492,
          37.8936486,
          41.56343675,
          32.78689927,
          39.01360284,
          39.43529081,
          54.73045672,
          45.09515473,
          50.69496793,
          49.46168599,
          45.85016782,
          53.14119207,
          38.93027639,
          42.62791487,
          69.56930586,
          50.71732637,
          51.77261249,
          45.13851753,
          47.68088058,
          48.04509497,
          47.79216388,
          57.27478648,
          46.27084405,
          44.35361663,
          65.22488117,
          57.24274098,
          46.60008704,
          36.11724689,
          56.77294754,
          32.87492543,
          43.25105758,
          46.20524085,
          45.26036406,
          42.80386517,
          37.94194499,
          39.69651573,
          42.69544169,
          41.87168381,
          51.29771627,
          37.72282353,
          41.22493528,
          54.49187591,
          45.21937869,
          40.76074066,
          40.36205839,
          31.8336316,
          54.12700263,
          55.34658335,
          35.37515645,
          46.30647788,
          45.19479436,
          49.89768983,
          54.22262982,
          28.74024358,
          55.54961038,
          54.16455309,
          33.19434796,
          47.79777532,
          48.93654638,
          54.61385876,
          41.86361457,
          40.8753749,
          53.05501309,
          52.77569606,
          43.50671123,
          41.80848339,
          40.60183491,
          48.25655639,
          63.41453115,
          58.9815941,
          45.27895873,
          47.45421163,
          49.4022674,
          39.98349575,
          41.37223373,
          46.75803824,
          27.44024624,
          46.34274109,
          50.50648739,
          43.09147264,
          31.97176907,
          62.86886081,
          35.39291819,
          49.62207396,
          50.69628655,
          54.40906192,
          37.07521505,
          44.2639884,
          57.10507937,
          47.48853379,
          52.00403731,
          52.47484301,
          47.78541236,
          55.01756589,
          46.52064185,
          44.74440761,
          39.6048097,
          47.42452905,
          45.01562039,
          49.10443956,
          60.18011891,
          33.81125185,
          36.3750977,
          51.3613807,
          42.2652013,
          48.09742994,
          35.37227549,
          44.23255578,
          48.07331843,
          47.47086936,
          31.24483833,
          45.34659851,
          48.70123214,
          61.31742411,
          50.67226399,
          35.48520024,
          52.51971144,
          42.12055603,
          39.12031813,
          38.10594756,
          40.75219483,
          43.70539661,
          43.07820399,
          38.63314682,
          33.24696771,
          46.91189053,
          45.30594136,
          50.72631901,
          42.1200795,
          55.25607797,
          62.46308509,
          51.56054437,
          51.10053283,
          62.62575416,
          45.56856449,
          46.55637266,
          57.70495365,
          36.71815503,
          51.42349784,
          36.12691774,
          31.61348869,
          31.89622257,
          43.05089188,
          51.08481106,
          43.12954854,
          57.80193013,
          48.83752201,
          42.99229711,
          48.30867264,
          39.71130983,
          34.72822141,
          43.00071798,
          57.13457591,
          47.21795133,
          31.75957954,
          44.34525343,
          50.27457289,
          43.57649526,
          56.72544675,
          35.07555289,
          52.90793462,
          41.02339176,
          44.00603343,
          62.62213572,
          49.7733395,
          42.06422454,
          40.961674,
          40.2012564,
          40.39729481,
          55.57696873,
          47.55430896,
          41.27000968,
          61.03424503,
          35.33787621,
          54.77232025,
          36.57271347,
          47.71401166,
          31.98877902,
          61.70429878,
          48.59322101,
          42.88453632,
          36.2452565,
          61.22472501,
          45.75422949,
          56.67256191,
          36.42694852,
          48.94126712,
          62.75948863,
          49.28968587,
          44.09922748,
          43.17653402,
          48.14257112,
          36.96953352,
          48.98030739,
          40.20456044,
          41.67121696,
          29.59907959,
          43.13272875,
          55.30394679,
          40.20042717,
          37.71663125,
          42.65479064,
          37.36362599,
          41.35450195,
          41.93116782,
          38.03912192,
          42.64066561,
          43.57614914,
          40.99660693,
          45.84421027,
          45.76882266,
          39.814817,
          44.95472657,
          57.97429301,
          61.70872559,
          51.52532667,
          44.27741911,
          44.02366242,
          39.66565685,
          32.59143047,
          44.13391466,
          42.22095552,
          20,
          52.61004535,
          55.9330891,
          44.17501053,
          52.49932303,
          42.5273855,
          48.51272138,
          55.52192516,
          47.46701603,
          25.17989327,
          44.70222518,
          46.47392714,
          32.79649861,
          42.78726724,
          47.5469052,
          48.14631737,
          40.47710314,
          38.54583374,
          39.14103529,
          53.9049485,
          53.37171727,
          51.44198125,
          54.52160505,
          35.05685897,
          43.30468502,
          36.51447117,
          59.61961534,
          43.54252824,
          39.2812453,
          41.6796235,
          32.30887578,
          52.28979935,
          56.28750886,
          40.75405169,
          50.76936195,
          57.61545628,
          50.80193441,
          29.03452095,
          52.96776171,
          43.3868909,
          62.07084214,
          60.41643332,
          36.65996988,
          43.3654703,
          41.7050595,
          54.87954467,
          45.75269752,
          50.19720522,
          55.08772031,
          42.90018665,
          51.76741827,
          41.46251483,
          37.64199977,
          53.94349722,
          59.16050864,
          46.73115245
         ],
         "xaxis": "x",
         "yaxis": "y"
        }
       ],
       "layout": {
        "bargap": 0.05,
        "barmode": "relative",
        "legend": {
         "tracegroupgap": 0
        },
        "showlegend": false,
        "template": {
         "data": {
          "bar": [
           {
            "error_x": {
             "color": "#2a3f5f"
            },
            "error_y": {
             "color": "#2a3f5f"
            },
            "marker": {
             "line": {
              "color": "#E5ECF6",
              "width": 0.5
             },
             "pattern": {
              "fillmode": "overlay",
              "size": 10,
              "solidity": 0.2
             }
            },
            "type": "bar"
           }
          ],
          "barpolar": [
           {
            "marker": {
             "line": {
              "color": "#E5ECF6",
              "width": 0.5
             },
             "pattern": {
              "fillmode": "overlay",
              "size": 10,
              "solidity": 0.2
             }
            },
            "type": "barpolar"
           }
          ],
          "carpet": [
           {
            "aaxis": {
             "endlinecolor": "#2a3f5f",
             "gridcolor": "white",
             "linecolor": "white",
             "minorgridcolor": "white",
             "startlinecolor": "#2a3f5f"
            },
            "baxis": {
             "endlinecolor": "#2a3f5f",
             "gridcolor": "white",
             "linecolor": "white",
             "minorgridcolor": "white",
             "startlinecolor": "#2a3f5f"
            },
            "type": "carpet"
           }
          ],
          "choropleth": [
           {
            "colorbar": {
             "outlinewidth": 0,
             "ticks": ""
            },
            "type": "choropleth"
           }
          ],
          "contour": [
           {
            "colorbar": {
             "outlinewidth": 0,
             "ticks": ""
            },
            "colorscale": [
             [
              0,
              "#0d0887"
             ],
             [
              0.1111111111111111,
              "#46039f"
             ],
             [
              0.2222222222222222,
              "#7201a8"
             ],
             [
              0.3333333333333333,
              "#9c179e"
             ],
             [
              0.4444444444444444,
              "#bd3786"
             ],
             [
              0.5555555555555556,
              "#d8576b"
             ],
             [
              0.6666666666666666,
              "#ed7953"
             ],
             [
              0.7777777777777778,
              "#fb9f3a"
             ],
             [
              0.8888888888888888,
              "#fdca26"
             ],
             [
              1,
              "#f0f921"
             ]
            ],
            "type": "contour"
           }
          ],
          "contourcarpet": [
           {
            "colorbar": {
             "outlinewidth": 0,
             "ticks": ""
            },
            "type": "contourcarpet"
           }
          ],
          "heatmap": [
           {
            "colorbar": {
             "outlinewidth": 0,
             "ticks": ""
            },
            "colorscale": [
             [
              0,
              "#0d0887"
             ],
             [
              0.1111111111111111,
              "#46039f"
             ],
             [
              0.2222222222222222,
              "#7201a8"
             ],
             [
              0.3333333333333333,
              "#9c179e"
             ],
             [
              0.4444444444444444,
              "#bd3786"
             ],
             [
              0.5555555555555556,
              "#d8576b"
             ],
             [
              0.6666666666666666,
              "#ed7953"
             ],
             [
              0.7777777777777778,
              "#fb9f3a"
             ],
             [
              0.8888888888888888,
              "#fdca26"
             ],
             [
              1,
              "#f0f921"
             ]
            ],
            "type": "heatmap"
           }
          ],
          "heatmapgl": [
           {
            "colorbar": {
             "outlinewidth": 0,
             "ticks": ""
            },
            "colorscale": [
             [
              0,
              "#0d0887"
             ],
             [
              0.1111111111111111,
              "#46039f"
             ],
             [
              0.2222222222222222,
              "#7201a8"
             ],
             [
              0.3333333333333333,
              "#9c179e"
             ],
             [
              0.4444444444444444,
              "#bd3786"
             ],
             [
              0.5555555555555556,
              "#d8576b"
             ],
             [
              0.6666666666666666,
              "#ed7953"
             ],
             [
              0.7777777777777778,
              "#fb9f3a"
             ],
             [
              0.8888888888888888,
              "#fdca26"
             ],
             [
              1,
              "#f0f921"
             ]
            ],
            "type": "heatmapgl"
           }
          ],
          "histogram": [
           {
            "marker": {
             "pattern": {
              "fillmode": "overlay",
              "size": 10,
              "solidity": 0.2
             }
            },
            "type": "histogram"
           }
          ],
          "histogram2d": [
           {
            "colorbar": {
             "outlinewidth": 0,
             "ticks": ""
            },
            "colorscale": [
             [
              0,
              "#0d0887"
             ],
             [
              0.1111111111111111,
              "#46039f"
             ],
             [
              0.2222222222222222,
              "#7201a8"
             ],
             [
              0.3333333333333333,
              "#9c179e"
             ],
             [
              0.4444444444444444,
              "#bd3786"
             ],
             [
              0.5555555555555556,
              "#d8576b"
             ],
             [
              0.6666666666666666,
              "#ed7953"
             ],
             [
              0.7777777777777778,
              "#fb9f3a"
             ],
             [
              0.8888888888888888,
              "#fdca26"
             ],
             [
              1,
              "#f0f921"
             ]
            ],
            "type": "histogram2d"
           }
          ],
          "histogram2dcontour": [
           {
            "colorbar": {
             "outlinewidth": 0,
             "ticks": ""
            },
            "colorscale": [
             [
              0,
              "#0d0887"
             ],
             [
              0.1111111111111111,
              "#46039f"
             ],
             [
              0.2222222222222222,
              "#7201a8"
             ],
             [
              0.3333333333333333,
              "#9c179e"
             ],
             [
              0.4444444444444444,
              "#bd3786"
             ],
             [
              0.5555555555555556,
              "#d8576b"
             ],
             [
              0.6666666666666666,
              "#ed7953"
             ],
             [
              0.7777777777777778,
              "#fb9f3a"
             ],
             [
              0.8888888888888888,
              "#fdca26"
             ],
             [
              1,
              "#f0f921"
             ]
            ],
            "type": "histogram2dcontour"
           }
          ],
          "mesh3d": [
           {
            "colorbar": {
             "outlinewidth": 0,
             "ticks": ""
            },
            "type": "mesh3d"
           }
          ],
          "parcoords": [
           {
            "line": {
             "colorbar": {
              "outlinewidth": 0,
              "ticks": ""
             }
            },
            "type": "parcoords"
           }
          ],
          "pie": [
           {
            "automargin": true,
            "type": "pie"
           }
          ],
          "scatter": [
           {
            "fillpattern": {
             "fillmode": "overlay",
             "size": 10,
             "solidity": 0.2
            },
            "type": "scatter"
           }
          ],
          "scatter3d": [
           {
            "line": {
             "colorbar": {
              "outlinewidth": 0,
              "ticks": ""
             }
            },
            "marker": {
             "colorbar": {
              "outlinewidth": 0,
              "ticks": ""
             }
            },
            "type": "scatter3d"
           }
          ],
          "scattercarpet": [
           {
            "marker": {
             "colorbar": {
              "outlinewidth": 0,
              "ticks": ""
             }
            },
            "type": "scattercarpet"
           }
          ],
          "scattergeo": [
           {
            "marker": {
             "colorbar": {
              "outlinewidth": 0,
              "ticks": ""
             }
            },
            "type": "scattergeo"
           }
          ],
          "scattergl": [
           {
            "marker": {
             "colorbar": {
              "outlinewidth": 0,
              "ticks": ""
             }
            },
            "type": "scattergl"
           }
          ],
          "scattermapbox": [
           {
            "marker": {
             "colorbar": {
              "outlinewidth": 0,
              "ticks": ""
             }
            },
            "type": "scattermapbox"
           }
          ],
          "scatterpolar": [
           {
            "marker": {
             "colorbar": {
              "outlinewidth": 0,
              "ticks": ""
             }
            },
            "type": "scatterpolar"
           }
          ],
          "scatterpolargl": [
           {
            "marker": {
             "colorbar": {
              "outlinewidth": 0,
              "ticks": ""
             }
            },
            "type": "scatterpolargl"
           }
          ],
          "scatterternary": [
           {
            "marker": {
             "colorbar": {
              "outlinewidth": 0,
              "ticks": ""
             }
            },
            "type": "scatterternary"
           }
          ],
          "surface": [
           {
            "colorbar": {
             "outlinewidth": 0,
             "ticks": ""
            },
            "colorscale": [
             [
              0,
              "#0d0887"
             ],
             [
              0.1111111111111111,
              "#46039f"
             ],
             [
              0.2222222222222222,
              "#7201a8"
             ],
             [
              0.3333333333333333,
              "#9c179e"
             ],
             [
              0.4444444444444444,
              "#bd3786"
             ],
             [
              0.5555555555555556,
              "#d8576b"
             ],
             [
              0.6666666666666666,
              "#ed7953"
             ],
             [
              0.7777777777777778,
              "#fb9f3a"
             ],
             [
              0.8888888888888888,
              "#fdca26"
             ],
             [
              1,
              "#f0f921"
             ]
            ],
            "type": "surface"
           }
          ],
          "table": [
           {
            "cells": {
             "fill": {
              "color": "#EBF0F8"
             },
             "line": {
              "color": "white"
             }
            },
            "header": {
             "fill": {
              "color": "#C8D4E3"
             },
             "line": {
              "color": "white"
             }
            },
            "type": "table"
           }
          ]
         },
         "layout": {
          "annotationdefaults": {
           "arrowcolor": "#2a3f5f",
           "arrowhead": 0,
           "arrowwidth": 1
          },
          "autotypenumbers": "strict",
          "coloraxis": {
           "colorbar": {
            "outlinewidth": 0,
            "ticks": ""
           }
          },
          "colorscale": {
           "diverging": [
            [
             0,
             "#8e0152"
            ],
            [
             0.1,
             "#c51b7d"
            ],
            [
             0.2,
             "#de77ae"
            ],
            [
             0.3,
             "#f1b6da"
            ],
            [
             0.4,
             "#fde0ef"
            ],
            [
             0.5,
             "#f7f7f7"
            ],
            [
             0.6,
             "#e6f5d0"
            ],
            [
             0.7,
             "#b8e186"
            ],
            [
             0.8,
             "#7fbc41"
            ],
            [
             0.9,
             "#4d9221"
            ],
            [
             1,
             "#276419"
            ]
           ],
           "sequential": [
            [
             0,
             "#0d0887"
            ],
            [
             0.1111111111111111,
             "#46039f"
            ],
            [
             0.2222222222222222,
             "#7201a8"
            ],
            [
             0.3333333333333333,
             "#9c179e"
            ],
            [
             0.4444444444444444,
             "#bd3786"
            ],
            [
             0.5555555555555556,
             "#d8576b"
            ],
            [
             0.6666666666666666,
             "#ed7953"
            ],
            [
             0.7777777777777778,
             "#fb9f3a"
            ],
            [
             0.8888888888888888,
             "#fdca26"
            ],
            [
             1,
             "#f0f921"
            ]
           ],
           "sequentialminus": [
            [
             0,
             "#0d0887"
            ],
            [
             0.1111111111111111,
             "#46039f"
            ],
            [
             0.2222222222222222,
             "#7201a8"
            ],
            [
             0.3333333333333333,
             "#9c179e"
            ],
            [
             0.4444444444444444,
             "#bd3786"
            ],
            [
             0.5555555555555556,
             "#d8576b"
            ],
            [
             0.6666666666666666,
             "#ed7953"
            ],
            [
             0.7777777777777778,
             "#fb9f3a"
            ],
            [
             0.8888888888888888,
             "#fdca26"
            ],
            [
             1,
             "#f0f921"
            ]
           ]
          },
          "colorway": [
           "#636efa",
           "#EF553B",
           "#00cc96",
           "#ab63fa",
           "#FFA15A",
           "#19d3f3",
           "#FF6692",
           "#B6E880",
           "#FF97FF",
           "#FECB52"
          ],
          "font": {
           "color": "#2a3f5f"
          },
          "geo": {
           "bgcolor": "white",
           "lakecolor": "white",
           "landcolor": "#E5ECF6",
           "showlakes": true,
           "showland": true,
           "subunitcolor": "white"
          },
          "hoverlabel": {
           "align": "left"
          },
          "hovermode": "closest",
          "mapbox": {
           "style": "light"
          },
          "paper_bgcolor": "white",
          "plot_bgcolor": "#E5ECF6",
          "polar": {
           "angularaxis": {
            "gridcolor": "white",
            "linecolor": "white",
            "ticks": ""
           },
           "bgcolor": "#E5ECF6",
           "radialaxis": {
            "gridcolor": "white",
            "linecolor": "white",
            "ticks": ""
           }
          },
          "scene": {
           "xaxis": {
            "backgroundcolor": "#E5ECF6",
            "gridcolor": "white",
            "gridwidth": 2,
            "linecolor": "white",
            "showbackground": true,
            "ticks": "",
            "zerolinecolor": "white"
           },
           "yaxis": {
            "backgroundcolor": "#E5ECF6",
            "gridcolor": "white",
            "gridwidth": 2,
            "linecolor": "white",
            "showbackground": true,
            "ticks": "",
            "zerolinecolor": "white"
           },
           "zaxis": {
            "backgroundcolor": "#E5ECF6",
            "gridcolor": "white",
            "gridwidth": 2,
            "linecolor": "white",
            "showbackground": true,
            "ticks": "",
            "zerolinecolor": "white"
           }
          },
          "shapedefaults": {
           "line": {
            "color": "#2a3f5f"
           }
          },
          "ternary": {
           "aaxis": {
            "gridcolor": "white",
            "linecolor": "white",
            "ticks": ""
           },
           "baxis": {
            "gridcolor": "white",
            "linecolor": "white",
            "ticks": ""
           },
           "bgcolor": "#E5ECF6",
           "caxis": {
            "gridcolor": "white",
            "linecolor": "white",
            "ticks": ""
           }
          },
          "title": {
           "x": 0.05
          },
          "xaxis": {
           "automargin": true,
           "gridcolor": "white",
           "linecolor": "white",
           "ticks": "",
           "title": {
            "standoff": 15
           },
           "zerolinecolor": "white",
           "zerolinewidth": 2
          },
          "yaxis": {
           "automargin": true,
           "gridcolor": "white",
           "linecolor": "white",
           "ticks": "",
           "title": {
            "standoff": 15
           },
           "zerolinecolor": "white",
           "zerolinewidth": 2
          }
         }
        },
        "title": {
         "text": "Distribution of Age"
        },
        "xaxis": {
         "anchor": "y",
         "domain": [
          0,
          1
         ],
         "title": {
          "text": "Age"
         }
        },
        "yaxis": {
         "anchor": "x",
         "domain": [
          0,
          1
         ],
         "title": {
          "text": "Count"
         }
        }
       }
      },
      "text/html": [
       "<div>                            <div id=\"bf94f405-134b-4991-99f3-6a1877ebf55e\" class=\"plotly-graph-div\" style=\"height:525px; width:100%;\"></div>            <script type=\"text/javascript\">                require([\"plotly\"], function(Plotly) {                    window.PLOTLYENV=window.PLOTLYENV || {};                                    if (document.getElementById(\"bf94f405-134b-4991-99f3-6a1877ebf55e\")) {                    Plotly.newPlot(                        \"bf94f405-134b-4991-99f3-6a1877ebf55e\",                        [{\"alignmentgroup\":\"True\",\"bingroup\":\"x\",\"hovertemplate\":\"age=%{x}<br>count=%{y}<extra></extra>\",\"legendgroup\":\"\",\"marker\":{\"color\":\"#636efa\",\"pattern\":{\"shape\":\"\"}},\"name\":\"\",\"offsetgroup\":\"\",\"orientation\":\"v\",\"showlegend\":false,\"x\":[41.8517198,40.87062335,43.15289747,58.27136945,57.31374945,56.82489312,46.60731485,50.19301623,46.58474463,43.32378156,50.12992275,53.18015845,44.3964937,48.49651504,55.24486604,53.28976788,44.74219952,48.12708462,51.85347374,58.74184223,51.90047138,48.08111958,45.53184183,47.02228427,39.94299532,52.57744084,28.0096755,55.63031699,46.12403587,40.24532734,33.48313022,40.38546326,51.31671367,51.4805088,46.31841716,50.50341115,49.85387098,22.00038672,50.51602163,48.04729589,42.44978638,46.26908486,37.58459582,38.7730024,61.22413159,55.27514264,42.22589031,51.16813904,41.44430677,40.08331711,41.1638484,55.78242299,46.23366001,36.67318264,52.46564908,57.12191756,33.81629802,43.03088068,50.16597776,42.24181684,42.05808927,42.09853578,54.55868922,53.15575545,53.05769018,43.29935025,55.27030631,42.69528911,57.34721558,52.07227701,45.18543793,56.2157522,40.91485207,47.78972925,56.04151533,46.96078061,53.3541878,56.51952929,39.1476732,45.22565147,33.02638894,44.30297784,39.71715527,39.90467755,36.72080894,40.17883971,44.48691527,43.42751716,58.42573253,32.09408141,49.95601436,58.61073311,42.37110355,49.53216133,53.22984863,46.69611835,46.24573524,43.38998458,48.92140102,43.14281871,52.65668022,35.62487152,30.49235339,37.37157248,48.47639595,43.77824898,41.7960136,49.59716524,30.34945876,41.85495363,46.07172662,55.15697275,43.62606334,58.46660793,42.10214563,56.85236475,43.03106903,34.68196128,42.91579507,35.04323865,34.49805732,47.74046488,52.86426773,47.14546675,54.19945546,50.75725473,59.46215292,48.98804889,51.03125632,39.84482154,53.38095524,45.01374936,45.40244083,37.40628431,42.60482241,47.69031054,48.7314504,47.96813163,44.50599147,43.05947066,61.6304836,46.02807589,51.22247207,43.89487464,57.45859813,59.77886094,38.60885156,61.10319817,49.61576865,37.49764004,45.49732494,49.83912893,31.74162964,33.77526933,45.05203632,50.21957282,51.3001589,52.51683609,34.16409192,55.98961549,57.28482392,47.65948559,40.41469076,50.41432737,46.54726629,38.7080482,36.195148,44.10061144,46.86775698,33.20331461,42.43201208,47.44707409,40.14234782,54.11381978,38.41372649,40.42154558,45.34128933,51.03137709,38.40326499,33.97602872,50.24618129,42.144445,32.92895606,56.07496279,56.68908614,37.36322599,50.75886005,62.667962,52.68904044,51.27542204,48.24884664,41.17366372,38.55101952,45.44389242,70.0,51.22046152,50.96113207,41.94840202,49.93151869,39.84583613,44.31436254,52.13426592,40.60178125,57.00689841,53.76273185,50.49435621,37.26933248,51.84166929,43.04031367,52.39396613,64.05419444,50.98384935,55.04901266,47.44390371,36.3286175,38.83483235,45.42714869,46.56694116,47.05691571,60.17319938,59.39902491,36.40803286,47.4509492,37.8936486,41.56343675,32.78689927,39.01360284,39.43529081,54.73045672,45.09515473,50.69496793,49.46168599,45.85016782,53.14119207,38.93027639,42.62791487,69.56930586,50.71732637,51.77261249,45.13851753,47.68088058,48.04509497,47.79216388,57.27478648,46.27084405,44.35361663,65.22488117,57.24274098,46.60008704,36.11724689,56.77294754,32.87492543,43.25105758,46.20524085,45.26036406,42.80386517,37.94194499,39.69651573,42.69544169,41.87168381,51.29771627,37.72282353,41.22493528,54.49187591,45.21937869,40.76074066,40.36205839,31.8336316,54.12700263,55.34658335,35.37515645,46.30647788,45.19479436,49.89768983,54.22262982,28.74024358,55.54961038,54.16455309,33.19434796,47.79777532,48.93654638,54.61385876,41.86361457,40.8753749,53.05501309,52.77569606,43.50671123,41.80848339,40.60183491,48.25655639,63.41453115,58.9815941,45.27895873,47.45421163,49.4022674,39.98349575,41.37223373,46.75803824,27.44024624,46.34274109,50.50648739,43.09147264,31.97176907,62.86886081,35.39291819,49.62207396,50.69628655,54.40906192,37.07521505,44.2639884,57.10507937,47.48853379,52.00403731,52.47484301,47.78541236,55.01756589,46.52064185,44.74440761,39.6048097,47.42452905,45.01562039,49.10443956,60.18011891,33.81125185,36.3750977,51.3613807,42.2652013,48.09742994,35.37227549,44.23255578,48.07331843,47.47086936,31.24483833,45.34659851,48.70123214,61.31742411,50.67226399,35.48520024,52.51971144,42.12055603,39.12031813,38.10594756,40.75219483,43.70539661,43.07820399,38.63314682,33.24696771,46.91189053,45.30594136,50.72631901,42.1200795,55.25607797,62.46308509,51.56054437,51.10053283,62.62575416,45.56856449,46.55637266,57.70495365,36.71815503,51.42349784,36.12691774,31.61348869,31.89622257,43.05089188,51.08481106,43.12954854,57.80193013,48.83752201,42.99229711,48.30867264,39.71130983,34.72822141,43.00071798,57.13457591,47.21795133,31.75957954,44.34525343,50.27457289,43.57649526,56.72544675,35.07555289,52.90793462,41.02339176,44.00603343,62.62213572,49.7733395,42.06422454,40.961674,40.2012564,40.39729481,55.57696873,47.55430896,41.27000968,61.03424503,35.33787621,54.77232025,36.57271347,47.71401166,31.98877902,61.70429878,48.59322101,42.88453632,36.2452565,61.22472501,45.75422949,56.67256191,36.42694852,48.94126712,62.75948863,49.28968587,44.09922748,43.17653402,48.14257112,36.96953352,48.98030739,40.20456044,41.67121696,29.59907959,43.13272875,55.30394679,40.20042717,37.71663125,42.65479064,37.36362599,41.35450195,41.93116782,38.03912192,42.64066561,43.57614914,40.99660693,45.84421027,45.76882266,39.814817,44.95472657,57.97429301,61.70872559,51.52532667,44.27741911,44.02366242,39.66565685,32.59143047,44.13391466,42.22095552,20.0,52.61004535,55.9330891,44.17501053,52.49932303,42.5273855,48.51272138,55.52192516,47.46701603,25.17989327,44.70222518,46.47392714,32.79649861,42.78726724,47.5469052,48.14631737,40.47710314,38.54583374,39.14103529,53.9049485,53.37171727,51.44198125,54.52160505,35.05685897,43.30468502,36.51447117,59.61961534,43.54252824,39.2812453,41.6796235,32.30887578,52.28979935,56.28750886,40.75405169,50.76936195,57.61545628,50.80193441,29.03452095,52.96776171,43.3868909,62.07084214,60.41643332,36.65996988,43.3654703,41.7050595,54.87954467,45.75269752,50.19720522,55.08772031,42.90018665,51.76741827,41.46251483,37.64199977,53.94349722,59.16050864,46.73115245],\"xaxis\":\"x\",\"yaxis\":\"y\",\"type\":\"histogram\"}],                        {\"template\":{\"data\":{\"histogram2dcontour\":[{\"type\":\"histogram2dcontour\",\"colorbar\":{\"outlinewidth\":0,\"ticks\":\"\"},\"colorscale\":[[0.0,\"#0d0887\"],[0.1111111111111111,\"#46039f\"],[0.2222222222222222,\"#7201a8\"],[0.3333333333333333,\"#9c179e\"],[0.4444444444444444,\"#bd3786\"],[0.5555555555555556,\"#d8576b\"],[0.6666666666666666,\"#ed7953\"],[0.7777777777777778,\"#fb9f3a\"],[0.8888888888888888,\"#fdca26\"],[1.0,\"#f0f921\"]]}],\"choropleth\":[{\"type\":\"choropleth\",\"colorbar\":{\"outlinewidth\":0,\"ticks\":\"\"}}],\"histogram2d\":[{\"type\":\"histogram2d\",\"colorbar\":{\"outlinewidth\":0,\"ticks\":\"\"},\"colorscale\":[[0.0,\"#0d0887\"],[0.1111111111111111,\"#46039f\"],[0.2222222222222222,\"#7201a8\"],[0.3333333333333333,\"#9c179e\"],[0.4444444444444444,\"#bd3786\"],[0.5555555555555556,\"#d8576b\"],[0.6666666666666666,\"#ed7953\"],[0.7777777777777778,\"#fb9f3a\"],[0.8888888888888888,\"#fdca26\"],[1.0,\"#f0f921\"]]}],\"heatmap\":[{\"type\":\"heatmap\",\"colorbar\":{\"outlinewidth\":0,\"ticks\":\"\"},\"colorscale\":[[0.0,\"#0d0887\"],[0.1111111111111111,\"#46039f\"],[0.2222222222222222,\"#7201a8\"],[0.3333333333333333,\"#9c179e\"],[0.4444444444444444,\"#bd3786\"],[0.5555555555555556,\"#d8576b\"],[0.6666666666666666,\"#ed7953\"],[0.7777777777777778,\"#fb9f3a\"],[0.8888888888888888,\"#fdca26\"],[1.0,\"#f0f921\"]]}],\"heatmapgl\":[{\"type\":\"heatmapgl\",\"colorbar\":{\"outlinewidth\":0,\"ticks\":\"\"},\"colorscale\":[[0.0,\"#0d0887\"],[0.1111111111111111,\"#46039f\"],[0.2222222222222222,\"#7201a8\"],[0.3333333333333333,\"#9c179e\"],[0.4444444444444444,\"#bd3786\"],[0.5555555555555556,\"#d8576b\"],[0.6666666666666666,\"#ed7953\"],[0.7777777777777778,\"#fb9f3a\"],[0.8888888888888888,\"#fdca26\"],[1.0,\"#f0f921\"]]}],\"contourcarpet\":[{\"type\":\"contourcarpet\",\"colorbar\":{\"outlinewidth\":0,\"ticks\":\"\"}}],\"contour\":[{\"type\":\"contour\",\"colorbar\":{\"outlinewidth\":0,\"ticks\":\"\"},\"colorscale\":[[0.0,\"#0d0887\"],[0.1111111111111111,\"#46039f\"],[0.2222222222222222,\"#7201a8\"],[0.3333333333333333,\"#9c179e\"],[0.4444444444444444,\"#bd3786\"],[0.5555555555555556,\"#d8576b\"],[0.6666666666666666,\"#ed7953\"],[0.7777777777777778,\"#fb9f3a\"],[0.8888888888888888,\"#fdca26\"],[1.0,\"#f0f921\"]]}],\"surface\":[{\"type\":\"surface\",\"colorbar\":{\"outlinewidth\":0,\"ticks\":\"\"},\"colorscale\":[[0.0,\"#0d0887\"],[0.1111111111111111,\"#46039f\"],[0.2222222222222222,\"#7201a8\"],[0.3333333333333333,\"#9c179e\"],[0.4444444444444444,\"#bd3786\"],[0.5555555555555556,\"#d8576b\"],[0.6666666666666666,\"#ed7953\"],[0.7777777777777778,\"#fb9f3a\"],[0.8888888888888888,\"#fdca26\"],[1.0,\"#f0f921\"]]}],\"mesh3d\":[{\"type\":\"mesh3d\",\"colorbar\":{\"outlinewidth\":0,\"ticks\":\"\"}}],\"scatter\":[{\"fillpattern\":{\"fillmode\":\"overlay\",\"size\":10,\"solidity\":0.2},\"type\":\"scatter\"}],\"parcoords\":[{\"type\":\"parcoords\",\"line\":{\"colorbar\":{\"outlinewidth\":0,\"ticks\":\"\"}}}],\"scatterpolargl\":[{\"type\":\"scatterpolargl\",\"marker\":{\"colorbar\":{\"outlinewidth\":0,\"ticks\":\"\"}}}],\"bar\":[{\"error_x\":{\"color\":\"#2a3f5f\"},\"error_y\":{\"color\":\"#2a3f5f\"},\"marker\":{\"line\":{\"color\":\"#E5ECF6\",\"width\":0.5},\"pattern\":{\"fillmode\":\"overlay\",\"size\":10,\"solidity\":0.2}},\"type\":\"bar\"}],\"scattergeo\":[{\"type\":\"scattergeo\",\"marker\":{\"colorbar\":{\"outlinewidth\":0,\"ticks\":\"\"}}}],\"scatterpolar\":[{\"type\":\"scatterpolar\",\"marker\":{\"colorbar\":{\"outlinewidth\":0,\"ticks\":\"\"}}}],\"histogram\":[{\"marker\":{\"pattern\":{\"fillmode\":\"overlay\",\"size\":10,\"solidity\":0.2}},\"type\":\"histogram\"}],\"scattergl\":[{\"type\":\"scattergl\",\"marker\":{\"colorbar\":{\"outlinewidth\":0,\"ticks\":\"\"}}}],\"scatter3d\":[{\"type\":\"scatter3d\",\"line\":{\"colorbar\":{\"outlinewidth\":0,\"ticks\":\"\"}},\"marker\":{\"colorbar\":{\"outlinewidth\":0,\"ticks\":\"\"}}}],\"scattermapbox\":[{\"type\":\"scattermapbox\",\"marker\":{\"colorbar\":{\"outlinewidth\":0,\"ticks\":\"\"}}}],\"scatterternary\":[{\"type\":\"scatterternary\",\"marker\":{\"colorbar\":{\"outlinewidth\":0,\"ticks\":\"\"}}}],\"scattercarpet\":[{\"type\":\"scattercarpet\",\"marker\":{\"colorbar\":{\"outlinewidth\":0,\"ticks\":\"\"}}}],\"carpet\":[{\"aaxis\":{\"endlinecolor\":\"#2a3f5f\",\"gridcolor\":\"white\",\"linecolor\":\"white\",\"minorgridcolor\":\"white\",\"startlinecolor\":\"#2a3f5f\"},\"baxis\":{\"endlinecolor\":\"#2a3f5f\",\"gridcolor\":\"white\",\"linecolor\":\"white\",\"minorgridcolor\":\"white\",\"startlinecolor\":\"#2a3f5f\"},\"type\":\"carpet\"}],\"table\":[{\"cells\":{\"fill\":{\"color\":\"#EBF0F8\"},\"line\":{\"color\":\"white\"}},\"header\":{\"fill\":{\"color\":\"#C8D4E3\"},\"line\":{\"color\":\"white\"}},\"type\":\"table\"}],\"barpolar\":[{\"marker\":{\"line\":{\"color\":\"#E5ECF6\",\"width\":0.5},\"pattern\":{\"fillmode\":\"overlay\",\"size\":10,\"solidity\":0.2}},\"type\":\"barpolar\"}],\"pie\":[{\"automargin\":true,\"type\":\"pie\"}]},\"layout\":{\"autotypenumbers\":\"strict\",\"colorway\":[\"#636efa\",\"#EF553B\",\"#00cc96\",\"#ab63fa\",\"#FFA15A\",\"#19d3f3\",\"#FF6692\",\"#B6E880\",\"#FF97FF\",\"#FECB52\"],\"font\":{\"color\":\"#2a3f5f\"},\"hovermode\":\"closest\",\"hoverlabel\":{\"align\":\"left\"},\"paper_bgcolor\":\"white\",\"plot_bgcolor\":\"#E5ECF6\",\"polar\":{\"bgcolor\":\"#E5ECF6\",\"angularaxis\":{\"gridcolor\":\"white\",\"linecolor\":\"white\",\"ticks\":\"\"},\"radialaxis\":{\"gridcolor\":\"white\",\"linecolor\":\"white\",\"ticks\":\"\"}},\"ternary\":{\"bgcolor\":\"#E5ECF6\",\"aaxis\":{\"gridcolor\":\"white\",\"linecolor\":\"white\",\"ticks\":\"\"},\"baxis\":{\"gridcolor\":\"white\",\"linecolor\":\"white\",\"ticks\":\"\"},\"caxis\":{\"gridcolor\":\"white\",\"linecolor\":\"white\",\"ticks\":\"\"}},\"coloraxis\":{\"colorbar\":{\"outlinewidth\":0,\"ticks\":\"\"}},\"colorscale\":{\"sequential\":[[0.0,\"#0d0887\"],[0.1111111111111111,\"#46039f\"],[0.2222222222222222,\"#7201a8\"],[0.3333333333333333,\"#9c179e\"],[0.4444444444444444,\"#bd3786\"],[0.5555555555555556,\"#d8576b\"],[0.6666666666666666,\"#ed7953\"],[0.7777777777777778,\"#fb9f3a\"],[0.8888888888888888,\"#fdca26\"],[1.0,\"#f0f921\"]],\"sequentialminus\":[[0.0,\"#0d0887\"],[0.1111111111111111,\"#46039f\"],[0.2222222222222222,\"#7201a8\"],[0.3333333333333333,\"#9c179e\"],[0.4444444444444444,\"#bd3786\"],[0.5555555555555556,\"#d8576b\"],[0.6666666666666666,\"#ed7953\"],[0.7777777777777778,\"#fb9f3a\"],[0.8888888888888888,\"#fdca26\"],[1.0,\"#f0f921\"]],\"diverging\":[[0,\"#8e0152\"],[0.1,\"#c51b7d\"],[0.2,\"#de77ae\"],[0.3,\"#f1b6da\"],[0.4,\"#fde0ef\"],[0.5,\"#f7f7f7\"],[0.6,\"#e6f5d0\"],[0.7,\"#b8e186\"],[0.8,\"#7fbc41\"],[0.9,\"#4d9221\"],[1,\"#276419\"]]},\"xaxis\":{\"gridcolor\":\"white\",\"linecolor\":\"white\",\"ticks\":\"\",\"title\":{\"standoff\":15},\"zerolinecolor\":\"white\",\"automargin\":true,\"zerolinewidth\":2},\"yaxis\":{\"gridcolor\":\"white\",\"linecolor\":\"white\",\"ticks\":\"\",\"title\":{\"standoff\":15},\"zerolinecolor\":\"white\",\"automargin\":true,\"zerolinewidth\":2},\"scene\":{\"xaxis\":{\"backgroundcolor\":\"#E5ECF6\",\"gridcolor\":\"white\",\"linecolor\":\"white\",\"showbackground\":true,\"ticks\":\"\",\"zerolinecolor\":\"white\",\"gridwidth\":2},\"yaxis\":{\"backgroundcolor\":\"#E5ECF6\",\"gridcolor\":\"white\",\"linecolor\":\"white\",\"showbackground\":true,\"ticks\":\"\",\"zerolinecolor\":\"white\",\"gridwidth\":2},\"zaxis\":{\"backgroundcolor\":\"#E5ECF6\",\"gridcolor\":\"white\",\"linecolor\":\"white\",\"showbackground\":true,\"ticks\":\"\",\"zerolinecolor\":\"white\",\"gridwidth\":2}},\"shapedefaults\":{\"line\":{\"color\":\"#2a3f5f\"}},\"annotationdefaults\":{\"arrowcolor\":\"#2a3f5f\",\"arrowhead\":0,\"arrowwidth\":1},\"geo\":{\"bgcolor\":\"white\",\"landcolor\":\"#E5ECF6\",\"subunitcolor\":\"white\",\"showland\":true,\"showlakes\":true,\"lakecolor\":\"white\"},\"title\":{\"x\":0.05},\"mapbox\":{\"style\":\"light\"}}},\"xaxis\":{\"anchor\":\"y\",\"domain\":[0.0,1.0],\"title\":{\"text\":\"Age\"}},\"yaxis\":{\"anchor\":\"x\",\"domain\":[0.0,1.0],\"title\":{\"text\":\"Count\"}},\"legend\":{\"tracegroupgap\":0},\"title\":{\"text\":\"Distribution of Age\"},\"barmode\":\"relative\",\"bargap\":0.05,\"showlegend\":false},                        {\"responsive\": true}                    ).then(function(){\n",
       "                            \n",
       "var gd = document.getElementById('bf94f405-134b-4991-99f3-6a1877ebf55e');\n",
       "var x = new MutationObserver(function (mutations, observer) {{\n",
       "        var display = window.getComputedStyle(gd).display;\n",
       "        if (!display || display === 'none') {{\n",
       "            console.log([gd, 'removed!']);\n",
       "            Plotly.purge(gd);\n",
       "            observer.disconnect();\n",
       "        }}\n",
       "}});\n",
       "\n",
       "// Listen for the removal of the full notebook cells\n",
       "var notebookContainer = gd.closest('#notebook-container');\n",
       "if (notebookContainer) {{\n",
       "    x.observe(notebookContainer, {childList: true});\n",
       "}}\n",
       "\n",
       "// Listen for the clearing of the current output cell\n",
       "var outputEl = gd.closest('.output');\n",
       "if (outputEl) {{\n",
       "    x.observe(outputEl, {childList: true});\n",
       "}}\n",
       "\n",
       "                        })                };                });            </script>        </div>"
      ]
     },
     "metadata": {},
     "output_type": "display_data"
    }
   ],
   "source": [
    "# Age\n",
    "fig = px.histogram(car_purchasing_df, x = 'age', title = \"Distribution of Age\")\n",
    "\n",
    "fig.update_layout(\n",
    "    xaxis_title = ('Age'),\n",
    "    yaxis_title= ('Count'),\n",
    "    bargap = 0.05,\n",
    "    showlegend = False,\n",
    ")\n",
    "fig.show()"
   ]
  },
  {
   "cell_type": "code",
   "execution_count": 139,
   "id": "cea4fd96",
   "metadata": {},
   "outputs": [
    {
     "data": {
      "application/vnd.plotly.v1+json": {
       "config": {
        "plotlyServerURL": "https://plot.ly"
       },
       "data": [
        {
         "alignmentgroup": "True",
         "bingroup": "x",
         "hovertemplate": "annual Salary=%{x}<br>count=%{y}<extra></extra>",
         "legendgroup": "",
         "marker": {
          "color": "#636efa",
          "pattern": {
           "shape": ""
          }
         },
         "name": "",
         "offsetgroup": "",
         "orientation": "v",
         "showlegend": false,
         "type": "histogram",
         "x": [
          62812.09301,
          66646.89292,
          53798.55112,
          79370.03798,
          59729.1513,
          68499.85162,
          39814.522,
          51752.23445,
          58139.2591,
          53457.10132,
          73348.70745,
          55421.65733,
          37336.3383,
          68304.47298,
          72776.00382,
          64662.30061,
          63259.87837,
          52682.06401,
          54503.14423,
          55368.23716,
          63435.86304,
          64347.34531,
          65176.69055,
          52027.63837,
          69612.0123,
          53065.57175,
          82842.53385,
          61388.62709,
          100000,
          62891.86556,
          39627.1248,
          68859.56489,
          82358.22683,
          67904.39895,
          65311.68225,
          59593.2624,
          47460.54809,
          43131.78411,
          52263.69806,
          80959.5331,
          66417.66597,
          58457.41492,
          50571.45969,
          50943.16256,
          79792.13096,
          70787.27764,
          56098.50773,
          57478.37922,
          60181.40633,
          74445.08168,
          38406.7789,
          64616.6881,
          68107.93144,
          72471.81532,
          35069.41886,
          52422.94691,
          84467.78988,
          51419.50777,
          46609.51626,
          55207.45679,
          46689.4159,
          71847.2544,
          69236.68608,
          54006.77851,
          47228.35999,
          70187.50328,
          62262.94845,
          59195.82899,
          48716.67271,
          66478.00967,
          50280.0045,
          57393.82872,
          63429.93141,
          59139.2108,
          67015.19372,
          69157.4521,
          50867.94007,
          53450.90036,
          70463.99084,
          52697.15192,
          71055.41924,
          55406.46215,
          48567.07462,
          69506.62127,
          69453.71659,
          36929.35124,
          63087.95261,
          50889.34054,
          58065.25694,
          20000,
          60536.20406,
          50667.69759,
          44376.62221,
          75958.28349,
          70896.72853,
          56009.73073,
          90556.62686,
          71716.45662,
          68502.10943,
          46261.42666,
          61858.19077,
          49483.83262,
          68289.18229,
          47399.22827,
          63975.0609,
          75460.52362,
          51075.46118,
          42433.54619,
          61922.8971,
          69946.93924,
          73476.42249,
          75571.20188,
          82573.01132,
          50649.64492,
          53427.46192,
          75247.18061,
          69175.19403,
          84171.16719,
          45721.66835,
          54355.7595,
          77206.48386,
          57005.18595,
          65809.10782,
          65468.1442,
          60991.82443,
          61809.07451,
          66905.47644,
          65131.25015,
          83626.30783,
          64328.27892,
          69255.98753,
          60575.12604,
          63729.12568,
          64315.73671,
          51419.01644,
          53870.48483,
          56895.23153,
          52534.20778,
          52632.97124,
          42375.21424,
          65617.29175,
          49398.74439,
          63869.64928,
          60871.18248,
          68090.5087,
          54122.87827,
          59316.93704,
          38779.18396,
          88292.73205,
          68688.40199,
          51906.85022,
          52373.79446,
          73768.12453,
          55576.84068,
          59689.81438,
          55381.53225,
          34154.77654,
          54382.7481,
          65919.59731,
          39488.45582,
          72637.84482,
          67247.07698,
          71271.84407,
          71693.44742,
          57860.53103,
          69142.08412,
          52477.66494,
          47592.04749,
          48123.36983,
          76916.41515,
          65714.46469,
          40346.06491,
          71148.20248,
          81757.66856,
          64867.14911,
          70051.94033,
          62043.16623,
          85186.48921,
          47127.41632,
          61177.08698,
          57770.36488,
          60432.40367,
          58999.88858,
          62645.95516,
          68782.15718,
          67545.96382,
          42415.48867,
          44617.98314,
          72226.5603,
          48958.90535,
          86067.83527,
          65554.4018,
          69248.4953,
          59331.23555,
          52323.2448,
          63552.85175,
          75116.10613,
          38284.02013,
          55293.50777,
          63210.76235,
          54918.38749,
          57262.79581,
          72299.9501,
          50241.48985,
          65834.56889,
          60382.17885,
          68691.17086,
          65446.65687,
          42978.34284,
          58143.06285,
          61666.2852,
          64854.33966,
          45757.15568,
          73096.50927,
          67249.05932,
          77165.81297,
          72316.18286,
          68431.27055,
          62311.11641,
          53229.14547,
          77662.1109,
          69494.69783,
          61063.35631,
          79368.91741,
          61693.44352,
          47211.66812,
          69897.75291,
          63675.93263,
          72302.03223,
          63687.4988,
          63678.15468,
          77435.46545,
          62721.40514,
          70842.83518,
          55285.98625,
          72002.0552,
          41434.51258,
          60404.38394,
          65239.06468,
          62939.12851,
          60608.40313,
          56118.39601,
          86706.33333,
          41236.36497,
          77146.27598,
          56437.30404,
          70703.85013,
          69810.46265,
          54279.39597,
          70334.42787,
          59168.00751,
          61889.61618,
          66013.95174,
          55434.04046,
          68499.69447,
          54749.88645,
          74590.25495,
          67772.66646,
          62563.57825,
          70361.01504,
          74810.89471,
          49346.405,
          73426.08521,
          47684.46306,
          72939.83195,
          72277.82609,
          53921.33351,
          65312.96755,
          55619.34152,
          70914.59993,
          33422.99683,
          53382.42693,
          74173.39239,
          53587.12801,
          58011.6339,
          69171.95281,
          66779.91374,
          79173.0767,
          63065.12164,
          65530.36401,
          63732.3931,
          62689.53964,
          51539.93045,
          59060.08664,
          62713.78149,
          44747.66132,
          65529.70333,
          62426.52379,
          73498.30715,
          86565.15641,
          46549.16329,
          70111.5398,
          66747.66857,
          72025.6768,
          70737.29383,
          57455.7609,
          60657.59355,
          50694.42707,
          55369.72784,
          82425.64679,
          82094.10712,
          74090.51299,
          73935.74201,
          75719.22986,
          47054.14246,
          42003.01617,
          74418.55717,
          52786.1971,
          78804.99824,
          66932.47176,
          56066.07685,
          48591.57177,
          38213.88844,
          56444.76848,
          67080.6142,
          83333.81054,
          73502.12458,
          88816.02695,
          70381.37499,
          67647.74764,
          79781.90126,
          64665.39122,
          58837.97088,
          49607.23466,
          67032.16445,
          65245.57379,
          56174.3433,
          47227.01542,
          40300.49467,
          45504.74866,
          50017.38154,
          66226.72902,
          41361.95045,
          56687.41273,
          68114.60169,
          51086.88482,
          71921.45038,
          56807.01728,
          43019.8475,
          63875.20999,
          41587.39238,
          49661.96712,
          92471.17612,
          70136.82862,
          52664.71719,
          55618.06942,
          54912.44043,
          56692.78044,
          63561.04525,
          62788.93529,
          38453.86033,
          59486.27073,
          68149.63056,
          49393.46784,
          72262.20245,
          64494.39535,
          54362.70307,
          55657.65681,
          73512.41269,
          70621.52393,
          70275.68706,
          74420.10254,
          54395.05356,
          60384.34541,
          66813.664,
          84120.95497,
          54236.62092,
          64426.59613,
          71150.19894,
          60325.20676,
          91083.73918,
          60380.22868,
          72948.11812,
          74834.57117,
          67752.38329,
          59205.89035,
          64874.03368,
          63305.84963,
          74176.2079,
          47230.92278,
          65980.95617,
          51428.66337,
          75381.07571,
          54742.3946,
          76245.2434,
          60409.75787,
          57600.59673,
          71371.92544,
          79444.01301,
          47569.44212,
          71193.72803,
          46412.82136,
          57368.05622,
          65826.12291,
          61824.8798,
          61723.00613,
          72310.39623,
          67548.77415,
          62175.68945,
          60584.85458,
          66655.4142,
          63718.8812,
          60862.97749,
          67508.12293,
          61639.76386,
          63172.95729,
          58653.6591,
          40558.75456,
          76870.00765,
          71948.80529,
          67629.84819,
          67121.32166,
          57376.4803,
          56944.87077,
          60174.05765,
          81997.33071,
          36960.76994,
          64412.43101,
          70076.22764,
          72016.92459,
          63186.12783,
          76086.84122,
          74445.72702,
          85475.64202,
          51111.76605,
          79064.9559,
          55514.9934,
          75901.81829,
          56687.93949,
          59801.06311,
          57303.83325,
          43412.86301,
          58948.93261,
          56086.45033,
          80015.83115,
          41409.2939,
          40387.9207,
          48746.71666,
          70230.15498,
          64961.39305,
          57777.15558,
          54447.15275,
          59712.31101,
          65605.41798,
          70467.29492,
          76318.87883,
          77657.56243,
          60487.90116,
          67729.9725,
          49463.0635,
          65850.47688,
          66505.38124,
          58260.57232,
          45092.74073,
          63845.77186,
          55293.575,
          87598.01501,
          71753.30877,
          45368.15561,
          45362.66982,
          40727.39196,
          58632.58875,
          66680.2741,
          75892.3053,
          59297.41631,
          92455.72807,
          32697.98161,
          55418.75606,
          68921.40213,
          43739.97829,
          81565.95967,
          65364.06334,
          65019.15701,
          58243.17992,
          73558.87334,
          66088.02369,
          54441.72437,
          60101.79725,
          50153.43545,
          61430.93415,
          65846.5096,
          55433.61187,
          62979.60196,
          76523.33258,
          63956.1618,
          39460.00348,
          66923.43536,
          50051.14039,
          61575.9502,
          64430.07398,
          63722.00164,
          78518.21527,
          72424.80112,
          77665.17195,
          77345.61633,
          71942.40291,
          56039.49793,
          68888.77805,
          49811.99062,
          61370.67766
         ],
         "xaxis": "x",
         "yaxis": "y"
        }
       ],
       "layout": {
        "bargap": 0.05,
        "barmode": "relative",
        "legend": {
         "tracegroupgap": 0
        },
        "showlegend": false,
        "template": {
         "data": {
          "bar": [
           {
            "error_x": {
             "color": "#2a3f5f"
            },
            "error_y": {
             "color": "#2a3f5f"
            },
            "marker": {
             "line": {
              "color": "#E5ECF6",
              "width": 0.5
             },
             "pattern": {
              "fillmode": "overlay",
              "size": 10,
              "solidity": 0.2
             }
            },
            "type": "bar"
           }
          ],
          "barpolar": [
           {
            "marker": {
             "line": {
              "color": "#E5ECF6",
              "width": 0.5
             },
             "pattern": {
              "fillmode": "overlay",
              "size": 10,
              "solidity": 0.2
             }
            },
            "type": "barpolar"
           }
          ],
          "carpet": [
           {
            "aaxis": {
             "endlinecolor": "#2a3f5f",
             "gridcolor": "white",
             "linecolor": "white",
             "minorgridcolor": "white",
             "startlinecolor": "#2a3f5f"
            },
            "baxis": {
             "endlinecolor": "#2a3f5f",
             "gridcolor": "white",
             "linecolor": "white",
             "minorgridcolor": "white",
             "startlinecolor": "#2a3f5f"
            },
            "type": "carpet"
           }
          ],
          "choropleth": [
           {
            "colorbar": {
             "outlinewidth": 0,
             "ticks": ""
            },
            "type": "choropleth"
           }
          ],
          "contour": [
           {
            "colorbar": {
             "outlinewidth": 0,
             "ticks": ""
            },
            "colorscale": [
             [
              0,
              "#0d0887"
             ],
             [
              0.1111111111111111,
              "#46039f"
             ],
             [
              0.2222222222222222,
              "#7201a8"
             ],
             [
              0.3333333333333333,
              "#9c179e"
             ],
             [
              0.4444444444444444,
              "#bd3786"
             ],
             [
              0.5555555555555556,
              "#d8576b"
             ],
             [
              0.6666666666666666,
              "#ed7953"
             ],
             [
              0.7777777777777778,
              "#fb9f3a"
             ],
             [
              0.8888888888888888,
              "#fdca26"
             ],
             [
              1,
              "#f0f921"
             ]
            ],
            "type": "contour"
           }
          ],
          "contourcarpet": [
           {
            "colorbar": {
             "outlinewidth": 0,
             "ticks": ""
            },
            "type": "contourcarpet"
           }
          ],
          "heatmap": [
           {
            "colorbar": {
             "outlinewidth": 0,
             "ticks": ""
            },
            "colorscale": [
             [
              0,
              "#0d0887"
             ],
             [
              0.1111111111111111,
              "#46039f"
             ],
             [
              0.2222222222222222,
              "#7201a8"
             ],
             [
              0.3333333333333333,
              "#9c179e"
             ],
             [
              0.4444444444444444,
              "#bd3786"
             ],
             [
              0.5555555555555556,
              "#d8576b"
             ],
             [
              0.6666666666666666,
              "#ed7953"
             ],
             [
              0.7777777777777778,
              "#fb9f3a"
             ],
             [
              0.8888888888888888,
              "#fdca26"
             ],
             [
              1,
              "#f0f921"
             ]
            ],
            "type": "heatmap"
           }
          ],
          "heatmapgl": [
           {
            "colorbar": {
             "outlinewidth": 0,
             "ticks": ""
            },
            "colorscale": [
             [
              0,
              "#0d0887"
             ],
             [
              0.1111111111111111,
              "#46039f"
             ],
             [
              0.2222222222222222,
              "#7201a8"
             ],
             [
              0.3333333333333333,
              "#9c179e"
             ],
             [
              0.4444444444444444,
              "#bd3786"
             ],
             [
              0.5555555555555556,
              "#d8576b"
             ],
             [
              0.6666666666666666,
              "#ed7953"
             ],
             [
              0.7777777777777778,
              "#fb9f3a"
             ],
             [
              0.8888888888888888,
              "#fdca26"
             ],
             [
              1,
              "#f0f921"
             ]
            ],
            "type": "heatmapgl"
           }
          ],
          "histogram": [
           {
            "marker": {
             "pattern": {
              "fillmode": "overlay",
              "size": 10,
              "solidity": 0.2
             }
            },
            "type": "histogram"
           }
          ],
          "histogram2d": [
           {
            "colorbar": {
             "outlinewidth": 0,
             "ticks": ""
            },
            "colorscale": [
             [
              0,
              "#0d0887"
             ],
             [
              0.1111111111111111,
              "#46039f"
             ],
             [
              0.2222222222222222,
              "#7201a8"
             ],
             [
              0.3333333333333333,
              "#9c179e"
             ],
             [
              0.4444444444444444,
              "#bd3786"
             ],
             [
              0.5555555555555556,
              "#d8576b"
             ],
             [
              0.6666666666666666,
              "#ed7953"
             ],
             [
              0.7777777777777778,
              "#fb9f3a"
             ],
             [
              0.8888888888888888,
              "#fdca26"
             ],
             [
              1,
              "#f0f921"
             ]
            ],
            "type": "histogram2d"
           }
          ],
          "histogram2dcontour": [
           {
            "colorbar": {
             "outlinewidth": 0,
             "ticks": ""
            },
            "colorscale": [
             [
              0,
              "#0d0887"
             ],
             [
              0.1111111111111111,
              "#46039f"
             ],
             [
              0.2222222222222222,
              "#7201a8"
             ],
             [
              0.3333333333333333,
              "#9c179e"
             ],
             [
              0.4444444444444444,
              "#bd3786"
             ],
             [
              0.5555555555555556,
              "#d8576b"
             ],
             [
              0.6666666666666666,
              "#ed7953"
             ],
             [
              0.7777777777777778,
              "#fb9f3a"
             ],
             [
              0.8888888888888888,
              "#fdca26"
             ],
             [
              1,
              "#f0f921"
             ]
            ],
            "type": "histogram2dcontour"
           }
          ],
          "mesh3d": [
           {
            "colorbar": {
             "outlinewidth": 0,
             "ticks": ""
            },
            "type": "mesh3d"
           }
          ],
          "parcoords": [
           {
            "line": {
             "colorbar": {
              "outlinewidth": 0,
              "ticks": ""
             }
            },
            "type": "parcoords"
           }
          ],
          "pie": [
           {
            "automargin": true,
            "type": "pie"
           }
          ],
          "scatter": [
           {
            "fillpattern": {
             "fillmode": "overlay",
             "size": 10,
             "solidity": 0.2
            },
            "type": "scatter"
           }
          ],
          "scatter3d": [
           {
            "line": {
             "colorbar": {
              "outlinewidth": 0,
              "ticks": ""
             }
            },
            "marker": {
             "colorbar": {
              "outlinewidth": 0,
              "ticks": ""
             }
            },
            "type": "scatter3d"
           }
          ],
          "scattercarpet": [
           {
            "marker": {
             "colorbar": {
              "outlinewidth": 0,
              "ticks": ""
             }
            },
            "type": "scattercarpet"
           }
          ],
          "scattergeo": [
           {
            "marker": {
             "colorbar": {
              "outlinewidth": 0,
              "ticks": ""
             }
            },
            "type": "scattergeo"
           }
          ],
          "scattergl": [
           {
            "marker": {
             "colorbar": {
              "outlinewidth": 0,
              "ticks": ""
             }
            },
            "type": "scattergl"
           }
          ],
          "scattermapbox": [
           {
            "marker": {
             "colorbar": {
              "outlinewidth": 0,
              "ticks": ""
             }
            },
            "type": "scattermapbox"
           }
          ],
          "scatterpolar": [
           {
            "marker": {
             "colorbar": {
              "outlinewidth": 0,
              "ticks": ""
             }
            },
            "type": "scatterpolar"
           }
          ],
          "scatterpolargl": [
           {
            "marker": {
             "colorbar": {
              "outlinewidth": 0,
              "ticks": ""
             }
            },
            "type": "scatterpolargl"
           }
          ],
          "scatterternary": [
           {
            "marker": {
             "colorbar": {
              "outlinewidth": 0,
              "ticks": ""
             }
            },
            "type": "scatterternary"
           }
          ],
          "surface": [
           {
            "colorbar": {
             "outlinewidth": 0,
             "ticks": ""
            },
            "colorscale": [
             [
              0,
              "#0d0887"
             ],
             [
              0.1111111111111111,
              "#46039f"
             ],
             [
              0.2222222222222222,
              "#7201a8"
             ],
             [
              0.3333333333333333,
              "#9c179e"
             ],
             [
              0.4444444444444444,
              "#bd3786"
             ],
             [
              0.5555555555555556,
              "#d8576b"
             ],
             [
              0.6666666666666666,
              "#ed7953"
             ],
             [
              0.7777777777777778,
              "#fb9f3a"
             ],
             [
              0.8888888888888888,
              "#fdca26"
             ],
             [
              1,
              "#f0f921"
             ]
            ],
            "type": "surface"
           }
          ],
          "table": [
           {
            "cells": {
             "fill": {
              "color": "#EBF0F8"
             },
             "line": {
              "color": "white"
             }
            },
            "header": {
             "fill": {
              "color": "#C8D4E3"
             },
             "line": {
              "color": "white"
             }
            },
            "type": "table"
           }
          ]
         },
         "layout": {
          "annotationdefaults": {
           "arrowcolor": "#2a3f5f",
           "arrowhead": 0,
           "arrowwidth": 1
          },
          "autotypenumbers": "strict",
          "coloraxis": {
           "colorbar": {
            "outlinewidth": 0,
            "ticks": ""
           }
          },
          "colorscale": {
           "diverging": [
            [
             0,
             "#8e0152"
            ],
            [
             0.1,
             "#c51b7d"
            ],
            [
             0.2,
             "#de77ae"
            ],
            [
             0.3,
             "#f1b6da"
            ],
            [
             0.4,
             "#fde0ef"
            ],
            [
             0.5,
             "#f7f7f7"
            ],
            [
             0.6,
             "#e6f5d0"
            ],
            [
             0.7,
             "#b8e186"
            ],
            [
             0.8,
             "#7fbc41"
            ],
            [
             0.9,
             "#4d9221"
            ],
            [
             1,
             "#276419"
            ]
           ],
           "sequential": [
            [
             0,
             "#0d0887"
            ],
            [
             0.1111111111111111,
             "#46039f"
            ],
            [
             0.2222222222222222,
             "#7201a8"
            ],
            [
             0.3333333333333333,
             "#9c179e"
            ],
            [
             0.4444444444444444,
             "#bd3786"
            ],
            [
             0.5555555555555556,
             "#d8576b"
            ],
            [
             0.6666666666666666,
             "#ed7953"
            ],
            [
             0.7777777777777778,
             "#fb9f3a"
            ],
            [
             0.8888888888888888,
             "#fdca26"
            ],
            [
             1,
             "#f0f921"
            ]
           ],
           "sequentialminus": [
            [
             0,
             "#0d0887"
            ],
            [
             0.1111111111111111,
             "#46039f"
            ],
            [
             0.2222222222222222,
             "#7201a8"
            ],
            [
             0.3333333333333333,
             "#9c179e"
            ],
            [
             0.4444444444444444,
             "#bd3786"
            ],
            [
             0.5555555555555556,
             "#d8576b"
            ],
            [
             0.6666666666666666,
             "#ed7953"
            ],
            [
             0.7777777777777778,
             "#fb9f3a"
            ],
            [
             0.8888888888888888,
             "#fdca26"
            ],
            [
             1,
             "#f0f921"
            ]
           ]
          },
          "colorway": [
           "#636efa",
           "#EF553B",
           "#00cc96",
           "#ab63fa",
           "#FFA15A",
           "#19d3f3",
           "#FF6692",
           "#B6E880",
           "#FF97FF",
           "#FECB52"
          ],
          "font": {
           "color": "#2a3f5f"
          },
          "geo": {
           "bgcolor": "white",
           "lakecolor": "white",
           "landcolor": "#E5ECF6",
           "showlakes": true,
           "showland": true,
           "subunitcolor": "white"
          },
          "hoverlabel": {
           "align": "left"
          },
          "hovermode": "closest",
          "mapbox": {
           "style": "light"
          },
          "paper_bgcolor": "white",
          "plot_bgcolor": "#E5ECF6",
          "polar": {
           "angularaxis": {
            "gridcolor": "white",
            "linecolor": "white",
            "ticks": ""
           },
           "bgcolor": "#E5ECF6",
           "radialaxis": {
            "gridcolor": "white",
            "linecolor": "white",
            "ticks": ""
           }
          },
          "scene": {
           "xaxis": {
            "backgroundcolor": "#E5ECF6",
            "gridcolor": "white",
            "gridwidth": 2,
            "linecolor": "white",
            "showbackground": true,
            "ticks": "",
            "zerolinecolor": "white"
           },
           "yaxis": {
            "backgroundcolor": "#E5ECF6",
            "gridcolor": "white",
            "gridwidth": 2,
            "linecolor": "white",
            "showbackground": true,
            "ticks": "",
            "zerolinecolor": "white"
           },
           "zaxis": {
            "backgroundcolor": "#E5ECF6",
            "gridcolor": "white",
            "gridwidth": 2,
            "linecolor": "white",
            "showbackground": true,
            "ticks": "",
            "zerolinecolor": "white"
           }
          },
          "shapedefaults": {
           "line": {
            "color": "#2a3f5f"
           }
          },
          "ternary": {
           "aaxis": {
            "gridcolor": "white",
            "linecolor": "white",
            "ticks": ""
           },
           "baxis": {
            "gridcolor": "white",
            "linecolor": "white",
            "ticks": ""
           },
           "bgcolor": "#E5ECF6",
           "caxis": {
            "gridcolor": "white",
            "linecolor": "white",
            "ticks": ""
           }
          },
          "title": {
           "x": 0.05
          },
          "xaxis": {
           "automargin": true,
           "gridcolor": "white",
           "linecolor": "white",
           "ticks": "",
           "title": {
            "standoff": 15
           },
           "zerolinecolor": "white",
           "zerolinewidth": 2
          },
          "yaxis": {
           "automargin": true,
           "gridcolor": "white",
           "linecolor": "white",
           "ticks": "",
           "title": {
            "standoff": 15
           },
           "zerolinecolor": "white",
           "zerolinewidth": 2
          }
         }
        },
        "title": {
         "text": "Distribution of Annual Salary"
        },
        "xaxis": {
         "anchor": "y",
         "domain": [
          0,
          1
         ],
         "title": {
          "text": "Annual Salary"
         }
        },
        "yaxis": {
         "anchor": "x",
         "domain": [
          0,
          1
         ],
         "title": {
          "text": "Count"
         }
        }
       }
      },
      "text/html": [
       "<div>                            <div id=\"4624892b-328b-498c-a760-c852e63987b3\" class=\"plotly-graph-div\" style=\"height:525px; width:100%;\"></div>            <script type=\"text/javascript\">                require([\"plotly\"], function(Plotly) {                    window.PLOTLYENV=window.PLOTLYENV || {};                                    if (document.getElementById(\"4624892b-328b-498c-a760-c852e63987b3\")) {                    Plotly.newPlot(                        \"4624892b-328b-498c-a760-c852e63987b3\",                        [{\"alignmentgroup\":\"True\",\"bingroup\":\"x\",\"hovertemplate\":\"annual Salary=%{x}<br>count=%{y}<extra></extra>\",\"legendgroup\":\"\",\"marker\":{\"color\":\"#636efa\",\"pattern\":{\"shape\":\"\"}},\"name\":\"\",\"offsetgroup\":\"\",\"orientation\":\"v\",\"showlegend\":false,\"x\":[62812.09301,66646.89292,53798.55112,79370.03798,59729.1513,68499.85162,39814.522,51752.23445,58139.2591,53457.10132,73348.70745,55421.65733,37336.3383,68304.47298,72776.00382,64662.30061,63259.87837,52682.06401,54503.14423,55368.23716,63435.86304,64347.34531,65176.69055,52027.63837,69612.0123,53065.57175,82842.53385,61388.62709,100000.0,62891.86556,39627.1248,68859.56489,82358.22683,67904.39895,65311.68225,59593.2624,47460.54809,43131.78411,52263.69806,80959.5331,66417.66597,58457.41492,50571.45969,50943.16256,79792.13096,70787.27764,56098.50773,57478.37922,60181.40633,74445.08168,38406.7789,64616.6881,68107.93144,72471.81532,35069.41886,52422.94691,84467.78988,51419.50777,46609.51626,55207.45679,46689.4159,71847.2544,69236.68608,54006.77851,47228.35999,70187.50328,62262.94845,59195.82899,48716.67271,66478.00967,50280.0045,57393.82872,63429.93141,59139.2108,67015.19372,69157.4521,50867.94007,53450.90036,70463.99084,52697.15192,71055.41924,55406.46215,48567.07462,69506.62127,69453.71659,36929.35124,63087.95261,50889.34054,58065.25694,20000.0,60536.20406,50667.69759,44376.62221,75958.28349,70896.72853,56009.73073,90556.62686,71716.45662,68502.10943,46261.42666,61858.19077,49483.83262,68289.18229,47399.22827,63975.0609,75460.52362,51075.46118,42433.54619,61922.8971,69946.93924,73476.42249,75571.20188,82573.01132,50649.64492,53427.46192,75247.18061,69175.19403,84171.16719,45721.66835,54355.7595,77206.48386,57005.18595,65809.10782,65468.1442,60991.82443,61809.07451,66905.47644,65131.25015,83626.30783,64328.27892,69255.98753,60575.12604,63729.12568,64315.73671,51419.01644,53870.48483,56895.23153,52534.20778,52632.97124,42375.21424,65617.29175,49398.74439,63869.64928,60871.18248,68090.5087,54122.87827,59316.93704,38779.18396,88292.73205,68688.40199,51906.85022,52373.79446,73768.12453,55576.84068,59689.81438,55381.53225,34154.77654,54382.7481,65919.59731,39488.45582,72637.84482,67247.07698,71271.84407,71693.44742,57860.53103,69142.08412,52477.66494,47592.04749,48123.36983,76916.41515,65714.46469,40346.06491,71148.20248,81757.66856,64867.14911,70051.94033,62043.16623,85186.48921,47127.41632,61177.08698,57770.36488,60432.40367,58999.88858,62645.95516,68782.15718,67545.96382,42415.48867,44617.98314,72226.5603,48958.90535,86067.83527,65554.4018,69248.4953,59331.23555,52323.2448,63552.85175,75116.10613,38284.02013,55293.50777,63210.76235,54918.38749,57262.79581,72299.9501,50241.48985,65834.56889,60382.17885,68691.17086,65446.65687,42978.34284,58143.06285,61666.2852,64854.33966,45757.15568,73096.50927,67249.05932,77165.81297,72316.18286,68431.27055,62311.11641,53229.14547,77662.1109,69494.69783,61063.35631,79368.91741,61693.44352,47211.66812,69897.75291,63675.93263,72302.03223,63687.4988,63678.15468,77435.46545,62721.40514,70842.83518,55285.98625,72002.0552,41434.51258,60404.38394,65239.06468,62939.12851,60608.40313,56118.39601,86706.33333,41236.36497,77146.27598,56437.30404,70703.85013,69810.46265,54279.39597,70334.42787,59168.00751,61889.61618,66013.95174,55434.04046,68499.69447,54749.88645,74590.25495,67772.66646,62563.57825,70361.01504,74810.89471,49346.405,73426.08521,47684.46306,72939.83195,72277.82609,53921.33351,65312.96755,55619.34152,70914.59993,33422.99683,53382.42693,74173.39239,53587.12801,58011.6339,69171.95281,66779.91374,79173.0767,63065.12164,65530.36401,63732.3931,62689.53964,51539.93045,59060.08664,62713.78149,44747.66132,65529.70333,62426.52379,73498.30715,86565.15641,46549.16329,70111.5398,66747.66857,72025.6768,70737.29383,57455.7609,60657.59355,50694.42707,55369.72784,82425.64679,82094.10712,74090.51299,73935.74201,75719.22986,47054.14246,42003.01617,74418.55717,52786.1971,78804.99824,66932.47176,56066.07685,48591.57177,38213.88844,56444.76848,67080.6142,83333.81054,73502.12458,88816.02695,70381.37499,67647.74764,79781.90126,64665.39122,58837.97088,49607.23466,67032.16445,65245.57379,56174.3433,47227.01542,40300.49467,45504.74866,50017.38154,66226.72902,41361.95045,56687.41273,68114.60169,51086.88482,71921.45038,56807.01728,43019.8475,63875.20999,41587.39238,49661.96712,92471.17612,70136.82862,52664.71719,55618.06942,54912.44043,56692.78044,63561.04525,62788.93529,38453.86033,59486.27073,68149.63056,49393.46784,72262.20245,64494.39535,54362.70307,55657.65681,73512.41269,70621.52393,70275.68706,74420.10254,54395.05356,60384.34541,66813.664,84120.95497,54236.62092,64426.59613,71150.19894,60325.20676,91083.73918,60380.22868,72948.11812,74834.57117,67752.38329,59205.89035,64874.03368,63305.84963,74176.2079,47230.92278,65980.95617,51428.66337,75381.07571,54742.3946,76245.2434,60409.75787,57600.59673,71371.92544,79444.01301,47569.44212,71193.72803,46412.82136,57368.05622,65826.12291,61824.8798,61723.00613,72310.39623,67548.77415,62175.68945,60584.85458,66655.4142,63718.8812,60862.97749,67508.12293,61639.76386,63172.95729,58653.6591,40558.75456,76870.00765,71948.80529,67629.84819,67121.32166,57376.4803,56944.87077,60174.05765,81997.33071,36960.76994,64412.43101,70076.22764,72016.92459,63186.12783,76086.84122,74445.72702,85475.64202,51111.76605,79064.9559,55514.9934,75901.81829,56687.93949,59801.06311,57303.83325,43412.86301,58948.93261,56086.45033,80015.83115,41409.2939,40387.9207,48746.71666,70230.15498,64961.39305,57777.15558,54447.15275,59712.31101,65605.41798,70467.29492,76318.87883,77657.56243,60487.90116,67729.9725,49463.0635,65850.47688,66505.38124,58260.57232,45092.74073,63845.77186,55293.575,87598.01501,71753.30877,45368.15561,45362.66982,40727.39196,58632.58875,66680.2741,75892.3053,59297.41631,92455.72807,32697.98161,55418.75606,68921.40213,43739.97829,81565.95967,65364.06334,65019.15701,58243.17992,73558.87334,66088.02369,54441.72437,60101.79725,50153.43545,61430.93415,65846.5096,55433.61187,62979.60196,76523.33258,63956.1618,39460.00348,66923.43536,50051.14039,61575.9502,64430.07398,63722.00164,78518.21527,72424.80112,77665.17195,77345.61633,71942.40291,56039.49793,68888.77805,49811.99062,61370.67766],\"xaxis\":\"x\",\"yaxis\":\"y\",\"type\":\"histogram\"}],                        {\"template\":{\"data\":{\"histogram2dcontour\":[{\"type\":\"histogram2dcontour\",\"colorbar\":{\"outlinewidth\":0,\"ticks\":\"\"},\"colorscale\":[[0.0,\"#0d0887\"],[0.1111111111111111,\"#46039f\"],[0.2222222222222222,\"#7201a8\"],[0.3333333333333333,\"#9c179e\"],[0.4444444444444444,\"#bd3786\"],[0.5555555555555556,\"#d8576b\"],[0.6666666666666666,\"#ed7953\"],[0.7777777777777778,\"#fb9f3a\"],[0.8888888888888888,\"#fdca26\"],[1.0,\"#f0f921\"]]}],\"choropleth\":[{\"type\":\"choropleth\",\"colorbar\":{\"outlinewidth\":0,\"ticks\":\"\"}}],\"histogram2d\":[{\"type\":\"histogram2d\",\"colorbar\":{\"outlinewidth\":0,\"ticks\":\"\"},\"colorscale\":[[0.0,\"#0d0887\"],[0.1111111111111111,\"#46039f\"],[0.2222222222222222,\"#7201a8\"],[0.3333333333333333,\"#9c179e\"],[0.4444444444444444,\"#bd3786\"],[0.5555555555555556,\"#d8576b\"],[0.6666666666666666,\"#ed7953\"],[0.7777777777777778,\"#fb9f3a\"],[0.8888888888888888,\"#fdca26\"],[1.0,\"#f0f921\"]]}],\"heatmap\":[{\"type\":\"heatmap\",\"colorbar\":{\"outlinewidth\":0,\"ticks\":\"\"},\"colorscale\":[[0.0,\"#0d0887\"],[0.1111111111111111,\"#46039f\"],[0.2222222222222222,\"#7201a8\"],[0.3333333333333333,\"#9c179e\"],[0.4444444444444444,\"#bd3786\"],[0.5555555555555556,\"#d8576b\"],[0.6666666666666666,\"#ed7953\"],[0.7777777777777778,\"#fb9f3a\"],[0.8888888888888888,\"#fdca26\"],[1.0,\"#f0f921\"]]}],\"heatmapgl\":[{\"type\":\"heatmapgl\",\"colorbar\":{\"outlinewidth\":0,\"ticks\":\"\"},\"colorscale\":[[0.0,\"#0d0887\"],[0.1111111111111111,\"#46039f\"],[0.2222222222222222,\"#7201a8\"],[0.3333333333333333,\"#9c179e\"],[0.4444444444444444,\"#bd3786\"],[0.5555555555555556,\"#d8576b\"],[0.6666666666666666,\"#ed7953\"],[0.7777777777777778,\"#fb9f3a\"],[0.8888888888888888,\"#fdca26\"],[1.0,\"#f0f921\"]]}],\"contourcarpet\":[{\"type\":\"contourcarpet\",\"colorbar\":{\"outlinewidth\":0,\"ticks\":\"\"}}],\"contour\":[{\"type\":\"contour\",\"colorbar\":{\"outlinewidth\":0,\"ticks\":\"\"},\"colorscale\":[[0.0,\"#0d0887\"],[0.1111111111111111,\"#46039f\"],[0.2222222222222222,\"#7201a8\"],[0.3333333333333333,\"#9c179e\"],[0.4444444444444444,\"#bd3786\"],[0.5555555555555556,\"#d8576b\"],[0.6666666666666666,\"#ed7953\"],[0.7777777777777778,\"#fb9f3a\"],[0.8888888888888888,\"#fdca26\"],[1.0,\"#f0f921\"]]}],\"surface\":[{\"type\":\"surface\",\"colorbar\":{\"outlinewidth\":0,\"ticks\":\"\"},\"colorscale\":[[0.0,\"#0d0887\"],[0.1111111111111111,\"#46039f\"],[0.2222222222222222,\"#7201a8\"],[0.3333333333333333,\"#9c179e\"],[0.4444444444444444,\"#bd3786\"],[0.5555555555555556,\"#d8576b\"],[0.6666666666666666,\"#ed7953\"],[0.7777777777777778,\"#fb9f3a\"],[0.8888888888888888,\"#fdca26\"],[1.0,\"#f0f921\"]]}],\"mesh3d\":[{\"type\":\"mesh3d\",\"colorbar\":{\"outlinewidth\":0,\"ticks\":\"\"}}],\"scatter\":[{\"fillpattern\":{\"fillmode\":\"overlay\",\"size\":10,\"solidity\":0.2},\"type\":\"scatter\"}],\"parcoords\":[{\"type\":\"parcoords\",\"line\":{\"colorbar\":{\"outlinewidth\":0,\"ticks\":\"\"}}}],\"scatterpolargl\":[{\"type\":\"scatterpolargl\",\"marker\":{\"colorbar\":{\"outlinewidth\":0,\"ticks\":\"\"}}}],\"bar\":[{\"error_x\":{\"color\":\"#2a3f5f\"},\"error_y\":{\"color\":\"#2a3f5f\"},\"marker\":{\"line\":{\"color\":\"#E5ECF6\",\"width\":0.5},\"pattern\":{\"fillmode\":\"overlay\",\"size\":10,\"solidity\":0.2}},\"type\":\"bar\"}],\"scattergeo\":[{\"type\":\"scattergeo\",\"marker\":{\"colorbar\":{\"outlinewidth\":0,\"ticks\":\"\"}}}],\"scatterpolar\":[{\"type\":\"scatterpolar\",\"marker\":{\"colorbar\":{\"outlinewidth\":0,\"ticks\":\"\"}}}],\"histogram\":[{\"marker\":{\"pattern\":{\"fillmode\":\"overlay\",\"size\":10,\"solidity\":0.2}},\"type\":\"histogram\"}],\"scattergl\":[{\"type\":\"scattergl\",\"marker\":{\"colorbar\":{\"outlinewidth\":0,\"ticks\":\"\"}}}],\"scatter3d\":[{\"type\":\"scatter3d\",\"line\":{\"colorbar\":{\"outlinewidth\":0,\"ticks\":\"\"}},\"marker\":{\"colorbar\":{\"outlinewidth\":0,\"ticks\":\"\"}}}],\"scattermapbox\":[{\"type\":\"scattermapbox\",\"marker\":{\"colorbar\":{\"outlinewidth\":0,\"ticks\":\"\"}}}],\"scatterternary\":[{\"type\":\"scatterternary\",\"marker\":{\"colorbar\":{\"outlinewidth\":0,\"ticks\":\"\"}}}],\"scattercarpet\":[{\"type\":\"scattercarpet\",\"marker\":{\"colorbar\":{\"outlinewidth\":0,\"ticks\":\"\"}}}],\"carpet\":[{\"aaxis\":{\"endlinecolor\":\"#2a3f5f\",\"gridcolor\":\"white\",\"linecolor\":\"white\",\"minorgridcolor\":\"white\",\"startlinecolor\":\"#2a3f5f\"},\"baxis\":{\"endlinecolor\":\"#2a3f5f\",\"gridcolor\":\"white\",\"linecolor\":\"white\",\"minorgridcolor\":\"white\",\"startlinecolor\":\"#2a3f5f\"},\"type\":\"carpet\"}],\"table\":[{\"cells\":{\"fill\":{\"color\":\"#EBF0F8\"},\"line\":{\"color\":\"white\"}},\"header\":{\"fill\":{\"color\":\"#C8D4E3\"},\"line\":{\"color\":\"white\"}},\"type\":\"table\"}],\"barpolar\":[{\"marker\":{\"line\":{\"color\":\"#E5ECF6\",\"width\":0.5},\"pattern\":{\"fillmode\":\"overlay\",\"size\":10,\"solidity\":0.2}},\"type\":\"barpolar\"}],\"pie\":[{\"automargin\":true,\"type\":\"pie\"}]},\"layout\":{\"autotypenumbers\":\"strict\",\"colorway\":[\"#636efa\",\"#EF553B\",\"#00cc96\",\"#ab63fa\",\"#FFA15A\",\"#19d3f3\",\"#FF6692\",\"#B6E880\",\"#FF97FF\",\"#FECB52\"],\"font\":{\"color\":\"#2a3f5f\"},\"hovermode\":\"closest\",\"hoverlabel\":{\"align\":\"left\"},\"paper_bgcolor\":\"white\",\"plot_bgcolor\":\"#E5ECF6\",\"polar\":{\"bgcolor\":\"#E5ECF6\",\"angularaxis\":{\"gridcolor\":\"white\",\"linecolor\":\"white\",\"ticks\":\"\"},\"radialaxis\":{\"gridcolor\":\"white\",\"linecolor\":\"white\",\"ticks\":\"\"}},\"ternary\":{\"bgcolor\":\"#E5ECF6\",\"aaxis\":{\"gridcolor\":\"white\",\"linecolor\":\"white\",\"ticks\":\"\"},\"baxis\":{\"gridcolor\":\"white\",\"linecolor\":\"white\",\"ticks\":\"\"},\"caxis\":{\"gridcolor\":\"white\",\"linecolor\":\"white\",\"ticks\":\"\"}},\"coloraxis\":{\"colorbar\":{\"outlinewidth\":0,\"ticks\":\"\"}},\"colorscale\":{\"sequential\":[[0.0,\"#0d0887\"],[0.1111111111111111,\"#46039f\"],[0.2222222222222222,\"#7201a8\"],[0.3333333333333333,\"#9c179e\"],[0.4444444444444444,\"#bd3786\"],[0.5555555555555556,\"#d8576b\"],[0.6666666666666666,\"#ed7953\"],[0.7777777777777778,\"#fb9f3a\"],[0.8888888888888888,\"#fdca26\"],[1.0,\"#f0f921\"]],\"sequentialminus\":[[0.0,\"#0d0887\"],[0.1111111111111111,\"#46039f\"],[0.2222222222222222,\"#7201a8\"],[0.3333333333333333,\"#9c179e\"],[0.4444444444444444,\"#bd3786\"],[0.5555555555555556,\"#d8576b\"],[0.6666666666666666,\"#ed7953\"],[0.7777777777777778,\"#fb9f3a\"],[0.8888888888888888,\"#fdca26\"],[1.0,\"#f0f921\"]],\"diverging\":[[0,\"#8e0152\"],[0.1,\"#c51b7d\"],[0.2,\"#de77ae\"],[0.3,\"#f1b6da\"],[0.4,\"#fde0ef\"],[0.5,\"#f7f7f7\"],[0.6,\"#e6f5d0\"],[0.7,\"#b8e186\"],[0.8,\"#7fbc41\"],[0.9,\"#4d9221\"],[1,\"#276419\"]]},\"xaxis\":{\"gridcolor\":\"white\",\"linecolor\":\"white\",\"ticks\":\"\",\"title\":{\"standoff\":15},\"zerolinecolor\":\"white\",\"automargin\":true,\"zerolinewidth\":2},\"yaxis\":{\"gridcolor\":\"white\",\"linecolor\":\"white\",\"ticks\":\"\",\"title\":{\"standoff\":15},\"zerolinecolor\":\"white\",\"automargin\":true,\"zerolinewidth\":2},\"scene\":{\"xaxis\":{\"backgroundcolor\":\"#E5ECF6\",\"gridcolor\":\"white\",\"linecolor\":\"white\",\"showbackground\":true,\"ticks\":\"\",\"zerolinecolor\":\"white\",\"gridwidth\":2},\"yaxis\":{\"backgroundcolor\":\"#E5ECF6\",\"gridcolor\":\"white\",\"linecolor\":\"white\",\"showbackground\":true,\"ticks\":\"\",\"zerolinecolor\":\"white\",\"gridwidth\":2},\"zaxis\":{\"backgroundcolor\":\"#E5ECF6\",\"gridcolor\":\"white\",\"linecolor\":\"white\",\"showbackground\":true,\"ticks\":\"\",\"zerolinecolor\":\"white\",\"gridwidth\":2}},\"shapedefaults\":{\"line\":{\"color\":\"#2a3f5f\"}},\"annotationdefaults\":{\"arrowcolor\":\"#2a3f5f\",\"arrowhead\":0,\"arrowwidth\":1},\"geo\":{\"bgcolor\":\"white\",\"landcolor\":\"#E5ECF6\",\"subunitcolor\":\"white\",\"showland\":true,\"showlakes\":true,\"lakecolor\":\"white\"},\"title\":{\"x\":0.05},\"mapbox\":{\"style\":\"light\"}}},\"xaxis\":{\"anchor\":\"y\",\"domain\":[0.0,1.0],\"title\":{\"text\":\"Annual Salary\"}},\"yaxis\":{\"anchor\":\"x\",\"domain\":[0.0,1.0],\"title\":{\"text\":\"Count\"}},\"legend\":{\"tracegroupgap\":0},\"title\":{\"text\":\"Distribution of Annual Salary\"},\"barmode\":\"relative\",\"bargap\":0.05,\"showlegend\":false},                        {\"responsive\": true}                    ).then(function(){\n",
       "                            \n",
       "var gd = document.getElementById('4624892b-328b-498c-a760-c852e63987b3');\n",
       "var x = new MutationObserver(function (mutations, observer) {{\n",
       "        var display = window.getComputedStyle(gd).display;\n",
       "        if (!display || display === 'none') {{\n",
       "            console.log([gd, 'removed!']);\n",
       "            Plotly.purge(gd);\n",
       "            observer.disconnect();\n",
       "        }}\n",
       "}});\n",
       "\n",
       "// Listen for the removal of the full notebook cells\n",
       "var notebookContainer = gd.closest('#notebook-container');\n",
       "if (notebookContainer) {{\n",
       "    x.observe(notebookContainer, {childList: true});\n",
       "}}\n",
       "\n",
       "// Listen for the clearing of the current output cell\n",
       "var outputEl = gd.closest('.output');\n",
       "if (outputEl) {{\n",
       "    x.observe(outputEl, {childList: true});\n",
       "}}\n",
       "\n",
       "                        })                };                });            </script>        </div>"
      ]
     },
     "metadata": {},
     "output_type": "display_data"
    }
   ],
   "source": [
    "# annual Salary\n",
    "fig = px.histogram(car_purchasing_df, x = 'annual Salary', title = \"Distribution of Annual Salary\")\n",
    "\n",
    "fig.update_layout(\n",
    "    xaxis_title = ('Annual Salary'),\n",
    "    yaxis_title= ('Count'),\n",
    "    bargap = 0.05,\n",
    "    showlegend = False,\n",
    ")\n",
    "fig.show()"
   ]
  },
  {
   "cell_type": "code",
   "execution_count": 140,
   "id": "5eb626c8",
   "metadata": {},
   "outputs": [
    {
     "data": {
      "application/vnd.plotly.v1+json": {
       "config": {
        "plotlyServerURL": "https://plot.ly"
       },
       "data": [
        {
         "alignmentgroup": "True",
         "bingroup": "x",
         "hovertemplate": "credit card debt=%{x}<br>count=%{y}<extra></extra>",
         "legendgroup": "",
         "marker": {
          "color": "#636efa",
          "pattern": {
           "shape": ""
          }
         },
         "name": "",
         "offsetgroup": "",
         "orientation": "v",
         "showlegend": false,
         "type": "histogram",
         "x": [
          11609.38091,
          9572.957136,
          11160.35506,
          14426.16485,
          5358.712177,
          14179.47244,
          5958.460188,
          10985.69656,
          3440.823799,
          12884.07868,
          8270.707359,
          10014.96929,
          10218.32092,
          9466.995128,
          10597.63814,
          11326.03434,
          11495.54999,
          12514.52029,
          7377.820914,
          13272.94647,
          11878.03779,
          10905.36628,
          7698.552234,
          11960.85377,
          8125.598993,
          17805.57607,
          13102.15805,
          14270.00731,
          17452.92179,
          12522.94052,
          9371.511071,
          13417.02027,
          8092.475103,
          11417.30952,
          7988.753685,
          12252.73058,
          7405.534271,
          10917.14094,
          8838.759509,
          4499.921096,
          9183.327621,
          12491.01273,
          13338.32852,
          10816.8855,
          14245.53319,
          10155.34095,
          11675.28496,
          2230.096344,
          7094.896557,
          7915.758178,
          11023.00268,
          12378.54089,
          7813.602657,
          11216.88676,
          1851.979839,
          6998.46562,
          7772.444847,
          11331.20447,
          7592.019748,
          9976.434857,
          7829.565502,
          4225.328117,
          9842.842611,
          15189.08845,
          9046.182396,
          6841.540577,
          11785.87919,
          8634.376791,
          10886.91711,
          13685.88702,
          11350.49408,
          5627.803654,
          10676.21884,
          4630.544424,
          13000.41369,
          15791.61176,
          16732.30638,
          8740.723093,
          10059.55406,
          861.8166529,
          6147.918843,
          9522.576495,
          9724.031647,
          5449.471997,
          9565.830875,
          9719.192898,
          11024.02643,
          11041.17891,
          4204.920492,
          14261.80773,
          8244.470226,
          9871.403591,
          13865.09055,
          10562.90377,
          11794.73914,
          11030.2654,
          13872.5667,
          8870.714301,
          5831.118245,
          16767.2636,
          5189.083564,
          11811.25253,
          7357.787011,
          14562.64194,
          10614.85449,
          6280.929547,
          12416.84845,
          7335.524826,
          10366.50326,
          9010.648633,
          9656.806156,
          12887.54899,
          1696.989764,
          11211.72016,
          7903.103591,
          13258.46631,
          6039.594519,
          12719.64415,
          14250.52398,
          10008.76797,
          8493.098575,
          12416.79083,
          4820.839445,
          7248.54142,
          7329.22851,
          2620.079459,
          10077.49592,
          6206.922109,
          8458.749819,
          13860.43821,
          18361.24915,
          8088.344365,
          12507.19736,
          14871.36126,
          9026.061543,
          14720.53399,
          9851.578109,
          7583.753853,
          12348.67783,
          6062.60136,
          14392.28833,
          6994.617316,
          12860.65824,
          4397.947571,
          6181.970908,
          15164.87506,
          12296.34158,
          12758.89583,
          10799.1381,
          15796.31838,
          13686.96935,
          11347.62967,
          8132.073716,
          9396.008371,
          14862.84011,
          5088.239017,
          5316.010491,
          6940.056371,
          7594.363993,
          10992.33383,
          14938.50613,
          9851.689538,
          13122.45694,
          14421.48298,
          7146.192574,
          8707.511532,
          12071.41684,
          13167.65763,
          921.5340234,
          13923.96207,
          12557.08133,
          11505.89906,
          7917.65097,
          7500.778414,
          13962.95284,
          4701.316175,
          4980.668295,
          12413.0319,
          10221.15388,
          9837.222432,
          8628.434025,
          11417.46257,
          6904.420412,
          11431.22966,
          9810.75269,
          7171.466112,
          5205.008323,
          9683.735879,
          5817.153854,
          2418.86434,
          9181.06743,
          12026.57975,
          6445.784981,
          10027.53449,
          12438.85648,
          9347.50353,
          5969.666602,
          15467.78745,
          9465.090098,
          3657.863218,
          8920.385015,
          7793.073201,
          11544.93385,
          14817.70896,
          15353.25774,
          11302.88277,
          16305.78907,
          8491.586154,
          8884.11069,
          9686.119304,
          11672.72382,
          3247.887523,
          11207.01556,
          10743.793,
          12998.47232,
          8737.20319,
          8728.916803,
          14088.90642,
          9832.05731,
          10756.60888,
          13444.89631,
          20000,
          12066.26571,
          13501.92659,
          10835.25736,
          4295.225339,
          9624.908869,
          9631.974905,
          10813.75655,
          13421.36821,
          5011.615145,
          6922.152838,
          16127.56619,
          9536.899689,
          17462.07506,
          14709.65824,
          6810.555606,
          4198.839128,
          7437.211028,
          632.0528524,
          8233.280719,
          9242.775995,
          9653.26498,
          9399.342975,
          7903.33495,
          10461.98276,
          5025.365518,
          4684.556433,
          5699.184814,
          9823.218967,
          10474.44187,
          12024.48457,
          7039.540023,
          18693.14652,
          15436.79968,
          7631.687821,
          5614.004976,
          6887.248301,
          6130.305181,
          12024.72511,
          13658.34201,
          5827.820346,
          14822.79645,
          10128.76114,
          7787.204492,
          13580.87747,
          9046.18109,
          11398.82486,
          11212.43791,
          9644.41026,
          8570.611562,
          5055.43571,
          11315.59626,
          8501.49728,
          9822.426192,
          6354.833826,
          14300.12614,
          6913.05683,
          8907.661779,
          8774.069514,
          12848.20061,
          8732.143355,
          6932.950306,
          5841.612044,
          11498.03993,
          4975.144559,
          3932.838165,
          6619.929677,
          3066.939924,
          13701.79986,
          640.045378,
          7949.463649,
          9691.23462,
          6988.652757,
          13851.11162,
          12186.02793,
          3331.304747,
          10881.90102,
          10888.93494,
          7525.252104,
          1065.607589,
          10877.69223,
          8253.583457,
          10515.28135,
          7234.672092,
          6052.844775,
          8632.699007,
          9246.813159,
          12710.00309,
          11033.16277,
          5235.7599,
          14309.21115,
          11492.74174,
          11932.73881,
          7880.423663,
          9874.075327,
          11132.39299,
          9317.22195,
          6718.857016,
          8767.783547,
          11148.10325,
          7404.080751,
          12788.81573,
          9344.32377,
          7666.5303,
          11554.2723,
          10394.57246,
          11312.51035,
          8828.164449,
          9245.466786,
          7514.393035,
          8511.814921,
          10755.50842,
          9050.284083,
          11633.95265,
          12254.53943,
          6354.372629,
          8851.564939,
          8527.034281,
          11397.68601,
          5397.031602,
          4679.441732,
          5404.397644,
          7765.975483,
          14435.74305,
          7557.657205,
          8203.56263,
          7946.435929,
          3730.11972,
          13224.45167,
          15283.41752,
          6515.336778,
          9560.448204,
          11521.6189,
          12124.82386,
          8765.624109,
          15647.35449,
          9625.399586,
          11054.27478,
          9384.067625,
          10359.17579,
          10274.13558,
          10693.88704,
          11518.29175,
          15458.68867,
          9596.513091,
          7275.314728,
          9514.645028,
          9848.997857,
          10128.1151,
          13148.85597,
          2799.719601,
          12664.32052,
          9366.027561,
          13851.92122,
          2689.317953,
          8511.835275,
          16146.77016,
          11894.4244,
          4421.153379,
          7009.186038,
          9221.265417,
          7925.059589,
          10342.60917,
          6139.387823,
          9611.317626,
          10340.30041,
          7094.827,
          11620.1079,
          7840.293189,
          3854.733177,
          11652.2729,
          10175.74457,
          11715.3714,
          11211.99502,
          9913.194941,
          3093.707686,
          10462.35581,
          12967.284,
          8133.45931,
          8001.644302,
          11863.06428,
          8033.550461,
          10188.68685,
          17870.63765,
          6332.2019,
          17142.41332,
          4981.269146,
          5575.323416,
          8061.968487,
          10916.85532,
          12087.38116,
          12878.54582,
          16449.0665,
          15666.43155,
          12616.45622,
          1768.874438,
          10449.61818,
          1726.809885,
          11602.74297,
          7122.163863,
          9258.181529,
          7515.152476,
          13786.14942,
          9057.600508,
          7221.667169,
          8009.719809,
          6512.71102,
          10827.1614,
          8042.386734,
          10836.41709,
          7843.402994,
          8282.075073,
          6588.606462,
          9064.618618,
          8211.34092,
          5761.401538,
          3923.407178,
          8542.019129,
          6885.723977,
          19692.91262,
          13141.31969,
          7135.98755,
          13629.1104,
          100,
          6392.211408,
          14438.24233,
          9911.037592,
          10279.91264,
          6478.156506,
          3912.385616,
          3942.76762,
          4658.41454,
          11380.09288,
          7761.848528,
          8276.644566,
          10814.57915,
          9119.791422,
          12203.48778,
          2524.992105,
          9725.549901,
          12035.37079,
          10263.14899,
          8110.946984,
          9592.433147,
          9877.169366,
          10858.02526,
          8837.654857,
          8120.204455,
          5933.177726,
          9072.063059,
          7839.414396,
          4931.56016,
          15149.03426,
          11164.52652,
          6769.181833,
          4362.720324,
          12989.36784,
          6596.01369,
          11561.07365,
          9141.668545,
          10769.75059,
          14297.25366,
          10373.00856,
          16978.52745,
          8769.290288,
          8611.468093,
          893.2353408,
          594.8049491,
          6924.106833,
          10711.44472,
          10072.48298,
          9831.184792,
          13308.87932,
          6736.75168,
          6995.902524,
          12301.45679,
          10611.60686,
          14013.03451,
          9391.341628
         ],
         "xaxis": "x",
         "yaxis": "y"
        }
       ],
       "layout": {
        "bargap": 0.05,
        "barmode": "relative",
        "legend": {
         "tracegroupgap": 0
        },
        "showlegend": false,
        "template": {
         "data": {
          "bar": [
           {
            "error_x": {
             "color": "#2a3f5f"
            },
            "error_y": {
             "color": "#2a3f5f"
            },
            "marker": {
             "line": {
              "color": "#E5ECF6",
              "width": 0.5
             },
             "pattern": {
              "fillmode": "overlay",
              "size": 10,
              "solidity": 0.2
             }
            },
            "type": "bar"
           }
          ],
          "barpolar": [
           {
            "marker": {
             "line": {
              "color": "#E5ECF6",
              "width": 0.5
             },
             "pattern": {
              "fillmode": "overlay",
              "size": 10,
              "solidity": 0.2
             }
            },
            "type": "barpolar"
           }
          ],
          "carpet": [
           {
            "aaxis": {
             "endlinecolor": "#2a3f5f",
             "gridcolor": "white",
             "linecolor": "white",
             "minorgridcolor": "white",
             "startlinecolor": "#2a3f5f"
            },
            "baxis": {
             "endlinecolor": "#2a3f5f",
             "gridcolor": "white",
             "linecolor": "white",
             "minorgridcolor": "white",
             "startlinecolor": "#2a3f5f"
            },
            "type": "carpet"
           }
          ],
          "choropleth": [
           {
            "colorbar": {
             "outlinewidth": 0,
             "ticks": ""
            },
            "type": "choropleth"
           }
          ],
          "contour": [
           {
            "colorbar": {
             "outlinewidth": 0,
             "ticks": ""
            },
            "colorscale": [
             [
              0,
              "#0d0887"
             ],
             [
              0.1111111111111111,
              "#46039f"
             ],
             [
              0.2222222222222222,
              "#7201a8"
             ],
             [
              0.3333333333333333,
              "#9c179e"
             ],
             [
              0.4444444444444444,
              "#bd3786"
             ],
             [
              0.5555555555555556,
              "#d8576b"
             ],
             [
              0.6666666666666666,
              "#ed7953"
             ],
             [
              0.7777777777777778,
              "#fb9f3a"
             ],
             [
              0.8888888888888888,
              "#fdca26"
             ],
             [
              1,
              "#f0f921"
             ]
            ],
            "type": "contour"
           }
          ],
          "contourcarpet": [
           {
            "colorbar": {
             "outlinewidth": 0,
             "ticks": ""
            },
            "type": "contourcarpet"
           }
          ],
          "heatmap": [
           {
            "colorbar": {
             "outlinewidth": 0,
             "ticks": ""
            },
            "colorscale": [
             [
              0,
              "#0d0887"
             ],
             [
              0.1111111111111111,
              "#46039f"
             ],
             [
              0.2222222222222222,
              "#7201a8"
             ],
             [
              0.3333333333333333,
              "#9c179e"
             ],
             [
              0.4444444444444444,
              "#bd3786"
             ],
             [
              0.5555555555555556,
              "#d8576b"
             ],
             [
              0.6666666666666666,
              "#ed7953"
             ],
             [
              0.7777777777777778,
              "#fb9f3a"
             ],
             [
              0.8888888888888888,
              "#fdca26"
             ],
             [
              1,
              "#f0f921"
             ]
            ],
            "type": "heatmap"
           }
          ],
          "heatmapgl": [
           {
            "colorbar": {
             "outlinewidth": 0,
             "ticks": ""
            },
            "colorscale": [
             [
              0,
              "#0d0887"
             ],
             [
              0.1111111111111111,
              "#46039f"
             ],
             [
              0.2222222222222222,
              "#7201a8"
             ],
             [
              0.3333333333333333,
              "#9c179e"
             ],
             [
              0.4444444444444444,
              "#bd3786"
             ],
             [
              0.5555555555555556,
              "#d8576b"
             ],
             [
              0.6666666666666666,
              "#ed7953"
             ],
             [
              0.7777777777777778,
              "#fb9f3a"
             ],
             [
              0.8888888888888888,
              "#fdca26"
             ],
             [
              1,
              "#f0f921"
             ]
            ],
            "type": "heatmapgl"
           }
          ],
          "histogram": [
           {
            "marker": {
             "pattern": {
              "fillmode": "overlay",
              "size": 10,
              "solidity": 0.2
             }
            },
            "type": "histogram"
           }
          ],
          "histogram2d": [
           {
            "colorbar": {
             "outlinewidth": 0,
             "ticks": ""
            },
            "colorscale": [
             [
              0,
              "#0d0887"
             ],
             [
              0.1111111111111111,
              "#46039f"
             ],
             [
              0.2222222222222222,
              "#7201a8"
             ],
             [
              0.3333333333333333,
              "#9c179e"
             ],
             [
              0.4444444444444444,
              "#bd3786"
             ],
             [
              0.5555555555555556,
              "#d8576b"
             ],
             [
              0.6666666666666666,
              "#ed7953"
             ],
             [
              0.7777777777777778,
              "#fb9f3a"
             ],
             [
              0.8888888888888888,
              "#fdca26"
             ],
             [
              1,
              "#f0f921"
             ]
            ],
            "type": "histogram2d"
           }
          ],
          "histogram2dcontour": [
           {
            "colorbar": {
             "outlinewidth": 0,
             "ticks": ""
            },
            "colorscale": [
             [
              0,
              "#0d0887"
             ],
             [
              0.1111111111111111,
              "#46039f"
             ],
             [
              0.2222222222222222,
              "#7201a8"
             ],
             [
              0.3333333333333333,
              "#9c179e"
             ],
             [
              0.4444444444444444,
              "#bd3786"
             ],
             [
              0.5555555555555556,
              "#d8576b"
             ],
             [
              0.6666666666666666,
              "#ed7953"
             ],
             [
              0.7777777777777778,
              "#fb9f3a"
             ],
             [
              0.8888888888888888,
              "#fdca26"
             ],
             [
              1,
              "#f0f921"
             ]
            ],
            "type": "histogram2dcontour"
           }
          ],
          "mesh3d": [
           {
            "colorbar": {
             "outlinewidth": 0,
             "ticks": ""
            },
            "type": "mesh3d"
           }
          ],
          "parcoords": [
           {
            "line": {
             "colorbar": {
              "outlinewidth": 0,
              "ticks": ""
             }
            },
            "type": "parcoords"
           }
          ],
          "pie": [
           {
            "automargin": true,
            "type": "pie"
           }
          ],
          "scatter": [
           {
            "fillpattern": {
             "fillmode": "overlay",
             "size": 10,
             "solidity": 0.2
            },
            "type": "scatter"
           }
          ],
          "scatter3d": [
           {
            "line": {
             "colorbar": {
              "outlinewidth": 0,
              "ticks": ""
             }
            },
            "marker": {
             "colorbar": {
              "outlinewidth": 0,
              "ticks": ""
             }
            },
            "type": "scatter3d"
           }
          ],
          "scattercarpet": [
           {
            "marker": {
             "colorbar": {
              "outlinewidth": 0,
              "ticks": ""
             }
            },
            "type": "scattercarpet"
           }
          ],
          "scattergeo": [
           {
            "marker": {
             "colorbar": {
              "outlinewidth": 0,
              "ticks": ""
             }
            },
            "type": "scattergeo"
           }
          ],
          "scattergl": [
           {
            "marker": {
             "colorbar": {
              "outlinewidth": 0,
              "ticks": ""
             }
            },
            "type": "scattergl"
           }
          ],
          "scattermapbox": [
           {
            "marker": {
             "colorbar": {
              "outlinewidth": 0,
              "ticks": ""
             }
            },
            "type": "scattermapbox"
           }
          ],
          "scatterpolar": [
           {
            "marker": {
             "colorbar": {
              "outlinewidth": 0,
              "ticks": ""
             }
            },
            "type": "scatterpolar"
           }
          ],
          "scatterpolargl": [
           {
            "marker": {
             "colorbar": {
              "outlinewidth": 0,
              "ticks": ""
             }
            },
            "type": "scatterpolargl"
           }
          ],
          "scatterternary": [
           {
            "marker": {
             "colorbar": {
              "outlinewidth": 0,
              "ticks": ""
             }
            },
            "type": "scatterternary"
           }
          ],
          "surface": [
           {
            "colorbar": {
             "outlinewidth": 0,
             "ticks": ""
            },
            "colorscale": [
             [
              0,
              "#0d0887"
             ],
             [
              0.1111111111111111,
              "#46039f"
             ],
             [
              0.2222222222222222,
              "#7201a8"
             ],
             [
              0.3333333333333333,
              "#9c179e"
             ],
             [
              0.4444444444444444,
              "#bd3786"
             ],
             [
              0.5555555555555556,
              "#d8576b"
             ],
             [
              0.6666666666666666,
              "#ed7953"
             ],
             [
              0.7777777777777778,
              "#fb9f3a"
             ],
             [
              0.8888888888888888,
              "#fdca26"
             ],
             [
              1,
              "#f0f921"
             ]
            ],
            "type": "surface"
           }
          ],
          "table": [
           {
            "cells": {
             "fill": {
              "color": "#EBF0F8"
             },
             "line": {
              "color": "white"
             }
            },
            "header": {
             "fill": {
              "color": "#C8D4E3"
             },
             "line": {
              "color": "white"
             }
            },
            "type": "table"
           }
          ]
         },
         "layout": {
          "annotationdefaults": {
           "arrowcolor": "#2a3f5f",
           "arrowhead": 0,
           "arrowwidth": 1
          },
          "autotypenumbers": "strict",
          "coloraxis": {
           "colorbar": {
            "outlinewidth": 0,
            "ticks": ""
           }
          },
          "colorscale": {
           "diverging": [
            [
             0,
             "#8e0152"
            ],
            [
             0.1,
             "#c51b7d"
            ],
            [
             0.2,
             "#de77ae"
            ],
            [
             0.3,
             "#f1b6da"
            ],
            [
             0.4,
             "#fde0ef"
            ],
            [
             0.5,
             "#f7f7f7"
            ],
            [
             0.6,
             "#e6f5d0"
            ],
            [
             0.7,
             "#b8e186"
            ],
            [
             0.8,
             "#7fbc41"
            ],
            [
             0.9,
             "#4d9221"
            ],
            [
             1,
             "#276419"
            ]
           ],
           "sequential": [
            [
             0,
             "#0d0887"
            ],
            [
             0.1111111111111111,
             "#46039f"
            ],
            [
             0.2222222222222222,
             "#7201a8"
            ],
            [
             0.3333333333333333,
             "#9c179e"
            ],
            [
             0.4444444444444444,
             "#bd3786"
            ],
            [
             0.5555555555555556,
             "#d8576b"
            ],
            [
             0.6666666666666666,
             "#ed7953"
            ],
            [
             0.7777777777777778,
             "#fb9f3a"
            ],
            [
             0.8888888888888888,
             "#fdca26"
            ],
            [
             1,
             "#f0f921"
            ]
           ],
           "sequentialminus": [
            [
             0,
             "#0d0887"
            ],
            [
             0.1111111111111111,
             "#46039f"
            ],
            [
             0.2222222222222222,
             "#7201a8"
            ],
            [
             0.3333333333333333,
             "#9c179e"
            ],
            [
             0.4444444444444444,
             "#bd3786"
            ],
            [
             0.5555555555555556,
             "#d8576b"
            ],
            [
             0.6666666666666666,
             "#ed7953"
            ],
            [
             0.7777777777777778,
             "#fb9f3a"
            ],
            [
             0.8888888888888888,
             "#fdca26"
            ],
            [
             1,
             "#f0f921"
            ]
           ]
          },
          "colorway": [
           "#636efa",
           "#EF553B",
           "#00cc96",
           "#ab63fa",
           "#FFA15A",
           "#19d3f3",
           "#FF6692",
           "#B6E880",
           "#FF97FF",
           "#FECB52"
          ],
          "font": {
           "color": "#2a3f5f"
          },
          "geo": {
           "bgcolor": "white",
           "lakecolor": "white",
           "landcolor": "#E5ECF6",
           "showlakes": true,
           "showland": true,
           "subunitcolor": "white"
          },
          "hoverlabel": {
           "align": "left"
          },
          "hovermode": "closest",
          "mapbox": {
           "style": "light"
          },
          "paper_bgcolor": "white",
          "plot_bgcolor": "#E5ECF6",
          "polar": {
           "angularaxis": {
            "gridcolor": "white",
            "linecolor": "white",
            "ticks": ""
           },
           "bgcolor": "#E5ECF6",
           "radialaxis": {
            "gridcolor": "white",
            "linecolor": "white",
            "ticks": ""
           }
          },
          "scene": {
           "xaxis": {
            "backgroundcolor": "#E5ECF6",
            "gridcolor": "white",
            "gridwidth": 2,
            "linecolor": "white",
            "showbackground": true,
            "ticks": "",
            "zerolinecolor": "white"
           },
           "yaxis": {
            "backgroundcolor": "#E5ECF6",
            "gridcolor": "white",
            "gridwidth": 2,
            "linecolor": "white",
            "showbackground": true,
            "ticks": "",
            "zerolinecolor": "white"
           },
           "zaxis": {
            "backgroundcolor": "#E5ECF6",
            "gridcolor": "white",
            "gridwidth": 2,
            "linecolor": "white",
            "showbackground": true,
            "ticks": "",
            "zerolinecolor": "white"
           }
          },
          "shapedefaults": {
           "line": {
            "color": "#2a3f5f"
           }
          },
          "ternary": {
           "aaxis": {
            "gridcolor": "white",
            "linecolor": "white",
            "ticks": ""
           },
           "baxis": {
            "gridcolor": "white",
            "linecolor": "white",
            "ticks": ""
           },
           "bgcolor": "#E5ECF6",
           "caxis": {
            "gridcolor": "white",
            "linecolor": "white",
            "ticks": ""
           }
          },
          "title": {
           "x": 0.05
          },
          "xaxis": {
           "automargin": true,
           "gridcolor": "white",
           "linecolor": "white",
           "ticks": "",
           "title": {
            "standoff": 15
           },
           "zerolinecolor": "white",
           "zerolinewidth": 2
          },
          "yaxis": {
           "automargin": true,
           "gridcolor": "white",
           "linecolor": "white",
           "ticks": "",
           "title": {
            "standoff": 15
           },
           "zerolinecolor": "white",
           "zerolinewidth": 2
          }
         }
        },
        "title": {
         "text": "Distribution of Credit Card Debt"
        },
        "xaxis": {
         "anchor": "y",
         "domain": [
          0,
          1
         ],
         "title": {
          "text": "Credit Card Debt"
         }
        },
        "yaxis": {
         "anchor": "x",
         "domain": [
          0,
          1
         ],
         "title": {
          "text": "Count"
         }
        }
       }
      },
      "text/html": [
       "<div>                            <div id=\"48e3b710-f9ee-4ffe-ad9c-05aa113b139f\" class=\"plotly-graph-div\" style=\"height:525px; width:100%;\"></div>            <script type=\"text/javascript\">                require([\"plotly\"], function(Plotly) {                    window.PLOTLYENV=window.PLOTLYENV || {};                                    if (document.getElementById(\"48e3b710-f9ee-4ffe-ad9c-05aa113b139f\")) {                    Plotly.newPlot(                        \"48e3b710-f9ee-4ffe-ad9c-05aa113b139f\",                        [{\"alignmentgroup\":\"True\",\"bingroup\":\"x\",\"hovertemplate\":\"credit card debt=%{x}<br>count=%{y}<extra></extra>\",\"legendgroup\":\"\",\"marker\":{\"color\":\"#636efa\",\"pattern\":{\"shape\":\"\"}},\"name\":\"\",\"offsetgroup\":\"\",\"orientation\":\"v\",\"showlegend\":false,\"x\":[11609.38091,9572.957136,11160.35506,14426.16485,5358.712177,14179.47244,5958.460188,10985.69656,3440.823799,12884.07868,8270.707359,10014.96929,10218.32092,9466.995128,10597.63814,11326.03434,11495.54999,12514.52029,7377.820914,13272.94647,11878.03779,10905.36628,7698.552234,11960.85377,8125.598993,17805.57607,13102.15805,14270.00731,17452.92179,12522.94052,9371.511071,13417.02027,8092.475103,11417.30952,7988.753685,12252.73058,7405.534271,10917.14094,8838.759509,4499.921096,9183.327621,12491.01273,13338.32852,10816.8855,14245.53319,10155.34095,11675.28496,2230.096344,7094.896557,7915.758178,11023.00268,12378.54089,7813.602657,11216.88676,1851.979839,6998.46562,7772.444847,11331.20447,7592.019748,9976.434857,7829.565502,4225.328117,9842.842611,15189.08845,9046.182396,6841.540577,11785.87919,8634.376791,10886.91711,13685.88702,11350.49408,5627.803654,10676.21884,4630.544424,13000.41369,15791.61176,16732.30638,8740.723093,10059.55406,861.8166529,6147.918843,9522.576495,9724.031647,5449.471997,9565.830875,9719.192898,11024.02643,11041.17891,4204.920492,14261.80773,8244.470226,9871.403591,13865.09055,10562.90377,11794.73914,11030.2654,13872.5667,8870.714301,5831.118245,16767.2636,5189.083564,11811.25253,7357.787011,14562.64194,10614.85449,6280.929547,12416.84845,7335.524826,10366.50326,9010.648633,9656.806156,12887.54899,1696.989764,11211.72016,7903.103591,13258.46631,6039.594519,12719.64415,14250.52398,10008.76797,8493.098575,12416.79083,4820.839445,7248.54142,7329.22851,2620.079459,10077.49592,6206.922109,8458.749819,13860.43821,18361.24915,8088.344365,12507.19736,14871.36126,9026.061543,14720.53399,9851.578109,7583.753853,12348.67783,6062.60136,14392.28833,6994.617316,12860.65824,4397.947571,6181.970908,15164.87506,12296.34158,12758.89583,10799.1381,15796.31838,13686.96935,11347.62967,8132.073716,9396.008371,14862.84011,5088.239017,5316.010491,6940.056371,7594.363993,10992.33383,14938.50613,9851.689538,13122.45694,14421.48298,7146.192574,8707.511532,12071.41684,13167.65763,921.5340234,13923.96207,12557.08133,11505.89906,7917.65097,7500.778414,13962.95284,4701.316175,4980.668295,12413.0319,10221.15388,9837.222432,8628.434025,11417.46257,6904.420412,11431.22966,9810.75269,7171.466112,5205.008323,9683.735879,5817.153854,2418.86434,9181.06743,12026.57975,6445.784981,10027.53449,12438.85648,9347.50353,5969.666602,15467.78745,9465.090098,3657.863218,8920.385015,7793.073201,11544.93385,14817.70896,15353.25774,11302.88277,16305.78907,8491.586154,8884.11069,9686.119304,11672.72382,3247.887523,11207.01556,10743.793,12998.47232,8737.20319,8728.916803,14088.90642,9832.05731,10756.60888,13444.89631,20000.0,12066.26571,13501.92659,10835.25736,4295.225339,9624.908869,9631.974905,10813.75655,13421.36821,5011.615145,6922.152838,16127.56619,9536.899689,17462.07506,14709.65824,6810.555606,4198.839128,7437.211028,632.0528524,8233.280719,9242.775995,9653.26498,9399.342975,7903.33495,10461.98276,5025.365518,4684.556433,5699.184814,9823.218967,10474.44187,12024.48457,7039.540023,18693.14652,15436.79968,7631.687821,5614.004976,6887.248301,6130.305181,12024.72511,13658.34201,5827.820346,14822.79645,10128.76114,7787.204492,13580.87747,9046.18109,11398.82486,11212.43791,9644.41026,8570.611562,5055.43571,11315.59626,8501.49728,9822.426192,6354.833826,14300.12614,6913.05683,8907.661779,8774.069514,12848.20061,8732.143355,6932.950306,5841.612044,11498.03993,4975.144559,3932.838165,6619.929677,3066.939924,13701.79986,640.045378,7949.463649,9691.23462,6988.652757,13851.11162,12186.02793,3331.304747,10881.90102,10888.93494,7525.252104,1065.607589,10877.69223,8253.583457,10515.28135,7234.672092,6052.844775,8632.699007,9246.813159,12710.00309,11033.16277,5235.7599,14309.21115,11492.74174,11932.73881,7880.423663,9874.075327,11132.39299,9317.22195,6718.857016,8767.783547,11148.10325,7404.080751,12788.81573,9344.32377,7666.5303,11554.2723,10394.57246,11312.51035,8828.164449,9245.466786,7514.393035,8511.814921,10755.50842,9050.284083,11633.95265,12254.53943,6354.372629,8851.564939,8527.034281,11397.68601,5397.031602,4679.441732,5404.397644,7765.975483,14435.74305,7557.657205,8203.56263,7946.435929,3730.11972,13224.45167,15283.41752,6515.336778,9560.448204,11521.6189,12124.82386,8765.624109,15647.35449,9625.399586,11054.27478,9384.067625,10359.17579,10274.13558,10693.88704,11518.29175,15458.68867,9596.513091,7275.314728,9514.645028,9848.997857,10128.1151,13148.85597,2799.719601,12664.32052,9366.027561,13851.92122,2689.317953,8511.835275,16146.77016,11894.4244,4421.153379,7009.186038,9221.265417,7925.059589,10342.60917,6139.387823,9611.317626,10340.30041,7094.827,11620.1079,7840.293189,3854.733177,11652.2729,10175.74457,11715.3714,11211.99502,9913.194941,3093.707686,10462.35581,12967.284,8133.45931,8001.644302,11863.06428,8033.550461,10188.68685,17870.63765,6332.2019,17142.41332,4981.269146,5575.323416,8061.968487,10916.85532,12087.38116,12878.54582,16449.0665,15666.43155,12616.45622,1768.874438,10449.61818,1726.809885,11602.74297,7122.163863,9258.181529,7515.152476,13786.14942,9057.600508,7221.667169,8009.719809,6512.71102,10827.1614,8042.386734,10836.41709,7843.402994,8282.075073,6588.606462,9064.618618,8211.34092,5761.401538,3923.407178,8542.019129,6885.723977,19692.91262,13141.31969,7135.98755,13629.1104,100.0,6392.211408,14438.24233,9911.037592,10279.91264,6478.156506,3912.385616,3942.76762,4658.41454,11380.09288,7761.848528,8276.644566,10814.57915,9119.791422,12203.48778,2524.992105,9725.549901,12035.37079,10263.14899,8110.946984,9592.433147,9877.169366,10858.02526,8837.654857,8120.204455,5933.177726,9072.063059,7839.414396,4931.56016,15149.03426,11164.52652,6769.181833,4362.720324,12989.36784,6596.01369,11561.07365,9141.668545,10769.75059,14297.25366,10373.00856,16978.52745,8769.290288,8611.468093,893.2353408,594.8049491,6924.106833,10711.44472,10072.48298,9831.184792,13308.87932,6736.75168,6995.902524,12301.45679,10611.60686,14013.03451,9391.341628],\"xaxis\":\"x\",\"yaxis\":\"y\",\"type\":\"histogram\"}],                        {\"template\":{\"data\":{\"histogram2dcontour\":[{\"type\":\"histogram2dcontour\",\"colorbar\":{\"outlinewidth\":0,\"ticks\":\"\"},\"colorscale\":[[0.0,\"#0d0887\"],[0.1111111111111111,\"#46039f\"],[0.2222222222222222,\"#7201a8\"],[0.3333333333333333,\"#9c179e\"],[0.4444444444444444,\"#bd3786\"],[0.5555555555555556,\"#d8576b\"],[0.6666666666666666,\"#ed7953\"],[0.7777777777777778,\"#fb9f3a\"],[0.8888888888888888,\"#fdca26\"],[1.0,\"#f0f921\"]]}],\"choropleth\":[{\"type\":\"choropleth\",\"colorbar\":{\"outlinewidth\":0,\"ticks\":\"\"}}],\"histogram2d\":[{\"type\":\"histogram2d\",\"colorbar\":{\"outlinewidth\":0,\"ticks\":\"\"},\"colorscale\":[[0.0,\"#0d0887\"],[0.1111111111111111,\"#46039f\"],[0.2222222222222222,\"#7201a8\"],[0.3333333333333333,\"#9c179e\"],[0.4444444444444444,\"#bd3786\"],[0.5555555555555556,\"#d8576b\"],[0.6666666666666666,\"#ed7953\"],[0.7777777777777778,\"#fb9f3a\"],[0.8888888888888888,\"#fdca26\"],[1.0,\"#f0f921\"]]}],\"heatmap\":[{\"type\":\"heatmap\",\"colorbar\":{\"outlinewidth\":0,\"ticks\":\"\"},\"colorscale\":[[0.0,\"#0d0887\"],[0.1111111111111111,\"#46039f\"],[0.2222222222222222,\"#7201a8\"],[0.3333333333333333,\"#9c179e\"],[0.4444444444444444,\"#bd3786\"],[0.5555555555555556,\"#d8576b\"],[0.6666666666666666,\"#ed7953\"],[0.7777777777777778,\"#fb9f3a\"],[0.8888888888888888,\"#fdca26\"],[1.0,\"#f0f921\"]]}],\"heatmapgl\":[{\"type\":\"heatmapgl\",\"colorbar\":{\"outlinewidth\":0,\"ticks\":\"\"},\"colorscale\":[[0.0,\"#0d0887\"],[0.1111111111111111,\"#46039f\"],[0.2222222222222222,\"#7201a8\"],[0.3333333333333333,\"#9c179e\"],[0.4444444444444444,\"#bd3786\"],[0.5555555555555556,\"#d8576b\"],[0.6666666666666666,\"#ed7953\"],[0.7777777777777778,\"#fb9f3a\"],[0.8888888888888888,\"#fdca26\"],[1.0,\"#f0f921\"]]}],\"contourcarpet\":[{\"type\":\"contourcarpet\",\"colorbar\":{\"outlinewidth\":0,\"ticks\":\"\"}}],\"contour\":[{\"type\":\"contour\",\"colorbar\":{\"outlinewidth\":0,\"ticks\":\"\"},\"colorscale\":[[0.0,\"#0d0887\"],[0.1111111111111111,\"#46039f\"],[0.2222222222222222,\"#7201a8\"],[0.3333333333333333,\"#9c179e\"],[0.4444444444444444,\"#bd3786\"],[0.5555555555555556,\"#d8576b\"],[0.6666666666666666,\"#ed7953\"],[0.7777777777777778,\"#fb9f3a\"],[0.8888888888888888,\"#fdca26\"],[1.0,\"#f0f921\"]]}],\"surface\":[{\"type\":\"surface\",\"colorbar\":{\"outlinewidth\":0,\"ticks\":\"\"},\"colorscale\":[[0.0,\"#0d0887\"],[0.1111111111111111,\"#46039f\"],[0.2222222222222222,\"#7201a8\"],[0.3333333333333333,\"#9c179e\"],[0.4444444444444444,\"#bd3786\"],[0.5555555555555556,\"#d8576b\"],[0.6666666666666666,\"#ed7953\"],[0.7777777777777778,\"#fb9f3a\"],[0.8888888888888888,\"#fdca26\"],[1.0,\"#f0f921\"]]}],\"mesh3d\":[{\"type\":\"mesh3d\",\"colorbar\":{\"outlinewidth\":0,\"ticks\":\"\"}}],\"scatter\":[{\"fillpattern\":{\"fillmode\":\"overlay\",\"size\":10,\"solidity\":0.2},\"type\":\"scatter\"}],\"parcoords\":[{\"type\":\"parcoords\",\"line\":{\"colorbar\":{\"outlinewidth\":0,\"ticks\":\"\"}}}],\"scatterpolargl\":[{\"type\":\"scatterpolargl\",\"marker\":{\"colorbar\":{\"outlinewidth\":0,\"ticks\":\"\"}}}],\"bar\":[{\"error_x\":{\"color\":\"#2a3f5f\"},\"error_y\":{\"color\":\"#2a3f5f\"},\"marker\":{\"line\":{\"color\":\"#E5ECF6\",\"width\":0.5},\"pattern\":{\"fillmode\":\"overlay\",\"size\":10,\"solidity\":0.2}},\"type\":\"bar\"}],\"scattergeo\":[{\"type\":\"scattergeo\",\"marker\":{\"colorbar\":{\"outlinewidth\":0,\"ticks\":\"\"}}}],\"scatterpolar\":[{\"type\":\"scatterpolar\",\"marker\":{\"colorbar\":{\"outlinewidth\":0,\"ticks\":\"\"}}}],\"histogram\":[{\"marker\":{\"pattern\":{\"fillmode\":\"overlay\",\"size\":10,\"solidity\":0.2}},\"type\":\"histogram\"}],\"scattergl\":[{\"type\":\"scattergl\",\"marker\":{\"colorbar\":{\"outlinewidth\":0,\"ticks\":\"\"}}}],\"scatter3d\":[{\"type\":\"scatter3d\",\"line\":{\"colorbar\":{\"outlinewidth\":0,\"ticks\":\"\"}},\"marker\":{\"colorbar\":{\"outlinewidth\":0,\"ticks\":\"\"}}}],\"scattermapbox\":[{\"type\":\"scattermapbox\",\"marker\":{\"colorbar\":{\"outlinewidth\":0,\"ticks\":\"\"}}}],\"scatterternary\":[{\"type\":\"scatterternary\",\"marker\":{\"colorbar\":{\"outlinewidth\":0,\"ticks\":\"\"}}}],\"scattercarpet\":[{\"type\":\"scattercarpet\",\"marker\":{\"colorbar\":{\"outlinewidth\":0,\"ticks\":\"\"}}}],\"carpet\":[{\"aaxis\":{\"endlinecolor\":\"#2a3f5f\",\"gridcolor\":\"white\",\"linecolor\":\"white\",\"minorgridcolor\":\"white\",\"startlinecolor\":\"#2a3f5f\"},\"baxis\":{\"endlinecolor\":\"#2a3f5f\",\"gridcolor\":\"white\",\"linecolor\":\"white\",\"minorgridcolor\":\"white\",\"startlinecolor\":\"#2a3f5f\"},\"type\":\"carpet\"}],\"table\":[{\"cells\":{\"fill\":{\"color\":\"#EBF0F8\"},\"line\":{\"color\":\"white\"}},\"header\":{\"fill\":{\"color\":\"#C8D4E3\"},\"line\":{\"color\":\"white\"}},\"type\":\"table\"}],\"barpolar\":[{\"marker\":{\"line\":{\"color\":\"#E5ECF6\",\"width\":0.5},\"pattern\":{\"fillmode\":\"overlay\",\"size\":10,\"solidity\":0.2}},\"type\":\"barpolar\"}],\"pie\":[{\"automargin\":true,\"type\":\"pie\"}]},\"layout\":{\"autotypenumbers\":\"strict\",\"colorway\":[\"#636efa\",\"#EF553B\",\"#00cc96\",\"#ab63fa\",\"#FFA15A\",\"#19d3f3\",\"#FF6692\",\"#B6E880\",\"#FF97FF\",\"#FECB52\"],\"font\":{\"color\":\"#2a3f5f\"},\"hovermode\":\"closest\",\"hoverlabel\":{\"align\":\"left\"},\"paper_bgcolor\":\"white\",\"plot_bgcolor\":\"#E5ECF6\",\"polar\":{\"bgcolor\":\"#E5ECF6\",\"angularaxis\":{\"gridcolor\":\"white\",\"linecolor\":\"white\",\"ticks\":\"\"},\"radialaxis\":{\"gridcolor\":\"white\",\"linecolor\":\"white\",\"ticks\":\"\"}},\"ternary\":{\"bgcolor\":\"#E5ECF6\",\"aaxis\":{\"gridcolor\":\"white\",\"linecolor\":\"white\",\"ticks\":\"\"},\"baxis\":{\"gridcolor\":\"white\",\"linecolor\":\"white\",\"ticks\":\"\"},\"caxis\":{\"gridcolor\":\"white\",\"linecolor\":\"white\",\"ticks\":\"\"}},\"coloraxis\":{\"colorbar\":{\"outlinewidth\":0,\"ticks\":\"\"}},\"colorscale\":{\"sequential\":[[0.0,\"#0d0887\"],[0.1111111111111111,\"#46039f\"],[0.2222222222222222,\"#7201a8\"],[0.3333333333333333,\"#9c179e\"],[0.4444444444444444,\"#bd3786\"],[0.5555555555555556,\"#d8576b\"],[0.6666666666666666,\"#ed7953\"],[0.7777777777777778,\"#fb9f3a\"],[0.8888888888888888,\"#fdca26\"],[1.0,\"#f0f921\"]],\"sequentialminus\":[[0.0,\"#0d0887\"],[0.1111111111111111,\"#46039f\"],[0.2222222222222222,\"#7201a8\"],[0.3333333333333333,\"#9c179e\"],[0.4444444444444444,\"#bd3786\"],[0.5555555555555556,\"#d8576b\"],[0.6666666666666666,\"#ed7953\"],[0.7777777777777778,\"#fb9f3a\"],[0.8888888888888888,\"#fdca26\"],[1.0,\"#f0f921\"]],\"diverging\":[[0,\"#8e0152\"],[0.1,\"#c51b7d\"],[0.2,\"#de77ae\"],[0.3,\"#f1b6da\"],[0.4,\"#fde0ef\"],[0.5,\"#f7f7f7\"],[0.6,\"#e6f5d0\"],[0.7,\"#b8e186\"],[0.8,\"#7fbc41\"],[0.9,\"#4d9221\"],[1,\"#276419\"]]},\"xaxis\":{\"gridcolor\":\"white\",\"linecolor\":\"white\",\"ticks\":\"\",\"title\":{\"standoff\":15},\"zerolinecolor\":\"white\",\"automargin\":true,\"zerolinewidth\":2},\"yaxis\":{\"gridcolor\":\"white\",\"linecolor\":\"white\",\"ticks\":\"\",\"title\":{\"standoff\":15},\"zerolinecolor\":\"white\",\"automargin\":true,\"zerolinewidth\":2},\"scene\":{\"xaxis\":{\"backgroundcolor\":\"#E5ECF6\",\"gridcolor\":\"white\",\"linecolor\":\"white\",\"showbackground\":true,\"ticks\":\"\",\"zerolinecolor\":\"white\",\"gridwidth\":2},\"yaxis\":{\"backgroundcolor\":\"#E5ECF6\",\"gridcolor\":\"white\",\"linecolor\":\"white\",\"showbackground\":true,\"ticks\":\"\",\"zerolinecolor\":\"white\",\"gridwidth\":2},\"zaxis\":{\"backgroundcolor\":\"#E5ECF6\",\"gridcolor\":\"white\",\"linecolor\":\"white\",\"showbackground\":true,\"ticks\":\"\",\"zerolinecolor\":\"white\",\"gridwidth\":2}},\"shapedefaults\":{\"line\":{\"color\":\"#2a3f5f\"}},\"annotationdefaults\":{\"arrowcolor\":\"#2a3f5f\",\"arrowhead\":0,\"arrowwidth\":1},\"geo\":{\"bgcolor\":\"white\",\"landcolor\":\"#E5ECF6\",\"subunitcolor\":\"white\",\"showland\":true,\"showlakes\":true,\"lakecolor\":\"white\"},\"title\":{\"x\":0.05},\"mapbox\":{\"style\":\"light\"}}},\"xaxis\":{\"anchor\":\"y\",\"domain\":[0.0,1.0],\"title\":{\"text\":\"Credit Card Debt\"}},\"yaxis\":{\"anchor\":\"x\",\"domain\":[0.0,1.0],\"title\":{\"text\":\"Count\"}},\"legend\":{\"tracegroupgap\":0},\"title\":{\"text\":\"Distribution of Credit Card Debt\"},\"barmode\":\"relative\",\"bargap\":0.05,\"showlegend\":false},                        {\"responsive\": true}                    ).then(function(){\n",
       "                            \n",
       "var gd = document.getElementById('48e3b710-f9ee-4ffe-ad9c-05aa113b139f');\n",
       "var x = new MutationObserver(function (mutations, observer) {{\n",
       "        var display = window.getComputedStyle(gd).display;\n",
       "        if (!display || display === 'none') {{\n",
       "            console.log([gd, 'removed!']);\n",
       "            Plotly.purge(gd);\n",
       "            observer.disconnect();\n",
       "        }}\n",
       "}});\n",
       "\n",
       "// Listen for the removal of the full notebook cells\n",
       "var notebookContainer = gd.closest('#notebook-container');\n",
       "if (notebookContainer) {{\n",
       "    x.observe(notebookContainer, {childList: true});\n",
       "}}\n",
       "\n",
       "// Listen for the clearing of the current output cell\n",
       "var outputEl = gd.closest('.output');\n",
       "if (outputEl) {{\n",
       "    x.observe(outputEl, {childList: true});\n",
       "}}\n",
       "\n",
       "                        })                };                });            </script>        </div>"
      ]
     },
     "metadata": {},
     "output_type": "display_data"
    }
   ],
   "source": [
    "# credit card debt\n",
    "fig = px.histogram(car_purchasing_df, x = 'credit card debt', title = \"Distribution of Credit Card Debt\")\n",
    "\n",
    "fig.update_layout(\n",
    "    xaxis_title = ('Credit Card Debt'),\n",
    "    yaxis_title= ('Count'),\n",
    "    bargap = 0.05,\n",
    "    showlegend = False,\n",
    ")\n",
    "fig.show()"
   ]
  },
  {
   "cell_type": "code",
   "execution_count": 141,
   "id": "56896e1e",
   "metadata": {},
   "outputs": [
    {
     "data": {
      "application/vnd.plotly.v1+json": {
       "config": {
        "plotlyServerURL": "https://plot.ly"
       },
       "data": [
        {
         "alignmentgroup": "True",
         "bingroup": "x",
         "hovertemplate": "net worth=%{x}<br>count=%{y}<extra></extra>",
         "legendgroup": "",
         "marker": {
          "color": "#636efa",
          "pattern": {
           "shape": ""
          }
         },
         "name": "",
         "offsetgroup": "",
         "orientation": "v",
         "showlegend": false,
         "type": "histogram",
         "x": [
          238961.2505,
          530973.9078,
          638467.1773,
          548599.0524,
          560304.0671,
          428485.3604,
          326373.1812,
          629312.4041,
          630059.0274,
          476643.3544,
          612738.6171,
          293862.5123,
          430907.1673,
          420322.0702,
          146344.8965,
          481433.4324,
          370356.2223,
          549443.5886,
          431098.9998,
          566022.1306,
          480588.2345,
          307226.0977,
          497526.4566,
          688466.0503,
          499086.3442,
          429440.3297,
          315775.3207,
          341691.9337,
          188032.0778,
          583230.976,
          319837.6593,
          486069.073,
          655934.4666,
          487435.964,
          215673.5384,
          612242.7755,
          430624.8142,
          326742.7352,
          213040.9606,
          379749.9152,
          513340.0097,
          410655.9947,
          348833.8403,
          299734.1278,
          497950.2933,
          853913.8532,
          320228.6451,
          158979.7102,
          390312.1715,
          527420.7269,
          451846.1995,
          779925.7892,
          455609.1429,
          583523.0762,
          353757.5057,
          438067.7506,
          468238.7915,
          636407.1148,
          409419.5797,
          286062.5162,
          615765.9289,
          476088.3996,
          242495.9886,
          246321.8916,
          456634.2073,
          662176.4851,
          301026.2206,
          573054.3808,
          662382.6623,
          356553.3996,
          230728.3008,
          411831.0371,
          481335.3582,
          473845.8546,
          355157.6417,
          506986.9824,
          344916.1768,
          309113.0627,
          278799.6958,
          540805.494,
          441527.0144,
          523251.2663,
          407401.3776,
          409293.2658,
          386128.1333,
          245664.3652,
          496856.4912,
          448601.9484,
          388498.5102,
          579181.6552,
          173079.1798,
          536665.0464,
          259049.2824,
          635512.3606,
          398746.8458,
          391848.6041,
          479586.9387,
          165866.2,
          515084.1891,
          759479.4596,
          706977.053,
          242292.92,
          404457.3099,
          537744.1324,
          891439.8761,
          296972.4085,
          450402.2932,
          386057.421,
          323453.2022,
          778537.2095,
          386287.0208,
          416540.299,
          562605.0655,
          565932.1861,
          238529.6336,
          659279.2011,
          325701.4083,
          244310.5736,
          790526.5507,
          573052.0119,
          411070.4828,
          408147.0405,
          692401.4668,
          588570.8903,
          586368.9293,
          407733.5229,
          651215.6435,
          53366.13861,
          167031.5554,
          567357.0264,
          339207.2774,
          291360.0291,
          271430.0543,
          502946.8819,
          362564.346,
          701782.528,
          580950.3967,
          401955.501,
          293999.9427,
          510039.1484,
          560593.416,
          174525.8426,
          260269.0963,
          262959.2506,
          316064.0338,
          254617.2609,
          510811.3695,
          581497.8874,
          378357.9385,
          375889.6381,
          85520.85055,
          633383.4925,
          562663.8116,
          475126.1252,
          449895.3046,
          20000,
          216355.3406,
          191168.4476,
          543789.7212,
          363561.1972,
          352507.9012,
          368344.0637,
          411045.8332,
          517480.0937,
          445745.5544,
          399124.4489,
          97706.89181,
          473101.0273,
          405550.1689,
          315183.5688,
          362707.0273,
          255922.473,
          416817.4673,
          278181.8354,
          498441.5687,
          613706.5421,
          357639.0334,
          546630.5284,
          427011.4954,
          340663.3261,
          211765.2494,
          415005.3584,
          478422.7973,
          613242.1668,
          350157.8394,
          322905.4592,
          520997.2385,
          251702.1158,
          623033.482,
          615672.4681,
          335652.6234,
          462613.8587,
          298246.0609,
          543313.3454,
          346555.1716,
          474763.4696,
          232607.3907,
          587010.5521,
          629764.2743,
          664431.3966,
          347017.8331,
          322150.3542,
          275389.0701,
          607395.0183,
          152012.353,
          490444.4111,
          619707.4203,
          571564.7901,
          491193.3773,
          261152.8211,
          299854.2186,
          371240.2413,
          465709.8937,
          196421.7402,
          396793.4734,
          478853.3217,
          279393.491,
          383693.2041,
          830430.3692,
          112127.2567,
          331460.4727,
          335809.6171,
          509543.0859,
          761935.5177,
          620522.3842,
          539365.9366,
          565814.725,
          74257.82785,
          234159.0793,
          358615.9327,
          563498.6636,
          48620.32123,
          494985.5363,
          545946.9996,
          734443.6969,
          568947.7487,
          252220.2937,
          513974.6812,
          168703.3385,
          455589.7973,
          492113.0067,
          586717.4715,
          333543.693,
          466988.2602,
          418764.5061,
          249182.7848,
          284991.7415,
          720423.8157,
          124979.0501,
          632600.4718,
          623487.5952,
          133226.0617,
          610942.1408,
          316906.6441,
          308445.8598,
          152883.3519,
          573441.9724,
          134188.4492,
          426488.7459,
          575500.7687,
          286849.7875,
          479685.9824,
          336867.7147,
          613372.8917,
          589669.6573,
          202710.1294,
          515305.4841,
          572037.8859,
          229070.5491,
          779143.6005,
          211168.6293,
          438491.876,
          521404.2386,
          811594.0392,
          552454.0263,
          613104.784,
          202576.6196,
          397700.1404,
          505897.3041,
          210573.7042,
          581620.4824,
          481513.5074,
          371355.6935,
          136346.3069,
          679435.1745,
          793986.6155,
          353929.5495,
          630411.2698,
          491904.1899,
          819002.1748,
          626163.832,
          239217.6732,
          221290.9818,
          222341.0342,
          266765.477,
          159727.8753,
          392177.789,
          587858.6295,
          606851.1696,
          684273.5913,
          577272.6805,
          225670.1288,
          625484.0917,
          474485.6659,
          275762.4836,
          579220.0393,
          472761.6208,
          556014.9704,
          315058.7167,
          149761.1281,
          497876.2478,
          364858.7148,
          579059.3132,
          69821.6376,
          244188.0008,
          1000000,
          765711.6025,
          493592.1764,
          305253.2658,
          787984.2882,
          427287.6277,
          521815.7353,
          622324.7499,
          290711.867,
          516738.1724,
          542777.4892,
          398011.5804,
          642335.1021,
          719846.9824,
          374777.6929,
          160487.0006,
          356213.0776,
          615720.0425,
          414034.6096,
          521061.1115,
          59630.07789,
          169714.2655,
          385250.7163,
          454791.7251,
          188327.5831,
          322891.7787,
          375654.1472,
          515717.7476,
          555993.1081,
          411932.8191,
          854283.5574,
          537572.1338,
          685541.6501,
          608019.6308,
          192514.6431,
          320834.0102,
          228434.0508,
          401916.0981,
          475263.2759,
          187821.0958,
          408679.8596,
          388898.069,
          377424.6157,
          236420.9695,
          366327.7432,
          253181.9789,
          551344.3365,
          549212.4268,
          589180.4485,
          600685.1915,
          27888.74525,
          432447.5324,
          137601.844,
          480468.247,
          62149.94034,
          387538.2487,
          508962.4874,
          360457.0496,
          712233.8241,
          657178.4135,
          856287.1522,
          528087.5277,
          749016.565,
          290608.3977,
          558001.0241,
          173272.8954,
          457116.1945,
          545125.9592,
          447393.4883,
          674190.6949,
          255285.4063,
          128387.9293,
          321431.279,
          627086.6563,
          281690.8431,
          762832.2606,
          595028.8431,
          466128.9118,
          416748.7309,
          660897.0146,
          291897.4057,
          724025.4097,
          388284.2974,
          343290.677,
          129635.6343,
          805075.5197,
          298920.0067,
          344060.1754,
          141587.6498,
          684209.551,
          456524.7944,
          201228.0206,
          283241.2769,
          266531.2969,
          365862.7818,
          151946.3089,
          472403.1231,
          376886.359,
          116407.5289,
          271414.7592,
          237185.1714,
          630120.001,
          355175.3677,
          552267.6361,
          205006.2161,
          762601.0836,
          482866.5457,
          297964.2638,
          267555.1178,
          461366.7829,
          365871.4992,
          394229.8972,
          357468.1866,
          790116.4252,
          601744.9607,
          258194.8443,
          392003.2864,
          205439.3663,
          228388.5491,
          508555.1592,
          421318.9764,
          622569.5959,
          217188.4056,
          320525.7282,
          265717.2542,
          601210.2803,
          284155.4155,
          487564.5541,
          297540.8814,
          494606.6334,
          245216.1691,
          622831.922,
          478428.7174,
          314885.1345,
          201636.866,
          419556.6198,
          621309.5863,
          507572.635,
          158758.3577,
          505048.7599,
          169475.9968,
          485563.7363,
          400703.2655,
          577058.1773,
          399437.5235,
          508528.9957,
          516817.3173,
          556945.8742,
          177878.1758,
          567842.1267,
          285326.3544,
          218808.7553,
          312927.9187,
          515012.2804,
          517110.9454,
          544291.9504,
          579640.7982,
          341330.7344,
          649323.7878,
          301245.7708,
          557098.9636,
          432850.4157,
          340720.5185,
          266939.1746,
          421891.846,
          531840.3342,
          276466.6203,
          247421.9185,
          620355.2658,
          360787.6401,
          571245.3714,
          522814.817,
          347177.8367,
          497197.264,
          664862.0102,
          316128.4002,
          294506.0844,
          523680.7699,
          349588.5608,
          665099.139,
          541670.1016,
          360419.0988,
          764531.3203,
          337826.6382,
          462946.4924
         ],
         "xaxis": "x",
         "yaxis": "y"
        }
       ],
       "layout": {
        "bargap": 0.05,
        "barmode": "relative",
        "legend": {
         "tracegroupgap": 0
        },
        "showlegend": false,
        "template": {
         "data": {
          "bar": [
           {
            "error_x": {
             "color": "#2a3f5f"
            },
            "error_y": {
             "color": "#2a3f5f"
            },
            "marker": {
             "line": {
              "color": "#E5ECF6",
              "width": 0.5
             },
             "pattern": {
              "fillmode": "overlay",
              "size": 10,
              "solidity": 0.2
             }
            },
            "type": "bar"
           }
          ],
          "barpolar": [
           {
            "marker": {
             "line": {
              "color": "#E5ECF6",
              "width": 0.5
             },
             "pattern": {
              "fillmode": "overlay",
              "size": 10,
              "solidity": 0.2
             }
            },
            "type": "barpolar"
           }
          ],
          "carpet": [
           {
            "aaxis": {
             "endlinecolor": "#2a3f5f",
             "gridcolor": "white",
             "linecolor": "white",
             "minorgridcolor": "white",
             "startlinecolor": "#2a3f5f"
            },
            "baxis": {
             "endlinecolor": "#2a3f5f",
             "gridcolor": "white",
             "linecolor": "white",
             "minorgridcolor": "white",
             "startlinecolor": "#2a3f5f"
            },
            "type": "carpet"
           }
          ],
          "choropleth": [
           {
            "colorbar": {
             "outlinewidth": 0,
             "ticks": ""
            },
            "type": "choropleth"
           }
          ],
          "contour": [
           {
            "colorbar": {
             "outlinewidth": 0,
             "ticks": ""
            },
            "colorscale": [
             [
              0,
              "#0d0887"
             ],
             [
              0.1111111111111111,
              "#46039f"
             ],
             [
              0.2222222222222222,
              "#7201a8"
             ],
             [
              0.3333333333333333,
              "#9c179e"
             ],
             [
              0.4444444444444444,
              "#bd3786"
             ],
             [
              0.5555555555555556,
              "#d8576b"
             ],
             [
              0.6666666666666666,
              "#ed7953"
             ],
             [
              0.7777777777777778,
              "#fb9f3a"
             ],
             [
              0.8888888888888888,
              "#fdca26"
             ],
             [
              1,
              "#f0f921"
             ]
            ],
            "type": "contour"
           }
          ],
          "contourcarpet": [
           {
            "colorbar": {
             "outlinewidth": 0,
             "ticks": ""
            },
            "type": "contourcarpet"
           }
          ],
          "heatmap": [
           {
            "colorbar": {
             "outlinewidth": 0,
             "ticks": ""
            },
            "colorscale": [
             [
              0,
              "#0d0887"
             ],
             [
              0.1111111111111111,
              "#46039f"
             ],
             [
              0.2222222222222222,
              "#7201a8"
             ],
             [
              0.3333333333333333,
              "#9c179e"
             ],
             [
              0.4444444444444444,
              "#bd3786"
             ],
             [
              0.5555555555555556,
              "#d8576b"
             ],
             [
              0.6666666666666666,
              "#ed7953"
             ],
             [
              0.7777777777777778,
              "#fb9f3a"
             ],
             [
              0.8888888888888888,
              "#fdca26"
             ],
             [
              1,
              "#f0f921"
             ]
            ],
            "type": "heatmap"
           }
          ],
          "heatmapgl": [
           {
            "colorbar": {
             "outlinewidth": 0,
             "ticks": ""
            },
            "colorscale": [
             [
              0,
              "#0d0887"
             ],
             [
              0.1111111111111111,
              "#46039f"
             ],
             [
              0.2222222222222222,
              "#7201a8"
             ],
             [
              0.3333333333333333,
              "#9c179e"
             ],
             [
              0.4444444444444444,
              "#bd3786"
             ],
             [
              0.5555555555555556,
              "#d8576b"
             ],
             [
              0.6666666666666666,
              "#ed7953"
             ],
             [
              0.7777777777777778,
              "#fb9f3a"
             ],
             [
              0.8888888888888888,
              "#fdca26"
             ],
             [
              1,
              "#f0f921"
             ]
            ],
            "type": "heatmapgl"
           }
          ],
          "histogram": [
           {
            "marker": {
             "pattern": {
              "fillmode": "overlay",
              "size": 10,
              "solidity": 0.2
             }
            },
            "type": "histogram"
           }
          ],
          "histogram2d": [
           {
            "colorbar": {
             "outlinewidth": 0,
             "ticks": ""
            },
            "colorscale": [
             [
              0,
              "#0d0887"
             ],
             [
              0.1111111111111111,
              "#46039f"
             ],
             [
              0.2222222222222222,
              "#7201a8"
             ],
             [
              0.3333333333333333,
              "#9c179e"
             ],
             [
              0.4444444444444444,
              "#bd3786"
             ],
             [
              0.5555555555555556,
              "#d8576b"
             ],
             [
              0.6666666666666666,
              "#ed7953"
             ],
             [
              0.7777777777777778,
              "#fb9f3a"
             ],
             [
              0.8888888888888888,
              "#fdca26"
             ],
             [
              1,
              "#f0f921"
             ]
            ],
            "type": "histogram2d"
           }
          ],
          "histogram2dcontour": [
           {
            "colorbar": {
             "outlinewidth": 0,
             "ticks": ""
            },
            "colorscale": [
             [
              0,
              "#0d0887"
             ],
             [
              0.1111111111111111,
              "#46039f"
             ],
             [
              0.2222222222222222,
              "#7201a8"
             ],
             [
              0.3333333333333333,
              "#9c179e"
             ],
             [
              0.4444444444444444,
              "#bd3786"
             ],
             [
              0.5555555555555556,
              "#d8576b"
             ],
             [
              0.6666666666666666,
              "#ed7953"
             ],
             [
              0.7777777777777778,
              "#fb9f3a"
             ],
             [
              0.8888888888888888,
              "#fdca26"
             ],
             [
              1,
              "#f0f921"
             ]
            ],
            "type": "histogram2dcontour"
           }
          ],
          "mesh3d": [
           {
            "colorbar": {
             "outlinewidth": 0,
             "ticks": ""
            },
            "type": "mesh3d"
           }
          ],
          "parcoords": [
           {
            "line": {
             "colorbar": {
              "outlinewidth": 0,
              "ticks": ""
             }
            },
            "type": "parcoords"
           }
          ],
          "pie": [
           {
            "automargin": true,
            "type": "pie"
           }
          ],
          "scatter": [
           {
            "fillpattern": {
             "fillmode": "overlay",
             "size": 10,
             "solidity": 0.2
            },
            "type": "scatter"
           }
          ],
          "scatter3d": [
           {
            "line": {
             "colorbar": {
              "outlinewidth": 0,
              "ticks": ""
             }
            },
            "marker": {
             "colorbar": {
              "outlinewidth": 0,
              "ticks": ""
             }
            },
            "type": "scatter3d"
           }
          ],
          "scattercarpet": [
           {
            "marker": {
             "colorbar": {
              "outlinewidth": 0,
              "ticks": ""
             }
            },
            "type": "scattercarpet"
           }
          ],
          "scattergeo": [
           {
            "marker": {
             "colorbar": {
              "outlinewidth": 0,
              "ticks": ""
             }
            },
            "type": "scattergeo"
           }
          ],
          "scattergl": [
           {
            "marker": {
             "colorbar": {
              "outlinewidth": 0,
              "ticks": ""
             }
            },
            "type": "scattergl"
           }
          ],
          "scattermapbox": [
           {
            "marker": {
             "colorbar": {
              "outlinewidth": 0,
              "ticks": ""
             }
            },
            "type": "scattermapbox"
           }
          ],
          "scatterpolar": [
           {
            "marker": {
             "colorbar": {
              "outlinewidth": 0,
              "ticks": ""
             }
            },
            "type": "scatterpolar"
           }
          ],
          "scatterpolargl": [
           {
            "marker": {
             "colorbar": {
              "outlinewidth": 0,
              "ticks": ""
             }
            },
            "type": "scatterpolargl"
           }
          ],
          "scatterternary": [
           {
            "marker": {
             "colorbar": {
              "outlinewidth": 0,
              "ticks": ""
             }
            },
            "type": "scatterternary"
           }
          ],
          "surface": [
           {
            "colorbar": {
             "outlinewidth": 0,
             "ticks": ""
            },
            "colorscale": [
             [
              0,
              "#0d0887"
             ],
             [
              0.1111111111111111,
              "#46039f"
             ],
             [
              0.2222222222222222,
              "#7201a8"
             ],
             [
              0.3333333333333333,
              "#9c179e"
             ],
             [
              0.4444444444444444,
              "#bd3786"
             ],
             [
              0.5555555555555556,
              "#d8576b"
             ],
             [
              0.6666666666666666,
              "#ed7953"
             ],
             [
              0.7777777777777778,
              "#fb9f3a"
             ],
             [
              0.8888888888888888,
              "#fdca26"
             ],
             [
              1,
              "#f0f921"
             ]
            ],
            "type": "surface"
           }
          ],
          "table": [
           {
            "cells": {
             "fill": {
              "color": "#EBF0F8"
             },
             "line": {
              "color": "white"
             }
            },
            "header": {
             "fill": {
              "color": "#C8D4E3"
             },
             "line": {
              "color": "white"
             }
            },
            "type": "table"
           }
          ]
         },
         "layout": {
          "annotationdefaults": {
           "arrowcolor": "#2a3f5f",
           "arrowhead": 0,
           "arrowwidth": 1
          },
          "autotypenumbers": "strict",
          "coloraxis": {
           "colorbar": {
            "outlinewidth": 0,
            "ticks": ""
           }
          },
          "colorscale": {
           "diverging": [
            [
             0,
             "#8e0152"
            ],
            [
             0.1,
             "#c51b7d"
            ],
            [
             0.2,
             "#de77ae"
            ],
            [
             0.3,
             "#f1b6da"
            ],
            [
             0.4,
             "#fde0ef"
            ],
            [
             0.5,
             "#f7f7f7"
            ],
            [
             0.6,
             "#e6f5d0"
            ],
            [
             0.7,
             "#b8e186"
            ],
            [
             0.8,
             "#7fbc41"
            ],
            [
             0.9,
             "#4d9221"
            ],
            [
             1,
             "#276419"
            ]
           ],
           "sequential": [
            [
             0,
             "#0d0887"
            ],
            [
             0.1111111111111111,
             "#46039f"
            ],
            [
             0.2222222222222222,
             "#7201a8"
            ],
            [
             0.3333333333333333,
             "#9c179e"
            ],
            [
             0.4444444444444444,
             "#bd3786"
            ],
            [
             0.5555555555555556,
             "#d8576b"
            ],
            [
             0.6666666666666666,
             "#ed7953"
            ],
            [
             0.7777777777777778,
             "#fb9f3a"
            ],
            [
             0.8888888888888888,
             "#fdca26"
            ],
            [
             1,
             "#f0f921"
            ]
           ],
           "sequentialminus": [
            [
             0,
             "#0d0887"
            ],
            [
             0.1111111111111111,
             "#46039f"
            ],
            [
             0.2222222222222222,
             "#7201a8"
            ],
            [
             0.3333333333333333,
             "#9c179e"
            ],
            [
             0.4444444444444444,
             "#bd3786"
            ],
            [
             0.5555555555555556,
             "#d8576b"
            ],
            [
             0.6666666666666666,
             "#ed7953"
            ],
            [
             0.7777777777777778,
             "#fb9f3a"
            ],
            [
             0.8888888888888888,
             "#fdca26"
            ],
            [
             1,
             "#f0f921"
            ]
           ]
          },
          "colorway": [
           "#636efa",
           "#EF553B",
           "#00cc96",
           "#ab63fa",
           "#FFA15A",
           "#19d3f3",
           "#FF6692",
           "#B6E880",
           "#FF97FF",
           "#FECB52"
          ],
          "font": {
           "color": "#2a3f5f"
          },
          "geo": {
           "bgcolor": "white",
           "lakecolor": "white",
           "landcolor": "#E5ECF6",
           "showlakes": true,
           "showland": true,
           "subunitcolor": "white"
          },
          "hoverlabel": {
           "align": "left"
          },
          "hovermode": "closest",
          "mapbox": {
           "style": "light"
          },
          "paper_bgcolor": "white",
          "plot_bgcolor": "#E5ECF6",
          "polar": {
           "angularaxis": {
            "gridcolor": "white",
            "linecolor": "white",
            "ticks": ""
           },
           "bgcolor": "#E5ECF6",
           "radialaxis": {
            "gridcolor": "white",
            "linecolor": "white",
            "ticks": ""
           }
          },
          "scene": {
           "xaxis": {
            "backgroundcolor": "#E5ECF6",
            "gridcolor": "white",
            "gridwidth": 2,
            "linecolor": "white",
            "showbackground": true,
            "ticks": "",
            "zerolinecolor": "white"
           },
           "yaxis": {
            "backgroundcolor": "#E5ECF6",
            "gridcolor": "white",
            "gridwidth": 2,
            "linecolor": "white",
            "showbackground": true,
            "ticks": "",
            "zerolinecolor": "white"
           },
           "zaxis": {
            "backgroundcolor": "#E5ECF6",
            "gridcolor": "white",
            "gridwidth": 2,
            "linecolor": "white",
            "showbackground": true,
            "ticks": "",
            "zerolinecolor": "white"
           }
          },
          "shapedefaults": {
           "line": {
            "color": "#2a3f5f"
           }
          },
          "ternary": {
           "aaxis": {
            "gridcolor": "white",
            "linecolor": "white",
            "ticks": ""
           },
           "baxis": {
            "gridcolor": "white",
            "linecolor": "white",
            "ticks": ""
           },
           "bgcolor": "#E5ECF6",
           "caxis": {
            "gridcolor": "white",
            "linecolor": "white",
            "ticks": ""
           }
          },
          "title": {
           "x": 0.05
          },
          "xaxis": {
           "automargin": true,
           "gridcolor": "white",
           "linecolor": "white",
           "ticks": "",
           "title": {
            "standoff": 15
           },
           "zerolinecolor": "white",
           "zerolinewidth": 2
          },
          "yaxis": {
           "automargin": true,
           "gridcolor": "white",
           "linecolor": "white",
           "ticks": "",
           "title": {
            "standoff": 15
           },
           "zerolinecolor": "white",
           "zerolinewidth": 2
          }
         }
        },
        "title": {
         "text": "Distribution of Net worth"
        },
        "xaxis": {
         "anchor": "y",
         "domain": [
          0,
          1
         ],
         "title": {
          "text": "Net worth"
         }
        },
        "yaxis": {
         "anchor": "x",
         "domain": [
          0,
          1
         ],
         "title": {
          "text": "Count"
         }
        }
       }
      },
      "text/html": [
       "<div>                            <div id=\"559eabe4-64d0-4af8-89b6-0bab6d2f3928\" class=\"plotly-graph-div\" style=\"height:525px; width:100%;\"></div>            <script type=\"text/javascript\">                require([\"plotly\"], function(Plotly) {                    window.PLOTLYENV=window.PLOTLYENV || {};                                    if (document.getElementById(\"559eabe4-64d0-4af8-89b6-0bab6d2f3928\")) {                    Plotly.newPlot(                        \"559eabe4-64d0-4af8-89b6-0bab6d2f3928\",                        [{\"alignmentgroup\":\"True\",\"bingroup\":\"x\",\"hovertemplate\":\"net worth=%{x}<br>count=%{y}<extra></extra>\",\"legendgroup\":\"\",\"marker\":{\"color\":\"#636efa\",\"pattern\":{\"shape\":\"\"}},\"name\":\"\",\"offsetgroup\":\"\",\"orientation\":\"v\",\"showlegend\":false,\"x\":[238961.2505,530973.9078,638467.1773,548599.0524,560304.0671,428485.3604,326373.1812,629312.4041,630059.0274,476643.3544,612738.6171,293862.5123,430907.1673,420322.0702,146344.8965,481433.4324,370356.2223,549443.5886,431098.9998,566022.1306,480588.2345,307226.0977,497526.4566,688466.0503,499086.3442,429440.3297,315775.3207,341691.9337,188032.0778,583230.976,319837.6593,486069.073,655934.4666,487435.964,215673.5384,612242.7755,430624.8142,326742.7352,213040.9606,379749.9152,513340.0097,410655.9947,348833.8403,299734.1278,497950.2933,853913.8532,320228.6451,158979.7102,390312.1715,527420.7269,451846.1995,779925.7892,455609.1429,583523.0762,353757.5057,438067.7506,468238.7915,636407.1148,409419.5797,286062.5162,615765.9289,476088.3996,242495.9886,246321.8916,456634.2073,662176.4851,301026.2206,573054.3808,662382.6623,356553.3996,230728.3008,411831.0371,481335.3582,473845.8546,355157.6417,506986.9824,344916.1768,309113.0627,278799.6958,540805.494,441527.0144,523251.2663,407401.3776,409293.2658,386128.1333,245664.3652,496856.4912,448601.9484,388498.5102,579181.6552,173079.1798,536665.0464,259049.2824,635512.3606,398746.8458,391848.6041,479586.9387,165866.2,515084.1891,759479.4596,706977.053,242292.92,404457.3099,537744.1324,891439.8761,296972.4085,450402.2932,386057.421,323453.2022,778537.2095,386287.0208,416540.299,562605.0655,565932.1861,238529.6336,659279.2011,325701.4083,244310.5736,790526.5507,573052.0119,411070.4828,408147.0405,692401.4668,588570.8903,586368.9293,407733.5229,651215.6435,53366.13861,167031.5554,567357.0264,339207.2774,291360.0291,271430.0543,502946.8819,362564.346,701782.528,580950.3967,401955.501,293999.9427,510039.1484,560593.416,174525.8426,260269.0963,262959.2506,316064.0338,254617.2609,510811.3695,581497.8874,378357.9385,375889.6381,85520.85055,633383.4925,562663.8116,475126.1252,449895.3046,20000.0,216355.3406,191168.4476,543789.7212,363561.1972,352507.9012,368344.0637,411045.8332,517480.0937,445745.5544,399124.4489,97706.89181,473101.0273,405550.1689,315183.5688,362707.0273,255922.473,416817.4673,278181.8354,498441.5687,613706.5421,357639.0334,546630.5284,427011.4954,340663.3261,211765.2494,415005.3584,478422.7973,613242.1668,350157.8394,322905.4592,520997.2385,251702.1158,623033.482,615672.4681,335652.6234,462613.8587,298246.0609,543313.3454,346555.1716,474763.4696,232607.3907,587010.5521,629764.2743,664431.3966,347017.8331,322150.3542,275389.0701,607395.0183,152012.353,490444.4111,619707.4203,571564.7901,491193.3773,261152.8211,299854.2186,371240.2413,465709.8937,196421.7402,396793.4734,478853.3217,279393.491,383693.2041,830430.3692,112127.2567,331460.4727,335809.6171,509543.0859,761935.5177,620522.3842,539365.9366,565814.725,74257.82785,234159.0793,358615.9327,563498.6636,48620.32123,494985.5363,545946.9996,734443.6969,568947.7487,252220.2937,513974.6812,168703.3385,455589.7973,492113.0067,586717.4715,333543.693,466988.2602,418764.5061,249182.7848,284991.7415,720423.8157,124979.0501,632600.4718,623487.5952,133226.0617,610942.1408,316906.6441,308445.8598,152883.3519,573441.9724,134188.4492,426488.7459,575500.7687,286849.7875,479685.9824,336867.7147,613372.8917,589669.6573,202710.1294,515305.4841,572037.8859,229070.5491,779143.6005,211168.6293,438491.876,521404.2386,811594.0392,552454.0263,613104.784,202576.6196,397700.1404,505897.3041,210573.7042,581620.4824,481513.5074,371355.6935,136346.3069,679435.1745,793986.6155,353929.5495,630411.2698,491904.1899,819002.1748,626163.832,239217.6732,221290.9818,222341.0342,266765.477,159727.8753,392177.789,587858.6295,606851.1696,684273.5913,577272.6805,225670.1288,625484.0917,474485.6659,275762.4836,579220.0393,472761.6208,556014.9704,315058.7167,149761.1281,497876.2478,364858.7148,579059.3132,69821.6376,244188.0008,1000000.0,765711.6025,493592.1764,305253.2658,787984.2882,427287.6277,521815.7353,622324.7499,290711.867,516738.1724,542777.4892,398011.5804,642335.1021,719846.9824,374777.6929,160487.0006,356213.0776,615720.0425,414034.6096,521061.1115,59630.07789,169714.2655,385250.7163,454791.7251,188327.5831,322891.7787,375654.1472,515717.7476,555993.1081,411932.8191,854283.5574,537572.1338,685541.6501,608019.6308,192514.6431,320834.0102,228434.0508,401916.0981,475263.2759,187821.0958,408679.8596,388898.069,377424.6157,236420.9695,366327.7432,253181.9789,551344.3365,549212.4268,589180.4485,600685.1915,27888.74525,432447.5324,137601.844,480468.247,62149.94034,387538.2487,508962.4874,360457.0496,712233.8241,657178.4135,856287.1522,528087.5277,749016.565,290608.3977,558001.0241,173272.8954,457116.1945,545125.9592,447393.4883,674190.6949,255285.4063,128387.9293,321431.279,627086.6563,281690.8431,762832.2606,595028.8431,466128.9118,416748.7309,660897.0146,291897.4057,724025.4097,388284.2974,343290.677,129635.6343,805075.5197,298920.0067,344060.1754,141587.6498,684209.551,456524.7944,201228.0206,283241.2769,266531.2969,365862.7818,151946.3089,472403.1231,376886.359,116407.5289,271414.7592,237185.1714,630120.001,355175.3677,552267.6361,205006.2161,762601.0836,482866.5457,297964.2638,267555.1178,461366.7829,365871.4992,394229.8972,357468.1866,790116.4252,601744.9607,258194.8443,392003.2864,205439.3663,228388.5491,508555.1592,421318.9764,622569.5959,217188.4056,320525.7282,265717.2542,601210.2803,284155.4155,487564.5541,297540.8814,494606.6334,245216.1691,622831.922,478428.7174,314885.1345,201636.866,419556.6198,621309.5863,507572.635,158758.3577,505048.7599,169475.9968,485563.7363,400703.2655,577058.1773,399437.5235,508528.9957,516817.3173,556945.8742,177878.1758,567842.1267,285326.3544,218808.7553,312927.9187,515012.2804,517110.9454,544291.9504,579640.7982,341330.7344,649323.7878,301245.7708,557098.9636,432850.4157,340720.5185,266939.1746,421891.846,531840.3342,276466.6203,247421.9185,620355.2658,360787.6401,571245.3714,522814.817,347177.8367,497197.264,664862.0102,316128.4002,294506.0844,523680.7699,349588.5608,665099.139,541670.1016,360419.0988,764531.3203,337826.6382,462946.4924],\"xaxis\":\"x\",\"yaxis\":\"y\",\"type\":\"histogram\"}],                        {\"template\":{\"data\":{\"histogram2dcontour\":[{\"type\":\"histogram2dcontour\",\"colorbar\":{\"outlinewidth\":0,\"ticks\":\"\"},\"colorscale\":[[0.0,\"#0d0887\"],[0.1111111111111111,\"#46039f\"],[0.2222222222222222,\"#7201a8\"],[0.3333333333333333,\"#9c179e\"],[0.4444444444444444,\"#bd3786\"],[0.5555555555555556,\"#d8576b\"],[0.6666666666666666,\"#ed7953\"],[0.7777777777777778,\"#fb9f3a\"],[0.8888888888888888,\"#fdca26\"],[1.0,\"#f0f921\"]]}],\"choropleth\":[{\"type\":\"choropleth\",\"colorbar\":{\"outlinewidth\":0,\"ticks\":\"\"}}],\"histogram2d\":[{\"type\":\"histogram2d\",\"colorbar\":{\"outlinewidth\":0,\"ticks\":\"\"},\"colorscale\":[[0.0,\"#0d0887\"],[0.1111111111111111,\"#46039f\"],[0.2222222222222222,\"#7201a8\"],[0.3333333333333333,\"#9c179e\"],[0.4444444444444444,\"#bd3786\"],[0.5555555555555556,\"#d8576b\"],[0.6666666666666666,\"#ed7953\"],[0.7777777777777778,\"#fb9f3a\"],[0.8888888888888888,\"#fdca26\"],[1.0,\"#f0f921\"]]}],\"heatmap\":[{\"type\":\"heatmap\",\"colorbar\":{\"outlinewidth\":0,\"ticks\":\"\"},\"colorscale\":[[0.0,\"#0d0887\"],[0.1111111111111111,\"#46039f\"],[0.2222222222222222,\"#7201a8\"],[0.3333333333333333,\"#9c179e\"],[0.4444444444444444,\"#bd3786\"],[0.5555555555555556,\"#d8576b\"],[0.6666666666666666,\"#ed7953\"],[0.7777777777777778,\"#fb9f3a\"],[0.8888888888888888,\"#fdca26\"],[1.0,\"#f0f921\"]]}],\"heatmapgl\":[{\"type\":\"heatmapgl\",\"colorbar\":{\"outlinewidth\":0,\"ticks\":\"\"},\"colorscale\":[[0.0,\"#0d0887\"],[0.1111111111111111,\"#46039f\"],[0.2222222222222222,\"#7201a8\"],[0.3333333333333333,\"#9c179e\"],[0.4444444444444444,\"#bd3786\"],[0.5555555555555556,\"#d8576b\"],[0.6666666666666666,\"#ed7953\"],[0.7777777777777778,\"#fb9f3a\"],[0.8888888888888888,\"#fdca26\"],[1.0,\"#f0f921\"]]}],\"contourcarpet\":[{\"type\":\"contourcarpet\",\"colorbar\":{\"outlinewidth\":0,\"ticks\":\"\"}}],\"contour\":[{\"type\":\"contour\",\"colorbar\":{\"outlinewidth\":0,\"ticks\":\"\"},\"colorscale\":[[0.0,\"#0d0887\"],[0.1111111111111111,\"#46039f\"],[0.2222222222222222,\"#7201a8\"],[0.3333333333333333,\"#9c179e\"],[0.4444444444444444,\"#bd3786\"],[0.5555555555555556,\"#d8576b\"],[0.6666666666666666,\"#ed7953\"],[0.7777777777777778,\"#fb9f3a\"],[0.8888888888888888,\"#fdca26\"],[1.0,\"#f0f921\"]]}],\"surface\":[{\"type\":\"surface\",\"colorbar\":{\"outlinewidth\":0,\"ticks\":\"\"},\"colorscale\":[[0.0,\"#0d0887\"],[0.1111111111111111,\"#46039f\"],[0.2222222222222222,\"#7201a8\"],[0.3333333333333333,\"#9c179e\"],[0.4444444444444444,\"#bd3786\"],[0.5555555555555556,\"#d8576b\"],[0.6666666666666666,\"#ed7953\"],[0.7777777777777778,\"#fb9f3a\"],[0.8888888888888888,\"#fdca26\"],[1.0,\"#f0f921\"]]}],\"mesh3d\":[{\"type\":\"mesh3d\",\"colorbar\":{\"outlinewidth\":0,\"ticks\":\"\"}}],\"scatter\":[{\"fillpattern\":{\"fillmode\":\"overlay\",\"size\":10,\"solidity\":0.2},\"type\":\"scatter\"}],\"parcoords\":[{\"type\":\"parcoords\",\"line\":{\"colorbar\":{\"outlinewidth\":0,\"ticks\":\"\"}}}],\"scatterpolargl\":[{\"type\":\"scatterpolargl\",\"marker\":{\"colorbar\":{\"outlinewidth\":0,\"ticks\":\"\"}}}],\"bar\":[{\"error_x\":{\"color\":\"#2a3f5f\"},\"error_y\":{\"color\":\"#2a3f5f\"},\"marker\":{\"line\":{\"color\":\"#E5ECF6\",\"width\":0.5},\"pattern\":{\"fillmode\":\"overlay\",\"size\":10,\"solidity\":0.2}},\"type\":\"bar\"}],\"scattergeo\":[{\"type\":\"scattergeo\",\"marker\":{\"colorbar\":{\"outlinewidth\":0,\"ticks\":\"\"}}}],\"scatterpolar\":[{\"type\":\"scatterpolar\",\"marker\":{\"colorbar\":{\"outlinewidth\":0,\"ticks\":\"\"}}}],\"histogram\":[{\"marker\":{\"pattern\":{\"fillmode\":\"overlay\",\"size\":10,\"solidity\":0.2}},\"type\":\"histogram\"}],\"scattergl\":[{\"type\":\"scattergl\",\"marker\":{\"colorbar\":{\"outlinewidth\":0,\"ticks\":\"\"}}}],\"scatter3d\":[{\"type\":\"scatter3d\",\"line\":{\"colorbar\":{\"outlinewidth\":0,\"ticks\":\"\"}},\"marker\":{\"colorbar\":{\"outlinewidth\":0,\"ticks\":\"\"}}}],\"scattermapbox\":[{\"type\":\"scattermapbox\",\"marker\":{\"colorbar\":{\"outlinewidth\":0,\"ticks\":\"\"}}}],\"scatterternary\":[{\"type\":\"scatterternary\",\"marker\":{\"colorbar\":{\"outlinewidth\":0,\"ticks\":\"\"}}}],\"scattercarpet\":[{\"type\":\"scattercarpet\",\"marker\":{\"colorbar\":{\"outlinewidth\":0,\"ticks\":\"\"}}}],\"carpet\":[{\"aaxis\":{\"endlinecolor\":\"#2a3f5f\",\"gridcolor\":\"white\",\"linecolor\":\"white\",\"minorgridcolor\":\"white\",\"startlinecolor\":\"#2a3f5f\"},\"baxis\":{\"endlinecolor\":\"#2a3f5f\",\"gridcolor\":\"white\",\"linecolor\":\"white\",\"minorgridcolor\":\"white\",\"startlinecolor\":\"#2a3f5f\"},\"type\":\"carpet\"}],\"table\":[{\"cells\":{\"fill\":{\"color\":\"#EBF0F8\"},\"line\":{\"color\":\"white\"}},\"header\":{\"fill\":{\"color\":\"#C8D4E3\"},\"line\":{\"color\":\"white\"}},\"type\":\"table\"}],\"barpolar\":[{\"marker\":{\"line\":{\"color\":\"#E5ECF6\",\"width\":0.5},\"pattern\":{\"fillmode\":\"overlay\",\"size\":10,\"solidity\":0.2}},\"type\":\"barpolar\"}],\"pie\":[{\"automargin\":true,\"type\":\"pie\"}]},\"layout\":{\"autotypenumbers\":\"strict\",\"colorway\":[\"#636efa\",\"#EF553B\",\"#00cc96\",\"#ab63fa\",\"#FFA15A\",\"#19d3f3\",\"#FF6692\",\"#B6E880\",\"#FF97FF\",\"#FECB52\"],\"font\":{\"color\":\"#2a3f5f\"},\"hovermode\":\"closest\",\"hoverlabel\":{\"align\":\"left\"},\"paper_bgcolor\":\"white\",\"plot_bgcolor\":\"#E5ECF6\",\"polar\":{\"bgcolor\":\"#E5ECF6\",\"angularaxis\":{\"gridcolor\":\"white\",\"linecolor\":\"white\",\"ticks\":\"\"},\"radialaxis\":{\"gridcolor\":\"white\",\"linecolor\":\"white\",\"ticks\":\"\"}},\"ternary\":{\"bgcolor\":\"#E5ECF6\",\"aaxis\":{\"gridcolor\":\"white\",\"linecolor\":\"white\",\"ticks\":\"\"},\"baxis\":{\"gridcolor\":\"white\",\"linecolor\":\"white\",\"ticks\":\"\"},\"caxis\":{\"gridcolor\":\"white\",\"linecolor\":\"white\",\"ticks\":\"\"}},\"coloraxis\":{\"colorbar\":{\"outlinewidth\":0,\"ticks\":\"\"}},\"colorscale\":{\"sequential\":[[0.0,\"#0d0887\"],[0.1111111111111111,\"#46039f\"],[0.2222222222222222,\"#7201a8\"],[0.3333333333333333,\"#9c179e\"],[0.4444444444444444,\"#bd3786\"],[0.5555555555555556,\"#d8576b\"],[0.6666666666666666,\"#ed7953\"],[0.7777777777777778,\"#fb9f3a\"],[0.8888888888888888,\"#fdca26\"],[1.0,\"#f0f921\"]],\"sequentialminus\":[[0.0,\"#0d0887\"],[0.1111111111111111,\"#46039f\"],[0.2222222222222222,\"#7201a8\"],[0.3333333333333333,\"#9c179e\"],[0.4444444444444444,\"#bd3786\"],[0.5555555555555556,\"#d8576b\"],[0.6666666666666666,\"#ed7953\"],[0.7777777777777778,\"#fb9f3a\"],[0.8888888888888888,\"#fdca26\"],[1.0,\"#f0f921\"]],\"diverging\":[[0,\"#8e0152\"],[0.1,\"#c51b7d\"],[0.2,\"#de77ae\"],[0.3,\"#f1b6da\"],[0.4,\"#fde0ef\"],[0.5,\"#f7f7f7\"],[0.6,\"#e6f5d0\"],[0.7,\"#b8e186\"],[0.8,\"#7fbc41\"],[0.9,\"#4d9221\"],[1,\"#276419\"]]},\"xaxis\":{\"gridcolor\":\"white\",\"linecolor\":\"white\",\"ticks\":\"\",\"title\":{\"standoff\":15},\"zerolinecolor\":\"white\",\"automargin\":true,\"zerolinewidth\":2},\"yaxis\":{\"gridcolor\":\"white\",\"linecolor\":\"white\",\"ticks\":\"\",\"title\":{\"standoff\":15},\"zerolinecolor\":\"white\",\"automargin\":true,\"zerolinewidth\":2},\"scene\":{\"xaxis\":{\"backgroundcolor\":\"#E5ECF6\",\"gridcolor\":\"white\",\"linecolor\":\"white\",\"showbackground\":true,\"ticks\":\"\",\"zerolinecolor\":\"white\",\"gridwidth\":2},\"yaxis\":{\"backgroundcolor\":\"#E5ECF6\",\"gridcolor\":\"white\",\"linecolor\":\"white\",\"showbackground\":true,\"ticks\":\"\",\"zerolinecolor\":\"white\",\"gridwidth\":2},\"zaxis\":{\"backgroundcolor\":\"#E5ECF6\",\"gridcolor\":\"white\",\"linecolor\":\"white\",\"showbackground\":true,\"ticks\":\"\",\"zerolinecolor\":\"white\",\"gridwidth\":2}},\"shapedefaults\":{\"line\":{\"color\":\"#2a3f5f\"}},\"annotationdefaults\":{\"arrowcolor\":\"#2a3f5f\",\"arrowhead\":0,\"arrowwidth\":1},\"geo\":{\"bgcolor\":\"white\",\"landcolor\":\"#E5ECF6\",\"subunitcolor\":\"white\",\"showland\":true,\"showlakes\":true,\"lakecolor\":\"white\"},\"title\":{\"x\":0.05},\"mapbox\":{\"style\":\"light\"}}},\"xaxis\":{\"anchor\":\"y\",\"domain\":[0.0,1.0],\"title\":{\"text\":\"Net worth\"}},\"yaxis\":{\"anchor\":\"x\",\"domain\":[0.0,1.0],\"title\":{\"text\":\"Count\"}},\"legend\":{\"tracegroupgap\":0},\"title\":{\"text\":\"Distribution of Net worth\"},\"barmode\":\"relative\",\"bargap\":0.05,\"showlegend\":false},                        {\"responsive\": true}                    ).then(function(){\n",
       "                            \n",
       "var gd = document.getElementById('559eabe4-64d0-4af8-89b6-0bab6d2f3928');\n",
       "var x = new MutationObserver(function (mutations, observer) {{\n",
       "        var display = window.getComputedStyle(gd).display;\n",
       "        if (!display || display === 'none') {{\n",
       "            console.log([gd, 'removed!']);\n",
       "            Plotly.purge(gd);\n",
       "            observer.disconnect();\n",
       "        }}\n",
       "}});\n",
       "\n",
       "// Listen for the removal of the full notebook cells\n",
       "var notebookContainer = gd.closest('#notebook-container');\n",
       "if (notebookContainer) {{\n",
       "    x.observe(notebookContainer, {childList: true});\n",
       "}}\n",
       "\n",
       "// Listen for the clearing of the current output cell\n",
       "var outputEl = gd.closest('.output');\n",
       "if (outputEl) {{\n",
       "    x.observe(outputEl, {childList: true});\n",
       "}}\n",
       "\n",
       "                        })                };                });            </script>        </div>"
      ]
     },
     "metadata": {},
     "output_type": "display_data"
    }
   ],
   "source": [
    "# net worth\n",
    "fig = px.histogram(car_purchasing_df, x = 'net worth', title = \"Distribution of Net worth\")\n",
    "\n",
    "fig.update_layout(\n",
    "    xaxis_title = ('Net worth'),\n",
    "    yaxis_title= ('Count'),\n",
    "    bargap = 0.05,\n",
    "    showlegend = False,\n",
    ")\n",
    "fig.show()"
   ]
  },
  {
   "cell_type": "code",
   "execution_count": 142,
   "id": "6459bc4e",
   "metadata": {},
   "outputs": [
    {
     "data": {
      "application/vnd.plotly.v1+json": {
       "config": {
        "plotlyServerURL": "https://plot.ly"
       },
       "data": [
        {
         "alignmentgroup": "True",
         "bingroup": "x",
         "hovertemplate": "car purchase amount=%{x}<br>count=%{y}<extra></extra>",
         "legendgroup": "",
         "marker": {
          "color": "#636efa",
          "pattern": {
           "shape": ""
          }
         },
         "name": "",
         "offsetgroup": "",
         "orientation": "v",
         "showlegend": false,
         "type": "histogram",
         "x": [
          35321.45877,
          45115.52566,
          42925.70921,
          67422.36313,
          55915.46248,
          56611.99784,
          28925.70549,
          47434.98265,
          48013.6141,
          38189.50601,
          59045.51309,
          42288.81046,
          28700.0334,
          49258.87571,
          49510.03356,
          53017.26723,
          41814.72067,
          43901.71244,
          44633.99241,
          54827.52403,
          51130.95379,
          43402.31525,
          47240.86004,
          46635.49432,
          45078.40193,
          44387.58412,
          37161.55393,
          49091.97185,
          58350.31809,
          43994.35972,
          17584.56963,
          44650.36073,
          66363.89316,
          53489.46214,
          39810.34817,
          51612.14311,
          38978.67458,
          10092.22509,
          35928.52404,
          54823.19221,
          45805.67186,
          41567.47033,
          28031.20985,
          27815.73813,
          68678.4352,
          68925.09447,
          34215.7615,
          37843.46619,
          37883.24231,
          48734.35708,
          27187.23914,
          63738.39065,
          48266.75516,
          46381.13111,
          31978.9799,
          48100.29052,
          47380.91224,
          41425.00116,
          38147.81018,
          32737.80177,
          37348.13737,
          47483.85316,
          49730.53339,
          40093.61981,
          42297.5062,
          52954.93121,
          48104.11184,
          43680.91327,
          52707.96816,
          49392.8897,
          30841.00154,
          49373.37555,
          41903.65171,
          45058.8969,
          52991.52667,
          50958.08115,
          41357.17897,
          44434.71917,
          38502.42392,
          41221.24918,
          38399.46139,
          41456.68097,
          30394.82494,
          42384.05128,
          39002.0771,
          19553.2739,
          45167.32542,
          36019.9556,
          50937.93844,
          12895.71468,
          38955.21919,
          51221.04249,
          25971.95673,
          60670.33672,
          54075.12064,
          40004.87142,
          61593.52058,
          39503.38829,
          52474.71839,
          42187.6828,
          57441.44414,
          22681.71667,
          33640.73697,
          31540.77868,
          60461.24268,
          45738.3343,
          34803.82395,
          34642.6024,
          27586.71854,
          54973.02495,
          49142.51174,
          58840.53964,
          57306.32866,
          51941.6756,
          30240.60975,
          67120.89878,
          42408.02625,
          41451.71843,
          42592.88647,
          34521.17618,
          42213.69644,
          41913.53713,
          59416.18101,
          51402.61506,
          54755.42038,
          47143.44008,
          64391.68906,
          37252.55194,
          52665.36511,
          44001.20706,
          51551.67997,
          38243.66481,
          39766.64804,
          40077.57289,
          33131.52734,
          48622.66097,
          47693.23482,
          39410.4616,
          33428.40183,
          32700.27871,
          62864.43011,
          29425.83001,
          44418.60955,
          36645.5609,
          53655.53859,
          45977.12502,
          38504.39444,
          47935.9394,
          60222.22672,
          38930.55234,
          27810.21814,
          47604.34591,
          42356.6895,
          31300.54347,
          42369.64247,
          31837.22537,
          26499.31418,
          38172.83602,
          39433.40631,
          37714.31659,
          57125.41541,
          46453.34819,
          43855.06077,
          55592.70383,
          42484.02283,
          40879.19107,
          20653.21409,
          35438.80549,
          36112.79346,
          38182.30465,
          41026.02421,
          27889.95197,
          43724.4896,
          57430.76903,
          41104.07108,
          49050.85378,
          41265.52929,
          64545.16339,
          29052.09521,
          30719.8156,
          38763.11306,
          39331.20127,
          32608.45468,
          58045.56257,
          54387.27727,
          36638.20688,
          39522.13129,
          42978.34626,
          60865.76396,
          46380.44732,
          56579.90338,
          42774.35579,
          37879.65385,
          45208.42539,
          56229.4127,
          50455.11935,
          49721.31082,
          31696.99679,
          49220.0218,
          46188.83514,
          36086.93161,
          43264.04965,
          40660.38317,
          51683.60859,
          44525.02085,
          48518.90163,
          45805.30588,
          54850.38742,
          32478.44758,
          42209.28948,
          55125.93237,
          47984.42062,
          43405.89086,
          44577.44829,
          37744.54285,
          47805.25605,
          44846.68557,
          46643.26581,
          56563.98675,
          41673.44617,
          61118.46947,
          37303.56701,
          46892.26617,
          56457.74038,
          45509.69732,
          27625.44144,
          46389.50237,
          29002.05665,
          51355.7106,
          42011.19965,
          52654.40455,
          44432.71747,
          46054.60253,
          58235.41454,
          42990.29255,
          50702.18103,
          47009.57741,
          49399.97041,
          42997.16761,
          44434.98419,
          46325.50959,
          46846.7305,
          56499.10202,
          42773.75905,
          52313.98392,
          34139.6373,
          60763.24731,
          66158.69494,
          31215.6421,
          46135.27233,
          56973.18105,
          24184.07443,
          49079.61942,
          37093.92033,
          43401.56612,
          29092.1311,
          48349.16457,
          33261.00057,
          41327.16554,
          49336.11628,
          51405.55229,
          31249.98803,
          43598.96993,
          48300.02057,
          54013.47595,
          38674.66038,
          37076.82508,
          37947.85125,
          41320.07256,
          66888.93694,
          12536.93842,
          39549.13039,
          52709.08196,
          53502.97742,
          52116.90791,
          38705.65839,
          48025.02542,
          59483.91183,
          35911.64559,
          41034.28343,
          51730.17434,
          53021.86074,
          32828.03477,
          29417.64694,
          57461.51158,
          50441.62427,
          41575.34739,
          46412.47781,
          47610.11718,
          70878.29664,
          55543.38497,
          53848.7555,
          39904.81613,
          44736.41097,
          46937.17422,
          28440.81268,
          38148.00163,
          42747.53925,
          29670.83337,
          63038.20422,
          63248.76188,
          42321.56548,
          44463.30502,
          67092.23276,
          22091.11839,
          40022.17406,
          56071.61377,
          49442.12107,
          42497.72862,
          37084.77621,
          51866.48719,
          35716.31133,
          39892.93343,
          35781.16156,
          42866.21274,
          80000,
          60526.97788,
          59758.73247,
          39606.24598,
          58641.71051,
          52983.89411,
          50666.88173,
          59625.02618,
          22630.25982,
          41137.89459,
          53496.48183,
          36543.93642,
          43503.97349,
          31146.71078,
          31526.04931,
          31083.70271,
          45366.35963,
          25252.93221,
          39888.59789,
          52240.72866,
          39911.6116,
          45857.75365,
          30826.10903,
          39422.79389,
          34678.83226,
          23517.91983,
          28733.68779,
          59096.26978,
          50188.86612,
          35659.12237,
          46398.35204,
          32291.18978,
          49079.29461,
          49348.88394,
          41427.59797,
          24221.99937,
          44424.07681,
          60390.06616,
          42793.9932,
          46935.72774,
          58667.06865,
          38042.80065,
          39270.57909,
          54606.18769,
          39083.94268,
          47984.12043,
          46082.80993,
          30964.07804,
          35726.95299,
          49065.1634,
          48955.85816,
          37183.10293,
          46710.52519,
          52889.56257,
          29754.66271,
          60960.83428,
          39975.43302,
          38545.80328,
          56764.44728,
          63079.84329,
          55700.83389,
          36367.18452,
          52477.83479,
          50296.67496,
          37259.84386,
          47715.96049,
          29540.87013,
          60567.18837,
          36125.48846,
          57303.87131,
          51922.07691,
          35848.82935,
          42704.3221,
          55174.98946,
          26599.90843,
          53993.44322,
          47970.76767,
          43641.65727,
          41679.7929,
          63140.05082,
          30757.65726,
          65592.22012,
          37871.7082,
          42919.5196,
          22599.45863,
          70598.96768,
          43242.58224,
          38138.57511,
          30419.8,
          63868.94051,
          45112.94547,
          44361.87507,
          19525.29827,
          49991.60697,
          61731.71426,
          41769.38288,
          46402.53583,
          37376.63439,
          33766.6413,
          30667.60927,
          52056.41478,
          30736.5798,
          39439.45349,
          38174.87433,
          40589.8625,
          62028.71192,
          48465.27211,
          40095.0498,
          49568.47685,
          31408.62631,
          47719.47741,
          35784.42411,
          42905.53815,
          48516.84335,
          45593.6849,
          32061.6467,
          32208.37522,
          35475.00344,
          29519.56184,
          55420.56668,
          42139.64528,
          50539.90169,
          34922.42846,
          43898.2733,
          39135.03023,
          41147.46679,
          24134.59205,
          42705.11311,
          38901.60925,
          28645.39425,
          52150.41786,
          66648.25077,
          42909.27129,
          49248.10595,
          27303.17104,
          47869.82593,
          59984.16361,
          45271.46081,
          9000,
          46012.10616,
          32967.20191,
          48785.15839,
          45824.5656,
          40102.11417,
          35457.1486,
          29556.7932,
          38243.06228,
          44430.63323,
          51046.42226,
          52570.36517,
          61404.22578,
          28463.64326,
          27586.20078,
          47979.48549,
          28164.86039,
          69669.47402,
          48052.65091,
          37364.23474,
          44500.81936,
          35139.24793,
          55167.37361,
          48383.69071,
          35823.55471,
          36517.70996,
          53110.88052,
          53049.44567,
          21471.11367,
          45015.67953,
          55377.87697,
          56510.13294,
          47443.74443,
          41489.64123,
          32553.53423,
          41984.62412,
          59538.40327,
          41352.47071,
          52785.16947,
          60117.67886,
          47760.66427,
          64188.26862,
          48901.44342,
          31491.41457,
          64147.28888,
          45442.15353,
          45107.22566
         ],
         "xaxis": "x",
         "yaxis": "y"
        }
       ],
       "layout": {
        "bargap": 0.05,
        "barmode": "relative",
        "legend": {
         "tracegroupgap": 0
        },
        "showlegend": false,
        "template": {
         "data": {
          "bar": [
           {
            "error_x": {
             "color": "#2a3f5f"
            },
            "error_y": {
             "color": "#2a3f5f"
            },
            "marker": {
             "line": {
              "color": "#E5ECF6",
              "width": 0.5
             },
             "pattern": {
              "fillmode": "overlay",
              "size": 10,
              "solidity": 0.2
             }
            },
            "type": "bar"
           }
          ],
          "barpolar": [
           {
            "marker": {
             "line": {
              "color": "#E5ECF6",
              "width": 0.5
             },
             "pattern": {
              "fillmode": "overlay",
              "size": 10,
              "solidity": 0.2
             }
            },
            "type": "barpolar"
           }
          ],
          "carpet": [
           {
            "aaxis": {
             "endlinecolor": "#2a3f5f",
             "gridcolor": "white",
             "linecolor": "white",
             "minorgridcolor": "white",
             "startlinecolor": "#2a3f5f"
            },
            "baxis": {
             "endlinecolor": "#2a3f5f",
             "gridcolor": "white",
             "linecolor": "white",
             "minorgridcolor": "white",
             "startlinecolor": "#2a3f5f"
            },
            "type": "carpet"
           }
          ],
          "choropleth": [
           {
            "colorbar": {
             "outlinewidth": 0,
             "ticks": ""
            },
            "type": "choropleth"
           }
          ],
          "contour": [
           {
            "colorbar": {
             "outlinewidth": 0,
             "ticks": ""
            },
            "colorscale": [
             [
              0,
              "#0d0887"
             ],
             [
              0.1111111111111111,
              "#46039f"
             ],
             [
              0.2222222222222222,
              "#7201a8"
             ],
             [
              0.3333333333333333,
              "#9c179e"
             ],
             [
              0.4444444444444444,
              "#bd3786"
             ],
             [
              0.5555555555555556,
              "#d8576b"
             ],
             [
              0.6666666666666666,
              "#ed7953"
             ],
             [
              0.7777777777777778,
              "#fb9f3a"
             ],
             [
              0.8888888888888888,
              "#fdca26"
             ],
             [
              1,
              "#f0f921"
             ]
            ],
            "type": "contour"
           }
          ],
          "contourcarpet": [
           {
            "colorbar": {
             "outlinewidth": 0,
             "ticks": ""
            },
            "type": "contourcarpet"
           }
          ],
          "heatmap": [
           {
            "colorbar": {
             "outlinewidth": 0,
             "ticks": ""
            },
            "colorscale": [
             [
              0,
              "#0d0887"
             ],
             [
              0.1111111111111111,
              "#46039f"
             ],
             [
              0.2222222222222222,
              "#7201a8"
             ],
             [
              0.3333333333333333,
              "#9c179e"
             ],
             [
              0.4444444444444444,
              "#bd3786"
             ],
             [
              0.5555555555555556,
              "#d8576b"
             ],
             [
              0.6666666666666666,
              "#ed7953"
             ],
             [
              0.7777777777777778,
              "#fb9f3a"
             ],
             [
              0.8888888888888888,
              "#fdca26"
             ],
             [
              1,
              "#f0f921"
             ]
            ],
            "type": "heatmap"
           }
          ],
          "heatmapgl": [
           {
            "colorbar": {
             "outlinewidth": 0,
             "ticks": ""
            },
            "colorscale": [
             [
              0,
              "#0d0887"
             ],
             [
              0.1111111111111111,
              "#46039f"
             ],
             [
              0.2222222222222222,
              "#7201a8"
             ],
             [
              0.3333333333333333,
              "#9c179e"
             ],
             [
              0.4444444444444444,
              "#bd3786"
             ],
             [
              0.5555555555555556,
              "#d8576b"
             ],
             [
              0.6666666666666666,
              "#ed7953"
             ],
             [
              0.7777777777777778,
              "#fb9f3a"
             ],
             [
              0.8888888888888888,
              "#fdca26"
             ],
             [
              1,
              "#f0f921"
             ]
            ],
            "type": "heatmapgl"
           }
          ],
          "histogram": [
           {
            "marker": {
             "pattern": {
              "fillmode": "overlay",
              "size": 10,
              "solidity": 0.2
             }
            },
            "type": "histogram"
           }
          ],
          "histogram2d": [
           {
            "colorbar": {
             "outlinewidth": 0,
             "ticks": ""
            },
            "colorscale": [
             [
              0,
              "#0d0887"
             ],
             [
              0.1111111111111111,
              "#46039f"
             ],
             [
              0.2222222222222222,
              "#7201a8"
             ],
             [
              0.3333333333333333,
              "#9c179e"
             ],
             [
              0.4444444444444444,
              "#bd3786"
             ],
             [
              0.5555555555555556,
              "#d8576b"
             ],
             [
              0.6666666666666666,
              "#ed7953"
             ],
             [
              0.7777777777777778,
              "#fb9f3a"
             ],
             [
              0.8888888888888888,
              "#fdca26"
             ],
             [
              1,
              "#f0f921"
             ]
            ],
            "type": "histogram2d"
           }
          ],
          "histogram2dcontour": [
           {
            "colorbar": {
             "outlinewidth": 0,
             "ticks": ""
            },
            "colorscale": [
             [
              0,
              "#0d0887"
             ],
             [
              0.1111111111111111,
              "#46039f"
             ],
             [
              0.2222222222222222,
              "#7201a8"
             ],
             [
              0.3333333333333333,
              "#9c179e"
             ],
             [
              0.4444444444444444,
              "#bd3786"
             ],
             [
              0.5555555555555556,
              "#d8576b"
             ],
             [
              0.6666666666666666,
              "#ed7953"
             ],
             [
              0.7777777777777778,
              "#fb9f3a"
             ],
             [
              0.8888888888888888,
              "#fdca26"
             ],
             [
              1,
              "#f0f921"
             ]
            ],
            "type": "histogram2dcontour"
           }
          ],
          "mesh3d": [
           {
            "colorbar": {
             "outlinewidth": 0,
             "ticks": ""
            },
            "type": "mesh3d"
           }
          ],
          "parcoords": [
           {
            "line": {
             "colorbar": {
              "outlinewidth": 0,
              "ticks": ""
             }
            },
            "type": "parcoords"
           }
          ],
          "pie": [
           {
            "automargin": true,
            "type": "pie"
           }
          ],
          "scatter": [
           {
            "fillpattern": {
             "fillmode": "overlay",
             "size": 10,
             "solidity": 0.2
            },
            "type": "scatter"
           }
          ],
          "scatter3d": [
           {
            "line": {
             "colorbar": {
              "outlinewidth": 0,
              "ticks": ""
             }
            },
            "marker": {
             "colorbar": {
              "outlinewidth": 0,
              "ticks": ""
             }
            },
            "type": "scatter3d"
           }
          ],
          "scattercarpet": [
           {
            "marker": {
             "colorbar": {
              "outlinewidth": 0,
              "ticks": ""
             }
            },
            "type": "scattercarpet"
           }
          ],
          "scattergeo": [
           {
            "marker": {
             "colorbar": {
              "outlinewidth": 0,
              "ticks": ""
             }
            },
            "type": "scattergeo"
           }
          ],
          "scattergl": [
           {
            "marker": {
             "colorbar": {
              "outlinewidth": 0,
              "ticks": ""
             }
            },
            "type": "scattergl"
           }
          ],
          "scattermapbox": [
           {
            "marker": {
             "colorbar": {
              "outlinewidth": 0,
              "ticks": ""
             }
            },
            "type": "scattermapbox"
           }
          ],
          "scatterpolar": [
           {
            "marker": {
             "colorbar": {
              "outlinewidth": 0,
              "ticks": ""
             }
            },
            "type": "scatterpolar"
           }
          ],
          "scatterpolargl": [
           {
            "marker": {
             "colorbar": {
              "outlinewidth": 0,
              "ticks": ""
             }
            },
            "type": "scatterpolargl"
           }
          ],
          "scatterternary": [
           {
            "marker": {
             "colorbar": {
              "outlinewidth": 0,
              "ticks": ""
             }
            },
            "type": "scatterternary"
           }
          ],
          "surface": [
           {
            "colorbar": {
             "outlinewidth": 0,
             "ticks": ""
            },
            "colorscale": [
             [
              0,
              "#0d0887"
             ],
             [
              0.1111111111111111,
              "#46039f"
             ],
             [
              0.2222222222222222,
              "#7201a8"
             ],
             [
              0.3333333333333333,
              "#9c179e"
             ],
             [
              0.4444444444444444,
              "#bd3786"
             ],
             [
              0.5555555555555556,
              "#d8576b"
             ],
             [
              0.6666666666666666,
              "#ed7953"
             ],
             [
              0.7777777777777778,
              "#fb9f3a"
             ],
             [
              0.8888888888888888,
              "#fdca26"
             ],
             [
              1,
              "#f0f921"
             ]
            ],
            "type": "surface"
           }
          ],
          "table": [
           {
            "cells": {
             "fill": {
              "color": "#EBF0F8"
             },
             "line": {
              "color": "white"
             }
            },
            "header": {
             "fill": {
              "color": "#C8D4E3"
             },
             "line": {
              "color": "white"
             }
            },
            "type": "table"
           }
          ]
         },
         "layout": {
          "annotationdefaults": {
           "arrowcolor": "#2a3f5f",
           "arrowhead": 0,
           "arrowwidth": 1
          },
          "autotypenumbers": "strict",
          "coloraxis": {
           "colorbar": {
            "outlinewidth": 0,
            "ticks": ""
           }
          },
          "colorscale": {
           "diverging": [
            [
             0,
             "#8e0152"
            ],
            [
             0.1,
             "#c51b7d"
            ],
            [
             0.2,
             "#de77ae"
            ],
            [
             0.3,
             "#f1b6da"
            ],
            [
             0.4,
             "#fde0ef"
            ],
            [
             0.5,
             "#f7f7f7"
            ],
            [
             0.6,
             "#e6f5d0"
            ],
            [
             0.7,
             "#b8e186"
            ],
            [
             0.8,
             "#7fbc41"
            ],
            [
             0.9,
             "#4d9221"
            ],
            [
             1,
             "#276419"
            ]
           ],
           "sequential": [
            [
             0,
             "#0d0887"
            ],
            [
             0.1111111111111111,
             "#46039f"
            ],
            [
             0.2222222222222222,
             "#7201a8"
            ],
            [
             0.3333333333333333,
             "#9c179e"
            ],
            [
             0.4444444444444444,
             "#bd3786"
            ],
            [
             0.5555555555555556,
             "#d8576b"
            ],
            [
             0.6666666666666666,
             "#ed7953"
            ],
            [
             0.7777777777777778,
             "#fb9f3a"
            ],
            [
             0.8888888888888888,
             "#fdca26"
            ],
            [
             1,
             "#f0f921"
            ]
           ],
           "sequentialminus": [
            [
             0,
             "#0d0887"
            ],
            [
             0.1111111111111111,
             "#46039f"
            ],
            [
             0.2222222222222222,
             "#7201a8"
            ],
            [
             0.3333333333333333,
             "#9c179e"
            ],
            [
             0.4444444444444444,
             "#bd3786"
            ],
            [
             0.5555555555555556,
             "#d8576b"
            ],
            [
             0.6666666666666666,
             "#ed7953"
            ],
            [
             0.7777777777777778,
             "#fb9f3a"
            ],
            [
             0.8888888888888888,
             "#fdca26"
            ],
            [
             1,
             "#f0f921"
            ]
           ]
          },
          "colorway": [
           "#636efa",
           "#EF553B",
           "#00cc96",
           "#ab63fa",
           "#FFA15A",
           "#19d3f3",
           "#FF6692",
           "#B6E880",
           "#FF97FF",
           "#FECB52"
          ],
          "font": {
           "color": "#2a3f5f"
          },
          "geo": {
           "bgcolor": "white",
           "lakecolor": "white",
           "landcolor": "#E5ECF6",
           "showlakes": true,
           "showland": true,
           "subunitcolor": "white"
          },
          "hoverlabel": {
           "align": "left"
          },
          "hovermode": "closest",
          "mapbox": {
           "style": "light"
          },
          "paper_bgcolor": "white",
          "plot_bgcolor": "#E5ECF6",
          "polar": {
           "angularaxis": {
            "gridcolor": "white",
            "linecolor": "white",
            "ticks": ""
           },
           "bgcolor": "#E5ECF6",
           "radialaxis": {
            "gridcolor": "white",
            "linecolor": "white",
            "ticks": ""
           }
          },
          "scene": {
           "xaxis": {
            "backgroundcolor": "#E5ECF6",
            "gridcolor": "white",
            "gridwidth": 2,
            "linecolor": "white",
            "showbackground": true,
            "ticks": "",
            "zerolinecolor": "white"
           },
           "yaxis": {
            "backgroundcolor": "#E5ECF6",
            "gridcolor": "white",
            "gridwidth": 2,
            "linecolor": "white",
            "showbackground": true,
            "ticks": "",
            "zerolinecolor": "white"
           },
           "zaxis": {
            "backgroundcolor": "#E5ECF6",
            "gridcolor": "white",
            "gridwidth": 2,
            "linecolor": "white",
            "showbackground": true,
            "ticks": "",
            "zerolinecolor": "white"
           }
          },
          "shapedefaults": {
           "line": {
            "color": "#2a3f5f"
           }
          },
          "ternary": {
           "aaxis": {
            "gridcolor": "white",
            "linecolor": "white",
            "ticks": ""
           },
           "baxis": {
            "gridcolor": "white",
            "linecolor": "white",
            "ticks": ""
           },
           "bgcolor": "#E5ECF6",
           "caxis": {
            "gridcolor": "white",
            "linecolor": "white",
            "ticks": ""
           }
          },
          "title": {
           "x": 0.05
          },
          "xaxis": {
           "automargin": true,
           "gridcolor": "white",
           "linecolor": "white",
           "ticks": "",
           "title": {
            "standoff": 15
           },
           "zerolinecolor": "white",
           "zerolinewidth": 2
          },
          "yaxis": {
           "automargin": true,
           "gridcolor": "white",
           "linecolor": "white",
           "ticks": "",
           "title": {
            "standoff": 15
           },
           "zerolinecolor": "white",
           "zerolinewidth": 2
          }
         }
        },
        "title": {
         "text": "Distribution of Car purchase amount"
        },
        "xaxis": {
         "anchor": "y",
         "domain": [
          0,
          1
         ],
         "title": {
          "text": "car purchase amount"
         }
        },
        "yaxis": {
         "anchor": "x",
         "domain": [
          0,
          1
         ],
         "title": {
          "text": "Count"
         }
        }
       }
      },
      "text/html": [
       "<div>                            <div id=\"e6e2143a-afe3-4472-be4a-4f63028a4566\" class=\"plotly-graph-div\" style=\"height:525px; width:100%;\"></div>            <script type=\"text/javascript\">                require([\"plotly\"], function(Plotly) {                    window.PLOTLYENV=window.PLOTLYENV || {};                                    if (document.getElementById(\"e6e2143a-afe3-4472-be4a-4f63028a4566\")) {                    Plotly.newPlot(                        \"e6e2143a-afe3-4472-be4a-4f63028a4566\",                        [{\"alignmentgroup\":\"True\",\"bingroup\":\"x\",\"hovertemplate\":\"car purchase amount=%{x}<br>count=%{y}<extra></extra>\",\"legendgroup\":\"\",\"marker\":{\"color\":\"#636efa\",\"pattern\":{\"shape\":\"\"}},\"name\":\"\",\"offsetgroup\":\"\",\"orientation\":\"v\",\"showlegend\":false,\"x\":[35321.45877,45115.52566,42925.70921,67422.36313,55915.46248,56611.99784,28925.70549,47434.98265,48013.6141,38189.50601,59045.51309,42288.81046,28700.0334,49258.87571,49510.03356,53017.26723,41814.72067,43901.71244,44633.99241,54827.52403,51130.95379,43402.31525,47240.86004,46635.49432,45078.40193,44387.58412,37161.55393,49091.97185,58350.31809,43994.35972,17584.56963,44650.36073,66363.89316,53489.46214,39810.34817,51612.14311,38978.67458,10092.22509,35928.52404,54823.19221,45805.67186,41567.47033,28031.20985,27815.73813,68678.4352,68925.09447,34215.7615,37843.46619,37883.24231,48734.35708,27187.23914,63738.39065,48266.75516,46381.13111,31978.9799,48100.29052,47380.91224,41425.00116,38147.81018,32737.80177,37348.13737,47483.85316,49730.53339,40093.61981,42297.5062,52954.93121,48104.11184,43680.91327,52707.96816,49392.8897,30841.00154,49373.37555,41903.65171,45058.8969,52991.52667,50958.08115,41357.17897,44434.71917,38502.42392,41221.24918,38399.46139,41456.68097,30394.82494,42384.05128,39002.0771,19553.2739,45167.32542,36019.9556,50937.93844,12895.71468,38955.21919,51221.04249,25971.95673,60670.33672,54075.12064,40004.87142,61593.52058,39503.38829,52474.71839,42187.6828,57441.44414,22681.71667,33640.73697,31540.77868,60461.24268,45738.3343,34803.82395,34642.6024,27586.71854,54973.02495,49142.51174,58840.53964,57306.32866,51941.6756,30240.60975,67120.89878,42408.02625,41451.71843,42592.88647,34521.17618,42213.69644,41913.53713,59416.18101,51402.61506,54755.42038,47143.44008,64391.68906,37252.55194,52665.36511,44001.20706,51551.67997,38243.66481,39766.64804,40077.57289,33131.52734,48622.66097,47693.23482,39410.4616,33428.40183,32700.27871,62864.43011,29425.83001,44418.60955,36645.5609,53655.53859,45977.12502,38504.39444,47935.9394,60222.22672,38930.55234,27810.21814,47604.34591,42356.6895,31300.54347,42369.64247,31837.22537,26499.31418,38172.83602,39433.40631,37714.31659,57125.41541,46453.34819,43855.06077,55592.70383,42484.02283,40879.19107,20653.21409,35438.80549,36112.79346,38182.30465,41026.02421,27889.95197,43724.4896,57430.76903,41104.07108,49050.85378,41265.52929,64545.16339,29052.09521,30719.8156,38763.11306,39331.20127,32608.45468,58045.56257,54387.27727,36638.20688,39522.13129,42978.34626,60865.76396,46380.44732,56579.90338,42774.35579,37879.65385,45208.42539,56229.4127,50455.11935,49721.31082,31696.99679,49220.0218,46188.83514,36086.93161,43264.04965,40660.38317,51683.60859,44525.02085,48518.90163,45805.30588,54850.38742,32478.44758,42209.28948,55125.93237,47984.42062,43405.89086,44577.44829,37744.54285,47805.25605,44846.68557,46643.26581,56563.98675,41673.44617,61118.46947,37303.56701,46892.26617,56457.74038,45509.69732,27625.44144,46389.50237,29002.05665,51355.7106,42011.19965,52654.40455,44432.71747,46054.60253,58235.41454,42990.29255,50702.18103,47009.57741,49399.97041,42997.16761,44434.98419,46325.50959,46846.7305,56499.10202,42773.75905,52313.98392,34139.6373,60763.24731,66158.69494,31215.6421,46135.27233,56973.18105,24184.07443,49079.61942,37093.92033,43401.56612,29092.1311,48349.16457,33261.00057,41327.16554,49336.11628,51405.55229,31249.98803,43598.96993,48300.02057,54013.47595,38674.66038,37076.82508,37947.85125,41320.07256,66888.93694,12536.93842,39549.13039,52709.08196,53502.97742,52116.90791,38705.65839,48025.02542,59483.91183,35911.64559,41034.28343,51730.17434,53021.86074,32828.03477,29417.64694,57461.51158,50441.62427,41575.34739,46412.47781,47610.11718,70878.29664,55543.38497,53848.7555,39904.81613,44736.41097,46937.17422,28440.81268,38148.00163,42747.53925,29670.83337,63038.20422,63248.76188,42321.56548,44463.30502,67092.23276,22091.11839,40022.17406,56071.61377,49442.12107,42497.72862,37084.77621,51866.48719,35716.31133,39892.93343,35781.16156,42866.21274,80000.0,60526.97788,59758.73247,39606.24598,58641.71051,52983.89411,50666.88173,59625.02618,22630.25982,41137.89459,53496.48183,36543.93642,43503.97349,31146.71078,31526.04931,31083.70271,45366.35963,25252.93221,39888.59789,52240.72866,39911.6116,45857.75365,30826.10903,39422.79389,34678.83226,23517.91983,28733.68779,59096.26978,50188.86612,35659.12237,46398.35204,32291.18978,49079.29461,49348.88394,41427.59797,24221.99937,44424.07681,60390.06616,42793.9932,46935.72774,58667.06865,38042.80065,39270.57909,54606.18769,39083.94268,47984.12043,46082.80993,30964.07804,35726.95299,49065.1634,48955.85816,37183.10293,46710.52519,52889.56257,29754.66271,60960.83428,39975.43302,38545.80328,56764.44728,63079.84329,55700.83389,36367.18452,52477.83479,50296.67496,37259.84386,47715.96049,29540.87013,60567.18837,36125.48846,57303.87131,51922.07691,35848.82935,42704.3221,55174.98946,26599.90843,53993.44322,47970.76767,43641.65727,41679.7929,63140.05082,30757.65726,65592.22012,37871.7082,42919.5196,22599.45863,70598.96768,43242.58224,38138.57511,30419.8,63868.94051,45112.94547,44361.87507,19525.29827,49991.60697,61731.71426,41769.38288,46402.53583,37376.63439,33766.6413,30667.60927,52056.41478,30736.5798,39439.45349,38174.87433,40589.8625,62028.71192,48465.27211,40095.0498,49568.47685,31408.62631,47719.47741,35784.42411,42905.53815,48516.84335,45593.6849,32061.6467,32208.37522,35475.00344,29519.56184,55420.56668,42139.64528,50539.90169,34922.42846,43898.2733,39135.03023,41147.46679,24134.59205,42705.11311,38901.60925,28645.39425,52150.41786,66648.25077,42909.27129,49248.10595,27303.17104,47869.82593,59984.16361,45271.46081,9000.0,46012.10616,32967.20191,48785.15839,45824.5656,40102.11417,35457.1486,29556.7932,38243.06228,44430.63323,51046.42226,52570.36517,61404.22578,28463.64326,27586.20078,47979.48549,28164.86039,69669.47402,48052.65091,37364.23474,44500.81936,35139.24793,55167.37361,48383.69071,35823.55471,36517.70996,53110.88052,53049.44567,21471.11367,45015.67953,55377.87697,56510.13294,47443.74443,41489.64123,32553.53423,41984.62412,59538.40327,41352.47071,52785.16947,60117.67886,47760.66427,64188.26862,48901.44342,31491.41457,64147.28888,45442.15353,45107.22566],\"xaxis\":\"x\",\"yaxis\":\"y\",\"type\":\"histogram\"}],                        {\"template\":{\"data\":{\"histogram2dcontour\":[{\"type\":\"histogram2dcontour\",\"colorbar\":{\"outlinewidth\":0,\"ticks\":\"\"},\"colorscale\":[[0.0,\"#0d0887\"],[0.1111111111111111,\"#46039f\"],[0.2222222222222222,\"#7201a8\"],[0.3333333333333333,\"#9c179e\"],[0.4444444444444444,\"#bd3786\"],[0.5555555555555556,\"#d8576b\"],[0.6666666666666666,\"#ed7953\"],[0.7777777777777778,\"#fb9f3a\"],[0.8888888888888888,\"#fdca26\"],[1.0,\"#f0f921\"]]}],\"choropleth\":[{\"type\":\"choropleth\",\"colorbar\":{\"outlinewidth\":0,\"ticks\":\"\"}}],\"histogram2d\":[{\"type\":\"histogram2d\",\"colorbar\":{\"outlinewidth\":0,\"ticks\":\"\"},\"colorscale\":[[0.0,\"#0d0887\"],[0.1111111111111111,\"#46039f\"],[0.2222222222222222,\"#7201a8\"],[0.3333333333333333,\"#9c179e\"],[0.4444444444444444,\"#bd3786\"],[0.5555555555555556,\"#d8576b\"],[0.6666666666666666,\"#ed7953\"],[0.7777777777777778,\"#fb9f3a\"],[0.8888888888888888,\"#fdca26\"],[1.0,\"#f0f921\"]]}],\"heatmap\":[{\"type\":\"heatmap\",\"colorbar\":{\"outlinewidth\":0,\"ticks\":\"\"},\"colorscale\":[[0.0,\"#0d0887\"],[0.1111111111111111,\"#46039f\"],[0.2222222222222222,\"#7201a8\"],[0.3333333333333333,\"#9c179e\"],[0.4444444444444444,\"#bd3786\"],[0.5555555555555556,\"#d8576b\"],[0.6666666666666666,\"#ed7953\"],[0.7777777777777778,\"#fb9f3a\"],[0.8888888888888888,\"#fdca26\"],[1.0,\"#f0f921\"]]}],\"heatmapgl\":[{\"type\":\"heatmapgl\",\"colorbar\":{\"outlinewidth\":0,\"ticks\":\"\"},\"colorscale\":[[0.0,\"#0d0887\"],[0.1111111111111111,\"#46039f\"],[0.2222222222222222,\"#7201a8\"],[0.3333333333333333,\"#9c179e\"],[0.4444444444444444,\"#bd3786\"],[0.5555555555555556,\"#d8576b\"],[0.6666666666666666,\"#ed7953\"],[0.7777777777777778,\"#fb9f3a\"],[0.8888888888888888,\"#fdca26\"],[1.0,\"#f0f921\"]]}],\"contourcarpet\":[{\"type\":\"contourcarpet\",\"colorbar\":{\"outlinewidth\":0,\"ticks\":\"\"}}],\"contour\":[{\"type\":\"contour\",\"colorbar\":{\"outlinewidth\":0,\"ticks\":\"\"},\"colorscale\":[[0.0,\"#0d0887\"],[0.1111111111111111,\"#46039f\"],[0.2222222222222222,\"#7201a8\"],[0.3333333333333333,\"#9c179e\"],[0.4444444444444444,\"#bd3786\"],[0.5555555555555556,\"#d8576b\"],[0.6666666666666666,\"#ed7953\"],[0.7777777777777778,\"#fb9f3a\"],[0.8888888888888888,\"#fdca26\"],[1.0,\"#f0f921\"]]}],\"surface\":[{\"type\":\"surface\",\"colorbar\":{\"outlinewidth\":0,\"ticks\":\"\"},\"colorscale\":[[0.0,\"#0d0887\"],[0.1111111111111111,\"#46039f\"],[0.2222222222222222,\"#7201a8\"],[0.3333333333333333,\"#9c179e\"],[0.4444444444444444,\"#bd3786\"],[0.5555555555555556,\"#d8576b\"],[0.6666666666666666,\"#ed7953\"],[0.7777777777777778,\"#fb9f3a\"],[0.8888888888888888,\"#fdca26\"],[1.0,\"#f0f921\"]]}],\"mesh3d\":[{\"type\":\"mesh3d\",\"colorbar\":{\"outlinewidth\":0,\"ticks\":\"\"}}],\"scatter\":[{\"fillpattern\":{\"fillmode\":\"overlay\",\"size\":10,\"solidity\":0.2},\"type\":\"scatter\"}],\"parcoords\":[{\"type\":\"parcoords\",\"line\":{\"colorbar\":{\"outlinewidth\":0,\"ticks\":\"\"}}}],\"scatterpolargl\":[{\"type\":\"scatterpolargl\",\"marker\":{\"colorbar\":{\"outlinewidth\":0,\"ticks\":\"\"}}}],\"bar\":[{\"error_x\":{\"color\":\"#2a3f5f\"},\"error_y\":{\"color\":\"#2a3f5f\"},\"marker\":{\"line\":{\"color\":\"#E5ECF6\",\"width\":0.5},\"pattern\":{\"fillmode\":\"overlay\",\"size\":10,\"solidity\":0.2}},\"type\":\"bar\"}],\"scattergeo\":[{\"type\":\"scattergeo\",\"marker\":{\"colorbar\":{\"outlinewidth\":0,\"ticks\":\"\"}}}],\"scatterpolar\":[{\"type\":\"scatterpolar\",\"marker\":{\"colorbar\":{\"outlinewidth\":0,\"ticks\":\"\"}}}],\"histogram\":[{\"marker\":{\"pattern\":{\"fillmode\":\"overlay\",\"size\":10,\"solidity\":0.2}},\"type\":\"histogram\"}],\"scattergl\":[{\"type\":\"scattergl\",\"marker\":{\"colorbar\":{\"outlinewidth\":0,\"ticks\":\"\"}}}],\"scatter3d\":[{\"type\":\"scatter3d\",\"line\":{\"colorbar\":{\"outlinewidth\":0,\"ticks\":\"\"}},\"marker\":{\"colorbar\":{\"outlinewidth\":0,\"ticks\":\"\"}}}],\"scattermapbox\":[{\"type\":\"scattermapbox\",\"marker\":{\"colorbar\":{\"outlinewidth\":0,\"ticks\":\"\"}}}],\"scatterternary\":[{\"type\":\"scatterternary\",\"marker\":{\"colorbar\":{\"outlinewidth\":0,\"ticks\":\"\"}}}],\"scattercarpet\":[{\"type\":\"scattercarpet\",\"marker\":{\"colorbar\":{\"outlinewidth\":0,\"ticks\":\"\"}}}],\"carpet\":[{\"aaxis\":{\"endlinecolor\":\"#2a3f5f\",\"gridcolor\":\"white\",\"linecolor\":\"white\",\"minorgridcolor\":\"white\",\"startlinecolor\":\"#2a3f5f\"},\"baxis\":{\"endlinecolor\":\"#2a3f5f\",\"gridcolor\":\"white\",\"linecolor\":\"white\",\"minorgridcolor\":\"white\",\"startlinecolor\":\"#2a3f5f\"},\"type\":\"carpet\"}],\"table\":[{\"cells\":{\"fill\":{\"color\":\"#EBF0F8\"},\"line\":{\"color\":\"white\"}},\"header\":{\"fill\":{\"color\":\"#C8D4E3\"},\"line\":{\"color\":\"white\"}},\"type\":\"table\"}],\"barpolar\":[{\"marker\":{\"line\":{\"color\":\"#E5ECF6\",\"width\":0.5},\"pattern\":{\"fillmode\":\"overlay\",\"size\":10,\"solidity\":0.2}},\"type\":\"barpolar\"}],\"pie\":[{\"automargin\":true,\"type\":\"pie\"}]},\"layout\":{\"autotypenumbers\":\"strict\",\"colorway\":[\"#636efa\",\"#EF553B\",\"#00cc96\",\"#ab63fa\",\"#FFA15A\",\"#19d3f3\",\"#FF6692\",\"#B6E880\",\"#FF97FF\",\"#FECB52\"],\"font\":{\"color\":\"#2a3f5f\"},\"hovermode\":\"closest\",\"hoverlabel\":{\"align\":\"left\"},\"paper_bgcolor\":\"white\",\"plot_bgcolor\":\"#E5ECF6\",\"polar\":{\"bgcolor\":\"#E5ECF6\",\"angularaxis\":{\"gridcolor\":\"white\",\"linecolor\":\"white\",\"ticks\":\"\"},\"radialaxis\":{\"gridcolor\":\"white\",\"linecolor\":\"white\",\"ticks\":\"\"}},\"ternary\":{\"bgcolor\":\"#E5ECF6\",\"aaxis\":{\"gridcolor\":\"white\",\"linecolor\":\"white\",\"ticks\":\"\"},\"baxis\":{\"gridcolor\":\"white\",\"linecolor\":\"white\",\"ticks\":\"\"},\"caxis\":{\"gridcolor\":\"white\",\"linecolor\":\"white\",\"ticks\":\"\"}},\"coloraxis\":{\"colorbar\":{\"outlinewidth\":0,\"ticks\":\"\"}},\"colorscale\":{\"sequential\":[[0.0,\"#0d0887\"],[0.1111111111111111,\"#46039f\"],[0.2222222222222222,\"#7201a8\"],[0.3333333333333333,\"#9c179e\"],[0.4444444444444444,\"#bd3786\"],[0.5555555555555556,\"#d8576b\"],[0.6666666666666666,\"#ed7953\"],[0.7777777777777778,\"#fb9f3a\"],[0.8888888888888888,\"#fdca26\"],[1.0,\"#f0f921\"]],\"sequentialminus\":[[0.0,\"#0d0887\"],[0.1111111111111111,\"#46039f\"],[0.2222222222222222,\"#7201a8\"],[0.3333333333333333,\"#9c179e\"],[0.4444444444444444,\"#bd3786\"],[0.5555555555555556,\"#d8576b\"],[0.6666666666666666,\"#ed7953\"],[0.7777777777777778,\"#fb9f3a\"],[0.8888888888888888,\"#fdca26\"],[1.0,\"#f0f921\"]],\"diverging\":[[0,\"#8e0152\"],[0.1,\"#c51b7d\"],[0.2,\"#de77ae\"],[0.3,\"#f1b6da\"],[0.4,\"#fde0ef\"],[0.5,\"#f7f7f7\"],[0.6,\"#e6f5d0\"],[0.7,\"#b8e186\"],[0.8,\"#7fbc41\"],[0.9,\"#4d9221\"],[1,\"#276419\"]]},\"xaxis\":{\"gridcolor\":\"white\",\"linecolor\":\"white\",\"ticks\":\"\",\"title\":{\"standoff\":15},\"zerolinecolor\":\"white\",\"automargin\":true,\"zerolinewidth\":2},\"yaxis\":{\"gridcolor\":\"white\",\"linecolor\":\"white\",\"ticks\":\"\",\"title\":{\"standoff\":15},\"zerolinecolor\":\"white\",\"automargin\":true,\"zerolinewidth\":2},\"scene\":{\"xaxis\":{\"backgroundcolor\":\"#E5ECF6\",\"gridcolor\":\"white\",\"linecolor\":\"white\",\"showbackground\":true,\"ticks\":\"\",\"zerolinecolor\":\"white\",\"gridwidth\":2},\"yaxis\":{\"backgroundcolor\":\"#E5ECF6\",\"gridcolor\":\"white\",\"linecolor\":\"white\",\"showbackground\":true,\"ticks\":\"\",\"zerolinecolor\":\"white\",\"gridwidth\":2},\"zaxis\":{\"backgroundcolor\":\"#E5ECF6\",\"gridcolor\":\"white\",\"linecolor\":\"white\",\"showbackground\":true,\"ticks\":\"\",\"zerolinecolor\":\"white\",\"gridwidth\":2}},\"shapedefaults\":{\"line\":{\"color\":\"#2a3f5f\"}},\"annotationdefaults\":{\"arrowcolor\":\"#2a3f5f\",\"arrowhead\":0,\"arrowwidth\":1},\"geo\":{\"bgcolor\":\"white\",\"landcolor\":\"#E5ECF6\",\"subunitcolor\":\"white\",\"showland\":true,\"showlakes\":true,\"lakecolor\":\"white\"},\"title\":{\"x\":0.05},\"mapbox\":{\"style\":\"light\"}}},\"xaxis\":{\"anchor\":\"y\",\"domain\":[0.0,1.0],\"title\":{\"text\":\"car purchase amount\"}},\"yaxis\":{\"anchor\":\"x\",\"domain\":[0.0,1.0],\"title\":{\"text\":\"Count\"}},\"legend\":{\"tracegroupgap\":0},\"title\":{\"text\":\"Distribution of Car purchase amount\"},\"barmode\":\"relative\",\"bargap\":0.05,\"showlegend\":false},                        {\"responsive\": true}                    ).then(function(){\n",
       "                            \n",
       "var gd = document.getElementById('e6e2143a-afe3-4472-be4a-4f63028a4566');\n",
       "var x = new MutationObserver(function (mutations, observer) {{\n",
       "        var display = window.getComputedStyle(gd).display;\n",
       "        if (!display || display === 'none') {{\n",
       "            console.log([gd, 'removed!']);\n",
       "            Plotly.purge(gd);\n",
       "            observer.disconnect();\n",
       "        }}\n",
       "}});\n",
       "\n",
       "// Listen for the removal of the full notebook cells\n",
       "var notebookContainer = gd.closest('#notebook-container');\n",
       "if (notebookContainer) {{\n",
       "    x.observe(notebookContainer, {childList: true});\n",
       "}}\n",
       "\n",
       "// Listen for the clearing of the current output cell\n",
       "var outputEl = gd.closest('.output');\n",
       "if (outputEl) {{\n",
       "    x.observe(outputEl, {childList: true});\n",
       "}}\n",
       "\n",
       "                        })                };                });            </script>        </div>"
      ]
     },
     "metadata": {},
     "output_type": "display_data"
    }
   ],
   "source": [
    "# car purchase amount\n",
    "fig = px.histogram(car_purchasing_df, x = 'car purchase amount', title = \"Distribution of Car purchase amount\")\n",
    "\n",
    "fig.update_layout(\n",
    "    xaxis_title = ('car purchase amount'),\n",
    "    yaxis_title= ('Count'),\n",
    "    bargap = 0.05,\n",
    "    showlegend = False,\n",
    ")\n",
    "fig.show()"
   ]
  },
  {
   "cell_type": "code",
   "execution_count": 143,
   "id": "04a3c3da",
   "metadata": {},
   "outputs": [
    {
     "data": {
      "application/vnd.plotly.v1+json": {
       "config": {
        "plotlyServerURL": "https://plot.ly"
       },
       "data": [
        {
         "alignmentgroup": "True",
         "bingroup": "x",
         "histfunc": "sum",
         "hovertemplate": "gender=%{x}<br>sum of car purchase amount=%{y}<extra></extra>",
         "legendgroup": "",
         "marker": {
          "color": "#636efa",
          "pattern": {
           "shape": ""
          }
         },
         "name": "",
         "offsetgroup": "",
         "orientation": "v",
         "showlegend": false,
         "type": "histogram",
         "x": [
          0,
          0,
          1,
          1,
          1,
          1,
          1,
          1,
          0,
          1,
          1,
          1,
          0,
          0,
          0,
          1,
          0,
          1,
          1,
          0,
          1,
          0,
          1,
          1,
          0,
          0,
          0,
          0,
          1,
          1,
          1,
          1,
          1,
          0,
          0,
          0,
          1,
          1,
          0,
          1,
          0,
          1,
          0,
          1,
          1,
          0,
          1,
          0,
          1,
          0,
          1,
          0,
          0,
          1,
          1,
          0,
          1,
          1,
          1,
          1,
          1,
          0,
          0,
          0,
          0,
          0,
          0,
          1,
          1,
          1,
          1,
          0,
          0,
          1,
          1,
          0,
          1,
          1,
          0,
          0,
          1,
          1,
          1,
          0,
          1,
          1,
          1,
          0,
          1,
          1,
          1,
          1,
          1,
          0,
          1,
          1,
          0,
          1,
          0,
          0,
          1,
          1,
          1,
          0,
          0,
          0,
          0,
          1,
          1,
          1,
          1,
          1,
          0,
          0,
          1,
          1,
          1,
          0,
          0,
          0,
          1,
          0,
          1,
          0,
          0,
          0,
          0,
          0,
          1,
          0,
          1,
          1,
          0,
          0,
          0,
          0,
          0,
          1,
          1,
          1,
          0,
          1,
          0,
          1,
          0,
          0,
          1,
          0,
          1,
          1,
          1,
          1,
          0,
          0,
          1,
          0,
          0,
          0,
          0,
          0,
          1,
          1,
          0,
          0,
          0,
          1,
          1,
          1,
          0,
          1,
          1,
          1,
          0,
          1,
          0,
          0,
          1,
          0,
          1,
          1,
          1,
          0,
          1,
          1,
          0,
          1,
          0,
          0,
          1,
          1,
          1,
          1,
          0,
          0,
          0,
          0,
          0,
          0,
          1,
          1,
          1,
          0,
          1,
          0,
          0,
          1,
          1,
          0,
          0,
          0,
          0,
          0,
          0,
          1,
          1,
          0,
          1,
          1,
          0,
          0,
          1,
          1,
          0,
          1,
          1,
          1,
          1,
          0,
          1,
          0,
          1,
          0,
          1,
          1,
          1,
          1,
          1,
          0,
          0,
          1,
          0,
          1,
          0,
          1,
          1,
          0,
          1,
          0,
          1,
          0,
          0,
          0,
          1,
          1,
          0,
          1,
          1,
          1,
          1,
          0,
          0,
          0,
          1,
          1,
          0,
          0,
          1,
          0,
          0,
          0,
          0,
          0,
          1,
          0,
          1,
          1,
          1,
          0,
          0,
          0,
          0,
          0,
          0,
          1,
          1,
          1,
          0,
          0,
          0,
          0,
          0,
          1,
          1,
          1,
          1,
          1,
          1,
          0,
          0,
          1,
          0,
          0,
          0,
          1,
          1,
          1,
          0,
          1,
          0,
          0,
          1,
          0,
          0,
          1,
          0,
          1,
          0,
          1,
          1,
          1,
          0,
          1,
          0,
          0,
          0,
          0,
          0,
          0,
          1,
          1,
          0,
          1,
          0,
          1,
          0,
          0,
          0,
          1,
          0,
          1,
          1,
          1,
          0,
          0,
          1,
          1,
          0,
          0,
          0,
          1,
          0,
          0,
          1,
          0,
          0,
          1,
          1,
          1,
          0,
          1,
          1,
          0,
          1,
          1,
          1,
          0,
          1,
          1,
          1,
          0,
          1,
          0,
          1,
          0,
          1,
          1,
          0,
          0,
          0,
          1,
          0,
          0,
          1,
          1,
          0,
          1,
          0,
          1,
          1,
          0,
          1,
          1,
          1,
          1,
          0,
          1,
          0,
          0,
          0,
          0,
          1,
          0,
          0,
          1,
          0,
          0,
          0,
          1,
          0,
          1,
          0,
          1,
          1,
          0,
          0,
          1,
          1,
          0,
          1,
          1,
          0,
          0,
          1,
          0,
          1,
          0,
          1,
          0,
          0,
          0,
          0,
          0,
          1,
          1,
          1,
          1,
          0,
          0,
          0,
          0,
          1,
          0,
          1,
          0,
          1,
          0,
          1,
          1,
          1,
          0,
          1,
          1,
          0,
          0,
          1,
          1,
          0,
          1,
          1,
          0,
          0,
          1,
          0,
          1,
          0,
          0,
          0,
          1,
          0,
          0,
          0,
          0,
          1,
          1,
          0,
          1,
          0,
          1,
          1,
          0,
          0,
          1,
          1,
          0,
          0,
          1,
          1,
          0,
          0,
          0,
          1,
          1,
          0,
          0,
          0,
          0,
          1,
          1,
          1,
          1
         ],
         "xaxis": "x",
         "y": [
          35321.45877,
          45115.52566,
          42925.70921,
          67422.36313,
          55915.46248,
          56611.99784,
          28925.70549,
          47434.98265,
          48013.6141,
          38189.50601,
          59045.51309,
          42288.81046,
          28700.0334,
          49258.87571,
          49510.03356,
          53017.26723,
          41814.72067,
          43901.71244,
          44633.99241,
          54827.52403,
          51130.95379,
          43402.31525,
          47240.86004,
          46635.49432,
          45078.40193,
          44387.58412,
          37161.55393,
          49091.97185,
          58350.31809,
          43994.35972,
          17584.56963,
          44650.36073,
          66363.89316,
          53489.46214,
          39810.34817,
          51612.14311,
          38978.67458,
          10092.22509,
          35928.52404,
          54823.19221,
          45805.67186,
          41567.47033,
          28031.20985,
          27815.73813,
          68678.4352,
          68925.09447,
          34215.7615,
          37843.46619,
          37883.24231,
          48734.35708,
          27187.23914,
          63738.39065,
          48266.75516,
          46381.13111,
          31978.9799,
          48100.29052,
          47380.91224,
          41425.00116,
          38147.81018,
          32737.80177,
          37348.13737,
          47483.85316,
          49730.53339,
          40093.61981,
          42297.5062,
          52954.93121,
          48104.11184,
          43680.91327,
          52707.96816,
          49392.8897,
          30841.00154,
          49373.37555,
          41903.65171,
          45058.8969,
          52991.52667,
          50958.08115,
          41357.17897,
          44434.71917,
          38502.42392,
          41221.24918,
          38399.46139,
          41456.68097,
          30394.82494,
          42384.05128,
          39002.0771,
          19553.2739,
          45167.32542,
          36019.9556,
          50937.93844,
          12895.71468,
          38955.21919,
          51221.04249,
          25971.95673,
          60670.33672,
          54075.12064,
          40004.87142,
          61593.52058,
          39503.38829,
          52474.71839,
          42187.6828,
          57441.44414,
          22681.71667,
          33640.73697,
          31540.77868,
          60461.24268,
          45738.3343,
          34803.82395,
          34642.6024,
          27586.71854,
          54973.02495,
          49142.51174,
          58840.53964,
          57306.32866,
          51941.6756,
          30240.60975,
          67120.89878,
          42408.02625,
          41451.71843,
          42592.88647,
          34521.17618,
          42213.69644,
          41913.53713,
          59416.18101,
          51402.61506,
          54755.42038,
          47143.44008,
          64391.68906,
          37252.55194,
          52665.36511,
          44001.20706,
          51551.67997,
          38243.66481,
          39766.64804,
          40077.57289,
          33131.52734,
          48622.66097,
          47693.23482,
          39410.4616,
          33428.40183,
          32700.27871,
          62864.43011,
          29425.83001,
          44418.60955,
          36645.5609,
          53655.53859,
          45977.12502,
          38504.39444,
          47935.9394,
          60222.22672,
          38930.55234,
          27810.21814,
          47604.34591,
          42356.6895,
          31300.54347,
          42369.64247,
          31837.22537,
          26499.31418,
          38172.83602,
          39433.40631,
          37714.31659,
          57125.41541,
          46453.34819,
          43855.06077,
          55592.70383,
          42484.02283,
          40879.19107,
          20653.21409,
          35438.80549,
          36112.79346,
          38182.30465,
          41026.02421,
          27889.95197,
          43724.4896,
          57430.76903,
          41104.07108,
          49050.85378,
          41265.52929,
          64545.16339,
          29052.09521,
          30719.8156,
          38763.11306,
          39331.20127,
          32608.45468,
          58045.56257,
          54387.27727,
          36638.20688,
          39522.13129,
          42978.34626,
          60865.76396,
          46380.44732,
          56579.90338,
          42774.35579,
          37879.65385,
          45208.42539,
          56229.4127,
          50455.11935,
          49721.31082,
          31696.99679,
          49220.0218,
          46188.83514,
          36086.93161,
          43264.04965,
          40660.38317,
          51683.60859,
          44525.02085,
          48518.90163,
          45805.30588,
          54850.38742,
          32478.44758,
          42209.28948,
          55125.93237,
          47984.42062,
          43405.89086,
          44577.44829,
          37744.54285,
          47805.25605,
          44846.68557,
          46643.26581,
          56563.98675,
          41673.44617,
          61118.46947,
          37303.56701,
          46892.26617,
          56457.74038,
          45509.69732,
          27625.44144,
          46389.50237,
          29002.05665,
          51355.7106,
          42011.19965,
          52654.40455,
          44432.71747,
          46054.60253,
          58235.41454,
          42990.29255,
          50702.18103,
          47009.57741,
          49399.97041,
          42997.16761,
          44434.98419,
          46325.50959,
          46846.7305,
          56499.10202,
          42773.75905,
          52313.98392,
          34139.6373,
          60763.24731,
          66158.69494,
          31215.6421,
          46135.27233,
          56973.18105,
          24184.07443,
          49079.61942,
          37093.92033,
          43401.56612,
          29092.1311,
          48349.16457,
          33261.00057,
          41327.16554,
          49336.11628,
          51405.55229,
          31249.98803,
          43598.96993,
          48300.02057,
          54013.47595,
          38674.66038,
          37076.82508,
          37947.85125,
          41320.07256,
          66888.93694,
          12536.93842,
          39549.13039,
          52709.08196,
          53502.97742,
          52116.90791,
          38705.65839,
          48025.02542,
          59483.91183,
          35911.64559,
          41034.28343,
          51730.17434,
          53021.86074,
          32828.03477,
          29417.64694,
          57461.51158,
          50441.62427,
          41575.34739,
          46412.47781,
          47610.11718,
          70878.29664,
          55543.38497,
          53848.7555,
          39904.81613,
          44736.41097,
          46937.17422,
          28440.81268,
          38148.00163,
          42747.53925,
          29670.83337,
          63038.20422,
          63248.76188,
          42321.56548,
          44463.30502,
          67092.23276,
          22091.11839,
          40022.17406,
          56071.61377,
          49442.12107,
          42497.72862,
          37084.77621,
          51866.48719,
          35716.31133,
          39892.93343,
          35781.16156,
          42866.21274,
          80000,
          60526.97788,
          59758.73247,
          39606.24598,
          58641.71051,
          52983.89411,
          50666.88173,
          59625.02618,
          22630.25982,
          41137.89459,
          53496.48183,
          36543.93642,
          43503.97349,
          31146.71078,
          31526.04931,
          31083.70271,
          45366.35963,
          25252.93221,
          39888.59789,
          52240.72866,
          39911.6116,
          45857.75365,
          30826.10903,
          39422.79389,
          34678.83226,
          23517.91983,
          28733.68779,
          59096.26978,
          50188.86612,
          35659.12237,
          46398.35204,
          32291.18978,
          49079.29461,
          49348.88394,
          41427.59797,
          24221.99937,
          44424.07681,
          60390.06616,
          42793.9932,
          46935.72774,
          58667.06865,
          38042.80065,
          39270.57909,
          54606.18769,
          39083.94268,
          47984.12043,
          46082.80993,
          30964.07804,
          35726.95299,
          49065.1634,
          48955.85816,
          37183.10293,
          46710.52519,
          52889.56257,
          29754.66271,
          60960.83428,
          39975.43302,
          38545.80328,
          56764.44728,
          63079.84329,
          55700.83389,
          36367.18452,
          52477.83479,
          50296.67496,
          37259.84386,
          47715.96049,
          29540.87013,
          60567.18837,
          36125.48846,
          57303.87131,
          51922.07691,
          35848.82935,
          42704.3221,
          55174.98946,
          26599.90843,
          53993.44322,
          47970.76767,
          43641.65727,
          41679.7929,
          63140.05082,
          30757.65726,
          65592.22012,
          37871.7082,
          42919.5196,
          22599.45863,
          70598.96768,
          43242.58224,
          38138.57511,
          30419.8,
          63868.94051,
          45112.94547,
          44361.87507,
          19525.29827,
          49991.60697,
          61731.71426,
          41769.38288,
          46402.53583,
          37376.63439,
          33766.6413,
          30667.60927,
          52056.41478,
          30736.5798,
          39439.45349,
          38174.87433,
          40589.8625,
          62028.71192,
          48465.27211,
          40095.0498,
          49568.47685,
          31408.62631,
          47719.47741,
          35784.42411,
          42905.53815,
          48516.84335,
          45593.6849,
          32061.6467,
          32208.37522,
          35475.00344,
          29519.56184,
          55420.56668,
          42139.64528,
          50539.90169,
          34922.42846,
          43898.2733,
          39135.03023,
          41147.46679,
          24134.59205,
          42705.11311,
          38901.60925,
          28645.39425,
          52150.41786,
          66648.25077,
          42909.27129,
          49248.10595,
          27303.17104,
          47869.82593,
          59984.16361,
          45271.46081,
          9000,
          46012.10616,
          32967.20191,
          48785.15839,
          45824.5656,
          40102.11417,
          35457.1486,
          29556.7932,
          38243.06228,
          44430.63323,
          51046.42226,
          52570.36517,
          61404.22578,
          28463.64326,
          27586.20078,
          47979.48549,
          28164.86039,
          69669.47402,
          48052.65091,
          37364.23474,
          44500.81936,
          35139.24793,
          55167.37361,
          48383.69071,
          35823.55471,
          36517.70996,
          53110.88052,
          53049.44567,
          21471.11367,
          45015.67953,
          55377.87697,
          56510.13294,
          47443.74443,
          41489.64123,
          32553.53423,
          41984.62412,
          59538.40327,
          41352.47071,
          52785.16947,
          60117.67886,
          47760.66427,
          64188.26862,
          48901.44342,
          31491.41457,
          64147.28888,
          45442.15353,
          45107.22566
         ],
         "yaxis": "y"
        }
       ],
       "layout": {
        "bargap": 0.05,
        "barmode": "relative",
        "legend": {
         "tracegroupgap": 0
        },
        "showlegend": false,
        "template": {
         "data": {
          "bar": [
           {
            "error_x": {
             "color": "#2a3f5f"
            },
            "error_y": {
             "color": "#2a3f5f"
            },
            "marker": {
             "line": {
              "color": "#E5ECF6",
              "width": 0.5
             },
             "pattern": {
              "fillmode": "overlay",
              "size": 10,
              "solidity": 0.2
             }
            },
            "type": "bar"
           }
          ],
          "barpolar": [
           {
            "marker": {
             "line": {
              "color": "#E5ECF6",
              "width": 0.5
             },
             "pattern": {
              "fillmode": "overlay",
              "size": 10,
              "solidity": 0.2
             }
            },
            "type": "barpolar"
           }
          ],
          "carpet": [
           {
            "aaxis": {
             "endlinecolor": "#2a3f5f",
             "gridcolor": "white",
             "linecolor": "white",
             "minorgridcolor": "white",
             "startlinecolor": "#2a3f5f"
            },
            "baxis": {
             "endlinecolor": "#2a3f5f",
             "gridcolor": "white",
             "linecolor": "white",
             "minorgridcolor": "white",
             "startlinecolor": "#2a3f5f"
            },
            "type": "carpet"
           }
          ],
          "choropleth": [
           {
            "colorbar": {
             "outlinewidth": 0,
             "ticks": ""
            },
            "type": "choropleth"
           }
          ],
          "contour": [
           {
            "colorbar": {
             "outlinewidth": 0,
             "ticks": ""
            },
            "colorscale": [
             [
              0,
              "#0d0887"
             ],
             [
              0.1111111111111111,
              "#46039f"
             ],
             [
              0.2222222222222222,
              "#7201a8"
             ],
             [
              0.3333333333333333,
              "#9c179e"
             ],
             [
              0.4444444444444444,
              "#bd3786"
             ],
             [
              0.5555555555555556,
              "#d8576b"
             ],
             [
              0.6666666666666666,
              "#ed7953"
             ],
             [
              0.7777777777777778,
              "#fb9f3a"
             ],
             [
              0.8888888888888888,
              "#fdca26"
             ],
             [
              1,
              "#f0f921"
             ]
            ],
            "type": "contour"
           }
          ],
          "contourcarpet": [
           {
            "colorbar": {
             "outlinewidth": 0,
             "ticks": ""
            },
            "type": "contourcarpet"
           }
          ],
          "heatmap": [
           {
            "colorbar": {
             "outlinewidth": 0,
             "ticks": ""
            },
            "colorscale": [
             [
              0,
              "#0d0887"
             ],
             [
              0.1111111111111111,
              "#46039f"
             ],
             [
              0.2222222222222222,
              "#7201a8"
             ],
             [
              0.3333333333333333,
              "#9c179e"
             ],
             [
              0.4444444444444444,
              "#bd3786"
             ],
             [
              0.5555555555555556,
              "#d8576b"
             ],
             [
              0.6666666666666666,
              "#ed7953"
             ],
             [
              0.7777777777777778,
              "#fb9f3a"
             ],
             [
              0.8888888888888888,
              "#fdca26"
             ],
             [
              1,
              "#f0f921"
             ]
            ],
            "type": "heatmap"
           }
          ],
          "heatmapgl": [
           {
            "colorbar": {
             "outlinewidth": 0,
             "ticks": ""
            },
            "colorscale": [
             [
              0,
              "#0d0887"
             ],
             [
              0.1111111111111111,
              "#46039f"
             ],
             [
              0.2222222222222222,
              "#7201a8"
             ],
             [
              0.3333333333333333,
              "#9c179e"
             ],
             [
              0.4444444444444444,
              "#bd3786"
             ],
             [
              0.5555555555555556,
              "#d8576b"
             ],
             [
              0.6666666666666666,
              "#ed7953"
             ],
             [
              0.7777777777777778,
              "#fb9f3a"
             ],
             [
              0.8888888888888888,
              "#fdca26"
             ],
             [
              1,
              "#f0f921"
             ]
            ],
            "type": "heatmapgl"
           }
          ],
          "histogram": [
           {
            "marker": {
             "pattern": {
              "fillmode": "overlay",
              "size": 10,
              "solidity": 0.2
             }
            },
            "type": "histogram"
           }
          ],
          "histogram2d": [
           {
            "colorbar": {
             "outlinewidth": 0,
             "ticks": ""
            },
            "colorscale": [
             [
              0,
              "#0d0887"
             ],
             [
              0.1111111111111111,
              "#46039f"
             ],
             [
              0.2222222222222222,
              "#7201a8"
             ],
             [
              0.3333333333333333,
              "#9c179e"
             ],
             [
              0.4444444444444444,
              "#bd3786"
             ],
             [
              0.5555555555555556,
              "#d8576b"
             ],
             [
              0.6666666666666666,
              "#ed7953"
             ],
             [
              0.7777777777777778,
              "#fb9f3a"
             ],
             [
              0.8888888888888888,
              "#fdca26"
             ],
             [
              1,
              "#f0f921"
             ]
            ],
            "type": "histogram2d"
           }
          ],
          "histogram2dcontour": [
           {
            "colorbar": {
             "outlinewidth": 0,
             "ticks": ""
            },
            "colorscale": [
             [
              0,
              "#0d0887"
             ],
             [
              0.1111111111111111,
              "#46039f"
             ],
             [
              0.2222222222222222,
              "#7201a8"
             ],
             [
              0.3333333333333333,
              "#9c179e"
             ],
             [
              0.4444444444444444,
              "#bd3786"
             ],
             [
              0.5555555555555556,
              "#d8576b"
             ],
             [
              0.6666666666666666,
              "#ed7953"
             ],
             [
              0.7777777777777778,
              "#fb9f3a"
             ],
             [
              0.8888888888888888,
              "#fdca26"
             ],
             [
              1,
              "#f0f921"
             ]
            ],
            "type": "histogram2dcontour"
           }
          ],
          "mesh3d": [
           {
            "colorbar": {
             "outlinewidth": 0,
             "ticks": ""
            },
            "type": "mesh3d"
           }
          ],
          "parcoords": [
           {
            "line": {
             "colorbar": {
              "outlinewidth": 0,
              "ticks": ""
             }
            },
            "type": "parcoords"
           }
          ],
          "pie": [
           {
            "automargin": true,
            "type": "pie"
           }
          ],
          "scatter": [
           {
            "fillpattern": {
             "fillmode": "overlay",
             "size": 10,
             "solidity": 0.2
            },
            "type": "scatter"
           }
          ],
          "scatter3d": [
           {
            "line": {
             "colorbar": {
              "outlinewidth": 0,
              "ticks": ""
             }
            },
            "marker": {
             "colorbar": {
              "outlinewidth": 0,
              "ticks": ""
             }
            },
            "type": "scatter3d"
           }
          ],
          "scattercarpet": [
           {
            "marker": {
             "colorbar": {
              "outlinewidth": 0,
              "ticks": ""
             }
            },
            "type": "scattercarpet"
           }
          ],
          "scattergeo": [
           {
            "marker": {
             "colorbar": {
              "outlinewidth": 0,
              "ticks": ""
             }
            },
            "type": "scattergeo"
           }
          ],
          "scattergl": [
           {
            "marker": {
             "colorbar": {
              "outlinewidth": 0,
              "ticks": ""
             }
            },
            "type": "scattergl"
           }
          ],
          "scattermapbox": [
           {
            "marker": {
             "colorbar": {
              "outlinewidth": 0,
              "ticks": ""
             }
            },
            "type": "scattermapbox"
           }
          ],
          "scatterpolar": [
           {
            "marker": {
             "colorbar": {
              "outlinewidth": 0,
              "ticks": ""
             }
            },
            "type": "scatterpolar"
           }
          ],
          "scatterpolargl": [
           {
            "marker": {
             "colorbar": {
              "outlinewidth": 0,
              "ticks": ""
             }
            },
            "type": "scatterpolargl"
           }
          ],
          "scatterternary": [
           {
            "marker": {
             "colorbar": {
              "outlinewidth": 0,
              "ticks": ""
             }
            },
            "type": "scatterternary"
           }
          ],
          "surface": [
           {
            "colorbar": {
             "outlinewidth": 0,
             "ticks": ""
            },
            "colorscale": [
             [
              0,
              "#0d0887"
             ],
             [
              0.1111111111111111,
              "#46039f"
             ],
             [
              0.2222222222222222,
              "#7201a8"
             ],
             [
              0.3333333333333333,
              "#9c179e"
             ],
             [
              0.4444444444444444,
              "#bd3786"
             ],
             [
              0.5555555555555556,
              "#d8576b"
             ],
             [
              0.6666666666666666,
              "#ed7953"
             ],
             [
              0.7777777777777778,
              "#fb9f3a"
             ],
             [
              0.8888888888888888,
              "#fdca26"
             ],
             [
              1,
              "#f0f921"
             ]
            ],
            "type": "surface"
           }
          ],
          "table": [
           {
            "cells": {
             "fill": {
              "color": "#EBF0F8"
             },
             "line": {
              "color": "white"
             }
            },
            "header": {
             "fill": {
              "color": "#C8D4E3"
             },
             "line": {
              "color": "white"
             }
            },
            "type": "table"
           }
          ]
         },
         "layout": {
          "annotationdefaults": {
           "arrowcolor": "#2a3f5f",
           "arrowhead": 0,
           "arrowwidth": 1
          },
          "autotypenumbers": "strict",
          "coloraxis": {
           "colorbar": {
            "outlinewidth": 0,
            "ticks": ""
           }
          },
          "colorscale": {
           "diverging": [
            [
             0,
             "#8e0152"
            ],
            [
             0.1,
             "#c51b7d"
            ],
            [
             0.2,
             "#de77ae"
            ],
            [
             0.3,
             "#f1b6da"
            ],
            [
             0.4,
             "#fde0ef"
            ],
            [
             0.5,
             "#f7f7f7"
            ],
            [
             0.6,
             "#e6f5d0"
            ],
            [
             0.7,
             "#b8e186"
            ],
            [
             0.8,
             "#7fbc41"
            ],
            [
             0.9,
             "#4d9221"
            ],
            [
             1,
             "#276419"
            ]
           ],
           "sequential": [
            [
             0,
             "#0d0887"
            ],
            [
             0.1111111111111111,
             "#46039f"
            ],
            [
             0.2222222222222222,
             "#7201a8"
            ],
            [
             0.3333333333333333,
             "#9c179e"
            ],
            [
             0.4444444444444444,
             "#bd3786"
            ],
            [
             0.5555555555555556,
             "#d8576b"
            ],
            [
             0.6666666666666666,
             "#ed7953"
            ],
            [
             0.7777777777777778,
             "#fb9f3a"
            ],
            [
             0.8888888888888888,
             "#fdca26"
            ],
            [
             1,
             "#f0f921"
            ]
           ],
           "sequentialminus": [
            [
             0,
             "#0d0887"
            ],
            [
             0.1111111111111111,
             "#46039f"
            ],
            [
             0.2222222222222222,
             "#7201a8"
            ],
            [
             0.3333333333333333,
             "#9c179e"
            ],
            [
             0.4444444444444444,
             "#bd3786"
            ],
            [
             0.5555555555555556,
             "#d8576b"
            ],
            [
             0.6666666666666666,
             "#ed7953"
            ],
            [
             0.7777777777777778,
             "#fb9f3a"
            ],
            [
             0.8888888888888888,
             "#fdca26"
            ],
            [
             1,
             "#f0f921"
            ]
           ]
          },
          "colorway": [
           "#636efa",
           "#EF553B",
           "#00cc96",
           "#ab63fa",
           "#FFA15A",
           "#19d3f3",
           "#FF6692",
           "#B6E880",
           "#FF97FF",
           "#FECB52"
          ],
          "font": {
           "color": "#2a3f5f"
          },
          "geo": {
           "bgcolor": "white",
           "lakecolor": "white",
           "landcolor": "#E5ECF6",
           "showlakes": true,
           "showland": true,
           "subunitcolor": "white"
          },
          "hoverlabel": {
           "align": "left"
          },
          "hovermode": "closest",
          "mapbox": {
           "style": "light"
          },
          "paper_bgcolor": "white",
          "plot_bgcolor": "#E5ECF6",
          "polar": {
           "angularaxis": {
            "gridcolor": "white",
            "linecolor": "white",
            "ticks": ""
           },
           "bgcolor": "#E5ECF6",
           "radialaxis": {
            "gridcolor": "white",
            "linecolor": "white",
            "ticks": ""
           }
          },
          "scene": {
           "xaxis": {
            "backgroundcolor": "#E5ECF6",
            "gridcolor": "white",
            "gridwidth": 2,
            "linecolor": "white",
            "showbackground": true,
            "ticks": "",
            "zerolinecolor": "white"
           },
           "yaxis": {
            "backgroundcolor": "#E5ECF6",
            "gridcolor": "white",
            "gridwidth": 2,
            "linecolor": "white",
            "showbackground": true,
            "ticks": "",
            "zerolinecolor": "white"
           },
           "zaxis": {
            "backgroundcolor": "#E5ECF6",
            "gridcolor": "white",
            "gridwidth": 2,
            "linecolor": "white",
            "showbackground": true,
            "ticks": "",
            "zerolinecolor": "white"
           }
          },
          "shapedefaults": {
           "line": {
            "color": "#2a3f5f"
           }
          },
          "ternary": {
           "aaxis": {
            "gridcolor": "white",
            "linecolor": "white",
            "ticks": ""
           },
           "baxis": {
            "gridcolor": "white",
            "linecolor": "white",
            "ticks": ""
           },
           "bgcolor": "#E5ECF6",
           "caxis": {
            "gridcolor": "white",
            "linecolor": "white",
            "ticks": ""
           }
          },
          "title": {
           "x": 0.05
          },
          "xaxis": {
           "automargin": true,
           "gridcolor": "white",
           "linecolor": "white",
           "ticks": "",
           "title": {
            "standoff": 15
           },
           "zerolinecolor": "white",
           "zerolinewidth": 2
          },
          "yaxis": {
           "automargin": true,
           "gridcolor": "white",
           "linecolor": "white",
           "ticks": "",
           "title": {
            "standoff": 15
           },
           "zerolinecolor": "white",
           "zerolinewidth": 2
          }
         }
        },
        "title": {
         "text": "Sum of Car purchase amount with respect to gender"
        },
        "xaxis": {
         "anchor": "y",
         "domain": [
          0,
          1
         ],
         "title": {
          "text": "Country"
         }
        },
        "yaxis": {
         "anchor": "x",
         "domain": [
          0,
          1
         ],
         "title": {
          "text": "Car purchase amount"
         }
        }
       }
      },
      "text/html": [
       "<div>                            <div id=\"ee410274-174b-46c9-b193-af91a1ec0f7a\" class=\"plotly-graph-div\" style=\"height:525px; width:100%;\"></div>            <script type=\"text/javascript\">                require([\"plotly\"], function(Plotly) {                    window.PLOTLYENV=window.PLOTLYENV || {};                                    if (document.getElementById(\"ee410274-174b-46c9-b193-af91a1ec0f7a\")) {                    Plotly.newPlot(                        \"ee410274-174b-46c9-b193-af91a1ec0f7a\",                        [{\"alignmentgroup\":\"True\",\"bingroup\":\"x\",\"histfunc\":\"sum\",\"hovertemplate\":\"gender=%{x}<br>sum of car purchase amount=%{y}<extra></extra>\",\"legendgroup\":\"\",\"marker\":{\"color\":\"#636efa\",\"pattern\":{\"shape\":\"\"}},\"name\":\"\",\"offsetgroup\":\"\",\"orientation\":\"v\",\"showlegend\":false,\"x\":[0,0,1,1,1,1,1,1,0,1,1,1,0,0,0,1,0,1,1,0,1,0,1,1,0,0,0,0,1,1,1,1,1,0,0,0,1,1,0,1,0,1,0,1,1,0,1,0,1,0,1,0,0,1,1,0,1,1,1,1,1,0,0,0,0,0,0,1,1,1,1,0,0,1,1,0,1,1,0,0,1,1,1,0,1,1,1,0,1,1,1,1,1,0,1,1,0,1,0,0,1,1,1,0,0,0,0,1,1,1,1,1,0,0,1,1,1,0,0,0,1,0,1,0,0,0,0,0,1,0,1,1,0,0,0,0,0,1,1,1,0,1,0,1,0,0,1,0,1,1,1,1,0,0,1,0,0,0,0,0,1,1,0,0,0,1,1,1,0,1,1,1,0,1,0,0,1,0,1,1,1,0,1,1,0,1,0,0,1,1,1,1,0,0,0,0,0,0,1,1,1,0,1,0,0,1,1,0,0,0,0,0,0,1,1,0,1,1,0,0,1,1,0,1,1,1,1,0,1,0,1,0,1,1,1,1,1,0,0,1,0,1,0,1,1,0,1,0,1,0,0,0,1,1,0,1,1,1,1,0,0,0,1,1,0,0,1,0,0,0,0,0,1,0,1,1,1,0,0,0,0,0,0,1,1,1,0,0,0,0,0,1,1,1,1,1,1,0,0,1,0,0,0,1,1,1,0,1,0,0,1,0,0,1,0,1,0,1,1,1,0,1,0,0,0,0,0,0,1,1,0,1,0,1,0,0,0,1,0,1,1,1,0,0,1,1,0,0,0,1,0,0,1,0,0,1,1,1,0,1,1,0,1,1,1,0,1,1,1,0,1,0,1,0,1,1,0,0,0,1,0,0,1,1,0,1,0,1,1,0,1,1,1,1,0,1,0,0,0,0,1,0,0,1,0,0,0,1,0,1,0,1,1,0,0,1,1,0,1,1,0,0,1,0,1,0,1,0,0,0,0,0,1,1,1,1,0,0,0,0,1,0,1,0,1,0,1,1,1,0,1,1,0,0,1,1,0,1,1,0,0,1,0,1,0,0,0,1,0,0,0,0,1,1,0,1,0,1,1,0,0,1,1,0,0,1,1,0,0,0,1,1,0,0,0,0,1,1,1,1],\"xaxis\":\"x\",\"y\":[35321.45877,45115.52566,42925.70921,67422.36313,55915.46248,56611.99784,28925.70549,47434.98265,48013.6141,38189.50601,59045.51309,42288.81046,28700.0334,49258.87571,49510.03356,53017.26723,41814.72067,43901.71244,44633.99241,54827.52403,51130.95379,43402.31525,47240.86004,46635.49432,45078.40193,44387.58412,37161.55393,49091.97185,58350.31809,43994.35972,17584.56963,44650.36073,66363.89316,53489.46214,39810.34817,51612.14311,38978.67458,10092.22509,35928.52404,54823.19221,45805.67186,41567.47033,28031.20985,27815.73813,68678.4352,68925.09447,34215.7615,37843.46619,37883.24231,48734.35708,27187.23914,63738.39065,48266.75516,46381.13111,31978.9799,48100.29052,47380.91224,41425.00116,38147.81018,32737.80177,37348.13737,47483.85316,49730.53339,40093.61981,42297.5062,52954.93121,48104.11184,43680.91327,52707.96816,49392.8897,30841.00154,49373.37555,41903.65171,45058.8969,52991.52667,50958.08115,41357.17897,44434.71917,38502.42392,41221.24918,38399.46139,41456.68097,30394.82494,42384.05128,39002.0771,19553.2739,45167.32542,36019.9556,50937.93844,12895.71468,38955.21919,51221.04249,25971.95673,60670.33672,54075.12064,40004.87142,61593.52058,39503.38829,52474.71839,42187.6828,57441.44414,22681.71667,33640.73697,31540.77868,60461.24268,45738.3343,34803.82395,34642.6024,27586.71854,54973.02495,49142.51174,58840.53964,57306.32866,51941.6756,30240.60975,67120.89878,42408.02625,41451.71843,42592.88647,34521.17618,42213.69644,41913.53713,59416.18101,51402.61506,54755.42038,47143.44008,64391.68906,37252.55194,52665.36511,44001.20706,51551.67997,38243.66481,39766.64804,40077.57289,33131.52734,48622.66097,47693.23482,39410.4616,33428.40183,32700.27871,62864.43011,29425.83001,44418.60955,36645.5609,53655.53859,45977.12502,38504.39444,47935.9394,60222.22672,38930.55234,27810.21814,47604.34591,42356.6895,31300.54347,42369.64247,31837.22537,26499.31418,38172.83602,39433.40631,37714.31659,57125.41541,46453.34819,43855.06077,55592.70383,42484.02283,40879.19107,20653.21409,35438.80549,36112.79346,38182.30465,41026.02421,27889.95197,43724.4896,57430.76903,41104.07108,49050.85378,41265.52929,64545.16339,29052.09521,30719.8156,38763.11306,39331.20127,32608.45468,58045.56257,54387.27727,36638.20688,39522.13129,42978.34626,60865.76396,46380.44732,56579.90338,42774.35579,37879.65385,45208.42539,56229.4127,50455.11935,49721.31082,31696.99679,49220.0218,46188.83514,36086.93161,43264.04965,40660.38317,51683.60859,44525.02085,48518.90163,45805.30588,54850.38742,32478.44758,42209.28948,55125.93237,47984.42062,43405.89086,44577.44829,37744.54285,47805.25605,44846.68557,46643.26581,56563.98675,41673.44617,61118.46947,37303.56701,46892.26617,56457.74038,45509.69732,27625.44144,46389.50237,29002.05665,51355.7106,42011.19965,52654.40455,44432.71747,46054.60253,58235.41454,42990.29255,50702.18103,47009.57741,49399.97041,42997.16761,44434.98419,46325.50959,46846.7305,56499.10202,42773.75905,52313.98392,34139.6373,60763.24731,66158.69494,31215.6421,46135.27233,56973.18105,24184.07443,49079.61942,37093.92033,43401.56612,29092.1311,48349.16457,33261.00057,41327.16554,49336.11628,51405.55229,31249.98803,43598.96993,48300.02057,54013.47595,38674.66038,37076.82508,37947.85125,41320.07256,66888.93694,12536.93842,39549.13039,52709.08196,53502.97742,52116.90791,38705.65839,48025.02542,59483.91183,35911.64559,41034.28343,51730.17434,53021.86074,32828.03477,29417.64694,57461.51158,50441.62427,41575.34739,46412.47781,47610.11718,70878.29664,55543.38497,53848.7555,39904.81613,44736.41097,46937.17422,28440.81268,38148.00163,42747.53925,29670.83337,63038.20422,63248.76188,42321.56548,44463.30502,67092.23276,22091.11839,40022.17406,56071.61377,49442.12107,42497.72862,37084.77621,51866.48719,35716.31133,39892.93343,35781.16156,42866.21274,80000.0,60526.97788,59758.73247,39606.24598,58641.71051,52983.89411,50666.88173,59625.02618,22630.25982,41137.89459,53496.48183,36543.93642,43503.97349,31146.71078,31526.04931,31083.70271,45366.35963,25252.93221,39888.59789,52240.72866,39911.6116,45857.75365,30826.10903,39422.79389,34678.83226,23517.91983,28733.68779,59096.26978,50188.86612,35659.12237,46398.35204,32291.18978,49079.29461,49348.88394,41427.59797,24221.99937,44424.07681,60390.06616,42793.9932,46935.72774,58667.06865,38042.80065,39270.57909,54606.18769,39083.94268,47984.12043,46082.80993,30964.07804,35726.95299,49065.1634,48955.85816,37183.10293,46710.52519,52889.56257,29754.66271,60960.83428,39975.43302,38545.80328,56764.44728,63079.84329,55700.83389,36367.18452,52477.83479,50296.67496,37259.84386,47715.96049,29540.87013,60567.18837,36125.48846,57303.87131,51922.07691,35848.82935,42704.3221,55174.98946,26599.90843,53993.44322,47970.76767,43641.65727,41679.7929,63140.05082,30757.65726,65592.22012,37871.7082,42919.5196,22599.45863,70598.96768,43242.58224,38138.57511,30419.8,63868.94051,45112.94547,44361.87507,19525.29827,49991.60697,61731.71426,41769.38288,46402.53583,37376.63439,33766.6413,30667.60927,52056.41478,30736.5798,39439.45349,38174.87433,40589.8625,62028.71192,48465.27211,40095.0498,49568.47685,31408.62631,47719.47741,35784.42411,42905.53815,48516.84335,45593.6849,32061.6467,32208.37522,35475.00344,29519.56184,55420.56668,42139.64528,50539.90169,34922.42846,43898.2733,39135.03023,41147.46679,24134.59205,42705.11311,38901.60925,28645.39425,52150.41786,66648.25077,42909.27129,49248.10595,27303.17104,47869.82593,59984.16361,45271.46081,9000.0,46012.10616,32967.20191,48785.15839,45824.5656,40102.11417,35457.1486,29556.7932,38243.06228,44430.63323,51046.42226,52570.36517,61404.22578,28463.64326,27586.20078,47979.48549,28164.86039,69669.47402,48052.65091,37364.23474,44500.81936,35139.24793,55167.37361,48383.69071,35823.55471,36517.70996,53110.88052,53049.44567,21471.11367,45015.67953,55377.87697,56510.13294,47443.74443,41489.64123,32553.53423,41984.62412,59538.40327,41352.47071,52785.16947,60117.67886,47760.66427,64188.26862,48901.44342,31491.41457,64147.28888,45442.15353,45107.22566],\"yaxis\":\"y\",\"type\":\"histogram\"}],                        {\"template\":{\"data\":{\"histogram2dcontour\":[{\"type\":\"histogram2dcontour\",\"colorbar\":{\"outlinewidth\":0,\"ticks\":\"\"},\"colorscale\":[[0.0,\"#0d0887\"],[0.1111111111111111,\"#46039f\"],[0.2222222222222222,\"#7201a8\"],[0.3333333333333333,\"#9c179e\"],[0.4444444444444444,\"#bd3786\"],[0.5555555555555556,\"#d8576b\"],[0.6666666666666666,\"#ed7953\"],[0.7777777777777778,\"#fb9f3a\"],[0.8888888888888888,\"#fdca26\"],[1.0,\"#f0f921\"]]}],\"choropleth\":[{\"type\":\"choropleth\",\"colorbar\":{\"outlinewidth\":0,\"ticks\":\"\"}}],\"histogram2d\":[{\"type\":\"histogram2d\",\"colorbar\":{\"outlinewidth\":0,\"ticks\":\"\"},\"colorscale\":[[0.0,\"#0d0887\"],[0.1111111111111111,\"#46039f\"],[0.2222222222222222,\"#7201a8\"],[0.3333333333333333,\"#9c179e\"],[0.4444444444444444,\"#bd3786\"],[0.5555555555555556,\"#d8576b\"],[0.6666666666666666,\"#ed7953\"],[0.7777777777777778,\"#fb9f3a\"],[0.8888888888888888,\"#fdca26\"],[1.0,\"#f0f921\"]]}],\"heatmap\":[{\"type\":\"heatmap\",\"colorbar\":{\"outlinewidth\":0,\"ticks\":\"\"},\"colorscale\":[[0.0,\"#0d0887\"],[0.1111111111111111,\"#46039f\"],[0.2222222222222222,\"#7201a8\"],[0.3333333333333333,\"#9c179e\"],[0.4444444444444444,\"#bd3786\"],[0.5555555555555556,\"#d8576b\"],[0.6666666666666666,\"#ed7953\"],[0.7777777777777778,\"#fb9f3a\"],[0.8888888888888888,\"#fdca26\"],[1.0,\"#f0f921\"]]}],\"heatmapgl\":[{\"type\":\"heatmapgl\",\"colorbar\":{\"outlinewidth\":0,\"ticks\":\"\"},\"colorscale\":[[0.0,\"#0d0887\"],[0.1111111111111111,\"#46039f\"],[0.2222222222222222,\"#7201a8\"],[0.3333333333333333,\"#9c179e\"],[0.4444444444444444,\"#bd3786\"],[0.5555555555555556,\"#d8576b\"],[0.6666666666666666,\"#ed7953\"],[0.7777777777777778,\"#fb9f3a\"],[0.8888888888888888,\"#fdca26\"],[1.0,\"#f0f921\"]]}],\"contourcarpet\":[{\"type\":\"contourcarpet\",\"colorbar\":{\"outlinewidth\":0,\"ticks\":\"\"}}],\"contour\":[{\"type\":\"contour\",\"colorbar\":{\"outlinewidth\":0,\"ticks\":\"\"},\"colorscale\":[[0.0,\"#0d0887\"],[0.1111111111111111,\"#46039f\"],[0.2222222222222222,\"#7201a8\"],[0.3333333333333333,\"#9c179e\"],[0.4444444444444444,\"#bd3786\"],[0.5555555555555556,\"#d8576b\"],[0.6666666666666666,\"#ed7953\"],[0.7777777777777778,\"#fb9f3a\"],[0.8888888888888888,\"#fdca26\"],[1.0,\"#f0f921\"]]}],\"surface\":[{\"type\":\"surface\",\"colorbar\":{\"outlinewidth\":0,\"ticks\":\"\"},\"colorscale\":[[0.0,\"#0d0887\"],[0.1111111111111111,\"#46039f\"],[0.2222222222222222,\"#7201a8\"],[0.3333333333333333,\"#9c179e\"],[0.4444444444444444,\"#bd3786\"],[0.5555555555555556,\"#d8576b\"],[0.6666666666666666,\"#ed7953\"],[0.7777777777777778,\"#fb9f3a\"],[0.8888888888888888,\"#fdca26\"],[1.0,\"#f0f921\"]]}],\"mesh3d\":[{\"type\":\"mesh3d\",\"colorbar\":{\"outlinewidth\":0,\"ticks\":\"\"}}],\"scatter\":[{\"fillpattern\":{\"fillmode\":\"overlay\",\"size\":10,\"solidity\":0.2},\"type\":\"scatter\"}],\"parcoords\":[{\"type\":\"parcoords\",\"line\":{\"colorbar\":{\"outlinewidth\":0,\"ticks\":\"\"}}}],\"scatterpolargl\":[{\"type\":\"scatterpolargl\",\"marker\":{\"colorbar\":{\"outlinewidth\":0,\"ticks\":\"\"}}}],\"bar\":[{\"error_x\":{\"color\":\"#2a3f5f\"},\"error_y\":{\"color\":\"#2a3f5f\"},\"marker\":{\"line\":{\"color\":\"#E5ECF6\",\"width\":0.5},\"pattern\":{\"fillmode\":\"overlay\",\"size\":10,\"solidity\":0.2}},\"type\":\"bar\"}],\"scattergeo\":[{\"type\":\"scattergeo\",\"marker\":{\"colorbar\":{\"outlinewidth\":0,\"ticks\":\"\"}}}],\"scatterpolar\":[{\"type\":\"scatterpolar\",\"marker\":{\"colorbar\":{\"outlinewidth\":0,\"ticks\":\"\"}}}],\"histogram\":[{\"marker\":{\"pattern\":{\"fillmode\":\"overlay\",\"size\":10,\"solidity\":0.2}},\"type\":\"histogram\"}],\"scattergl\":[{\"type\":\"scattergl\",\"marker\":{\"colorbar\":{\"outlinewidth\":0,\"ticks\":\"\"}}}],\"scatter3d\":[{\"type\":\"scatter3d\",\"line\":{\"colorbar\":{\"outlinewidth\":0,\"ticks\":\"\"}},\"marker\":{\"colorbar\":{\"outlinewidth\":0,\"ticks\":\"\"}}}],\"scattermapbox\":[{\"type\":\"scattermapbox\",\"marker\":{\"colorbar\":{\"outlinewidth\":0,\"ticks\":\"\"}}}],\"scatterternary\":[{\"type\":\"scatterternary\",\"marker\":{\"colorbar\":{\"outlinewidth\":0,\"ticks\":\"\"}}}],\"scattercarpet\":[{\"type\":\"scattercarpet\",\"marker\":{\"colorbar\":{\"outlinewidth\":0,\"ticks\":\"\"}}}],\"carpet\":[{\"aaxis\":{\"endlinecolor\":\"#2a3f5f\",\"gridcolor\":\"white\",\"linecolor\":\"white\",\"minorgridcolor\":\"white\",\"startlinecolor\":\"#2a3f5f\"},\"baxis\":{\"endlinecolor\":\"#2a3f5f\",\"gridcolor\":\"white\",\"linecolor\":\"white\",\"minorgridcolor\":\"white\",\"startlinecolor\":\"#2a3f5f\"},\"type\":\"carpet\"}],\"table\":[{\"cells\":{\"fill\":{\"color\":\"#EBF0F8\"},\"line\":{\"color\":\"white\"}},\"header\":{\"fill\":{\"color\":\"#C8D4E3\"},\"line\":{\"color\":\"white\"}},\"type\":\"table\"}],\"barpolar\":[{\"marker\":{\"line\":{\"color\":\"#E5ECF6\",\"width\":0.5},\"pattern\":{\"fillmode\":\"overlay\",\"size\":10,\"solidity\":0.2}},\"type\":\"barpolar\"}],\"pie\":[{\"automargin\":true,\"type\":\"pie\"}]},\"layout\":{\"autotypenumbers\":\"strict\",\"colorway\":[\"#636efa\",\"#EF553B\",\"#00cc96\",\"#ab63fa\",\"#FFA15A\",\"#19d3f3\",\"#FF6692\",\"#B6E880\",\"#FF97FF\",\"#FECB52\"],\"font\":{\"color\":\"#2a3f5f\"},\"hovermode\":\"closest\",\"hoverlabel\":{\"align\":\"left\"},\"paper_bgcolor\":\"white\",\"plot_bgcolor\":\"#E5ECF6\",\"polar\":{\"bgcolor\":\"#E5ECF6\",\"angularaxis\":{\"gridcolor\":\"white\",\"linecolor\":\"white\",\"ticks\":\"\"},\"radialaxis\":{\"gridcolor\":\"white\",\"linecolor\":\"white\",\"ticks\":\"\"}},\"ternary\":{\"bgcolor\":\"#E5ECF6\",\"aaxis\":{\"gridcolor\":\"white\",\"linecolor\":\"white\",\"ticks\":\"\"},\"baxis\":{\"gridcolor\":\"white\",\"linecolor\":\"white\",\"ticks\":\"\"},\"caxis\":{\"gridcolor\":\"white\",\"linecolor\":\"white\",\"ticks\":\"\"}},\"coloraxis\":{\"colorbar\":{\"outlinewidth\":0,\"ticks\":\"\"}},\"colorscale\":{\"sequential\":[[0.0,\"#0d0887\"],[0.1111111111111111,\"#46039f\"],[0.2222222222222222,\"#7201a8\"],[0.3333333333333333,\"#9c179e\"],[0.4444444444444444,\"#bd3786\"],[0.5555555555555556,\"#d8576b\"],[0.6666666666666666,\"#ed7953\"],[0.7777777777777778,\"#fb9f3a\"],[0.8888888888888888,\"#fdca26\"],[1.0,\"#f0f921\"]],\"sequentialminus\":[[0.0,\"#0d0887\"],[0.1111111111111111,\"#46039f\"],[0.2222222222222222,\"#7201a8\"],[0.3333333333333333,\"#9c179e\"],[0.4444444444444444,\"#bd3786\"],[0.5555555555555556,\"#d8576b\"],[0.6666666666666666,\"#ed7953\"],[0.7777777777777778,\"#fb9f3a\"],[0.8888888888888888,\"#fdca26\"],[1.0,\"#f0f921\"]],\"diverging\":[[0,\"#8e0152\"],[0.1,\"#c51b7d\"],[0.2,\"#de77ae\"],[0.3,\"#f1b6da\"],[0.4,\"#fde0ef\"],[0.5,\"#f7f7f7\"],[0.6,\"#e6f5d0\"],[0.7,\"#b8e186\"],[0.8,\"#7fbc41\"],[0.9,\"#4d9221\"],[1,\"#276419\"]]},\"xaxis\":{\"gridcolor\":\"white\",\"linecolor\":\"white\",\"ticks\":\"\",\"title\":{\"standoff\":15},\"zerolinecolor\":\"white\",\"automargin\":true,\"zerolinewidth\":2},\"yaxis\":{\"gridcolor\":\"white\",\"linecolor\":\"white\",\"ticks\":\"\",\"title\":{\"standoff\":15},\"zerolinecolor\":\"white\",\"automargin\":true,\"zerolinewidth\":2},\"scene\":{\"xaxis\":{\"backgroundcolor\":\"#E5ECF6\",\"gridcolor\":\"white\",\"linecolor\":\"white\",\"showbackground\":true,\"ticks\":\"\",\"zerolinecolor\":\"white\",\"gridwidth\":2},\"yaxis\":{\"backgroundcolor\":\"#E5ECF6\",\"gridcolor\":\"white\",\"linecolor\":\"white\",\"showbackground\":true,\"ticks\":\"\",\"zerolinecolor\":\"white\",\"gridwidth\":2},\"zaxis\":{\"backgroundcolor\":\"#E5ECF6\",\"gridcolor\":\"white\",\"linecolor\":\"white\",\"showbackground\":true,\"ticks\":\"\",\"zerolinecolor\":\"white\",\"gridwidth\":2}},\"shapedefaults\":{\"line\":{\"color\":\"#2a3f5f\"}},\"annotationdefaults\":{\"arrowcolor\":\"#2a3f5f\",\"arrowhead\":0,\"arrowwidth\":1},\"geo\":{\"bgcolor\":\"white\",\"landcolor\":\"#E5ECF6\",\"subunitcolor\":\"white\",\"showland\":true,\"showlakes\":true,\"lakecolor\":\"white\"},\"title\":{\"x\":0.05},\"mapbox\":{\"style\":\"light\"}}},\"xaxis\":{\"anchor\":\"y\",\"domain\":[0.0,1.0],\"title\":{\"text\":\"Country\"}},\"yaxis\":{\"anchor\":\"x\",\"domain\":[0.0,1.0],\"title\":{\"text\":\"Car purchase amount\"}},\"legend\":{\"tracegroupgap\":0},\"title\":{\"text\":\"Sum of Car purchase amount with respect to gender\"},\"barmode\":\"relative\",\"bargap\":0.05,\"showlegend\":false},                        {\"responsive\": true}                    ).then(function(){\n",
       "                            \n",
       "var gd = document.getElementById('ee410274-174b-46c9-b193-af91a1ec0f7a');\n",
       "var x = new MutationObserver(function (mutations, observer) {{\n",
       "        var display = window.getComputedStyle(gd).display;\n",
       "        if (!display || display === 'none') {{\n",
       "            console.log([gd, 'removed!']);\n",
       "            Plotly.purge(gd);\n",
       "            observer.disconnect();\n",
       "        }}\n",
       "}});\n",
       "\n",
       "// Listen for the removal of the full notebook cells\n",
       "var notebookContainer = gd.closest('#notebook-container');\n",
       "if (notebookContainer) {{\n",
       "    x.observe(notebookContainer, {childList: true});\n",
       "}}\n",
       "\n",
       "// Listen for the clearing of the current output cell\n",
       "var outputEl = gd.closest('.output');\n",
       "if (outputEl) {{\n",
       "    x.observe(outputEl, {childList: true});\n",
       "}}\n",
       "\n",
       "                        })                };                });            </script>        </div>"
      ]
     },
     "metadata": {},
     "output_type": "display_data"
    }
   ],
   "source": [
    "fig = px.histogram(car_purchasing_df, x = 'gender', y = 'car purchase amount',\n",
    "                   title = \"Sum of Car purchase amount with respect to gender\")\n",
    "\n",
    "fig.update_layout(\n",
    "    xaxis_title = ('Country'),\n",
    "    yaxis_title= ('Car purchase amount'),\n",
    "    bargap = 0.05,\n",
    "    showlegend = False,\n",
    ")\n",
    "fig.show()"
   ]
  },
  {
   "cell_type": "code",
   "execution_count": 144,
   "id": "73526704",
   "metadata": {},
   "outputs": [
    {
     "data": {
      "text/plain": [
       "Index(['gender', 'age', 'annual Salary', 'credit card debt', 'net worth',\n",
       "       'car purchase amount'],\n",
       "      dtype='object')"
      ]
     },
     "execution_count": 144,
     "metadata": {},
     "output_type": "execute_result"
    }
   ],
   "source": [
    "car_purchasing_df.columns"
   ]
  },
  {
   "cell_type": "code",
   "execution_count": 145,
   "id": "54889db1",
   "metadata": {},
   "outputs": [
    {
     "data": {
      "application/vnd.plotly.v1+json": {
       "config": {
        "plotlyServerURL": "https://plot.ly"
       },
       "data": [
        {
         "alignmentgroup": "True",
         "bingroup": "x",
         "histfunc": "sum",
         "hovertemplate": "net worth=%{x}<br>sum of car purchase amount=%{y}<extra></extra>",
         "legendgroup": "",
         "marker": {
          "color": "#636efa",
          "pattern": {
           "shape": ""
          }
         },
         "name": "",
         "offsetgroup": "",
         "orientation": "v",
         "showlegend": false,
         "type": "histogram",
         "x": [
          238961.2505,
          530973.9078,
          638467.1773,
          548599.0524,
          560304.0671,
          428485.3604,
          326373.1812,
          629312.4041,
          630059.0274,
          476643.3544,
          612738.6171,
          293862.5123,
          430907.1673,
          420322.0702,
          146344.8965,
          481433.4324,
          370356.2223,
          549443.5886,
          431098.9998,
          566022.1306,
          480588.2345,
          307226.0977,
          497526.4566,
          688466.0503,
          499086.3442,
          429440.3297,
          315775.3207,
          341691.9337,
          188032.0778,
          583230.976,
          319837.6593,
          486069.073,
          655934.4666,
          487435.964,
          215673.5384,
          612242.7755,
          430624.8142,
          326742.7352,
          213040.9606,
          379749.9152,
          513340.0097,
          410655.9947,
          348833.8403,
          299734.1278,
          497950.2933,
          853913.8532,
          320228.6451,
          158979.7102,
          390312.1715,
          527420.7269,
          451846.1995,
          779925.7892,
          455609.1429,
          583523.0762,
          353757.5057,
          438067.7506,
          468238.7915,
          636407.1148,
          409419.5797,
          286062.5162,
          615765.9289,
          476088.3996,
          242495.9886,
          246321.8916,
          456634.2073,
          662176.4851,
          301026.2206,
          573054.3808,
          662382.6623,
          356553.3996,
          230728.3008,
          411831.0371,
          481335.3582,
          473845.8546,
          355157.6417,
          506986.9824,
          344916.1768,
          309113.0627,
          278799.6958,
          540805.494,
          441527.0144,
          523251.2663,
          407401.3776,
          409293.2658,
          386128.1333,
          245664.3652,
          496856.4912,
          448601.9484,
          388498.5102,
          579181.6552,
          173079.1798,
          536665.0464,
          259049.2824,
          635512.3606,
          398746.8458,
          391848.6041,
          479586.9387,
          165866.2,
          515084.1891,
          759479.4596,
          706977.053,
          242292.92,
          404457.3099,
          537744.1324,
          891439.8761,
          296972.4085,
          450402.2932,
          386057.421,
          323453.2022,
          778537.2095,
          386287.0208,
          416540.299,
          562605.0655,
          565932.1861,
          238529.6336,
          659279.2011,
          325701.4083,
          244310.5736,
          790526.5507,
          573052.0119,
          411070.4828,
          408147.0405,
          692401.4668,
          588570.8903,
          586368.9293,
          407733.5229,
          651215.6435,
          53366.13861,
          167031.5554,
          567357.0264,
          339207.2774,
          291360.0291,
          271430.0543,
          502946.8819,
          362564.346,
          701782.528,
          580950.3967,
          401955.501,
          293999.9427,
          510039.1484,
          560593.416,
          174525.8426,
          260269.0963,
          262959.2506,
          316064.0338,
          254617.2609,
          510811.3695,
          581497.8874,
          378357.9385,
          375889.6381,
          85520.85055,
          633383.4925,
          562663.8116,
          475126.1252,
          449895.3046,
          20000,
          216355.3406,
          191168.4476,
          543789.7212,
          363561.1972,
          352507.9012,
          368344.0637,
          411045.8332,
          517480.0937,
          445745.5544,
          399124.4489,
          97706.89181,
          473101.0273,
          405550.1689,
          315183.5688,
          362707.0273,
          255922.473,
          416817.4673,
          278181.8354,
          498441.5687,
          613706.5421,
          357639.0334,
          546630.5284,
          427011.4954,
          340663.3261,
          211765.2494,
          415005.3584,
          478422.7973,
          613242.1668,
          350157.8394,
          322905.4592,
          520997.2385,
          251702.1158,
          623033.482,
          615672.4681,
          335652.6234,
          462613.8587,
          298246.0609,
          543313.3454,
          346555.1716,
          474763.4696,
          232607.3907,
          587010.5521,
          629764.2743,
          664431.3966,
          347017.8331,
          322150.3542,
          275389.0701,
          607395.0183,
          152012.353,
          490444.4111,
          619707.4203,
          571564.7901,
          491193.3773,
          261152.8211,
          299854.2186,
          371240.2413,
          465709.8937,
          196421.7402,
          396793.4734,
          478853.3217,
          279393.491,
          383693.2041,
          830430.3692,
          112127.2567,
          331460.4727,
          335809.6171,
          509543.0859,
          761935.5177,
          620522.3842,
          539365.9366,
          565814.725,
          74257.82785,
          234159.0793,
          358615.9327,
          563498.6636,
          48620.32123,
          494985.5363,
          545946.9996,
          734443.6969,
          568947.7487,
          252220.2937,
          513974.6812,
          168703.3385,
          455589.7973,
          492113.0067,
          586717.4715,
          333543.693,
          466988.2602,
          418764.5061,
          249182.7848,
          284991.7415,
          720423.8157,
          124979.0501,
          632600.4718,
          623487.5952,
          133226.0617,
          610942.1408,
          316906.6441,
          308445.8598,
          152883.3519,
          573441.9724,
          134188.4492,
          426488.7459,
          575500.7687,
          286849.7875,
          479685.9824,
          336867.7147,
          613372.8917,
          589669.6573,
          202710.1294,
          515305.4841,
          572037.8859,
          229070.5491,
          779143.6005,
          211168.6293,
          438491.876,
          521404.2386,
          811594.0392,
          552454.0263,
          613104.784,
          202576.6196,
          397700.1404,
          505897.3041,
          210573.7042,
          581620.4824,
          481513.5074,
          371355.6935,
          136346.3069,
          679435.1745,
          793986.6155,
          353929.5495,
          630411.2698,
          491904.1899,
          819002.1748,
          626163.832,
          239217.6732,
          221290.9818,
          222341.0342,
          266765.477,
          159727.8753,
          392177.789,
          587858.6295,
          606851.1696,
          684273.5913,
          577272.6805,
          225670.1288,
          625484.0917,
          474485.6659,
          275762.4836,
          579220.0393,
          472761.6208,
          556014.9704,
          315058.7167,
          149761.1281,
          497876.2478,
          364858.7148,
          579059.3132,
          69821.6376,
          244188.0008,
          1000000,
          765711.6025,
          493592.1764,
          305253.2658,
          787984.2882,
          427287.6277,
          521815.7353,
          622324.7499,
          290711.867,
          516738.1724,
          542777.4892,
          398011.5804,
          642335.1021,
          719846.9824,
          374777.6929,
          160487.0006,
          356213.0776,
          615720.0425,
          414034.6096,
          521061.1115,
          59630.07789,
          169714.2655,
          385250.7163,
          454791.7251,
          188327.5831,
          322891.7787,
          375654.1472,
          515717.7476,
          555993.1081,
          411932.8191,
          854283.5574,
          537572.1338,
          685541.6501,
          608019.6308,
          192514.6431,
          320834.0102,
          228434.0508,
          401916.0981,
          475263.2759,
          187821.0958,
          408679.8596,
          388898.069,
          377424.6157,
          236420.9695,
          366327.7432,
          253181.9789,
          551344.3365,
          549212.4268,
          589180.4485,
          600685.1915,
          27888.74525,
          432447.5324,
          137601.844,
          480468.247,
          62149.94034,
          387538.2487,
          508962.4874,
          360457.0496,
          712233.8241,
          657178.4135,
          856287.1522,
          528087.5277,
          749016.565,
          290608.3977,
          558001.0241,
          173272.8954,
          457116.1945,
          545125.9592,
          447393.4883,
          674190.6949,
          255285.4063,
          128387.9293,
          321431.279,
          627086.6563,
          281690.8431,
          762832.2606,
          595028.8431,
          466128.9118,
          416748.7309,
          660897.0146,
          291897.4057,
          724025.4097,
          388284.2974,
          343290.677,
          129635.6343,
          805075.5197,
          298920.0067,
          344060.1754,
          141587.6498,
          684209.551,
          456524.7944,
          201228.0206,
          283241.2769,
          266531.2969,
          365862.7818,
          151946.3089,
          472403.1231,
          376886.359,
          116407.5289,
          271414.7592,
          237185.1714,
          630120.001,
          355175.3677,
          552267.6361,
          205006.2161,
          762601.0836,
          482866.5457,
          297964.2638,
          267555.1178,
          461366.7829,
          365871.4992,
          394229.8972,
          357468.1866,
          790116.4252,
          601744.9607,
          258194.8443,
          392003.2864,
          205439.3663,
          228388.5491,
          508555.1592,
          421318.9764,
          622569.5959,
          217188.4056,
          320525.7282,
          265717.2542,
          601210.2803,
          284155.4155,
          487564.5541,
          297540.8814,
          494606.6334,
          245216.1691,
          622831.922,
          478428.7174,
          314885.1345,
          201636.866,
          419556.6198,
          621309.5863,
          507572.635,
          158758.3577,
          505048.7599,
          169475.9968,
          485563.7363,
          400703.2655,
          577058.1773,
          399437.5235,
          508528.9957,
          516817.3173,
          556945.8742,
          177878.1758,
          567842.1267,
          285326.3544,
          218808.7553,
          312927.9187,
          515012.2804,
          517110.9454,
          544291.9504,
          579640.7982,
          341330.7344,
          649323.7878,
          301245.7708,
          557098.9636,
          432850.4157,
          340720.5185,
          266939.1746,
          421891.846,
          531840.3342,
          276466.6203,
          247421.9185,
          620355.2658,
          360787.6401,
          571245.3714,
          522814.817,
          347177.8367,
          497197.264,
          664862.0102,
          316128.4002,
          294506.0844,
          523680.7699,
          349588.5608,
          665099.139,
          541670.1016,
          360419.0988,
          764531.3203,
          337826.6382,
          462946.4924
         ],
         "xaxis": "x",
         "y": [
          35321.45877,
          45115.52566,
          42925.70921,
          67422.36313,
          55915.46248,
          56611.99784,
          28925.70549,
          47434.98265,
          48013.6141,
          38189.50601,
          59045.51309,
          42288.81046,
          28700.0334,
          49258.87571,
          49510.03356,
          53017.26723,
          41814.72067,
          43901.71244,
          44633.99241,
          54827.52403,
          51130.95379,
          43402.31525,
          47240.86004,
          46635.49432,
          45078.40193,
          44387.58412,
          37161.55393,
          49091.97185,
          58350.31809,
          43994.35972,
          17584.56963,
          44650.36073,
          66363.89316,
          53489.46214,
          39810.34817,
          51612.14311,
          38978.67458,
          10092.22509,
          35928.52404,
          54823.19221,
          45805.67186,
          41567.47033,
          28031.20985,
          27815.73813,
          68678.4352,
          68925.09447,
          34215.7615,
          37843.46619,
          37883.24231,
          48734.35708,
          27187.23914,
          63738.39065,
          48266.75516,
          46381.13111,
          31978.9799,
          48100.29052,
          47380.91224,
          41425.00116,
          38147.81018,
          32737.80177,
          37348.13737,
          47483.85316,
          49730.53339,
          40093.61981,
          42297.5062,
          52954.93121,
          48104.11184,
          43680.91327,
          52707.96816,
          49392.8897,
          30841.00154,
          49373.37555,
          41903.65171,
          45058.8969,
          52991.52667,
          50958.08115,
          41357.17897,
          44434.71917,
          38502.42392,
          41221.24918,
          38399.46139,
          41456.68097,
          30394.82494,
          42384.05128,
          39002.0771,
          19553.2739,
          45167.32542,
          36019.9556,
          50937.93844,
          12895.71468,
          38955.21919,
          51221.04249,
          25971.95673,
          60670.33672,
          54075.12064,
          40004.87142,
          61593.52058,
          39503.38829,
          52474.71839,
          42187.6828,
          57441.44414,
          22681.71667,
          33640.73697,
          31540.77868,
          60461.24268,
          45738.3343,
          34803.82395,
          34642.6024,
          27586.71854,
          54973.02495,
          49142.51174,
          58840.53964,
          57306.32866,
          51941.6756,
          30240.60975,
          67120.89878,
          42408.02625,
          41451.71843,
          42592.88647,
          34521.17618,
          42213.69644,
          41913.53713,
          59416.18101,
          51402.61506,
          54755.42038,
          47143.44008,
          64391.68906,
          37252.55194,
          52665.36511,
          44001.20706,
          51551.67997,
          38243.66481,
          39766.64804,
          40077.57289,
          33131.52734,
          48622.66097,
          47693.23482,
          39410.4616,
          33428.40183,
          32700.27871,
          62864.43011,
          29425.83001,
          44418.60955,
          36645.5609,
          53655.53859,
          45977.12502,
          38504.39444,
          47935.9394,
          60222.22672,
          38930.55234,
          27810.21814,
          47604.34591,
          42356.6895,
          31300.54347,
          42369.64247,
          31837.22537,
          26499.31418,
          38172.83602,
          39433.40631,
          37714.31659,
          57125.41541,
          46453.34819,
          43855.06077,
          55592.70383,
          42484.02283,
          40879.19107,
          20653.21409,
          35438.80549,
          36112.79346,
          38182.30465,
          41026.02421,
          27889.95197,
          43724.4896,
          57430.76903,
          41104.07108,
          49050.85378,
          41265.52929,
          64545.16339,
          29052.09521,
          30719.8156,
          38763.11306,
          39331.20127,
          32608.45468,
          58045.56257,
          54387.27727,
          36638.20688,
          39522.13129,
          42978.34626,
          60865.76396,
          46380.44732,
          56579.90338,
          42774.35579,
          37879.65385,
          45208.42539,
          56229.4127,
          50455.11935,
          49721.31082,
          31696.99679,
          49220.0218,
          46188.83514,
          36086.93161,
          43264.04965,
          40660.38317,
          51683.60859,
          44525.02085,
          48518.90163,
          45805.30588,
          54850.38742,
          32478.44758,
          42209.28948,
          55125.93237,
          47984.42062,
          43405.89086,
          44577.44829,
          37744.54285,
          47805.25605,
          44846.68557,
          46643.26581,
          56563.98675,
          41673.44617,
          61118.46947,
          37303.56701,
          46892.26617,
          56457.74038,
          45509.69732,
          27625.44144,
          46389.50237,
          29002.05665,
          51355.7106,
          42011.19965,
          52654.40455,
          44432.71747,
          46054.60253,
          58235.41454,
          42990.29255,
          50702.18103,
          47009.57741,
          49399.97041,
          42997.16761,
          44434.98419,
          46325.50959,
          46846.7305,
          56499.10202,
          42773.75905,
          52313.98392,
          34139.6373,
          60763.24731,
          66158.69494,
          31215.6421,
          46135.27233,
          56973.18105,
          24184.07443,
          49079.61942,
          37093.92033,
          43401.56612,
          29092.1311,
          48349.16457,
          33261.00057,
          41327.16554,
          49336.11628,
          51405.55229,
          31249.98803,
          43598.96993,
          48300.02057,
          54013.47595,
          38674.66038,
          37076.82508,
          37947.85125,
          41320.07256,
          66888.93694,
          12536.93842,
          39549.13039,
          52709.08196,
          53502.97742,
          52116.90791,
          38705.65839,
          48025.02542,
          59483.91183,
          35911.64559,
          41034.28343,
          51730.17434,
          53021.86074,
          32828.03477,
          29417.64694,
          57461.51158,
          50441.62427,
          41575.34739,
          46412.47781,
          47610.11718,
          70878.29664,
          55543.38497,
          53848.7555,
          39904.81613,
          44736.41097,
          46937.17422,
          28440.81268,
          38148.00163,
          42747.53925,
          29670.83337,
          63038.20422,
          63248.76188,
          42321.56548,
          44463.30502,
          67092.23276,
          22091.11839,
          40022.17406,
          56071.61377,
          49442.12107,
          42497.72862,
          37084.77621,
          51866.48719,
          35716.31133,
          39892.93343,
          35781.16156,
          42866.21274,
          80000,
          60526.97788,
          59758.73247,
          39606.24598,
          58641.71051,
          52983.89411,
          50666.88173,
          59625.02618,
          22630.25982,
          41137.89459,
          53496.48183,
          36543.93642,
          43503.97349,
          31146.71078,
          31526.04931,
          31083.70271,
          45366.35963,
          25252.93221,
          39888.59789,
          52240.72866,
          39911.6116,
          45857.75365,
          30826.10903,
          39422.79389,
          34678.83226,
          23517.91983,
          28733.68779,
          59096.26978,
          50188.86612,
          35659.12237,
          46398.35204,
          32291.18978,
          49079.29461,
          49348.88394,
          41427.59797,
          24221.99937,
          44424.07681,
          60390.06616,
          42793.9932,
          46935.72774,
          58667.06865,
          38042.80065,
          39270.57909,
          54606.18769,
          39083.94268,
          47984.12043,
          46082.80993,
          30964.07804,
          35726.95299,
          49065.1634,
          48955.85816,
          37183.10293,
          46710.52519,
          52889.56257,
          29754.66271,
          60960.83428,
          39975.43302,
          38545.80328,
          56764.44728,
          63079.84329,
          55700.83389,
          36367.18452,
          52477.83479,
          50296.67496,
          37259.84386,
          47715.96049,
          29540.87013,
          60567.18837,
          36125.48846,
          57303.87131,
          51922.07691,
          35848.82935,
          42704.3221,
          55174.98946,
          26599.90843,
          53993.44322,
          47970.76767,
          43641.65727,
          41679.7929,
          63140.05082,
          30757.65726,
          65592.22012,
          37871.7082,
          42919.5196,
          22599.45863,
          70598.96768,
          43242.58224,
          38138.57511,
          30419.8,
          63868.94051,
          45112.94547,
          44361.87507,
          19525.29827,
          49991.60697,
          61731.71426,
          41769.38288,
          46402.53583,
          37376.63439,
          33766.6413,
          30667.60927,
          52056.41478,
          30736.5798,
          39439.45349,
          38174.87433,
          40589.8625,
          62028.71192,
          48465.27211,
          40095.0498,
          49568.47685,
          31408.62631,
          47719.47741,
          35784.42411,
          42905.53815,
          48516.84335,
          45593.6849,
          32061.6467,
          32208.37522,
          35475.00344,
          29519.56184,
          55420.56668,
          42139.64528,
          50539.90169,
          34922.42846,
          43898.2733,
          39135.03023,
          41147.46679,
          24134.59205,
          42705.11311,
          38901.60925,
          28645.39425,
          52150.41786,
          66648.25077,
          42909.27129,
          49248.10595,
          27303.17104,
          47869.82593,
          59984.16361,
          45271.46081,
          9000,
          46012.10616,
          32967.20191,
          48785.15839,
          45824.5656,
          40102.11417,
          35457.1486,
          29556.7932,
          38243.06228,
          44430.63323,
          51046.42226,
          52570.36517,
          61404.22578,
          28463.64326,
          27586.20078,
          47979.48549,
          28164.86039,
          69669.47402,
          48052.65091,
          37364.23474,
          44500.81936,
          35139.24793,
          55167.37361,
          48383.69071,
          35823.55471,
          36517.70996,
          53110.88052,
          53049.44567,
          21471.11367,
          45015.67953,
          55377.87697,
          56510.13294,
          47443.74443,
          41489.64123,
          32553.53423,
          41984.62412,
          59538.40327,
          41352.47071,
          52785.16947,
          60117.67886,
          47760.66427,
          64188.26862,
          48901.44342,
          31491.41457,
          64147.28888,
          45442.15353,
          45107.22566
         ],
         "yaxis": "y"
        }
       ],
       "layout": {
        "bargap": 0.05,
        "barmode": "relative",
        "legend": {
         "tracegroupgap": 0
        },
        "showlegend": false,
        "template": {
         "data": {
          "bar": [
           {
            "error_x": {
             "color": "#2a3f5f"
            },
            "error_y": {
             "color": "#2a3f5f"
            },
            "marker": {
             "line": {
              "color": "#E5ECF6",
              "width": 0.5
             },
             "pattern": {
              "fillmode": "overlay",
              "size": 10,
              "solidity": 0.2
             }
            },
            "type": "bar"
           }
          ],
          "barpolar": [
           {
            "marker": {
             "line": {
              "color": "#E5ECF6",
              "width": 0.5
             },
             "pattern": {
              "fillmode": "overlay",
              "size": 10,
              "solidity": 0.2
             }
            },
            "type": "barpolar"
           }
          ],
          "carpet": [
           {
            "aaxis": {
             "endlinecolor": "#2a3f5f",
             "gridcolor": "white",
             "linecolor": "white",
             "minorgridcolor": "white",
             "startlinecolor": "#2a3f5f"
            },
            "baxis": {
             "endlinecolor": "#2a3f5f",
             "gridcolor": "white",
             "linecolor": "white",
             "minorgridcolor": "white",
             "startlinecolor": "#2a3f5f"
            },
            "type": "carpet"
           }
          ],
          "choropleth": [
           {
            "colorbar": {
             "outlinewidth": 0,
             "ticks": ""
            },
            "type": "choropleth"
           }
          ],
          "contour": [
           {
            "colorbar": {
             "outlinewidth": 0,
             "ticks": ""
            },
            "colorscale": [
             [
              0,
              "#0d0887"
             ],
             [
              0.1111111111111111,
              "#46039f"
             ],
             [
              0.2222222222222222,
              "#7201a8"
             ],
             [
              0.3333333333333333,
              "#9c179e"
             ],
             [
              0.4444444444444444,
              "#bd3786"
             ],
             [
              0.5555555555555556,
              "#d8576b"
             ],
             [
              0.6666666666666666,
              "#ed7953"
             ],
             [
              0.7777777777777778,
              "#fb9f3a"
             ],
             [
              0.8888888888888888,
              "#fdca26"
             ],
             [
              1,
              "#f0f921"
             ]
            ],
            "type": "contour"
           }
          ],
          "contourcarpet": [
           {
            "colorbar": {
             "outlinewidth": 0,
             "ticks": ""
            },
            "type": "contourcarpet"
           }
          ],
          "heatmap": [
           {
            "colorbar": {
             "outlinewidth": 0,
             "ticks": ""
            },
            "colorscale": [
             [
              0,
              "#0d0887"
             ],
             [
              0.1111111111111111,
              "#46039f"
             ],
             [
              0.2222222222222222,
              "#7201a8"
             ],
             [
              0.3333333333333333,
              "#9c179e"
             ],
             [
              0.4444444444444444,
              "#bd3786"
             ],
             [
              0.5555555555555556,
              "#d8576b"
             ],
             [
              0.6666666666666666,
              "#ed7953"
             ],
             [
              0.7777777777777778,
              "#fb9f3a"
             ],
             [
              0.8888888888888888,
              "#fdca26"
             ],
             [
              1,
              "#f0f921"
             ]
            ],
            "type": "heatmap"
           }
          ],
          "heatmapgl": [
           {
            "colorbar": {
             "outlinewidth": 0,
             "ticks": ""
            },
            "colorscale": [
             [
              0,
              "#0d0887"
             ],
             [
              0.1111111111111111,
              "#46039f"
             ],
             [
              0.2222222222222222,
              "#7201a8"
             ],
             [
              0.3333333333333333,
              "#9c179e"
             ],
             [
              0.4444444444444444,
              "#bd3786"
             ],
             [
              0.5555555555555556,
              "#d8576b"
             ],
             [
              0.6666666666666666,
              "#ed7953"
             ],
             [
              0.7777777777777778,
              "#fb9f3a"
             ],
             [
              0.8888888888888888,
              "#fdca26"
             ],
             [
              1,
              "#f0f921"
             ]
            ],
            "type": "heatmapgl"
           }
          ],
          "histogram": [
           {
            "marker": {
             "pattern": {
              "fillmode": "overlay",
              "size": 10,
              "solidity": 0.2
             }
            },
            "type": "histogram"
           }
          ],
          "histogram2d": [
           {
            "colorbar": {
             "outlinewidth": 0,
             "ticks": ""
            },
            "colorscale": [
             [
              0,
              "#0d0887"
             ],
             [
              0.1111111111111111,
              "#46039f"
             ],
             [
              0.2222222222222222,
              "#7201a8"
             ],
             [
              0.3333333333333333,
              "#9c179e"
             ],
             [
              0.4444444444444444,
              "#bd3786"
             ],
             [
              0.5555555555555556,
              "#d8576b"
             ],
             [
              0.6666666666666666,
              "#ed7953"
             ],
             [
              0.7777777777777778,
              "#fb9f3a"
             ],
             [
              0.8888888888888888,
              "#fdca26"
             ],
             [
              1,
              "#f0f921"
             ]
            ],
            "type": "histogram2d"
           }
          ],
          "histogram2dcontour": [
           {
            "colorbar": {
             "outlinewidth": 0,
             "ticks": ""
            },
            "colorscale": [
             [
              0,
              "#0d0887"
             ],
             [
              0.1111111111111111,
              "#46039f"
             ],
             [
              0.2222222222222222,
              "#7201a8"
             ],
             [
              0.3333333333333333,
              "#9c179e"
             ],
             [
              0.4444444444444444,
              "#bd3786"
             ],
             [
              0.5555555555555556,
              "#d8576b"
             ],
             [
              0.6666666666666666,
              "#ed7953"
             ],
             [
              0.7777777777777778,
              "#fb9f3a"
             ],
             [
              0.8888888888888888,
              "#fdca26"
             ],
             [
              1,
              "#f0f921"
             ]
            ],
            "type": "histogram2dcontour"
           }
          ],
          "mesh3d": [
           {
            "colorbar": {
             "outlinewidth": 0,
             "ticks": ""
            },
            "type": "mesh3d"
           }
          ],
          "parcoords": [
           {
            "line": {
             "colorbar": {
              "outlinewidth": 0,
              "ticks": ""
             }
            },
            "type": "parcoords"
           }
          ],
          "pie": [
           {
            "automargin": true,
            "type": "pie"
           }
          ],
          "scatter": [
           {
            "fillpattern": {
             "fillmode": "overlay",
             "size": 10,
             "solidity": 0.2
            },
            "type": "scatter"
           }
          ],
          "scatter3d": [
           {
            "line": {
             "colorbar": {
              "outlinewidth": 0,
              "ticks": ""
             }
            },
            "marker": {
             "colorbar": {
              "outlinewidth": 0,
              "ticks": ""
             }
            },
            "type": "scatter3d"
           }
          ],
          "scattercarpet": [
           {
            "marker": {
             "colorbar": {
              "outlinewidth": 0,
              "ticks": ""
             }
            },
            "type": "scattercarpet"
           }
          ],
          "scattergeo": [
           {
            "marker": {
             "colorbar": {
              "outlinewidth": 0,
              "ticks": ""
             }
            },
            "type": "scattergeo"
           }
          ],
          "scattergl": [
           {
            "marker": {
             "colorbar": {
              "outlinewidth": 0,
              "ticks": ""
             }
            },
            "type": "scattergl"
           }
          ],
          "scattermapbox": [
           {
            "marker": {
             "colorbar": {
              "outlinewidth": 0,
              "ticks": ""
             }
            },
            "type": "scattermapbox"
           }
          ],
          "scatterpolar": [
           {
            "marker": {
             "colorbar": {
              "outlinewidth": 0,
              "ticks": ""
             }
            },
            "type": "scatterpolar"
           }
          ],
          "scatterpolargl": [
           {
            "marker": {
             "colorbar": {
              "outlinewidth": 0,
              "ticks": ""
             }
            },
            "type": "scatterpolargl"
           }
          ],
          "scatterternary": [
           {
            "marker": {
             "colorbar": {
              "outlinewidth": 0,
              "ticks": ""
             }
            },
            "type": "scatterternary"
           }
          ],
          "surface": [
           {
            "colorbar": {
             "outlinewidth": 0,
             "ticks": ""
            },
            "colorscale": [
             [
              0,
              "#0d0887"
             ],
             [
              0.1111111111111111,
              "#46039f"
             ],
             [
              0.2222222222222222,
              "#7201a8"
             ],
             [
              0.3333333333333333,
              "#9c179e"
             ],
             [
              0.4444444444444444,
              "#bd3786"
             ],
             [
              0.5555555555555556,
              "#d8576b"
             ],
             [
              0.6666666666666666,
              "#ed7953"
             ],
             [
              0.7777777777777778,
              "#fb9f3a"
             ],
             [
              0.8888888888888888,
              "#fdca26"
             ],
             [
              1,
              "#f0f921"
             ]
            ],
            "type": "surface"
           }
          ],
          "table": [
           {
            "cells": {
             "fill": {
              "color": "#EBF0F8"
             },
             "line": {
              "color": "white"
             }
            },
            "header": {
             "fill": {
              "color": "#C8D4E3"
             },
             "line": {
              "color": "white"
             }
            },
            "type": "table"
           }
          ]
         },
         "layout": {
          "annotationdefaults": {
           "arrowcolor": "#2a3f5f",
           "arrowhead": 0,
           "arrowwidth": 1
          },
          "autotypenumbers": "strict",
          "coloraxis": {
           "colorbar": {
            "outlinewidth": 0,
            "ticks": ""
           }
          },
          "colorscale": {
           "diverging": [
            [
             0,
             "#8e0152"
            ],
            [
             0.1,
             "#c51b7d"
            ],
            [
             0.2,
             "#de77ae"
            ],
            [
             0.3,
             "#f1b6da"
            ],
            [
             0.4,
             "#fde0ef"
            ],
            [
             0.5,
             "#f7f7f7"
            ],
            [
             0.6,
             "#e6f5d0"
            ],
            [
             0.7,
             "#b8e186"
            ],
            [
             0.8,
             "#7fbc41"
            ],
            [
             0.9,
             "#4d9221"
            ],
            [
             1,
             "#276419"
            ]
           ],
           "sequential": [
            [
             0,
             "#0d0887"
            ],
            [
             0.1111111111111111,
             "#46039f"
            ],
            [
             0.2222222222222222,
             "#7201a8"
            ],
            [
             0.3333333333333333,
             "#9c179e"
            ],
            [
             0.4444444444444444,
             "#bd3786"
            ],
            [
             0.5555555555555556,
             "#d8576b"
            ],
            [
             0.6666666666666666,
             "#ed7953"
            ],
            [
             0.7777777777777778,
             "#fb9f3a"
            ],
            [
             0.8888888888888888,
             "#fdca26"
            ],
            [
             1,
             "#f0f921"
            ]
           ],
           "sequentialminus": [
            [
             0,
             "#0d0887"
            ],
            [
             0.1111111111111111,
             "#46039f"
            ],
            [
             0.2222222222222222,
             "#7201a8"
            ],
            [
             0.3333333333333333,
             "#9c179e"
            ],
            [
             0.4444444444444444,
             "#bd3786"
            ],
            [
             0.5555555555555556,
             "#d8576b"
            ],
            [
             0.6666666666666666,
             "#ed7953"
            ],
            [
             0.7777777777777778,
             "#fb9f3a"
            ],
            [
             0.8888888888888888,
             "#fdca26"
            ],
            [
             1,
             "#f0f921"
            ]
           ]
          },
          "colorway": [
           "#636efa",
           "#EF553B",
           "#00cc96",
           "#ab63fa",
           "#FFA15A",
           "#19d3f3",
           "#FF6692",
           "#B6E880",
           "#FF97FF",
           "#FECB52"
          ],
          "font": {
           "color": "#2a3f5f"
          },
          "geo": {
           "bgcolor": "white",
           "lakecolor": "white",
           "landcolor": "#E5ECF6",
           "showlakes": true,
           "showland": true,
           "subunitcolor": "white"
          },
          "hoverlabel": {
           "align": "left"
          },
          "hovermode": "closest",
          "mapbox": {
           "style": "light"
          },
          "paper_bgcolor": "white",
          "plot_bgcolor": "#E5ECF6",
          "polar": {
           "angularaxis": {
            "gridcolor": "white",
            "linecolor": "white",
            "ticks": ""
           },
           "bgcolor": "#E5ECF6",
           "radialaxis": {
            "gridcolor": "white",
            "linecolor": "white",
            "ticks": ""
           }
          },
          "scene": {
           "xaxis": {
            "backgroundcolor": "#E5ECF6",
            "gridcolor": "white",
            "gridwidth": 2,
            "linecolor": "white",
            "showbackground": true,
            "ticks": "",
            "zerolinecolor": "white"
           },
           "yaxis": {
            "backgroundcolor": "#E5ECF6",
            "gridcolor": "white",
            "gridwidth": 2,
            "linecolor": "white",
            "showbackground": true,
            "ticks": "",
            "zerolinecolor": "white"
           },
           "zaxis": {
            "backgroundcolor": "#E5ECF6",
            "gridcolor": "white",
            "gridwidth": 2,
            "linecolor": "white",
            "showbackground": true,
            "ticks": "",
            "zerolinecolor": "white"
           }
          },
          "shapedefaults": {
           "line": {
            "color": "#2a3f5f"
           }
          },
          "ternary": {
           "aaxis": {
            "gridcolor": "white",
            "linecolor": "white",
            "ticks": ""
           },
           "baxis": {
            "gridcolor": "white",
            "linecolor": "white",
            "ticks": ""
           },
           "bgcolor": "#E5ECF6",
           "caxis": {
            "gridcolor": "white",
            "linecolor": "white",
            "ticks": ""
           }
          },
          "title": {
           "x": 0.05
          },
          "xaxis": {
           "automargin": true,
           "gridcolor": "white",
           "linecolor": "white",
           "ticks": "",
           "title": {
            "standoff": 15
           },
           "zerolinecolor": "white",
           "zerolinewidth": 2
          },
          "yaxis": {
           "automargin": true,
           "gridcolor": "white",
           "linecolor": "white",
           "ticks": "",
           "title": {
            "standoff": 15
           },
           "zerolinecolor": "white",
           "zerolinewidth": 2
          }
         }
        },
        "title": {
         "text": "Sum of Car purchase amount vs. net worth"
        },
        "xaxis": {
         "anchor": "y",
         "domain": [
          0,
          1
         ],
         "title": {
          "text": "Net worth"
         }
        },
        "yaxis": {
         "anchor": "x",
         "domain": [
          0,
          1
         ],
         "title": {
          "text": "Car purchase amount"
         }
        }
       }
      },
      "text/html": [
       "<div>                            <div id=\"35bfd51c-c573-49b3-bc92-f2fe454b29cd\" class=\"plotly-graph-div\" style=\"height:525px; width:100%;\"></div>            <script type=\"text/javascript\">                require([\"plotly\"], function(Plotly) {                    window.PLOTLYENV=window.PLOTLYENV || {};                                    if (document.getElementById(\"35bfd51c-c573-49b3-bc92-f2fe454b29cd\")) {                    Plotly.newPlot(                        \"35bfd51c-c573-49b3-bc92-f2fe454b29cd\",                        [{\"alignmentgroup\":\"True\",\"bingroup\":\"x\",\"histfunc\":\"sum\",\"hovertemplate\":\"net worth=%{x}<br>sum of car purchase amount=%{y}<extra></extra>\",\"legendgroup\":\"\",\"marker\":{\"color\":\"#636efa\",\"pattern\":{\"shape\":\"\"}},\"name\":\"\",\"offsetgroup\":\"\",\"orientation\":\"v\",\"showlegend\":false,\"x\":[238961.2505,530973.9078,638467.1773,548599.0524,560304.0671,428485.3604,326373.1812,629312.4041,630059.0274,476643.3544,612738.6171,293862.5123,430907.1673,420322.0702,146344.8965,481433.4324,370356.2223,549443.5886,431098.9998,566022.1306,480588.2345,307226.0977,497526.4566,688466.0503,499086.3442,429440.3297,315775.3207,341691.9337,188032.0778,583230.976,319837.6593,486069.073,655934.4666,487435.964,215673.5384,612242.7755,430624.8142,326742.7352,213040.9606,379749.9152,513340.0097,410655.9947,348833.8403,299734.1278,497950.2933,853913.8532,320228.6451,158979.7102,390312.1715,527420.7269,451846.1995,779925.7892,455609.1429,583523.0762,353757.5057,438067.7506,468238.7915,636407.1148,409419.5797,286062.5162,615765.9289,476088.3996,242495.9886,246321.8916,456634.2073,662176.4851,301026.2206,573054.3808,662382.6623,356553.3996,230728.3008,411831.0371,481335.3582,473845.8546,355157.6417,506986.9824,344916.1768,309113.0627,278799.6958,540805.494,441527.0144,523251.2663,407401.3776,409293.2658,386128.1333,245664.3652,496856.4912,448601.9484,388498.5102,579181.6552,173079.1798,536665.0464,259049.2824,635512.3606,398746.8458,391848.6041,479586.9387,165866.2,515084.1891,759479.4596,706977.053,242292.92,404457.3099,537744.1324,891439.8761,296972.4085,450402.2932,386057.421,323453.2022,778537.2095,386287.0208,416540.299,562605.0655,565932.1861,238529.6336,659279.2011,325701.4083,244310.5736,790526.5507,573052.0119,411070.4828,408147.0405,692401.4668,588570.8903,586368.9293,407733.5229,651215.6435,53366.13861,167031.5554,567357.0264,339207.2774,291360.0291,271430.0543,502946.8819,362564.346,701782.528,580950.3967,401955.501,293999.9427,510039.1484,560593.416,174525.8426,260269.0963,262959.2506,316064.0338,254617.2609,510811.3695,581497.8874,378357.9385,375889.6381,85520.85055,633383.4925,562663.8116,475126.1252,449895.3046,20000.0,216355.3406,191168.4476,543789.7212,363561.1972,352507.9012,368344.0637,411045.8332,517480.0937,445745.5544,399124.4489,97706.89181,473101.0273,405550.1689,315183.5688,362707.0273,255922.473,416817.4673,278181.8354,498441.5687,613706.5421,357639.0334,546630.5284,427011.4954,340663.3261,211765.2494,415005.3584,478422.7973,613242.1668,350157.8394,322905.4592,520997.2385,251702.1158,623033.482,615672.4681,335652.6234,462613.8587,298246.0609,543313.3454,346555.1716,474763.4696,232607.3907,587010.5521,629764.2743,664431.3966,347017.8331,322150.3542,275389.0701,607395.0183,152012.353,490444.4111,619707.4203,571564.7901,491193.3773,261152.8211,299854.2186,371240.2413,465709.8937,196421.7402,396793.4734,478853.3217,279393.491,383693.2041,830430.3692,112127.2567,331460.4727,335809.6171,509543.0859,761935.5177,620522.3842,539365.9366,565814.725,74257.82785,234159.0793,358615.9327,563498.6636,48620.32123,494985.5363,545946.9996,734443.6969,568947.7487,252220.2937,513974.6812,168703.3385,455589.7973,492113.0067,586717.4715,333543.693,466988.2602,418764.5061,249182.7848,284991.7415,720423.8157,124979.0501,632600.4718,623487.5952,133226.0617,610942.1408,316906.6441,308445.8598,152883.3519,573441.9724,134188.4492,426488.7459,575500.7687,286849.7875,479685.9824,336867.7147,613372.8917,589669.6573,202710.1294,515305.4841,572037.8859,229070.5491,779143.6005,211168.6293,438491.876,521404.2386,811594.0392,552454.0263,613104.784,202576.6196,397700.1404,505897.3041,210573.7042,581620.4824,481513.5074,371355.6935,136346.3069,679435.1745,793986.6155,353929.5495,630411.2698,491904.1899,819002.1748,626163.832,239217.6732,221290.9818,222341.0342,266765.477,159727.8753,392177.789,587858.6295,606851.1696,684273.5913,577272.6805,225670.1288,625484.0917,474485.6659,275762.4836,579220.0393,472761.6208,556014.9704,315058.7167,149761.1281,497876.2478,364858.7148,579059.3132,69821.6376,244188.0008,1000000.0,765711.6025,493592.1764,305253.2658,787984.2882,427287.6277,521815.7353,622324.7499,290711.867,516738.1724,542777.4892,398011.5804,642335.1021,719846.9824,374777.6929,160487.0006,356213.0776,615720.0425,414034.6096,521061.1115,59630.07789,169714.2655,385250.7163,454791.7251,188327.5831,322891.7787,375654.1472,515717.7476,555993.1081,411932.8191,854283.5574,537572.1338,685541.6501,608019.6308,192514.6431,320834.0102,228434.0508,401916.0981,475263.2759,187821.0958,408679.8596,388898.069,377424.6157,236420.9695,366327.7432,253181.9789,551344.3365,549212.4268,589180.4485,600685.1915,27888.74525,432447.5324,137601.844,480468.247,62149.94034,387538.2487,508962.4874,360457.0496,712233.8241,657178.4135,856287.1522,528087.5277,749016.565,290608.3977,558001.0241,173272.8954,457116.1945,545125.9592,447393.4883,674190.6949,255285.4063,128387.9293,321431.279,627086.6563,281690.8431,762832.2606,595028.8431,466128.9118,416748.7309,660897.0146,291897.4057,724025.4097,388284.2974,343290.677,129635.6343,805075.5197,298920.0067,344060.1754,141587.6498,684209.551,456524.7944,201228.0206,283241.2769,266531.2969,365862.7818,151946.3089,472403.1231,376886.359,116407.5289,271414.7592,237185.1714,630120.001,355175.3677,552267.6361,205006.2161,762601.0836,482866.5457,297964.2638,267555.1178,461366.7829,365871.4992,394229.8972,357468.1866,790116.4252,601744.9607,258194.8443,392003.2864,205439.3663,228388.5491,508555.1592,421318.9764,622569.5959,217188.4056,320525.7282,265717.2542,601210.2803,284155.4155,487564.5541,297540.8814,494606.6334,245216.1691,622831.922,478428.7174,314885.1345,201636.866,419556.6198,621309.5863,507572.635,158758.3577,505048.7599,169475.9968,485563.7363,400703.2655,577058.1773,399437.5235,508528.9957,516817.3173,556945.8742,177878.1758,567842.1267,285326.3544,218808.7553,312927.9187,515012.2804,517110.9454,544291.9504,579640.7982,341330.7344,649323.7878,301245.7708,557098.9636,432850.4157,340720.5185,266939.1746,421891.846,531840.3342,276466.6203,247421.9185,620355.2658,360787.6401,571245.3714,522814.817,347177.8367,497197.264,664862.0102,316128.4002,294506.0844,523680.7699,349588.5608,665099.139,541670.1016,360419.0988,764531.3203,337826.6382,462946.4924],\"xaxis\":\"x\",\"y\":[35321.45877,45115.52566,42925.70921,67422.36313,55915.46248,56611.99784,28925.70549,47434.98265,48013.6141,38189.50601,59045.51309,42288.81046,28700.0334,49258.87571,49510.03356,53017.26723,41814.72067,43901.71244,44633.99241,54827.52403,51130.95379,43402.31525,47240.86004,46635.49432,45078.40193,44387.58412,37161.55393,49091.97185,58350.31809,43994.35972,17584.56963,44650.36073,66363.89316,53489.46214,39810.34817,51612.14311,38978.67458,10092.22509,35928.52404,54823.19221,45805.67186,41567.47033,28031.20985,27815.73813,68678.4352,68925.09447,34215.7615,37843.46619,37883.24231,48734.35708,27187.23914,63738.39065,48266.75516,46381.13111,31978.9799,48100.29052,47380.91224,41425.00116,38147.81018,32737.80177,37348.13737,47483.85316,49730.53339,40093.61981,42297.5062,52954.93121,48104.11184,43680.91327,52707.96816,49392.8897,30841.00154,49373.37555,41903.65171,45058.8969,52991.52667,50958.08115,41357.17897,44434.71917,38502.42392,41221.24918,38399.46139,41456.68097,30394.82494,42384.05128,39002.0771,19553.2739,45167.32542,36019.9556,50937.93844,12895.71468,38955.21919,51221.04249,25971.95673,60670.33672,54075.12064,40004.87142,61593.52058,39503.38829,52474.71839,42187.6828,57441.44414,22681.71667,33640.73697,31540.77868,60461.24268,45738.3343,34803.82395,34642.6024,27586.71854,54973.02495,49142.51174,58840.53964,57306.32866,51941.6756,30240.60975,67120.89878,42408.02625,41451.71843,42592.88647,34521.17618,42213.69644,41913.53713,59416.18101,51402.61506,54755.42038,47143.44008,64391.68906,37252.55194,52665.36511,44001.20706,51551.67997,38243.66481,39766.64804,40077.57289,33131.52734,48622.66097,47693.23482,39410.4616,33428.40183,32700.27871,62864.43011,29425.83001,44418.60955,36645.5609,53655.53859,45977.12502,38504.39444,47935.9394,60222.22672,38930.55234,27810.21814,47604.34591,42356.6895,31300.54347,42369.64247,31837.22537,26499.31418,38172.83602,39433.40631,37714.31659,57125.41541,46453.34819,43855.06077,55592.70383,42484.02283,40879.19107,20653.21409,35438.80549,36112.79346,38182.30465,41026.02421,27889.95197,43724.4896,57430.76903,41104.07108,49050.85378,41265.52929,64545.16339,29052.09521,30719.8156,38763.11306,39331.20127,32608.45468,58045.56257,54387.27727,36638.20688,39522.13129,42978.34626,60865.76396,46380.44732,56579.90338,42774.35579,37879.65385,45208.42539,56229.4127,50455.11935,49721.31082,31696.99679,49220.0218,46188.83514,36086.93161,43264.04965,40660.38317,51683.60859,44525.02085,48518.90163,45805.30588,54850.38742,32478.44758,42209.28948,55125.93237,47984.42062,43405.89086,44577.44829,37744.54285,47805.25605,44846.68557,46643.26581,56563.98675,41673.44617,61118.46947,37303.56701,46892.26617,56457.74038,45509.69732,27625.44144,46389.50237,29002.05665,51355.7106,42011.19965,52654.40455,44432.71747,46054.60253,58235.41454,42990.29255,50702.18103,47009.57741,49399.97041,42997.16761,44434.98419,46325.50959,46846.7305,56499.10202,42773.75905,52313.98392,34139.6373,60763.24731,66158.69494,31215.6421,46135.27233,56973.18105,24184.07443,49079.61942,37093.92033,43401.56612,29092.1311,48349.16457,33261.00057,41327.16554,49336.11628,51405.55229,31249.98803,43598.96993,48300.02057,54013.47595,38674.66038,37076.82508,37947.85125,41320.07256,66888.93694,12536.93842,39549.13039,52709.08196,53502.97742,52116.90791,38705.65839,48025.02542,59483.91183,35911.64559,41034.28343,51730.17434,53021.86074,32828.03477,29417.64694,57461.51158,50441.62427,41575.34739,46412.47781,47610.11718,70878.29664,55543.38497,53848.7555,39904.81613,44736.41097,46937.17422,28440.81268,38148.00163,42747.53925,29670.83337,63038.20422,63248.76188,42321.56548,44463.30502,67092.23276,22091.11839,40022.17406,56071.61377,49442.12107,42497.72862,37084.77621,51866.48719,35716.31133,39892.93343,35781.16156,42866.21274,80000.0,60526.97788,59758.73247,39606.24598,58641.71051,52983.89411,50666.88173,59625.02618,22630.25982,41137.89459,53496.48183,36543.93642,43503.97349,31146.71078,31526.04931,31083.70271,45366.35963,25252.93221,39888.59789,52240.72866,39911.6116,45857.75365,30826.10903,39422.79389,34678.83226,23517.91983,28733.68779,59096.26978,50188.86612,35659.12237,46398.35204,32291.18978,49079.29461,49348.88394,41427.59797,24221.99937,44424.07681,60390.06616,42793.9932,46935.72774,58667.06865,38042.80065,39270.57909,54606.18769,39083.94268,47984.12043,46082.80993,30964.07804,35726.95299,49065.1634,48955.85816,37183.10293,46710.52519,52889.56257,29754.66271,60960.83428,39975.43302,38545.80328,56764.44728,63079.84329,55700.83389,36367.18452,52477.83479,50296.67496,37259.84386,47715.96049,29540.87013,60567.18837,36125.48846,57303.87131,51922.07691,35848.82935,42704.3221,55174.98946,26599.90843,53993.44322,47970.76767,43641.65727,41679.7929,63140.05082,30757.65726,65592.22012,37871.7082,42919.5196,22599.45863,70598.96768,43242.58224,38138.57511,30419.8,63868.94051,45112.94547,44361.87507,19525.29827,49991.60697,61731.71426,41769.38288,46402.53583,37376.63439,33766.6413,30667.60927,52056.41478,30736.5798,39439.45349,38174.87433,40589.8625,62028.71192,48465.27211,40095.0498,49568.47685,31408.62631,47719.47741,35784.42411,42905.53815,48516.84335,45593.6849,32061.6467,32208.37522,35475.00344,29519.56184,55420.56668,42139.64528,50539.90169,34922.42846,43898.2733,39135.03023,41147.46679,24134.59205,42705.11311,38901.60925,28645.39425,52150.41786,66648.25077,42909.27129,49248.10595,27303.17104,47869.82593,59984.16361,45271.46081,9000.0,46012.10616,32967.20191,48785.15839,45824.5656,40102.11417,35457.1486,29556.7932,38243.06228,44430.63323,51046.42226,52570.36517,61404.22578,28463.64326,27586.20078,47979.48549,28164.86039,69669.47402,48052.65091,37364.23474,44500.81936,35139.24793,55167.37361,48383.69071,35823.55471,36517.70996,53110.88052,53049.44567,21471.11367,45015.67953,55377.87697,56510.13294,47443.74443,41489.64123,32553.53423,41984.62412,59538.40327,41352.47071,52785.16947,60117.67886,47760.66427,64188.26862,48901.44342,31491.41457,64147.28888,45442.15353,45107.22566],\"yaxis\":\"y\",\"type\":\"histogram\"}],                        {\"template\":{\"data\":{\"histogram2dcontour\":[{\"type\":\"histogram2dcontour\",\"colorbar\":{\"outlinewidth\":0,\"ticks\":\"\"},\"colorscale\":[[0.0,\"#0d0887\"],[0.1111111111111111,\"#46039f\"],[0.2222222222222222,\"#7201a8\"],[0.3333333333333333,\"#9c179e\"],[0.4444444444444444,\"#bd3786\"],[0.5555555555555556,\"#d8576b\"],[0.6666666666666666,\"#ed7953\"],[0.7777777777777778,\"#fb9f3a\"],[0.8888888888888888,\"#fdca26\"],[1.0,\"#f0f921\"]]}],\"choropleth\":[{\"type\":\"choropleth\",\"colorbar\":{\"outlinewidth\":0,\"ticks\":\"\"}}],\"histogram2d\":[{\"type\":\"histogram2d\",\"colorbar\":{\"outlinewidth\":0,\"ticks\":\"\"},\"colorscale\":[[0.0,\"#0d0887\"],[0.1111111111111111,\"#46039f\"],[0.2222222222222222,\"#7201a8\"],[0.3333333333333333,\"#9c179e\"],[0.4444444444444444,\"#bd3786\"],[0.5555555555555556,\"#d8576b\"],[0.6666666666666666,\"#ed7953\"],[0.7777777777777778,\"#fb9f3a\"],[0.8888888888888888,\"#fdca26\"],[1.0,\"#f0f921\"]]}],\"heatmap\":[{\"type\":\"heatmap\",\"colorbar\":{\"outlinewidth\":0,\"ticks\":\"\"},\"colorscale\":[[0.0,\"#0d0887\"],[0.1111111111111111,\"#46039f\"],[0.2222222222222222,\"#7201a8\"],[0.3333333333333333,\"#9c179e\"],[0.4444444444444444,\"#bd3786\"],[0.5555555555555556,\"#d8576b\"],[0.6666666666666666,\"#ed7953\"],[0.7777777777777778,\"#fb9f3a\"],[0.8888888888888888,\"#fdca26\"],[1.0,\"#f0f921\"]]}],\"heatmapgl\":[{\"type\":\"heatmapgl\",\"colorbar\":{\"outlinewidth\":0,\"ticks\":\"\"},\"colorscale\":[[0.0,\"#0d0887\"],[0.1111111111111111,\"#46039f\"],[0.2222222222222222,\"#7201a8\"],[0.3333333333333333,\"#9c179e\"],[0.4444444444444444,\"#bd3786\"],[0.5555555555555556,\"#d8576b\"],[0.6666666666666666,\"#ed7953\"],[0.7777777777777778,\"#fb9f3a\"],[0.8888888888888888,\"#fdca26\"],[1.0,\"#f0f921\"]]}],\"contourcarpet\":[{\"type\":\"contourcarpet\",\"colorbar\":{\"outlinewidth\":0,\"ticks\":\"\"}}],\"contour\":[{\"type\":\"contour\",\"colorbar\":{\"outlinewidth\":0,\"ticks\":\"\"},\"colorscale\":[[0.0,\"#0d0887\"],[0.1111111111111111,\"#46039f\"],[0.2222222222222222,\"#7201a8\"],[0.3333333333333333,\"#9c179e\"],[0.4444444444444444,\"#bd3786\"],[0.5555555555555556,\"#d8576b\"],[0.6666666666666666,\"#ed7953\"],[0.7777777777777778,\"#fb9f3a\"],[0.8888888888888888,\"#fdca26\"],[1.0,\"#f0f921\"]]}],\"surface\":[{\"type\":\"surface\",\"colorbar\":{\"outlinewidth\":0,\"ticks\":\"\"},\"colorscale\":[[0.0,\"#0d0887\"],[0.1111111111111111,\"#46039f\"],[0.2222222222222222,\"#7201a8\"],[0.3333333333333333,\"#9c179e\"],[0.4444444444444444,\"#bd3786\"],[0.5555555555555556,\"#d8576b\"],[0.6666666666666666,\"#ed7953\"],[0.7777777777777778,\"#fb9f3a\"],[0.8888888888888888,\"#fdca26\"],[1.0,\"#f0f921\"]]}],\"mesh3d\":[{\"type\":\"mesh3d\",\"colorbar\":{\"outlinewidth\":0,\"ticks\":\"\"}}],\"scatter\":[{\"fillpattern\":{\"fillmode\":\"overlay\",\"size\":10,\"solidity\":0.2},\"type\":\"scatter\"}],\"parcoords\":[{\"type\":\"parcoords\",\"line\":{\"colorbar\":{\"outlinewidth\":0,\"ticks\":\"\"}}}],\"scatterpolargl\":[{\"type\":\"scatterpolargl\",\"marker\":{\"colorbar\":{\"outlinewidth\":0,\"ticks\":\"\"}}}],\"bar\":[{\"error_x\":{\"color\":\"#2a3f5f\"},\"error_y\":{\"color\":\"#2a3f5f\"},\"marker\":{\"line\":{\"color\":\"#E5ECF6\",\"width\":0.5},\"pattern\":{\"fillmode\":\"overlay\",\"size\":10,\"solidity\":0.2}},\"type\":\"bar\"}],\"scattergeo\":[{\"type\":\"scattergeo\",\"marker\":{\"colorbar\":{\"outlinewidth\":0,\"ticks\":\"\"}}}],\"scatterpolar\":[{\"type\":\"scatterpolar\",\"marker\":{\"colorbar\":{\"outlinewidth\":0,\"ticks\":\"\"}}}],\"histogram\":[{\"marker\":{\"pattern\":{\"fillmode\":\"overlay\",\"size\":10,\"solidity\":0.2}},\"type\":\"histogram\"}],\"scattergl\":[{\"type\":\"scattergl\",\"marker\":{\"colorbar\":{\"outlinewidth\":0,\"ticks\":\"\"}}}],\"scatter3d\":[{\"type\":\"scatter3d\",\"line\":{\"colorbar\":{\"outlinewidth\":0,\"ticks\":\"\"}},\"marker\":{\"colorbar\":{\"outlinewidth\":0,\"ticks\":\"\"}}}],\"scattermapbox\":[{\"type\":\"scattermapbox\",\"marker\":{\"colorbar\":{\"outlinewidth\":0,\"ticks\":\"\"}}}],\"scatterternary\":[{\"type\":\"scatterternary\",\"marker\":{\"colorbar\":{\"outlinewidth\":0,\"ticks\":\"\"}}}],\"scattercarpet\":[{\"type\":\"scattercarpet\",\"marker\":{\"colorbar\":{\"outlinewidth\":0,\"ticks\":\"\"}}}],\"carpet\":[{\"aaxis\":{\"endlinecolor\":\"#2a3f5f\",\"gridcolor\":\"white\",\"linecolor\":\"white\",\"minorgridcolor\":\"white\",\"startlinecolor\":\"#2a3f5f\"},\"baxis\":{\"endlinecolor\":\"#2a3f5f\",\"gridcolor\":\"white\",\"linecolor\":\"white\",\"minorgridcolor\":\"white\",\"startlinecolor\":\"#2a3f5f\"},\"type\":\"carpet\"}],\"table\":[{\"cells\":{\"fill\":{\"color\":\"#EBF0F8\"},\"line\":{\"color\":\"white\"}},\"header\":{\"fill\":{\"color\":\"#C8D4E3\"},\"line\":{\"color\":\"white\"}},\"type\":\"table\"}],\"barpolar\":[{\"marker\":{\"line\":{\"color\":\"#E5ECF6\",\"width\":0.5},\"pattern\":{\"fillmode\":\"overlay\",\"size\":10,\"solidity\":0.2}},\"type\":\"barpolar\"}],\"pie\":[{\"automargin\":true,\"type\":\"pie\"}]},\"layout\":{\"autotypenumbers\":\"strict\",\"colorway\":[\"#636efa\",\"#EF553B\",\"#00cc96\",\"#ab63fa\",\"#FFA15A\",\"#19d3f3\",\"#FF6692\",\"#B6E880\",\"#FF97FF\",\"#FECB52\"],\"font\":{\"color\":\"#2a3f5f\"},\"hovermode\":\"closest\",\"hoverlabel\":{\"align\":\"left\"},\"paper_bgcolor\":\"white\",\"plot_bgcolor\":\"#E5ECF6\",\"polar\":{\"bgcolor\":\"#E5ECF6\",\"angularaxis\":{\"gridcolor\":\"white\",\"linecolor\":\"white\",\"ticks\":\"\"},\"radialaxis\":{\"gridcolor\":\"white\",\"linecolor\":\"white\",\"ticks\":\"\"}},\"ternary\":{\"bgcolor\":\"#E5ECF6\",\"aaxis\":{\"gridcolor\":\"white\",\"linecolor\":\"white\",\"ticks\":\"\"},\"baxis\":{\"gridcolor\":\"white\",\"linecolor\":\"white\",\"ticks\":\"\"},\"caxis\":{\"gridcolor\":\"white\",\"linecolor\":\"white\",\"ticks\":\"\"}},\"coloraxis\":{\"colorbar\":{\"outlinewidth\":0,\"ticks\":\"\"}},\"colorscale\":{\"sequential\":[[0.0,\"#0d0887\"],[0.1111111111111111,\"#46039f\"],[0.2222222222222222,\"#7201a8\"],[0.3333333333333333,\"#9c179e\"],[0.4444444444444444,\"#bd3786\"],[0.5555555555555556,\"#d8576b\"],[0.6666666666666666,\"#ed7953\"],[0.7777777777777778,\"#fb9f3a\"],[0.8888888888888888,\"#fdca26\"],[1.0,\"#f0f921\"]],\"sequentialminus\":[[0.0,\"#0d0887\"],[0.1111111111111111,\"#46039f\"],[0.2222222222222222,\"#7201a8\"],[0.3333333333333333,\"#9c179e\"],[0.4444444444444444,\"#bd3786\"],[0.5555555555555556,\"#d8576b\"],[0.6666666666666666,\"#ed7953\"],[0.7777777777777778,\"#fb9f3a\"],[0.8888888888888888,\"#fdca26\"],[1.0,\"#f0f921\"]],\"diverging\":[[0,\"#8e0152\"],[0.1,\"#c51b7d\"],[0.2,\"#de77ae\"],[0.3,\"#f1b6da\"],[0.4,\"#fde0ef\"],[0.5,\"#f7f7f7\"],[0.6,\"#e6f5d0\"],[0.7,\"#b8e186\"],[0.8,\"#7fbc41\"],[0.9,\"#4d9221\"],[1,\"#276419\"]]},\"xaxis\":{\"gridcolor\":\"white\",\"linecolor\":\"white\",\"ticks\":\"\",\"title\":{\"standoff\":15},\"zerolinecolor\":\"white\",\"automargin\":true,\"zerolinewidth\":2},\"yaxis\":{\"gridcolor\":\"white\",\"linecolor\":\"white\",\"ticks\":\"\",\"title\":{\"standoff\":15},\"zerolinecolor\":\"white\",\"automargin\":true,\"zerolinewidth\":2},\"scene\":{\"xaxis\":{\"backgroundcolor\":\"#E5ECF6\",\"gridcolor\":\"white\",\"linecolor\":\"white\",\"showbackground\":true,\"ticks\":\"\",\"zerolinecolor\":\"white\",\"gridwidth\":2},\"yaxis\":{\"backgroundcolor\":\"#E5ECF6\",\"gridcolor\":\"white\",\"linecolor\":\"white\",\"showbackground\":true,\"ticks\":\"\",\"zerolinecolor\":\"white\",\"gridwidth\":2},\"zaxis\":{\"backgroundcolor\":\"#E5ECF6\",\"gridcolor\":\"white\",\"linecolor\":\"white\",\"showbackground\":true,\"ticks\":\"\",\"zerolinecolor\":\"white\",\"gridwidth\":2}},\"shapedefaults\":{\"line\":{\"color\":\"#2a3f5f\"}},\"annotationdefaults\":{\"arrowcolor\":\"#2a3f5f\",\"arrowhead\":0,\"arrowwidth\":1},\"geo\":{\"bgcolor\":\"white\",\"landcolor\":\"#E5ECF6\",\"subunitcolor\":\"white\",\"showland\":true,\"showlakes\":true,\"lakecolor\":\"white\"},\"title\":{\"x\":0.05},\"mapbox\":{\"style\":\"light\"}}},\"xaxis\":{\"anchor\":\"y\",\"domain\":[0.0,1.0],\"title\":{\"text\":\"Net worth\"}},\"yaxis\":{\"anchor\":\"x\",\"domain\":[0.0,1.0],\"title\":{\"text\":\"Car purchase amount\"}},\"legend\":{\"tracegroupgap\":0},\"title\":{\"text\":\"Sum of Car purchase amount vs. net worth\"},\"barmode\":\"relative\",\"bargap\":0.05,\"showlegend\":false},                        {\"responsive\": true}                    ).then(function(){\n",
       "                            \n",
       "var gd = document.getElementById('35bfd51c-c573-49b3-bc92-f2fe454b29cd');\n",
       "var x = new MutationObserver(function (mutations, observer) {{\n",
       "        var display = window.getComputedStyle(gd).display;\n",
       "        if (!display || display === 'none') {{\n",
       "            console.log([gd, 'removed!']);\n",
       "            Plotly.purge(gd);\n",
       "            observer.disconnect();\n",
       "        }}\n",
       "}});\n",
       "\n",
       "// Listen for the removal of the full notebook cells\n",
       "var notebookContainer = gd.closest('#notebook-container');\n",
       "if (notebookContainer) {{\n",
       "    x.observe(notebookContainer, {childList: true});\n",
       "}}\n",
       "\n",
       "// Listen for the clearing of the current output cell\n",
       "var outputEl = gd.closest('.output');\n",
       "if (outputEl) {{\n",
       "    x.observe(outputEl, {childList: true});\n",
       "}}\n",
       "\n",
       "                        })                };                });            </script>        </div>"
      ]
     },
     "metadata": {},
     "output_type": "display_data"
    }
   ],
   "source": [
    "fig = px.histogram(car_purchasing_df, x = 'net worth', y = 'car purchase amount',\n",
    "                   title = \"Sum of Car purchase amount vs. net worth\")\n",
    "\n",
    "fig.update_layout(\n",
    "    xaxis_title = ('Net worth'),\n",
    "    yaxis_title= ('Car purchase amount'),\n",
    "    bargap = 0.05,\n",
    "    showlegend = False,\n",
    ")\n",
    "fig.show()"
   ]
  },
  {
   "cell_type": "markdown",
   "id": "45b087d3",
   "metadata": {},
   "source": [
    "#### Data preprocessing"
   ]
  },
  {
   "cell_type": "markdown",
   "id": "7fe2bffe",
   "metadata": {},
   "source": [
    "#### 1. Feature Engineering"
   ]
  },
  {
   "cell_type": "code",
   "execution_count": 146,
   "id": "9247f8f5",
   "metadata": {},
   "outputs": [
    {
     "data": {
      "text/html": [
       "<div>\n",
       "<style scoped>\n",
       "    .dataframe tbody tr th:only-of-type {\n",
       "        vertical-align: middle;\n",
       "    }\n",
       "\n",
       "    .dataframe tbody tr th {\n",
       "        vertical-align: top;\n",
       "    }\n",
       "\n",
       "    .dataframe thead th {\n",
       "        text-align: right;\n",
       "    }\n",
       "</style>\n",
       "<table border=\"1\" class=\"dataframe\">\n",
       "  <thead>\n",
       "    <tr style=\"text-align: right;\">\n",
       "      <th></th>\n",
       "      <th>gender</th>\n",
       "      <th>age</th>\n",
       "      <th>annual Salary</th>\n",
       "      <th>credit card debt</th>\n",
       "      <th>net worth</th>\n",
       "      <th>car purchase amount</th>\n",
       "    </tr>\n",
       "  </thead>\n",
       "  <tbody>\n",
       "    <tr>\n",
       "      <th>0</th>\n",
       "      <td>0</td>\n",
       "      <td>41.851720</td>\n",
       "      <td>62812.09301</td>\n",
       "      <td>11609.380910</td>\n",
       "      <td>238961.2505</td>\n",
       "      <td>35321.45877</td>\n",
       "    </tr>\n",
       "    <tr>\n",
       "      <th>1</th>\n",
       "      <td>0</td>\n",
       "      <td>40.870623</td>\n",
       "      <td>66646.89292</td>\n",
       "      <td>9572.957136</td>\n",
       "      <td>530973.9078</td>\n",
       "      <td>45115.52566</td>\n",
       "    </tr>\n",
       "    <tr>\n",
       "      <th>2</th>\n",
       "      <td>1</td>\n",
       "      <td>43.152897</td>\n",
       "      <td>53798.55112</td>\n",
       "      <td>11160.355060</td>\n",
       "      <td>638467.1773</td>\n",
       "      <td>42925.70921</td>\n",
       "    </tr>\n",
       "    <tr>\n",
       "      <th>3</th>\n",
       "      <td>1</td>\n",
       "      <td>58.271369</td>\n",
       "      <td>79370.03798</td>\n",
       "      <td>14426.164850</td>\n",
       "      <td>548599.0524</td>\n",
       "      <td>67422.36313</td>\n",
       "    </tr>\n",
       "    <tr>\n",
       "      <th>4</th>\n",
       "      <td>1</td>\n",
       "      <td>57.313749</td>\n",
       "      <td>59729.15130</td>\n",
       "      <td>5358.712177</td>\n",
       "      <td>560304.0671</td>\n",
       "      <td>55915.46248</td>\n",
       "    </tr>\n",
       "  </tbody>\n",
       "</table>\n",
       "</div>"
      ],
      "text/plain": [
       "   gender        age  annual Salary  credit card debt    net worth  \\\n",
       "0       0  41.851720    62812.09301      11609.380910  238961.2505   \n",
       "1       0  40.870623    66646.89292       9572.957136  530973.9078   \n",
       "2       1  43.152897    53798.55112      11160.355060  638467.1773   \n",
       "3       1  58.271369    79370.03798      14426.164850  548599.0524   \n",
       "4       1  57.313749    59729.15130       5358.712177  560304.0671   \n",
       "\n",
       "   car purchase amount  \n",
       "0          35321.45877  \n",
       "1          45115.52566  \n",
       "2          42925.70921  \n",
       "3          67422.36313  \n",
       "4          55915.46248  "
      ]
     },
     "execution_count": 146,
     "metadata": {},
     "output_type": "execute_result"
    }
   ],
   "source": [
    "car_purchasing_df.head()"
   ]
  },
  {
   "cell_type": "code",
   "execution_count": 147,
   "id": "21c79bdb",
   "metadata": {},
   "outputs": [
    {
     "data": {
      "image/png": "[encoded data removed]",
      "text/plain": [
       "<Figure size 700x400 with 2 Axes>"
      ]
     },
     "metadata": {},
     "output_type": "display_data"
    }
   ],
   "source": [
    "plt.figure(figsize = (7, 4))\n",
    "sb.heatmap(car_purchasing_df.corr(), annot = True, cmap='coolwarm', linewidths=0.5)\n",
    "plt.title(\"Correlation Matrix\")\n",
    "plt.show()"
   ]
  },
  {
   "cell_type": "code",
   "execution_count": 180,
   "id": "2e220e94",
   "metadata": {},
   "outputs": [],
   "source": [
    "X = car_purchasing_df.drop(['car purchase amount', 'gender'],axis= 1)\n",
    "y = car_purchasing_df['car purchase amount']"
   ]
  },
  {
   "cell_type": "code",
   "execution_count": 181,
   "id": "35cff756",
   "metadata": {},
   "outputs": [
    {
     "data": {
      "text/plain": [
       "(500, 4)"
      ]
     },
     "execution_count": 181,
     "metadata": {},
     "output_type": "execute_result"
    }
   ],
   "source": [
    "X.shape"
   ]
  },
  {
   "cell_type": "markdown",
   "id": "5b0581f9",
   "metadata": {},
   "source": [
    "#### 2. Splitting into training and testing"
   ]
  },
  {
   "cell_type": "code",
   "execution_count": 182,
   "id": "be0359aa",
   "metadata": {},
   "outputs": [],
   "source": [
    "scale = MinMaxScaler()\n",
    "X = scale.fit_transform(X)\n",
    "y = scale.fit_transform(y.values.reshape(-1, 1))"
   ]
  },
  {
   "cell_type": "code",
   "execution_count": 183,
   "id": "9390c4c4",
   "metadata": {},
   "outputs": [
    {
     "name": "stdout",
     "output_type": "stream",
     "text": [
      "(400, 4)\n",
      "(400, 1)\n",
      "(100, 4)\n",
      "(100, 1)\n"
     ]
    }
   ],
   "source": [
    "X_train, X_test, y_train, y_test = train_test_split(X,y,test_size=0.2,random_state=0)\n",
    "print(X_train.shape)\n",
    "print(y_train.shape)\n",
    "print(X_test.shape)\n",
    "print(y_test.shape)"
   ]
  },
  {
   "cell_type": "code",
   "execution_count": 184,
   "id": "00ab0fe8",
   "metadata": {},
   "outputs": [
    {
     "name": "stdout",
     "output_type": "stream",
     "text": [
      "Train score 0.9999999816626624\n",
      "Test score 0.9999999793157544\n"
     ]
    }
   ],
   "source": [
    "lreg = LinearRegression()\n",
    "lreg.fit(X_train, y_train)\n",
    "print('Train score', lreg.score(X_train, y_train))\n",
    "print('Test score', lreg.score(X_test, y_test))"
   ]
  },
  {
   "cell_type": "code",
   "execution_count": 201,
   "id": "1499e366",
   "metadata": {},
   "outputs": [
    {
     "name": "stdout",
     "output_type": "stream",
     "text": [
      "Epoch 1/100\n",
      "10/10 [==============================] - 1s 35ms/step - loss: 0.3063 - mean_absolute_error: 0.5339 - val_loss: 0.2890 - val_mean_absolute_error: 0.5142\n",
      "Epoch 2/100\n",
      "10/10 [==============================] - 0s 9ms/step - loss: 0.2410 - mean_absolute_error: 0.4695 - val_loss: 0.2363 - val_mean_absolute_error: 0.4610\n",
      "Epoch 3/100\n",
      "10/10 [==============================] - 0s 8ms/step - loss: 0.1957 - mean_absolute_error: 0.4192 - val_loss: 0.1874 - val_mean_absolute_error: 0.4062\n",
      "Epoch 4/100\n",
      "10/10 [==============================] - 0s 7ms/step - loss: 0.1483 - mean_absolute_error: 0.3609 - val_loss: 0.1364 - val_mean_absolute_error: 0.3398\n",
      "Epoch 5/100\n",
      "10/10 [==============================] - 0s 8ms/step - loss: 0.0994 - mean_absolute_error: 0.2880 - val_loss: 0.0821 - val_mean_absolute_error: 0.2518\n",
      "Epoch 6/100\n",
      "10/10 [==============================] - 0s 7ms/step - loss: 0.0527 - mean_absolute_error: 0.1992 - val_loss: 0.0385 - val_mean_absolute_error: 0.1607\n",
      "Epoch 7/100\n",
      "10/10 [==============================] - 0s 7ms/step - loss: 0.0222 - mean_absolute_error: 0.1197 - val_loss: 0.0159 - val_mean_absolute_error: 0.1013\n",
      "Epoch 8/100\n",
      "10/10 [==============================] - 0s 7ms/step - loss: 0.0117 - mean_absolute_error: 0.0846 - val_loss: 0.0121 - val_mean_absolute_error: 0.0890\n",
      "Epoch 9/100\n",
      "10/10 [==============================] - 0s 8ms/step - loss: 0.0114 - mean_absolute_error: 0.0836 - val_loss: 0.0121 - val_mean_absolute_error: 0.0892\n",
      "Epoch 10/100\n",
      "10/10 [==============================] - 0s 8ms/step - loss: 0.0106 - mean_absolute_error: 0.0801 - val_loss: 0.0112 - val_mean_absolute_error: 0.0863\n",
      "Epoch 11/100\n",
      "10/10 [==============================] - 0s 8ms/step - loss: 0.0096 - mean_absolute_error: 0.0757 - val_loss: 0.0112 - val_mean_absolute_error: 0.0857\n",
      "Epoch 12/100\n",
      "10/10 [==============================] - 0s 8ms/step - loss: 0.0092 - mean_absolute_error: 0.0744 - val_loss: 0.0108 - val_mean_absolute_error: 0.0837\n",
      "Epoch 13/100\n",
      "10/10 [==============================] - 0s 8ms/step - loss: 0.0088 - mean_absolute_error: 0.0730 - val_loss: 0.0101 - val_mean_absolute_error: 0.0816\n",
      "Epoch 14/100\n",
      "10/10 [==============================] - 0s 6ms/step - loss: 0.0084 - mean_absolute_error: 0.0714 - val_loss: 0.0098 - val_mean_absolute_error: 0.0800\n",
      "Epoch 15/100\n",
      "10/10 [==============================] - 0s 8ms/step - loss: 0.0081 - mean_absolute_error: 0.0707 - val_loss: 0.0095 - val_mean_absolute_error: 0.0785\n",
      "Epoch 16/100\n",
      "10/10 [==============================] - 0s 7ms/step - loss: 0.0078 - mean_absolute_error: 0.0696 - val_loss: 0.0090 - val_mean_absolute_error: 0.0769\n",
      "Epoch 17/100\n",
      "10/10 [==============================] - 0s 7ms/step - loss: 0.0075 - mean_absolute_error: 0.0681 - val_loss: 0.0088 - val_mean_absolute_error: 0.0753\n",
      "Epoch 18/100\n",
      "10/10 [==============================] - 0s 7ms/step - loss: 0.0072 - mean_absolute_error: 0.0670 - val_loss: 0.0085 - val_mean_absolute_error: 0.0740\n",
      "Epoch 19/100\n",
      "10/10 [==============================] - 0s 12ms/step - loss: 0.0070 - mean_absolute_error: 0.0657 - val_loss: 0.0081 - val_mean_absolute_error: 0.0726\n",
      "Epoch 20/100\n",
      "10/10 [==============================] - 0s 9ms/step - loss: 0.0067 - mean_absolute_error: 0.0646 - val_loss: 0.0079 - val_mean_absolute_error: 0.0713\n",
      "Epoch 21/100\n",
      "10/10 [==============================] - 0s 9ms/step - loss: 0.0064 - mean_absolute_error: 0.0632 - val_loss: 0.0074 - val_mean_absolute_error: 0.0696\n",
      "Epoch 22/100\n",
      "10/10 [==============================] - 0s 8ms/step - loss: 0.0060 - mean_absolute_error: 0.0614 - val_loss: 0.0072 - val_mean_absolute_error: 0.0685\n",
      "Epoch 23/100\n",
      "10/10 [==============================] - 0s 8ms/step - loss: 0.0057 - mean_absolute_error: 0.0597 - val_loss: 0.0068 - val_mean_absolute_error: 0.0667\n",
      "Epoch 24/100\n",
      "10/10 [==============================] - 0s 9ms/step - loss: 0.0052 - mean_absolute_error: 0.0566 - val_loss: 0.0062 - val_mean_absolute_error: 0.0638\n",
      "Epoch 25/100\n",
      "10/10 [==============================] - 0s 11ms/step - loss: 0.0046 - mean_absolute_error: 0.0530 - val_loss: 0.0057 - val_mean_absolute_error: 0.0608\n",
      "Epoch 26/100\n",
      "10/10 [==============================] - 0s 9ms/step - loss: 0.0041 - mean_absolute_error: 0.0499 - val_loss: 0.0051 - val_mean_absolute_error: 0.0574\n",
      "Epoch 27/100\n",
      "10/10 [==============================] - 0s 9ms/step - loss: 0.0035 - mean_absolute_error: 0.0464 - val_loss: 0.0043 - val_mean_absolute_error: 0.0527\n",
      "Epoch 28/100\n",
      "10/10 [==============================] - 0s 9ms/step - loss: 0.0031 - mean_absolute_error: 0.0437 - val_loss: 0.0040 - val_mean_absolute_error: 0.0498\n",
      "Epoch 29/100\n",
      "10/10 [==============================] - 0s 9ms/step - loss: 0.0025 - mean_absolute_error: 0.0394 - val_loss: 0.0033 - val_mean_absolute_error: 0.0451\n",
      "Epoch 30/100\n",
      "10/10 [==============================] - 0s 9ms/step - loss: 0.0020 - mean_absolute_error: 0.0356 - val_loss: 0.0027 - val_mean_absolute_error: 0.0409\n",
      "Epoch 31/100\n",
      "10/10 [==============================] - 0s 9ms/step - loss: 0.0016 - mean_absolute_error: 0.0312 - val_loss: 0.0022 - val_mean_absolute_error: 0.0371\n",
      "Epoch 32/100\n",
      "10/10 [==============================] - 0s 9ms/step - loss: 0.0013 - mean_absolute_error: 0.0280 - val_loss: 0.0019 - val_mean_absolute_error: 0.0338\n",
      "Epoch 33/100\n",
      "10/10 [==============================] - 0s 9ms/step - loss: 9.6815e-04 - mean_absolute_error: 0.0244 - val_loss: 0.0015 - val_mean_absolute_error: 0.0305\n",
      "Epoch 34/100\n",
      "10/10 [==============================] - 0s 9ms/step - loss: 7.3365e-04 - mean_absolute_error: 0.0213 - val_loss: 0.0015 - val_mean_absolute_error: 0.0286\n",
      "Epoch 35/100\n",
      "10/10 [==============================] - 0s 9ms/step - loss: 6.4386e-04 - mean_absolute_error: 0.0198 - val_loss: 0.0011 - val_mean_absolute_error: 0.0245\n",
      "Epoch 36/100\n",
      "10/10 [==============================] - 0s 9ms/step - loss: 4.8985e-04 - mean_absolute_error: 0.0171 - val_loss: 8.9351e-04 - val_mean_absolute_error: 0.0220\n",
      "Epoch 37/100\n",
      "10/10 [==============================] - 0s 9ms/step - loss: 3.7460e-04 - mean_absolute_error: 0.0149 - val_loss: 7.1556e-04 - val_mean_absolute_error: 0.0197\n",
      "Epoch 38/100\n",
      "10/10 [==============================] - 0s 9ms/step - loss: 2.8259e-04 - mean_absolute_error: 0.0124 - val_loss: 6.2016e-04 - val_mean_absolute_error: 0.0181\n",
      "Epoch 39/100\n",
      "10/10 [==============================] - 0s 9ms/step - loss: 2.3082e-04 - mean_absolute_error: 0.0111 - val_loss: 5.4610e-04 - val_mean_absolute_error: 0.0159\n",
      "Epoch 40/100\n",
      "10/10 [==============================] - 0s 9ms/step - loss: 1.8366e-04 - mean_absolute_error: 0.0097 - val_loss: 4.8119e-04 - val_mean_absolute_error: 0.0149\n",
      "Epoch 41/100\n",
      "10/10 [==============================] - 0s 9ms/step - loss: 1.5739e-04 - mean_absolute_error: 0.0088 - val_loss: 4.4592e-04 - val_mean_absolute_error: 0.0133\n",
      "Epoch 42/100\n",
      "10/10 [==============================] - 0s 9ms/step - loss: 1.3852e-04 - mean_absolute_error: 0.0083 - val_loss: 4.3870e-04 - val_mean_absolute_error: 0.0126\n",
      "Epoch 43/100\n",
      "10/10 [==============================] - 0s 9ms/step - loss: 1.2982e-04 - mean_absolute_error: 0.0078 - val_loss: 3.8497e-04 - val_mean_absolute_error: 0.0116\n",
      "Epoch 44/100\n",
      "10/10 [==============================] - 0s 9ms/step - loss: 1.0563e-04 - mean_absolute_error: 0.0072 - val_loss: 3.4179e-04 - val_mean_absolute_error: 0.0106\n",
      "Epoch 45/100\n",
      "10/10 [==============================] - 0s 9ms/step - loss: 9.5539e-05 - mean_absolute_error: 0.0065 - val_loss: 3.2346e-04 - val_mean_absolute_error: 0.0100\n",
      "Epoch 46/100\n",
      "10/10 [==============================] - 0s 9ms/step - loss: 8.6770e-05 - mean_absolute_error: 0.0062 - val_loss: 3.0809e-04 - val_mean_absolute_error: 0.0096\n",
      "Epoch 47/100\n",
      "10/10 [==============================] - 0s 9ms/step - loss: 8.4465e-05 - mean_absolute_error: 0.0062 - val_loss: 2.9763e-04 - val_mean_absolute_error: 0.0094\n",
      "Epoch 48/100\n",
      "10/10 [==============================] - 0s 8ms/step - loss: 8.2045e-05 - mean_absolute_error: 0.0061 - val_loss: 2.7832e-04 - val_mean_absolute_error: 0.0090\n",
      "Epoch 49/100\n",
      "10/10 [==============================] - 0s 9ms/step - loss: 7.6404e-05 - mean_absolute_error: 0.0057 - val_loss: 2.6545e-04 - val_mean_absolute_error: 0.0089\n",
      "Epoch 50/100\n",
      "10/10 [==============================] - 0s 9ms/step - loss: 7.0298e-05 - mean_absolute_error: 0.0055 - val_loss: 2.5773e-04 - val_mean_absolute_error: 0.0087\n",
      "Epoch 51/100\n",
      "10/10 [==============================] - 0s 9ms/step - loss: 6.6088e-05 - mean_absolute_error: 0.0053 - val_loss: 2.5071e-04 - val_mean_absolute_error: 0.0084\n",
      "Epoch 52/100\n",
      "10/10 [==============================] - 0s 8ms/step - loss: 6.6574e-05 - mean_absolute_error: 0.0053 - val_loss: 2.5123e-04 - val_mean_absolute_error: 0.0083\n",
      "Epoch 53/100\n",
      "10/10 [==============================] - 0s 8ms/step - loss: 6.2300e-05 - mean_absolute_error: 0.0052 - val_loss: 2.4302e-04 - val_mean_absolute_error: 0.0083\n",
      "Epoch 54/100\n",
      "10/10 [==============================] - 0s 8ms/step - loss: 6.1698e-05 - mean_absolute_error: 0.0052 - val_loss: 2.4654e-04 - val_mean_absolute_error: 0.0092\n",
      "Epoch 55/100\n",
      "10/10 [==============================] - 0s 6ms/step - loss: 5.7237e-05 - mean_absolute_error: 0.0050 - val_loss: 2.3711e-04 - val_mean_absolute_error: 0.0082\n",
      "Epoch 56/100\n",
      "10/10 [==============================] - 0s 9ms/step - loss: 5.5865e-05 - mean_absolute_error: 0.0047 - val_loss: 2.3239e-04 - val_mean_absolute_error: 0.0082\n",
      "Epoch 57/100\n",
      "10/10 [==============================] - 0s 9ms/step - loss: 5.7299e-05 - mean_absolute_error: 0.0051 - val_loss: 2.2477e-04 - val_mean_absolute_error: 0.0081\n",
      "Epoch 58/100\n",
      "10/10 [==============================] - 0s 9ms/step - loss: 5.2893e-05 - mean_absolute_error: 0.0048 - val_loss: 2.2462e-04 - val_mean_absolute_error: 0.0078\n",
      "Epoch 59/100\n",
      "10/10 [==============================] - 0s 9ms/step - loss: 4.9948e-05 - mean_absolute_error: 0.0046 - val_loss: 2.1776e-04 - val_mean_absolute_error: 0.0080\n",
      "Epoch 60/100\n",
      "10/10 [==============================] - 0s 8ms/step - loss: 4.9857e-05 - mean_absolute_error: 0.0046 - val_loss: 2.1346e-04 - val_mean_absolute_error: 0.0077\n",
      "Epoch 61/100\n",
      "10/10 [==============================] - 0s 9ms/step - loss: 5.0111e-05 - mean_absolute_error: 0.0047 - val_loss: 2.0923e-04 - val_mean_absolute_error: 0.0076\n",
      "Epoch 62/100\n",
      "10/10 [==============================] - 0s 7ms/step - loss: 4.8392e-05 - mean_absolute_error: 0.0045 - val_loss: 2.1554e-04 - val_mean_absolute_error: 0.0086\n",
      "Epoch 63/100\n",
      "10/10 [==============================] - 0s 7ms/step - loss: 4.9380e-05 - mean_absolute_error: 0.0048 - val_loss: 2.1289e-04 - val_mean_absolute_error: 0.0084\n",
      "Epoch 64/100\n",
      "10/10 [==============================] - 0s 7ms/step - loss: 5.1900e-05 - mean_absolute_error: 0.0049 - val_loss: 2.0282e-04 - val_mean_absolute_error: 0.0079\n",
      "Epoch 65/100\n",
      "10/10 [==============================] - 0s 8ms/step - loss: 5.2390e-05 - mean_absolute_error: 0.0049 - val_loss: 1.9575e-04 - val_mean_absolute_error: 0.0073\n",
      "Epoch 66/100\n",
      "10/10 [==============================] - 0s 6ms/step - loss: 4.5543e-05 - mean_absolute_error: 0.0044 - val_loss: 2.0586e-04 - val_mean_absolute_error: 0.0074\n",
      "Epoch 67/100\n",
      "10/10 [==============================] - 0s 7ms/step - loss: 4.3737e-05 - mean_absolute_error: 0.0043 - val_loss: 1.9383e-04 - val_mean_absolute_error: 0.0077\n",
      "Epoch 68/100\n",
      "10/10 [==============================] - 0s 7ms/step - loss: 4.1305e-05 - mean_absolute_error: 0.0042 - val_loss: 1.8664e-04 - val_mean_absolute_error: 0.0070\n",
      "Epoch 69/100\n",
      "10/10 [==============================] - 0s 8ms/step - loss: 4.1169e-05 - mean_absolute_error: 0.0042 - val_loss: 1.8964e-04 - val_mean_absolute_error: 0.0075\n",
      "Epoch 70/100\n",
      "10/10 [==============================] - 0s 6ms/step - loss: 4.3708e-05 - mean_absolute_error: 0.0043 - val_loss: 1.8632e-04 - val_mean_absolute_error: 0.0072\n",
      "Epoch 71/100\n",
      "10/10 [==============================] - 0s 8ms/step - loss: 3.8924e-05 - mean_absolute_error: 0.0040 - val_loss: 1.8174e-04 - val_mean_absolute_error: 0.0070\n",
      "Epoch 72/100\n",
      "10/10 [==============================] - 0s 7ms/step - loss: 3.7986e-05 - mean_absolute_error: 0.0040 - val_loss: 1.7749e-04 - val_mean_absolute_error: 0.0068\n",
      "Epoch 73/100\n",
      "10/10 [==============================] - 0s 8ms/step - loss: 3.9220e-05 - mean_absolute_error: 0.0041 - val_loss: 1.7778e-04 - val_mean_absolute_error: 0.0070\n",
      "Epoch 74/100\n",
      "10/10 [==============================] - 0s 7ms/step - loss: 3.8037e-05 - mean_absolute_error: 0.0041 - val_loss: 1.8538e-04 - val_mean_absolute_error: 0.0080\n",
      "Epoch 75/100\n",
      "10/10 [==============================] - 0s 7ms/step - loss: 4.1021e-05 - mean_absolute_error: 0.0042 - val_loss: 1.7738e-04 - val_mean_absolute_error: 0.0071\n",
      "Epoch 76/100\n",
      "10/10 [==============================] - 0s 8ms/step - loss: 3.5555e-05 - mean_absolute_error: 0.0038 - val_loss: 1.8012e-04 - val_mean_absolute_error: 0.0068\n",
      "Epoch 77/100\n",
      "10/10 [==============================] - 0s 8ms/step - loss: 3.5841e-05 - mean_absolute_error: 0.0039 - val_loss: 1.6626e-04 - val_mean_absolute_error: 0.0065\n",
      "Epoch 78/100\n",
      "10/10 [==============================] - 0s 7ms/step - loss: 3.3064e-05 - mean_absolute_error: 0.0037 - val_loss: 1.6672e-04 - val_mean_absolute_error: 0.0064\n",
      "Epoch 79/100\n",
      "10/10 [==============================] - 0s 7ms/step - loss: 3.4448e-05 - mean_absolute_error: 0.0039 - val_loss: 1.6454e-04 - val_mean_absolute_error: 0.0064\n",
      "Epoch 80/100\n",
      "10/10 [==============================] - 0s 7ms/step - loss: 3.3276e-05 - mean_absolute_error: 0.0039 - val_loss: 1.6632e-04 - val_mean_absolute_error: 0.0064\n",
      "Epoch 81/100\n",
      "10/10 [==============================] - 0s 8ms/step - loss: 3.2697e-05 - mean_absolute_error: 0.0036 - val_loss: 1.6272e-04 - val_mean_absolute_error: 0.0067\n",
      "Epoch 82/100\n",
      "10/10 [==============================] - 0s 7ms/step - loss: 3.2371e-05 - mean_absolute_error: 0.0036 - val_loss: 1.6354e-04 - val_mean_absolute_error: 0.0065\n",
      "Epoch 83/100\n",
      "10/10 [==============================] - 0s 9ms/step - loss: 3.0284e-05 - mean_absolute_error: 0.0036 - val_loss: 1.5877e-04 - val_mean_absolute_error: 0.0068\n",
      "Epoch 84/100\n",
      "10/10 [==============================] - 0s 7ms/step - loss: 3.4853e-05 - mean_absolute_error: 0.0039 - val_loss: 1.5968e-04 - val_mean_absolute_error: 0.0064\n",
      "Epoch 85/100\n",
      "10/10 [==============================] - 0s 9ms/step - loss: 3.1000e-05 - mean_absolute_error: 0.0036 - val_loss: 1.5251e-04 - val_mean_absolute_error: 0.0063\n",
      "Epoch 86/100\n",
      "10/10 [==============================] - 0s 9ms/step - loss: 2.8237e-05 - mean_absolute_error: 0.0034 - val_loss: 1.5522e-04 - val_mean_absolute_error: 0.0064\n",
      "Epoch 87/100\n",
      "10/10 [==============================] - 0s 9ms/step - loss: 2.8894e-05 - mean_absolute_error: 0.0036 - val_loss: 1.5545e-04 - val_mean_absolute_error: 0.0065\n",
      "Epoch 88/100\n",
      "10/10 [==============================] - 0s 9ms/step - loss: 2.8205e-05 - mean_absolute_error: 0.0034 - val_loss: 1.5760e-04 - val_mean_absolute_error: 0.0069\n",
      "Epoch 89/100\n",
      "10/10 [==============================] - 0s 9ms/step - loss: 2.8653e-05 - mean_absolute_error: 0.0034 - val_loss: 1.4834e-04 - val_mean_absolute_error: 0.0060\n",
      "Epoch 90/100\n",
      "10/10 [==============================] - 0s 8ms/step - loss: 2.7343e-05 - mean_absolute_error: 0.0033 - val_loss: 1.5070e-04 - val_mean_absolute_error: 0.0061\n",
      "Epoch 91/100\n",
      "10/10 [==============================] - 0s 9ms/step - loss: 2.7332e-05 - mean_absolute_error: 0.0035 - val_loss: 1.4380e-04 - val_mean_absolute_error: 0.0059\n",
      "Epoch 92/100\n",
      "10/10 [==============================] - 0s 8ms/step - loss: 2.5955e-05 - mean_absolute_error: 0.0034 - val_loss: 1.5176e-04 - val_mean_absolute_error: 0.0060\n",
      "Epoch 93/100\n",
      "10/10 [==============================] - 0s 8ms/step - loss: 2.9035e-05 - mean_absolute_error: 0.0038 - val_loss: 1.4581e-04 - val_mean_absolute_error: 0.0058\n",
      "Epoch 94/100\n",
      "10/10 [==============================] - 0s 7ms/step - loss: 2.6198e-05 - mean_absolute_error: 0.0033 - val_loss: 1.4298e-04 - val_mean_absolute_error: 0.0060\n",
      "Epoch 95/100\n",
      "10/10 [==============================] - 0s 8ms/step - loss: 2.4931e-05 - mean_absolute_error: 0.0033 - val_loss: 1.4559e-04 - val_mean_absolute_error: 0.0064\n",
      "Epoch 96/100\n",
      "10/10 [==============================] - 0s 8ms/step - loss: 2.6753e-05 - mean_absolute_error: 0.0034 - val_loss: 1.4464e-04 - val_mean_absolute_error: 0.0057\n",
      "Epoch 97/100\n",
      "10/10 [==============================] - 0s 8ms/step - loss: 2.4261e-05 - mean_absolute_error: 0.0031 - val_loss: 1.4089e-04 - val_mean_absolute_error: 0.0057\n"
     ]
    },
    {
     "name": "stdout",
     "output_type": "stream",
     "text": [
      "Epoch 98/100\n",
      "10/10 [==============================] - 0s 8ms/step - loss: 2.3207e-05 - mean_absolute_error: 0.0031 - val_loss: 1.4137e-04 - val_mean_absolute_error: 0.0057\n",
      "Epoch 99/100\n",
      "10/10 [==============================] - 0s 7ms/step - loss: 2.3249e-05 - mean_absolute_error: 0.0032 - val_loss: 1.3419e-04 - val_mean_absolute_error: 0.0057\n",
      "Epoch 100/100\n",
      "10/10 [==============================] - 0s 7ms/step - loss: 2.2375e-05 - mean_absolute_error: 0.0030 - val_loss: 1.3878e-04 - val_mean_absolute_error: 0.0057\n"
     ]
    }
   ],
   "source": [
    "model = keras.Sequential([\n",
    "    keras.layers.Dense(26, activation='relu'),\n",
    "    keras.layers.Dense(16, activation='relu'),\n",
    "    keras.layers.Dense(10, activation='relu'),\n",
    "    keras.layers.Dense(1, activation='linear')\n",
    "])\n",
    "\n",
    "model.compile(optimizer='adam',\n",
    "              loss='mean_squared_error',\n",
    "              metrics=['mean_absolute_error'])\n",
    "\n",
    "history = model.fit(X_train, y_train, epochs=100, validation_split=0.2)"
   ]
  },
  {
   "cell_type": "code",
   "execution_count": 202,
   "id": "e6d5dc1a",
   "metadata": {},
   "outputs": [
    {
     "name": "stdout",
     "output_type": "stream",
     "text": [
      "Model: \"sequential_21\"\n",
      "_________________________________________________________________\n",
      " Layer (type)                Output Shape              Param #   \n",
      "=================================================================\n",
      " dense_65 (Dense)            (None, 26)                130       \n",
      "                                                                 \n",
      " dense_66 (Dense)            (None, 16)                432       \n",
      "                                                                 \n",
      " dense_67 (Dense)            (None, 10)                170       \n",
      "                                                                 \n",
      " dense_68 (Dense)            (None, 1)                 11        \n",
      "                                                                 \n",
      "=================================================================\n",
      "Total params: 743\n",
      "Trainable params: 743\n",
      "Non-trainable params: 0\n",
      "_________________________________________________________________\n"
     ]
    }
   ],
   "source": [
    "model.summary()"
   ]
  },
  {
   "cell_type": "code",
   "execution_count": 203,
   "id": "75fcc033",
   "metadata": {},
   "outputs": [
    {
     "data": {
      "image/png": "[encoded data removed]",
      "text/plain": [
       "<Figure size 640x480 with 1 Axes>"
      ]
     },
     "metadata": {},
     "output_type": "display_data"
    }
   ],
   "source": [
    "plt.plot(history.history['loss'], label='Training Loss' , color='red')\n",
    "plt.plot(history.history['val_loss'], label='Validation Loss' , color='blue')\n",
    "plt.title('Epochs vs. Loss')\n",
    "plt.xlabel('Epochs')\n",
    "plt.ylabel('Loss')\n",
    "plt.legend()\n",
    "plt.show()"
   ]
  },
  {
   "cell_type": "code",
   "execution_count": 204,
   "id": "8d13b38e",
   "metadata": {},
   "outputs": [
    {
     "name": "stdout",
     "output_type": "stream",
     "text": [
      "4/4 [==============================] - 0s 3ms/step - loss: 3.8765e-05 - mean_absolute_error: 0.0038\n"
     ]
    },
    {
     "data": {
      "text/plain": [
       "[3.876473419950344e-05, 0.003828618908300996]"
      ]
     },
     "execution_count": 204,
     "metadata": {},
     "output_type": "execute_result"
    }
   ],
   "source": [
    "model.evaluate(X_test, y_test)"
   ]
  },
  {
   "cell_type": "code",
   "execution_count": 205,
   "id": "8f427b56",
   "metadata": {},
   "outputs": [
    {
     "name": "stdout",
     "output_type": "stream",
     "text": [
      "4/4 [==============================] - 0s 6ms/step\n"
     ]
    },
    {
     "data": {
      "text/plain": [
       "array([[0.42112046],\n",
       "       [0.48782733],\n",
       "       [0.28705937],\n",
       "       [0.60851663],\n",
       "       [0.41286948]], dtype=float32)"
      ]
     },
     "execution_count": 205,
     "metadata": {},
     "output_type": "execute_result"
    }
   ],
   "source": [
    "yp = model.predict(X_test)\n",
    "yp[:5]"
   ]
  },
  {
   "cell_type": "code",
   "execution_count": 206,
   "id": "639a9b5e",
   "metadata": {},
   "outputs": [
    {
     "name": "stdout",
     "output_type": "stream",
     "text": [
      "Mean Absolute Error: 0.003828619580365209\n",
      "Mean Squared Error: 3.8764750530322844e-05\n",
      "Root Mean Squared Error: 0.006226134477372204\n",
      "R-squared: 0.9983775525810825\n"
     ]
    }
   ],
   "source": [
    "# Calculate MAE\n",
    "mae = mean_absolute_error(y_test, yp)\n",
    "\n",
    "# Calculate MSE\n",
    "mse = mean_squared_error(y_test, yp)\n",
    "\n",
    "# Calculate RMSE\n",
    "rmse = np.sqrt(mse)\n",
    "\n",
    "# Calculate R-squared\n",
    "r_squared = r2_score(y_test, yp)\n",
    "\n",
    "# Print the metrics\n",
    "print(f\"Mean Absolute Error: {mae}\")\n",
    "print(f\"Mean Squared Error: {mse}\")\n",
    "print(f\"Root Mean Squared Error: {rmse}\")\n",
    "print(f\"R-squared: {r_squared}\")\n"
   ]
  }
 ],
 "metadata": {
  "kernelspec": {
   "display_name": "Python 3 (ipykernel)",
   "language": "python",
   "name": "python3"
  },
  "language_info": {
   "codemirror_mode": {
    "name": "ipython",
    "version": 3
   },
   "file_extension": ".py",
   "mimetype": "text/x-python",
   "name": "python",
   "nbconvert_exporter": "python",
   "pygments_lexer": "ipython3",
   "version": "3.10.12"
  }
 },
 "nbformat": 4,
 "nbformat_minor": 5
}
